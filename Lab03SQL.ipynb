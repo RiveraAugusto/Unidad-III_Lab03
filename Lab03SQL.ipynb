{
    "metadata": {
        "kernelspec": {
            "name": "SQL",
            "display_name": "SQL",
            "language": "sql"
        },
        "language_info": {
            "name": "sql",
            "version": ""
        }
    },
    "nbformat_minor": 2,
    "nbformat": 4,
    "cells": [
        {
            "cell_type": "markdown",
            "source": [
                "<h1><center>Laboratorio N° 03: Pivoting y Grouping Sets"
            ],
            "metadata": {
                "azdata_cell_guid": "da56dd7e-b893-4a86-8522-2fcf4dee8da5"
            }
        },
        {
            "cell_type": "markdown",
            "source": [
                "<h2>Parte 01. Escribir consultas que utilizan PIVOT."
            ],
            "metadata": {
                "azdata_cell_guid": "9770c61e-a315-425c-a850-5cbb70ca9eb8"
            }
        },
        {
            "cell_type": "markdown",
            "source": [
                "1.1. Abrir la base de datos TSQL."
            ],
            "metadata": {
                "azdata_cell_guid": "7236b200-cd41-4b04-9f2d-68cb7c3dc9c5"
            }
        },
        {
            "cell_type": "code",
            "source": [
                "USE TSQL;\n",
                "GO"
            ],
            "metadata": {
                "azdata_cell_guid": "8ebcbaac-806f-46d2-ab33-32516a9d26e1",
                "language": "sql"
            },
            "outputs": [
                {
                    "output_type": "display_data",
                    "data": {
                        "text/html": "Commands completed successfully."
                    },
                    "metadata": {}
                },
                {
                    "output_type": "display_data",
                    "data": {
                        "text/html": "Total execution time: 00:00:00.001"
                    },
                    "metadata": {}
                }
            ],
            "execution_count": 2
        },
        {
            "cell_type": "markdown",
            "source": [
                "1.2. Crear un vista de categorías de productos, sus cantidaddes por año."
            ],
            "metadata": {
                "azdata_cell_guid": "1eba00bd-8865-4c5b-b9df-a832f6be43c2"
            }
        },
        {
            "cell_type": "code",
            "source": [
                "CREATE VIEW Production.VistaCategoriasPorAño AS\r\n",
                "SELECT \r\n",
                "    c.CategoryName,\r\n",
                "    YEAR(o.OrderDate) AS Año,\r\n",
                "    SUM(od.qty) AS TotalCantidad\r\n",
                "FROM \r\n",
                "    Production.Categories c\r\n",
                "INNER JOIN \r\n",
                "    Production.Products p ON c.CategoryID = p.CategoryID\r\n",
                "INNER JOIN \r\n",
                "    Sales.OrderDetails od ON p.ProductID = od.ProductID\r\n",
                "INNER JOIN \r\n",
                "    Sales.Orders o ON od.OrderID = o.OrderID\r\n",
                "GROUP BY \r\n",
                "    c.CategoryName, YEAR(o.OrderDate);"
            ],
            "metadata": {
                "azdata_cell_guid": "35654719-1212-4521-b547-3dc388e7e888",
                "language": "sql"
            },
            "outputs": [
                {
                    "output_type": "display_data",
                    "data": {
                        "text/html": "Commands completed successfully."
                    },
                    "metadata": {}
                },
                {
                    "output_type": "display_data",
                    "data": {
                        "text/html": "Total execution time: 00:00:00.004"
                    },
                    "metadata": {}
                }
            ],
            "execution_count": 8
        },
        {
            "cell_type": "markdown",
            "source": [
                "1.3. Probar la vista creada."
            ],
            "metadata": {
                "azdata_cell_guid": "4091e1d7-ba9f-4df1-9b3f-5133da270abc"
            }
        },
        {
            "cell_type": "code",
            "source": [
                "SELECT * FROM Production.VistaCategoriasPorAño"
            ],
            "metadata": {
                "azdata_cell_guid": "4d6bc0ec-0033-4cb3-9f2f-48563fb15438",
                "language": "sql"
            },
            "outputs": [
                {
                    "output_type": "display_data",
                    "data": {
                        "text/html": "(24 rows affected)"
                    },
                    "metadata": {}
                },
                {
                    "output_type": "display_data",
                    "data": {
                        "text/html": "Total execution time: 00:00:00.081"
                    },
                    "metadata": {}
                },
                {
                    "output_type": "execute_result",
                    "metadata": {},
                    "execution_count": 9,
                    "data": {
                        "application/vnd.dataresource+json": {
                            "schema": {
                                "fields": [
                                    {
                                        "name": "CategoryName"
                                    },
                                    {
                                        "name": "Año"
                                    },
                                    {
                                        "name": "TotalCantidad"
                                    }
                                ]
                            },
                            "data": [
                                {
                                    "CategoryName": "Meat/Poultry",
                                    "Año": "2006",
                                    "TotalCantidad": "950"
                                },
                                {
                                    "CategoryName": "Seafood",
                                    "Año": "2008",
                                    "TotalCantidad": "2716"
                                },
                                {
                                    "CategoryName": "Dairy Products",
                                    "Año": "2007",
                                    "TotalCantidad": "4374"
                                },
                                {
                                    "CategoryName": "Grains/Cereals",
                                    "Año": "2008",
                                    "TotalCantidad": "1377"
                                },
                                {
                                    "CategoryName": "Confections",
                                    "Año": "2007",
                                    "TotalCantidad": "4137"
                                },
                                {
                                    "CategoryName": "Produce",
                                    "Año": "2008",
                                    "TotalCantidad": "858"
                                },
                                {
                                    "CategoryName": "Beverages",
                                    "Año": "2006",
                                    "TotalCantidad": "1842"
                                },
                                {
                                    "CategoryName": "Condiments",
                                    "Año": "2008",
                                    "TotalCantidad": "1441"
                                },
                                {
                                    "CategoryName": "Dairy Products",
                                    "Año": "2008",
                                    "TotalCantidad": "2689"
                                },
                                {
                                    "CategoryName": "Seafood",
                                    "Año": "2007",
                                    "TotalCantidad": "3679"
                                },
                                {
                                    "CategoryName": "Meat/Poultry",
                                    "Año": "2007",
                                    "TotalCantidad": "2189"
                                },
                                {
                                    "CategoryName": "Condiments",
                                    "Año": "2006",
                                    "TotalCantidad": "962"
                                },
                                {
                                    "CategoryName": "Dairy Products",
                                    "Año": "2006",
                                    "TotalCantidad": "2086"
                                },
                                {
                                    "CategoryName": "Confections",
                                    "Año": "2008",
                                    "TotalCantidad": "2412"
                                },
                                {
                                    "CategoryName": "Beverages",
                                    "Año": "2007",
                                    "TotalCantidad": "3996"
                                },
                                {
                                    "CategoryName": "Seafood",
                                    "Año": "2006",
                                    "TotalCantidad": "1286"
                                },
                                {
                                    "CategoryName": "Grains/Cereals",
                                    "Año": "2006",
                                    "TotalCantidad": "549"
                                },
                                {
                                    "CategoryName": "Produce",
                                    "Año": "2006",
                                    "TotalCantidad": "549"
                                },
                                {
                                    "CategoryName": "Confections",
                                    "Año": "2006",
                                    "TotalCantidad": "1357"
                                },
                                {
                                    "CategoryName": "Grains/Cereals",
                                    "Año": "2007",
                                    "TotalCantidad": "2636"
                                },
                                {
                                    "CategoryName": "Produce",
                                    "Año": "2007",
                                    "TotalCantidad": "1583"
                                },
                                {
                                    "CategoryName": "Meat/Poultry",
                                    "Año": "2008",
                                    "TotalCantidad": "1060"
                                },
                                {
                                    "CategoryName": "Condiments",
                                    "Año": "2007",
                                    "TotalCantidad": "2895"
                                },
                                {
                                    "CategoryName": "Beverages",
                                    "Año": "2008",
                                    "TotalCantidad": "3694"
                                }
                            ]
                        },
                        "text/html": [
                            "<table>",
                            "<tr><th>CategoryName</th><th>Año</th><th>TotalCantidad</th></tr>",
                            "<tr><td>Meat/Poultry</td><td>2006</td><td>950</td></tr>",
                            "<tr><td>Seafood</td><td>2008</td><td>2716</td></tr>",
                            "<tr><td>Dairy Products</td><td>2007</td><td>4374</td></tr>",
                            "<tr><td>Grains/Cereals</td><td>2008</td><td>1377</td></tr>",
                            "<tr><td>Confections</td><td>2007</td><td>4137</td></tr>",
                            "<tr><td>Produce</td><td>2008</td><td>858</td></tr>",
                            "<tr><td>Beverages</td><td>2006</td><td>1842</td></tr>",
                            "<tr><td>Condiments</td><td>2008</td><td>1441</td></tr>",
                            "<tr><td>Dairy Products</td><td>2008</td><td>2689</td></tr>",
                            "<tr><td>Seafood</td><td>2007</td><td>3679</td></tr>",
                            "<tr><td>Meat/Poultry</td><td>2007</td><td>2189</td></tr>",
                            "<tr><td>Condiments</td><td>2006</td><td>962</td></tr>",
                            "<tr><td>Dairy Products</td><td>2006</td><td>2086</td></tr>",
                            "<tr><td>Confections</td><td>2008</td><td>2412</td></tr>",
                            "<tr><td>Beverages</td><td>2007</td><td>3996</td></tr>",
                            "<tr><td>Seafood</td><td>2006</td><td>1286</td></tr>",
                            "<tr><td>Grains/Cereals</td><td>2006</td><td>549</td></tr>",
                            "<tr><td>Produce</td><td>2006</td><td>549</td></tr>",
                            "<tr><td>Confections</td><td>2006</td><td>1357</td></tr>",
                            "<tr><td>Grains/Cereals</td><td>2007</td><td>2636</td></tr>",
                            "<tr><td>Produce</td><td>2007</td><td>1583</td></tr>",
                            "<tr><td>Meat/Poultry</td><td>2008</td><td>1060</td></tr>",
                            "<tr><td>Condiments</td><td>2007</td><td>2895</td></tr>",
                            "<tr><td>Beverages</td><td>2008</td><td>3694</td></tr>",
                            "</table>"
                        ]
                    }
                }
            ],
            "execution_count": 9
        },
        {
            "cell_type": "markdown",
            "source": [
                "1.4. Utilizar PIVOT entre categorías y años de ordenes."
            ],
            "metadata": {
                "azdata_cell_guid": "85b03d3a-82d5-4cd2-b9a5-9277248759f1"
            }
        },
        {
            "cell_type": "code",
            "source": [
                "SELECT \r\n",
                "    CategoryName, \r\n",
                "    [2018], \r\n",
                "    [2019], \r\n",
                "    [2020], \r\n",
                "    [2021], \r\n",
                "    [2022]\r\n",
                "FROM \r\n",
                "    (\r\n",
                "        SELECT \r\n",
                "            CategoryName,\r\n",
                "            Año,\r\n",
                "            TotalCantidad\r\n",
                "        FROM \r\n",
                "            Production.VistaCategoriasPorAño\r\n",
                "    ) AS SourceTable\r\n",
                "PIVOT \r\n",
                "    (\r\n",
                "        SUM(TotalCantidad)\r\n",
                "        FOR Año IN ([2018], [2019], [2020], [2021], [2022])\r\n",
                "    ) AS PivotTable;"
            ],
            "metadata": {
                "azdata_cell_guid": "d4e9eb57-5d1a-41f3-b5d5-b5eb194be12b",
                "language": "sql"
            },
            "outputs": [
                {
                    "output_type": "display_data",
                    "data": {
                        "text/html": "(8 rows affected)"
                    },
                    "metadata": {}
                },
                {
                    "output_type": "display_data",
                    "data": {
                        "text/html": "Total execution time: 00:00:00.046"
                    },
                    "metadata": {}
                },
                {
                    "output_type": "execute_result",
                    "metadata": {},
                    "execution_count": 10,
                    "data": {
                        "application/vnd.dataresource+json": {
                            "schema": {
                                "fields": [
                                    {
                                        "name": "CategoryName"
                                    },
                                    {
                                        "name": "2018"
                                    },
                                    {
                                        "name": "2019"
                                    },
                                    {
                                        "name": "2020"
                                    },
                                    {
                                        "name": "2021"
                                    },
                                    {
                                        "name": "2022"
                                    }
                                ]
                            },
                            "data": [
                                {
                                    "2018": "NULL",
                                    "2019": "NULL",
                                    "2020": "NULL",
                                    "2021": "NULL",
                                    "2022": "NULL",
                                    "CategoryName": "Beverages"
                                },
                                {
                                    "2018": "NULL",
                                    "2019": "NULL",
                                    "2020": "NULL",
                                    "2021": "NULL",
                                    "2022": "NULL",
                                    "CategoryName": "Condiments"
                                },
                                {
                                    "2018": "NULL",
                                    "2019": "NULL",
                                    "2020": "NULL",
                                    "2021": "NULL",
                                    "2022": "NULL",
                                    "CategoryName": "Confections"
                                },
                                {
                                    "2018": "NULL",
                                    "2019": "NULL",
                                    "2020": "NULL",
                                    "2021": "NULL",
                                    "2022": "NULL",
                                    "CategoryName": "Dairy Products"
                                },
                                {
                                    "2018": "NULL",
                                    "2019": "NULL",
                                    "2020": "NULL",
                                    "2021": "NULL",
                                    "2022": "NULL",
                                    "CategoryName": "Grains/Cereals"
                                },
                                {
                                    "2018": "NULL",
                                    "2019": "NULL",
                                    "2020": "NULL",
                                    "2021": "NULL",
                                    "2022": "NULL",
                                    "CategoryName": "Meat/Poultry"
                                },
                                {
                                    "2018": "NULL",
                                    "2019": "NULL",
                                    "2020": "NULL",
                                    "2021": "NULL",
                                    "2022": "NULL",
                                    "CategoryName": "Produce"
                                },
                                {
                                    "2018": "NULL",
                                    "2019": "NULL",
                                    "2020": "NULL",
                                    "2021": "NULL",
                                    "2022": "NULL",
                                    "CategoryName": "Seafood"
                                }
                            ]
                        },
                        "text/html": [
                            "<table>",
                            "<tr><th>CategoryName</th><th>2018</th><th>2019</th><th>2020</th><th>2021</th><th>2022</th></tr>",
                            "<tr><td>Beverages</td><td>NULL</td><td>NULL</td><td>NULL</td><td>NULL</td><td>NULL</td></tr>",
                            "<tr><td>Condiments</td><td>NULL</td><td>NULL</td><td>NULL</td><td>NULL</td><td>NULL</td></tr>",
                            "<tr><td>Confections</td><td>NULL</td><td>NULL</td><td>NULL</td><td>NULL</td><td>NULL</td></tr>",
                            "<tr><td>Dairy Products</td><td>NULL</td><td>NULL</td><td>NULL</td><td>NULL</td><td>NULL</td></tr>",
                            "<tr><td>Grains/Cereals</td><td>NULL</td><td>NULL</td><td>NULL</td><td>NULL</td><td>NULL</td></tr>",
                            "<tr><td>Meat/Poultry</td><td>NULL</td><td>NULL</td><td>NULL</td><td>NULL</td><td>NULL</td></tr>",
                            "<tr><td>Produce</td><td>NULL</td><td>NULL</td><td>NULL</td><td>NULL</td><td>NULL</td></tr>",
                            "<tr><td>Seafood</td><td>NULL</td><td>NULL</td><td>NULL</td><td>NULL</td><td>NULL</td></tr>",
                            "</table>"
                        ]
                    }
                }
            ],
            "execution_count": 10
        },
        {
            "cell_type": "markdown",
            "source": [
                "1.5. Para utilizar UNPIVOT, crear una tabla con el resultado de la consulta con PIVOT anterior."
            ],
            "metadata": {
                "azdata_cell_guid": "d9d3a7a0-a061-4c82-9056-3b2f727f6c2d"
            }
        },
        {
            "cell_type": "code",
            "source": [
                "SELECT \r\n",
                "    CategoryName, \r\n",
                "    [2018], \r\n",
                "    [2019], \r\n",
                "    [2020], \r\n",
                "    [2021], \r\n",
                "    [2022]\r\n",
                "INTO \r\n",
                "    dbo.ResultadoPivot\r\n",
                "FROM \r\n",
                "    (\r\n",
                "        SELECT \r\n",
                "            CategoryName,\r\n",
                "            Año,\r\n",
                "            TotalCantidad\r\n",
                "        FROM \r\n",
                "            Production.VistaCategoriasPorAño\r\n",
                "    ) AS SourceTable\r\n",
                "PIVOT \r\n",
                "    (\r\n",
                "        SUM(TotalCantidad)\r\n",
                "        FOR Año IN ([2018], [2019], [2020], [2021], [2022])\r\n",
                "    ) AS PivotTable;"
            ],
            "metadata": {
                "azdata_cell_guid": "5963cd3e-f1b3-4eaf-9c71-8d903dd35c2f",
                "language": "sql"
            },
            "outputs": [
                {
                    "output_type": "display_data",
                    "data": {
                        "text/html": "(8 rows affected)"
                    },
                    "metadata": {}
                },
                {
                    "output_type": "display_data",
                    "data": {
                        "text/html": "Total execution time: 00:00:00.044"
                    },
                    "metadata": {}
                }
            ],
            "execution_count": 11
        },
        {
            "cell_type": "markdown",
            "source": [
                "1.6. Probrar la tabla generada"
            ],
            "metadata": {
                "azdata_cell_guid": "fdf1f380-33b1-4355-99dc-207bbf3eb3f3"
            }
        },
        {
            "cell_type": "code",
            "source": [
                "SELECT * \r\n",
                "FROM dbo.ResultadoPivot;"
            ],
            "metadata": {
                "azdata_cell_guid": "4407f21f-1c35-4c00-978a-0d24fc18d9f1",
                "language": "sql"
            },
            "outputs": [
                {
                    "output_type": "display_data",
                    "data": {
                        "text/html": "(8 rows affected)"
                    },
                    "metadata": {}
                },
                {
                    "output_type": "display_data",
                    "data": {
                        "text/html": "Total execution time: 00:00:00.016"
                    },
                    "metadata": {}
                },
                {
                    "output_type": "execute_result",
                    "metadata": {},
                    "execution_count": 12,
                    "data": {
                        "application/vnd.dataresource+json": {
                            "schema": {
                                "fields": [
                                    {
                                        "name": "CategoryName"
                                    },
                                    {
                                        "name": "2018"
                                    },
                                    {
                                        "name": "2019"
                                    },
                                    {
                                        "name": "2020"
                                    },
                                    {
                                        "name": "2021"
                                    },
                                    {
                                        "name": "2022"
                                    }
                                ]
                            },
                            "data": [
                                {
                                    "2018": "NULL",
                                    "2019": "NULL",
                                    "2020": "NULL",
                                    "2021": "NULL",
                                    "2022": "NULL",
                                    "CategoryName": "Beverages"
                                },
                                {
                                    "2018": "NULL",
                                    "2019": "NULL",
                                    "2020": "NULL",
                                    "2021": "NULL",
                                    "2022": "NULL",
                                    "CategoryName": "Condiments"
                                },
                                {
                                    "2018": "NULL",
                                    "2019": "NULL",
                                    "2020": "NULL",
                                    "2021": "NULL",
                                    "2022": "NULL",
                                    "CategoryName": "Confections"
                                },
                                {
                                    "2018": "NULL",
                                    "2019": "NULL",
                                    "2020": "NULL",
                                    "2021": "NULL",
                                    "2022": "NULL",
                                    "CategoryName": "Dairy Products"
                                },
                                {
                                    "2018": "NULL",
                                    "2019": "NULL",
                                    "2020": "NULL",
                                    "2021": "NULL",
                                    "2022": "NULL",
                                    "CategoryName": "Grains/Cereals"
                                },
                                {
                                    "2018": "NULL",
                                    "2019": "NULL",
                                    "2020": "NULL",
                                    "2021": "NULL",
                                    "2022": "NULL",
                                    "CategoryName": "Meat/Poultry"
                                },
                                {
                                    "2018": "NULL",
                                    "2019": "NULL",
                                    "2020": "NULL",
                                    "2021": "NULL",
                                    "2022": "NULL",
                                    "CategoryName": "Produce"
                                },
                                {
                                    "2018": "NULL",
                                    "2019": "NULL",
                                    "2020": "NULL",
                                    "2021": "NULL",
                                    "2022": "NULL",
                                    "CategoryName": "Seafood"
                                }
                            ]
                        },
                        "text/html": [
                            "<table>",
                            "<tr><th>CategoryName</th><th>2018</th><th>2019</th><th>2020</th><th>2021</th><th>2022</th></tr>",
                            "<tr><td>Beverages</td><td>NULL</td><td>NULL</td><td>NULL</td><td>NULL</td><td>NULL</td></tr>",
                            "<tr><td>Condiments</td><td>NULL</td><td>NULL</td><td>NULL</td><td>NULL</td><td>NULL</td></tr>",
                            "<tr><td>Confections</td><td>NULL</td><td>NULL</td><td>NULL</td><td>NULL</td><td>NULL</td></tr>",
                            "<tr><td>Dairy Products</td><td>NULL</td><td>NULL</td><td>NULL</td><td>NULL</td><td>NULL</td></tr>",
                            "<tr><td>Grains/Cereals</td><td>NULL</td><td>NULL</td><td>NULL</td><td>NULL</td><td>NULL</td></tr>",
                            "<tr><td>Meat/Poultry</td><td>NULL</td><td>NULL</td><td>NULL</td><td>NULL</td><td>NULL</td></tr>",
                            "<tr><td>Produce</td><td>NULL</td><td>NULL</td><td>NULL</td><td>NULL</td><td>NULL</td></tr>",
                            "<tr><td>Seafood</td><td>NULL</td><td>NULL</td><td>NULL</td><td>NULL</td><td>NULL</td></tr>",
                            "</table>"
                        ]
                    }
                }
            ],
            "execution_count": 12
        },
        {
            "cell_type": "markdown",
            "source": [
                "1.7. Utilizar UNPIVOT."
            ],
            "metadata": {
                "azdata_cell_guid": "9728a179-da73-4a88-b211-101133f579b9"
            }
        },
        {
            "cell_type": "code",
            "source": [
                "SELECT \r\n",
                "    CategoryName, \r\n",
                "    Año, \r\n",
                "    TotalCantidad\r\n",
                "FROM \r\n",
                "    (\r\n",
                "        SELECT \r\n",
                "            CategoryName, \r\n",
                "            [2018], \r\n",
                "            [2019], \r\n",
                "            [2020], \r\n",
                "            [2021], \r\n",
                "            [2022]\r\n",
                "        FROM \r\n",
                "            dbo.ResultadoPivot\r\n",
                "    ) AS p\r\n",
                "UNPIVOT \r\n",
                "    (\r\n",
                "        TotalCantidad FOR Año IN ([2018], [2019], [2020], [2021], [2022])\r\n",
                "    ) AS unpvt;"
            ],
            "metadata": {
                "azdata_cell_guid": "0978b805-570c-4f50-a9cf-9407380d5b77",
                "language": "sql"
            },
            "outputs": [
                {
                    "output_type": "display_data",
                    "data": {
                        "text/html": "(0 rows affected)"
                    },
                    "metadata": {}
                },
                {
                    "output_type": "display_data",
                    "data": {
                        "text/html": "Total execution time: 00:00:00.021"
                    },
                    "metadata": {}
                },
                {
                    "output_type": "execute_result",
                    "metadata": {},
                    "execution_count": 13,
                    "data": {
                        "application/vnd.dataresource+json": {
                            "schema": {
                                "fields": [
                                    {
                                        "name": "CategoryName"
                                    },
                                    {
                                        "name": "Año"
                                    },
                                    {
                                        "name": "TotalCantidad"
                                    }
                                ]
                            },
                            "data": []
                        },
                        "text/html": [
                            "<table>",
                            "<tr><th>CategoryName</th><th>Año</th><th>TotalCantidad</th></tr>",
                            "</table>"
                        ]
                    }
                }
            ],
            "execution_count": 13
        },
        {
            "cell_type": "markdown",
            "source": [
                "1.8. Limpiar los cambios realizados.\n"
            ],
            "metadata": {
                "azdata_cell_guid": "9994c491-0aec-4ea9-8377-28ec148dee10"
            }
        },
        {
            "cell_type": "code",
            "source": [
                "IF OBJECT_ID('dbo.ResultadoPivot', 'U') IS NOT NULL \r\n",
                "    DROP TABLE dbo.ResultadoPivot;\r\n",
                "\r\n",
                "IF OBJECT_ID('Production.VistaCategoriasPorAño', 'V') IS NOT NULL \r\n",
                "    DROP VIEW Production.VistaCategoriasPorAño;"
            ],
            "metadata": {
                "azdata_cell_guid": "4a2545cb-5f07-49c6-b014-98ff46b462a3",
                "language": "sql"
            },
            "outputs": [
                {
                    "output_type": "display_data",
                    "data": {
                        "text/html": "Commands completed successfully."
                    },
                    "metadata": {}
                },
                {
                    "output_type": "display_data",
                    "data": {
                        "text/html": "Total execution time: 00:00:00.011"
                    },
                    "metadata": {}
                }
            ],
            "execution_count": 14
        },
        {
            "cell_type": "markdown",
            "source": [
                "<h2>Parte 02. Escribir consultas que utilizan UNPIVOT."
            ],
            "metadata": {
                "azdata_cell_guid": "cb39f4dd-5700-4d3d-8889-26973f87afd9"
            }
        },
        {
            "cell_type": "markdown",
            "source": [
                "2.1. Ejecutar la siguiente vistas"
            ],
            "metadata": {
                "azdata_cell_guid": "7b698689-fe92-4cb3-8566-c4fd07ebcbc6"
            }
        },
        {
            "cell_type": "code",
            "source": [],
            "metadata": {
                "azdata_cell_guid": "3b82c483-6f9b-471b-bd5a-83b87fc8fc5e",
                "language": "sql"
            },
            "outputs": [],
            "execution_count": null
        },
        {
            "cell_type": "markdown",
            "source": [
                "2.2. Elaborar una consulta sin utilizar GROUPING SETS."
            ],
            "metadata": {
                "azdata_cell_guid": "383e30cc-53f8-4a51-bfed-6685c49eac05"
            }
        },
        {
            "cell_type": "code",
            "source": [
                "SELECT \r\n",
                "    c.CategoryName,\r\n",
                "    YEAR(o.OrderDate) AS Año,\r\n",
                "    SUM(od.qty) AS TotalCantidad\r\n",
                "FROM \r\n",
                "    Production.Categories c\r\n",
                "INNER JOIN \r\n",
                "    Production.Products p ON c.CategoryID = p.CategoryID\r\n",
                "INNER JOIN \r\n",
                "    Sales.OrderDetails od ON p.ProductID = od.ProductID\r\n",
                "INNER JOIN \r\n",
                "    Sales.Orders o ON od.OrderID = o.OrderID\r\n",
                "GROUP BY \r\n",
                "    c.CategoryName, YEAR(o.OrderDate);"
            ],
            "metadata": {
                "azdata_cell_guid": "e051ce03-75a7-4298-8bd9-d55868dbbd6a",
                "language": "sql"
            },
            "outputs": [
                {
                    "output_type": "display_data",
                    "data": {
                        "text/html": "(24 rows affected)"
                    },
                    "metadata": {}
                },
                {
                    "output_type": "display_data",
                    "data": {
                        "text/html": "Total execution time: 00:00:00.018"
                    },
                    "metadata": {}
                },
                {
                    "output_type": "execute_result",
                    "metadata": {},
                    "execution_count": 20,
                    "data": {
                        "application/vnd.dataresource+json": {
                            "schema": {
                                "fields": [
                                    {
                                        "name": "CategoryName"
                                    },
                                    {
                                        "name": "Año"
                                    },
                                    {
                                        "name": "TotalCantidad"
                                    }
                                ]
                            },
                            "data": [
                                {
                                    "CategoryName": "Meat/Poultry",
                                    "Año": "2006",
                                    "TotalCantidad": "950"
                                },
                                {
                                    "CategoryName": "Seafood",
                                    "Año": "2008",
                                    "TotalCantidad": "2716"
                                },
                                {
                                    "CategoryName": "Dairy Products",
                                    "Año": "2007",
                                    "TotalCantidad": "4374"
                                },
                                {
                                    "CategoryName": "Grains/Cereals",
                                    "Año": "2008",
                                    "TotalCantidad": "1377"
                                },
                                {
                                    "CategoryName": "Confections",
                                    "Año": "2007",
                                    "TotalCantidad": "4137"
                                },
                                {
                                    "CategoryName": "Produce",
                                    "Año": "2008",
                                    "TotalCantidad": "858"
                                },
                                {
                                    "CategoryName": "Beverages",
                                    "Año": "2006",
                                    "TotalCantidad": "1842"
                                },
                                {
                                    "CategoryName": "Condiments",
                                    "Año": "2008",
                                    "TotalCantidad": "1441"
                                },
                                {
                                    "CategoryName": "Dairy Products",
                                    "Año": "2008",
                                    "TotalCantidad": "2689"
                                },
                                {
                                    "CategoryName": "Seafood",
                                    "Año": "2007",
                                    "TotalCantidad": "3679"
                                },
                                {
                                    "CategoryName": "Meat/Poultry",
                                    "Año": "2007",
                                    "TotalCantidad": "2189"
                                },
                                {
                                    "CategoryName": "Condiments",
                                    "Año": "2006",
                                    "TotalCantidad": "962"
                                },
                                {
                                    "CategoryName": "Dairy Products",
                                    "Año": "2006",
                                    "TotalCantidad": "2086"
                                },
                                {
                                    "CategoryName": "Confections",
                                    "Año": "2008",
                                    "TotalCantidad": "2412"
                                },
                                {
                                    "CategoryName": "Beverages",
                                    "Año": "2007",
                                    "TotalCantidad": "3996"
                                },
                                {
                                    "CategoryName": "Seafood",
                                    "Año": "2006",
                                    "TotalCantidad": "1286"
                                },
                                {
                                    "CategoryName": "Grains/Cereals",
                                    "Año": "2006",
                                    "TotalCantidad": "549"
                                },
                                {
                                    "CategoryName": "Produce",
                                    "Año": "2006",
                                    "TotalCantidad": "549"
                                },
                                {
                                    "CategoryName": "Confections",
                                    "Año": "2006",
                                    "TotalCantidad": "1357"
                                },
                                {
                                    "CategoryName": "Grains/Cereals",
                                    "Año": "2007",
                                    "TotalCantidad": "2636"
                                },
                                {
                                    "CategoryName": "Produce",
                                    "Año": "2007",
                                    "TotalCantidad": "1583"
                                },
                                {
                                    "CategoryName": "Meat/Poultry",
                                    "Año": "2008",
                                    "TotalCantidad": "1060"
                                },
                                {
                                    "CategoryName": "Condiments",
                                    "Año": "2007",
                                    "TotalCantidad": "2895"
                                },
                                {
                                    "CategoryName": "Beverages",
                                    "Año": "2008",
                                    "TotalCantidad": "3694"
                                }
                            ]
                        },
                        "text/html": [
                            "<table>",
                            "<tr><th>CategoryName</th><th>Año</th><th>TotalCantidad</th></tr>",
                            "<tr><td>Meat/Poultry</td><td>2006</td><td>950</td></tr>",
                            "<tr><td>Seafood</td><td>2008</td><td>2716</td></tr>",
                            "<tr><td>Dairy Products</td><td>2007</td><td>4374</td></tr>",
                            "<tr><td>Grains/Cereals</td><td>2008</td><td>1377</td></tr>",
                            "<tr><td>Confections</td><td>2007</td><td>4137</td></tr>",
                            "<tr><td>Produce</td><td>2008</td><td>858</td></tr>",
                            "<tr><td>Beverages</td><td>2006</td><td>1842</td></tr>",
                            "<tr><td>Condiments</td><td>2008</td><td>1441</td></tr>",
                            "<tr><td>Dairy Products</td><td>2008</td><td>2689</td></tr>",
                            "<tr><td>Seafood</td><td>2007</td><td>3679</td></tr>",
                            "<tr><td>Meat/Poultry</td><td>2007</td><td>2189</td></tr>",
                            "<tr><td>Condiments</td><td>2006</td><td>962</td></tr>",
                            "<tr><td>Dairy Products</td><td>2006</td><td>2086</td></tr>",
                            "<tr><td>Confections</td><td>2008</td><td>2412</td></tr>",
                            "<tr><td>Beverages</td><td>2007</td><td>3996</td></tr>",
                            "<tr><td>Seafood</td><td>2006</td><td>1286</td></tr>",
                            "<tr><td>Grains/Cereals</td><td>2006</td><td>549</td></tr>",
                            "<tr><td>Produce</td><td>2006</td><td>549</td></tr>",
                            "<tr><td>Confections</td><td>2006</td><td>1357</td></tr>",
                            "<tr><td>Grains/Cereals</td><td>2007</td><td>2636</td></tr>",
                            "<tr><td>Produce</td><td>2007</td><td>1583</td></tr>",
                            "<tr><td>Meat/Poultry</td><td>2008</td><td>1060</td></tr>",
                            "<tr><td>Condiments</td><td>2007</td><td>2895</td></tr>",
                            "<tr><td>Beverages</td><td>2008</td><td>3694</td></tr>",
                            "</table>"
                        ]
                    }
                }
            ],
            "execution_count": 20
        },
        {
            "cell_type": "markdown",
            "source": [
                "2.3. Consultar con GROUPING SETS."
            ],
            "metadata": {
                "azdata_cell_guid": "cfd769d7-265e-44cd-ae72-69d5d6db9fc7"
            }
        },
        {
            "cell_type": "code",
            "source": [
                "SELECT \r\n",
                "    c.CategoryName,\r\n",
                "    YEAR(o.OrderDate) AS Año,\r\n",
                "    SUM(od.qty) AS TotalCantidad\r\n",
                "FROM \r\n",
                "    Production.Categories c\r\n",
                "INNER JOIN \r\n",
                "    Production.Products p ON c.CategoryID = p.CategoryID\r\n",
                "INNER JOIN \r\n",
                "    Sales.OrderDetails od ON p.ProductID = od.ProductID\r\n",
                "INNER JOIN \r\n",
                "    Sales.Orders o ON od.OrderID = o.OrderID\r\n",
                "GROUP BY \r\n",
                "    GROUPING SETS (\r\n",
                "        (c.CategoryName, YEAR(o.OrderDate)),  -- Total por categoría y año\r\n",
                "        (c.CategoryName),                      -- Total por categoría\r\n",
                "        (YEAR(o.OrderDate)),                   -- Total por año\r\n",
                "        ()                                     -- Total general\r\n",
                "    );"
            ],
            "metadata": {
                "azdata_cell_guid": "13796b1e-26c4-4ea6-882e-c29a99639b74",
                "language": "sql"
            },
            "outputs": [
                {
                    "output_type": "display_data",
                    "data": {
                        "text/html": "(36 rows affected)"
                    },
                    "metadata": {}
                },
                {
                    "output_type": "display_data",
                    "data": {
                        "text/html": "Total execution time: 00:00:00.039"
                    },
                    "metadata": {}
                },
                {
                    "output_type": "execute_result",
                    "metadata": {},
                    "execution_count": 21,
                    "data": {
                        "application/vnd.dataresource+json": {
                            "schema": {
                                "fields": [
                                    {
                                        "name": "CategoryName"
                                    },
                                    {
                                        "name": "Año"
                                    },
                                    {
                                        "name": "TotalCantidad"
                                    }
                                ]
                            },
                            "data": [
                                {
                                    "CategoryName": "Beverages",
                                    "Año": "2006",
                                    "TotalCantidad": "1842"
                                },
                                {
                                    "CategoryName": "Condiments",
                                    "Año": "2006",
                                    "TotalCantidad": "962"
                                },
                                {
                                    "CategoryName": "Confections",
                                    "Año": "2006",
                                    "TotalCantidad": "1357"
                                },
                                {
                                    "CategoryName": "Dairy Products",
                                    "Año": "2006",
                                    "TotalCantidad": "2086"
                                },
                                {
                                    "CategoryName": "Grains/Cereals",
                                    "Año": "2006",
                                    "TotalCantidad": "549"
                                },
                                {
                                    "CategoryName": "Meat/Poultry",
                                    "Año": "2006",
                                    "TotalCantidad": "950"
                                },
                                {
                                    "CategoryName": "Produce",
                                    "Año": "2006",
                                    "TotalCantidad": "549"
                                },
                                {
                                    "CategoryName": "Seafood",
                                    "Año": "2006",
                                    "TotalCantidad": "1286"
                                },
                                {
                                    "CategoryName": "NULL",
                                    "Año": "2006",
                                    "TotalCantidad": "9581"
                                },
                                {
                                    "CategoryName": "Beverages",
                                    "Año": "2007",
                                    "TotalCantidad": "3996"
                                },
                                {
                                    "CategoryName": "Condiments",
                                    "Año": "2007",
                                    "TotalCantidad": "2895"
                                },
                                {
                                    "CategoryName": "Confections",
                                    "Año": "2007",
                                    "TotalCantidad": "4137"
                                },
                                {
                                    "CategoryName": "Dairy Products",
                                    "Año": "2007",
                                    "TotalCantidad": "4374"
                                },
                                {
                                    "CategoryName": "Grains/Cereals",
                                    "Año": "2007",
                                    "TotalCantidad": "2636"
                                },
                                {
                                    "CategoryName": "Meat/Poultry",
                                    "Año": "2007",
                                    "TotalCantidad": "2189"
                                },
                                {
                                    "CategoryName": "Produce",
                                    "Año": "2007",
                                    "TotalCantidad": "1583"
                                },
                                {
                                    "CategoryName": "Seafood",
                                    "Año": "2007",
                                    "TotalCantidad": "3679"
                                },
                                {
                                    "CategoryName": "NULL",
                                    "Año": "2007",
                                    "TotalCantidad": "25489"
                                },
                                {
                                    "CategoryName": "Beverages",
                                    "Año": "2008",
                                    "TotalCantidad": "3694"
                                },
                                {
                                    "CategoryName": "Condiments",
                                    "Año": "2008",
                                    "TotalCantidad": "1441"
                                },
                                {
                                    "CategoryName": "Confections",
                                    "Año": "2008",
                                    "TotalCantidad": "2412"
                                },
                                {
                                    "CategoryName": "Dairy Products",
                                    "Año": "2008",
                                    "TotalCantidad": "2689"
                                },
                                {
                                    "CategoryName": "Grains/Cereals",
                                    "Año": "2008",
                                    "TotalCantidad": "1377"
                                },
                                {
                                    "CategoryName": "Meat/Poultry",
                                    "Año": "2008",
                                    "TotalCantidad": "1060"
                                },
                                {
                                    "CategoryName": "Produce",
                                    "Año": "2008",
                                    "TotalCantidad": "858"
                                },
                                {
                                    "CategoryName": "Seafood",
                                    "Año": "2008",
                                    "TotalCantidad": "2716"
                                },
                                {
                                    "CategoryName": "NULL",
                                    "Año": "2008",
                                    "TotalCantidad": "16247"
                                },
                                {
                                    "CategoryName": "NULL",
                                    "Año": "NULL",
                                    "TotalCantidad": "51317"
                                },
                                {
                                    "CategoryName": "Beverages",
                                    "Año": "NULL",
                                    "TotalCantidad": "9532"
                                },
                                {
                                    "CategoryName": "Condiments",
                                    "Año": "NULL",
                                    "TotalCantidad": "5298"
                                },
                                {
                                    "CategoryName": "Confections",
                                    "Año": "NULL",
                                    "TotalCantidad": "7906"
                                },
                                {
                                    "CategoryName": "Dairy Products",
                                    "Año": "NULL",
                                    "TotalCantidad": "9149"
                                },
                                {
                                    "CategoryName": "Grains/Cereals",
                                    "Año": "NULL",
                                    "TotalCantidad": "4562"
                                },
                                {
                                    "CategoryName": "Meat/Poultry",
                                    "Año": "NULL",
                                    "TotalCantidad": "4199"
                                },
                                {
                                    "CategoryName": "Produce",
                                    "Año": "NULL",
                                    "TotalCantidad": "2990"
                                },
                                {
                                    "CategoryName": "Seafood",
                                    "Año": "NULL",
                                    "TotalCantidad": "7681"
                                }
                            ]
                        },
                        "text/html": [
                            "<table>",
                            "<tr><th>CategoryName</th><th>Año</th><th>TotalCantidad</th></tr>",
                            "<tr><td>Beverages</td><td>2006</td><td>1842</td></tr>",
                            "<tr><td>Condiments</td><td>2006</td><td>962</td></tr>",
                            "<tr><td>Confections</td><td>2006</td><td>1357</td></tr>",
                            "<tr><td>Dairy Products</td><td>2006</td><td>2086</td></tr>",
                            "<tr><td>Grains/Cereals</td><td>2006</td><td>549</td></tr>",
                            "<tr><td>Meat/Poultry</td><td>2006</td><td>950</td></tr>",
                            "<tr><td>Produce</td><td>2006</td><td>549</td></tr>",
                            "<tr><td>Seafood</td><td>2006</td><td>1286</td></tr>",
                            "<tr><td>NULL</td><td>2006</td><td>9581</td></tr>",
                            "<tr><td>Beverages</td><td>2007</td><td>3996</td></tr>",
                            "<tr><td>Condiments</td><td>2007</td><td>2895</td></tr>",
                            "<tr><td>Confections</td><td>2007</td><td>4137</td></tr>",
                            "<tr><td>Dairy Products</td><td>2007</td><td>4374</td></tr>",
                            "<tr><td>Grains/Cereals</td><td>2007</td><td>2636</td></tr>",
                            "<tr><td>Meat/Poultry</td><td>2007</td><td>2189</td></tr>",
                            "<tr><td>Produce</td><td>2007</td><td>1583</td></tr>",
                            "<tr><td>Seafood</td><td>2007</td><td>3679</td></tr>",
                            "<tr><td>NULL</td><td>2007</td><td>25489</td></tr>",
                            "<tr><td>Beverages</td><td>2008</td><td>3694</td></tr>",
                            "<tr><td>Condiments</td><td>2008</td><td>1441</td></tr>",
                            "<tr><td>Confections</td><td>2008</td><td>2412</td></tr>",
                            "<tr><td>Dairy Products</td><td>2008</td><td>2689</td></tr>",
                            "<tr><td>Grains/Cereals</td><td>2008</td><td>1377</td></tr>",
                            "<tr><td>Meat/Poultry</td><td>2008</td><td>1060</td></tr>",
                            "<tr><td>Produce</td><td>2008</td><td>858</td></tr>",
                            "<tr><td>Seafood</td><td>2008</td><td>2716</td></tr>",
                            "<tr><td>NULL</td><td>2008</td><td>16247</td></tr>",
                            "<tr><td>NULL</td><td>NULL</td><td>51317</td></tr>",
                            "<tr><td>Beverages</td><td>NULL</td><td>9532</td></tr>",
                            "<tr><td>Condiments</td><td>NULL</td><td>5298</td></tr>",
                            "<tr><td>Confections</td><td>NULL</td><td>7906</td></tr>",
                            "<tr><td>Dairy Products</td><td>NULL</td><td>9149</td></tr>",
                            "<tr><td>Grains/Cereals</td><td>NULL</td><td>4562</td></tr>",
                            "<tr><td>Meat/Poultry</td><td>NULL</td><td>4199</td></tr>",
                            "<tr><td>Produce</td><td>NULL</td><td>2990</td></tr>",
                            "<tr><td>Seafood</td><td>NULL</td><td>7681</td></tr>",
                            "</table>"
                        ]
                    }
                }
            ],
            "execution_count": 21
        },
        {
            "cell_type": "markdown",
            "source": [
                "2.4. Consultar con CUBE."
            ],
            "metadata": {
                "azdata_cell_guid": "73732a9d-6e0a-43ef-92ab-d3b4ac5406bc"
            }
        },
        {
            "cell_type": "code",
            "source": [
                "SELECT \r\n",
                "    c.CategoryName,\r\n",
                "    YEAR(o.OrderDate) AS Año,\r\n",
                "    SUM(od.qty) AS TotalCantidad\r\n",
                "FROM \r\n",
                "    Production.Categories c\r\n",
                "INNER JOIN \r\n",
                "    Production.Products p ON c.CategoryID = p.CategoryID\r\n",
                "INNER JOIN \r\n",
                "    Sales.OrderDetails od ON p.ProductID = od.ProductID\r\n",
                "INNER JOIN \r\n",
                "    Sales.Orders o ON od.OrderID = o.OrderID\r\n",
                "GROUP BY \r\n",
                "    CUBE (c.CategoryName, YEAR(o.OrderDate));"
            ],
            "metadata": {
                "azdata_cell_guid": "d75d796c-991a-48a8-a4e2-e940994cf072",
                "language": "sql"
            },
            "outputs": [
                {
                    "output_type": "display_data",
                    "data": {
                        "text/html": "(36 rows affected)"
                    },
                    "metadata": {}
                },
                {
                    "output_type": "display_data",
                    "data": {
                        "text/html": "Total execution time: 00:00:00.119"
                    },
                    "metadata": {}
                },
                {
                    "output_type": "execute_result",
                    "metadata": {},
                    "execution_count": 17,
                    "data": {
                        "application/vnd.dataresource+json": {
                            "schema": {
                                "fields": [
                                    {
                                        "name": "CategoryName"
                                    },
                                    {
                                        "name": "Año"
                                    },
                                    {
                                        "name": "TotalCantidad"
                                    }
                                ]
                            },
                            "data": [
                                {
                                    "CategoryName": "Beverages",
                                    "Año": "2006",
                                    "TotalCantidad": "1842"
                                },
                                {
                                    "CategoryName": "Condiments",
                                    "Año": "2006",
                                    "TotalCantidad": "962"
                                },
                                {
                                    "CategoryName": "Confections",
                                    "Año": "2006",
                                    "TotalCantidad": "1357"
                                },
                                {
                                    "CategoryName": "Dairy Products",
                                    "Año": "2006",
                                    "TotalCantidad": "2086"
                                },
                                {
                                    "CategoryName": "Grains/Cereals",
                                    "Año": "2006",
                                    "TotalCantidad": "549"
                                },
                                {
                                    "CategoryName": "Meat/Poultry",
                                    "Año": "2006",
                                    "TotalCantidad": "950"
                                },
                                {
                                    "CategoryName": "Produce",
                                    "Año": "2006",
                                    "TotalCantidad": "549"
                                },
                                {
                                    "CategoryName": "Seafood",
                                    "Año": "2006",
                                    "TotalCantidad": "1286"
                                },
                                {
                                    "CategoryName": "NULL",
                                    "Año": "2006",
                                    "TotalCantidad": "9581"
                                },
                                {
                                    "CategoryName": "Beverages",
                                    "Año": "2007",
                                    "TotalCantidad": "3996"
                                },
                                {
                                    "CategoryName": "Condiments",
                                    "Año": "2007",
                                    "TotalCantidad": "2895"
                                },
                                {
                                    "CategoryName": "Confections",
                                    "Año": "2007",
                                    "TotalCantidad": "4137"
                                },
                                {
                                    "CategoryName": "Dairy Products",
                                    "Año": "2007",
                                    "TotalCantidad": "4374"
                                },
                                {
                                    "CategoryName": "Grains/Cereals",
                                    "Año": "2007",
                                    "TotalCantidad": "2636"
                                },
                                {
                                    "CategoryName": "Meat/Poultry",
                                    "Año": "2007",
                                    "TotalCantidad": "2189"
                                },
                                {
                                    "CategoryName": "Produce",
                                    "Año": "2007",
                                    "TotalCantidad": "1583"
                                },
                                {
                                    "CategoryName": "Seafood",
                                    "Año": "2007",
                                    "TotalCantidad": "3679"
                                },
                                {
                                    "CategoryName": "NULL",
                                    "Año": "2007",
                                    "TotalCantidad": "25489"
                                },
                                {
                                    "CategoryName": "Beverages",
                                    "Año": "2008",
                                    "TotalCantidad": "3694"
                                },
                                {
                                    "CategoryName": "Condiments",
                                    "Año": "2008",
                                    "TotalCantidad": "1441"
                                },
                                {
                                    "CategoryName": "Confections",
                                    "Año": "2008",
                                    "TotalCantidad": "2412"
                                },
                                {
                                    "CategoryName": "Dairy Products",
                                    "Año": "2008",
                                    "TotalCantidad": "2689"
                                },
                                {
                                    "CategoryName": "Grains/Cereals",
                                    "Año": "2008",
                                    "TotalCantidad": "1377"
                                },
                                {
                                    "CategoryName": "Meat/Poultry",
                                    "Año": "2008",
                                    "TotalCantidad": "1060"
                                },
                                {
                                    "CategoryName": "Produce",
                                    "Año": "2008",
                                    "TotalCantidad": "858"
                                },
                                {
                                    "CategoryName": "Seafood",
                                    "Año": "2008",
                                    "TotalCantidad": "2716"
                                },
                                {
                                    "CategoryName": "NULL",
                                    "Año": "2008",
                                    "TotalCantidad": "16247"
                                },
                                {
                                    "CategoryName": "NULL",
                                    "Año": "NULL",
                                    "TotalCantidad": "51317"
                                },
                                {
                                    "CategoryName": "Beverages",
                                    "Año": "NULL",
                                    "TotalCantidad": "9532"
                                },
                                {
                                    "CategoryName": "Condiments",
                                    "Año": "NULL",
                                    "TotalCantidad": "5298"
                                },
                                {
                                    "CategoryName": "Confections",
                                    "Año": "NULL",
                                    "TotalCantidad": "7906"
                                },
                                {
                                    "CategoryName": "Dairy Products",
                                    "Año": "NULL",
                                    "TotalCantidad": "9149"
                                },
                                {
                                    "CategoryName": "Grains/Cereals",
                                    "Año": "NULL",
                                    "TotalCantidad": "4562"
                                },
                                {
                                    "CategoryName": "Meat/Poultry",
                                    "Año": "NULL",
                                    "TotalCantidad": "4199"
                                },
                                {
                                    "CategoryName": "Produce",
                                    "Año": "NULL",
                                    "TotalCantidad": "2990"
                                },
                                {
                                    "CategoryName": "Seafood",
                                    "Año": "NULL",
                                    "TotalCantidad": "7681"
                                }
                            ]
                        },
                        "text/html": [
                            "<table>",
                            "<tr><th>CategoryName</th><th>Año</th><th>TotalCantidad</th></tr>",
                            "<tr><td>Beverages</td><td>2006</td><td>1842</td></tr>",
                            "<tr><td>Condiments</td><td>2006</td><td>962</td></tr>",
                            "<tr><td>Confections</td><td>2006</td><td>1357</td></tr>",
                            "<tr><td>Dairy Products</td><td>2006</td><td>2086</td></tr>",
                            "<tr><td>Grains/Cereals</td><td>2006</td><td>549</td></tr>",
                            "<tr><td>Meat/Poultry</td><td>2006</td><td>950</td></tr>",
                            "<tr><td>Produce</td><td>2006</td><td>549</td></tr>",
                            "<tr><td>Seafood</td><td>2006</td><td>1286</td></tr>",
                            "<tr><td>NULL</td><td>2006</td><td>9581</td></tr>",
                            "<tr><td>Beverages</td><td>2007</td><td>3996</td></tr>",
                            "<tr><td>Condiments</td><td>2007</td><td>2895</td></tr>",
                            "<tr><td>Confections</td><td>2007</td><td>4137</td></tr>",
                            "<tr><td>Dairy Products</td><td>2007</td><td>4374</td></tr>",
                            "<tr><td>Grains/Cereals</td><td>2007</td><td>2636</td></tr>",
                            "<tr><td>Meat/Poultry</td><td>2007</td><td>2189</td></tr>",
                            "<tr><td>Produce</td><td>2007</td><td>1583</td></tr>",
                            "<tr><td>Seafood</td><td>2007</td><td>3679</td></tr>",
                            "<tr><td>NULL</td><td>2007</td><td>25489</td></tr>",
                            "<tr><td>Beverages</td><td>2008</td><td>3694</td></tr>",
                            "<tr><td>Condiments</td><td>2008</td><td>1441</td></tr>",
                            "<tr><td>Confections</td><td>2008</td><td>2412</td></tr>",
                            "<tr><td>Dairy Products</td><td>2008</td><td>2689</td></tr>",
                            "<tr><td>Grains/Cereals</td><td>2008</td><td>1377</td></tr>",
                            "<tr><td>Meat/Poultry</td><td>2008</td><td>1060</td></tr>",
                            "<tr><td>Produce</td><td>2008</td><td>858</td></tr>",
                            "<tr><td>Seafood</td><td>2008</td><td>2716</td></tr>",
                            "<tr><td>NULL</td><td>2008</td><td>16247</td></tr>",
                            "<tr><td>NULL</td><td>NULL</td><td>51317</td></tr>",
                            "<tr><td>Beverages</td><td>NULL</td><td>9532</td></tr>",
                            "<tr><td>Condiments</td><td>NULL</td><td>5298</td></tr>",
                            "<tr><td>Confections</td><td>NULL</td><td>7906</td></tr>",
                            "<tr><td>Dairy Products</td><td>NULL</td><td>9149</td></tr>",
                            "<tr><td>Grains/Cereals</td><td>NULL</td><td>4562</td></tr>",
                            "<tr><td>Meat/Poultry</td><td>NULL</td><td>4199</td></tr>",
                            "<tr><td>Produce</td><td>NULL</td><td>2990</td></tr>",
                            "<tr><td>Seafood</td><td>NULL</td><td>7681</td></tr>",
                            "</table>"
                        ]
                    }
                }
            ],
            "execution_count": 17
        },
        {
            "cell_type": "markdown",
            "source": [
                "2.5. Consultar con ROLLUP"
            ],
            "metadata": {
                "azdata_cell_guid": "87ec1ad2-5d1c-4312-b5a5-4cb8549edfa4"
            }
        },
        {
            "cell_type": "code",
            "source": [
                "SELECT \r\n",
                "    c.CategoryName,\r\n",
                "    YEAR(o.OrderDate) AS Año,\r\n",
                "    SUM(od.qty) AS TotalCantidad\r\n",
                "FROM \r\n",
                "    Production.Categories c\r\n",
                "INNER JOIN \r\n",
                "    Production.Products p ON c.CategoryID = p.CategoryID\r\n",
                "INNER JOIN \r\n",
                "    Sales.OrderDetails od ON p.ProductID = od.ProductID\r\n",
                "INNER JOIN \r\n",
                "    Sales.Orders o ON od.OrderID = o.OrderID\r\n",
                "GROUP BY \r\n",
                "    ROLLUP (c.CategoryName, YEAR(o.OrderDate));"
            ],
            "metadata": {
                "azdata_cell_guid": "0ecd46f2-9dff-4b0f-bca3-8894037cbf86",
                "language": "sql"
            },
            "outputs": [
                {
                    "output_type": "display_data",
                    "data": {
                        "text/html": "(33 rows affected)"
                    },
                    "metadata": {}
                },
                {
                    "output_type": "display_data",
                    "data": {
                        "text/html": "Total execution time: 00:00:00.035"
                    },
                    "metadata": {}
                },
                {
                    "output_type": "execute_result",
                    "metadata": {},
                    "execution_count": 18,
                    "data": {
                        "application/vnd.dataresource+json": {
                            "schema": {
                                "fields": [
                                    {
                                        "name": "CategoryName"
                                    },
                                    {
                                        "name": "Año"
                                    },
                                    {
                                        "name": "TotalCantidad"
                                    }
                                ]
                            },
                            "data": [
                                {
                                    "CategoryName": "Beverages",
                                    "Año": "2006",
                                    "TotalCantidad": "1842"
                                },
                                {
                                    "CategoryName": "Beverages",
                                    "Año": "2007",
                                    "TotalCantidad": "3996"
                                },
                                {
                                    "CategoryName": "Beverages",
                                    "Año": "2008",
                                    "TotalCantidad": "3694"
                                },
                                {
                                    "CategoryName": "Beverages",
                                    "Año": "NULL",
                                    "TotalCantidad": "9532"
                                },
                                {
                                    "CategoryName": "Condiments",
                                    "Año": "2006",
                                    "TotalCantidad": "962"
                                },
                                {
                                    "CategoryName": "Condiments",
                                    "Año": "2007",
                                    "TotalCantidad": "2895"
                                },
                                {
                                    "CategoryName": "Condiments",
                                    "Año": "2008",
                                    "TotalCantidad": "1441"
                                },
                                {
                                    "CategoryName": "Condiments",
                                    "Año": "NULL",
                                    "TotalCantidad": "5298"
                                },
                                {
                                    "CategoryName": "Confections",
                                    "Año": "2006",
                                    "TotalCantidad": "1357"
                                },
                                {
                                    "CategoryName": "Confections",
                                    "Año": "2007",
                                    "TotalCantidad": "4137"
                                },
                                {
                                    "CategoryName": "Confections",
                                    "Año": "2008",
                                    "TotalCantidad": "2412"
                                },
                                {
                                    "CategoryName": "Confections",
                                    "Año": "NULL",
                                    "TotalCantidad": "7906"
                                },
                                {
                                    "CategoryName": "Dairy Products",
                                    "Año": "2006",
                                    "TotalCantidad": "2086"
                                },
                                {
                                    "CategoryName": "Dairy Products",
                                    "Año": "2007",
                                    "TotalCantidad": "4374"
                                },
                                {
                                    "CategoryName": "Dairy Products",
                                    "Año": "2008",
                                    "TotalCantidad": "2689"
                                },
                                {
                                    "CategoryName": "Dairy Products",
                                    "Año": "NULL",
                                    "TotalCantidad": "9149"
                                },
                                {
                                    "CategoryName": "Grains/Cereals",
                                    "Año": "2006",
                                    "TotalCantidad": "549"
                                },
                                {
                                    "CategoryName": "Grains/Cereals",
                                    "Año": "2007",
                                    "TotalCantidad": "2636"
                                },
                                {
                                    "CategoryName": "Grains/Cereals",
                                    "Año": "2008",
                                    "TotalCantidad": "1377"
                                },
                                {
                                    "CategoryName": "Grains/Cereals",
                                    "Año": "NULL",
                                    "TotalCantidad": "4562"
                                },
                                {
                                    "CategoryName": "Meat/Poultry",
                                    "Año": "2006",
                                    "TotalCantidad": "950"
                                },
                                {
                                    "CategoryName": "Meat/Poultry",
                                    "Año": "2007",
                                    "TotalCantidad": "2189"
                                },
                                {
                                    "CategoryName": "Meat/Poultry",
                                    "Año": "2008",
                                    "TotalCantidad": "1060"
                                },
                                {
                                    "CategoryName": "Meat/Poultry",
                                    "Año": "NULL",
                                    "TotalCantidad": "4199"
                                },
                                {
                                    "CategoryName": "Produce",
                                    "Año": "2006",
                                    "TotalCantidad": "549"
                                },
                                {
                                    "CategoryName": "Produce",
                                    "Año": "2007",
                                    "TotalCantidad": "1583"
                                },
                                {
                                    "CategoryName": "Produce",
                                    "Año": "2008",
                                    "TotalCantidad": "858"
                                },
                                {
                                    "CategoryName": "Produce",
                                    "Año": "NULL",
                                    "TotalCantidad": "2990"
                                },
                                {
                                    "CategoryName": "Seafood",
                                    "Año": "2006",
                                    "TotalCantidad": "1286"
                                },
                                {
                                    "CategoryName": "Seafood",
                                    "Año": "2007",
                                    "TotalCantidad": "3679"
                                },
                                {
                                    "CategoryName": "Seafood",
                                    "Año": "2008",
                                    "TotalCantidad": "2716"
                                },
                                {
                                    "CategoryName": "Seafood",
                                    "Año": "NULL",
                                    "TotalCantidad": "7681"
                                },
                                {
                                    "CategoryName": "NULL",
                                    "Año": "NULL",
                                    "TotalCantidad": "51317"
                                }
                            ]
                        },
                        "text/html": [
                            "<table>",
                            "<tr><th>CategoryName</th><th>Año</th><th>TotalCantidad</th></tr>",
                            "<tr><td>Beverages</td><td>2006</td><td>1842</td></tr>",
                            "<tr><td>Beverages</td><td>2007</td><td>3996</td></tr>",
                            "<tr><td>Beverages</td><td>2008</td><td>3694</td></tr>",
                            "<tr><td>Beverages</td><td>NULL</td><td>9532</td></tr>",
                            "<tr><td>Condiments</td><td>2006</td><td>962</td></tr>",
                            "<tr><td>Condiments</td><td>2007</td><td>2895</td></tr>",
                            "<tr><td>Condiments</td><td>2008</td><td>1441</td></tr>",
                            "<tr><td>Condiments</td><td>NULL</td><td>5298</td></tr>",
                            "<tr><td>Confections</td><td>2006</td><td>1357</td></tr>",
                            "<tr><td>Confections</td><td>2007</td><td>4137</td></tr>",
                            "<tr><td>Confections</td><td>2008</td><td>2412</td></tr>",
                            "<tr><td>Confections</td><td>NULL</td><td>7906</td></tr>",
                            "<tr><td>Dairy Products</td><td>2006</td><td>2086</td></tr>",
                            "<tr><td>Dairy Products</td><td>2007</td><td>4374</td></tr>",
                            "<tr><td>Dairy Products</td><td>2008</td><td>2689</td></tr>",
                            "<tr><td>Dairy Products</td><td>NULL</td><td>9149</td></tr>",
                            "<tr><td>Grains/Cereals</td><td>2006</td><td>549</td></tr>",
                            "<tr><td>Grains/Cereals</td><td>2007</td><td>2636</td></tr>",
                            "<tr><td>Grains/Cereals</td><td>2008</td><td>1377</td></tr>",
                            "<tr><td>Grains/Cereals</td><td>NULL</td><td>4562</td></tr>",
                            "<tr><td>Meat/Poultry</td><td>2006</td><td>950</td></tr>",
                            "<tr><td>Meat/Poultry</td><td>2007</td><td>2189</td></tr>",
                            "<tr><td>Meat/Poultry</td><td>2008</td><td>1060</td></tr>",
                            "<tr><td>Meat/Poultry</td><td>NULL</td><td>4199</td></tr>",
                            "<tr><td>Produce</td><td>2006</td><td>549</td></tr>",
                            "<tr><td>Produce</td><td>2007</td><td>1583</td></tr>",
                            "<tr><td>Produce</td><td>2008</td><td>858</td></tr>",
                            "<tr><td>Produce</td><td>NULL</td><td>2990</td></tr>",
                            "<tr><td>Seafood</td><td>2006</td><td>1286</td></tr>",
                            "<tr><td>Seafood</td><td>2007</td><td>3679</td></tr>",
                            "<tr><td>Seafood</td><td>2008</td><td>2716</td></tr>",
                            "<tr><td>Seafood</td><td>NULL</td><td>7681</td></tr>",
                            "<tr><td>NULL</td><td>NULL</td><td>51317</td></tr>",
                            "</table>"
                        ]
                    }
                }
            ],
            "execution_count": 18
        },
        {
            "cell_type": "markdown",
            "source": [
                "2.6. Utilizar Grouping_ID."
            ],
            "metadata": {
                "azdata_cell_guid": "95beaec3-498d-4110-a858-dc128ba98721"
            }
        },
        {
            "cell_type": "code",
            "source": [
                "SELECT \r\n",
                "    c.CategoryName,\r\n",
                "    YEAR(o.OrderDate) AS Año,\r\n",
                "    SUM(od.qty) AS TotalCantidad,\r\n",
                "    GROUPING_ID(c.CategoryName, YEAR(o.OrderDate)) AS GrpID\r\n",
                "FROM \r\n",
                "    Production.Categories c\r\n",
                "INNER JOIN \r\n",
                "    Production.Products p ON c.CategoryID = p.CategoryID\r\n",
                "INNER JOIN \r\n",
                "    Sales.OrderDetails od ON p.ProductID = od.ProductID\r\n",
                "INNER JOIN \r\n",
                "    Sales.Orders o ON od.OrderID = o.OrderID\r\n",
                "GROUP BY \r\n",
                "    ROLLUP (c.CategoryName, YEAR(o.OrderDate));"
            ],
            "metadata": {
                "azdata_cell_guid": "070a7d05-65b4-4462-abc0-e6c9fe42f696",
                "language": "sql"
            },
            "outputs": [
                {
                    "output_type": "display_data",
                    "data": {
                        "text/html": "(33 rows affected)"
                    },
                    "metadata": {}
                },
                {
                    "output_type": "display_data",
                    "data": {
                        "text/html": "Total execution time: 00:00:00.064"
                    },
                    "metadata": {}
                },
                {
                    "output_type": "execute_result",
                    "metadata": {},
                    "execution_count": 19,
                    "data": {
                        "application/vnd.dataresource+json": {
                            "schema": {
                                "fields": [
                                    {
                                        "name": "CategoryName"
                                    },
                                    {
                                        "name": "Año"
                                    },
                                    {
                                        "name": "TotalCantidad"
                                    },
                                    {
                                        "name": "GrpID"
                                    }
                                ]
                            },
                            "data": [
                                {
                                    "CategoryName": "Beverages",
                                    "Año": "2006",
                                    "TotalCantidad": "1842",
                                    "GrpID": "0"
                                },
                                {
                                    "CategoryName": "Beverages",
                                    "Año": "2007",
                                    "TotalCantidad": "3996",
                                    "GrpID": "0"
                                },
                                {
                                    "CategoryName": "Beverages",
                                    "Año": "2008",
                                    "TotalCantidad": "3694",
                                    "GrpID": "0"
                                },
                                {
                                    "CategoryName": "Beverages",
                                    "Año": "NULL",
                                    "TotalCantidad": "9532",
                                    "GrpID": "1"
                                },
                                {
                                    "CategoryName": "Condiments",
                                    "Año": "2006",
                                    "TotalCantidad": "962",
                                    "GrpID": "0"
                                },
                                {
                                    "CategoryName": "Condiments",
                                    "Año": "2007",
                                    "TotalCantidad": "2895",
                                    "GrpID": "0"
                                },
                                {
                                    "CategoryName": "Condiments",
                                    "Año": "2008",
                                    "TotalCantidad": "1441",
                                    "GrpID": "0"
                                },
                                {
                                    "CategoryName": "Condiments",
                                    "Año": "NULL",
                                    "TotalCantidad": "5298",
                                    "GrpID": "1"
                                },
                                {
                                    "CategoryName": "Confections",
                                    "Año": "2006",
                                    "TotalCantidad": "1357",
                                    "GrpID": "0"
                                },
                                {
                                    "CategoryName": "Confections",
                                    "Año": "2007",
                                    "TotalCantidad": "4137",
                                    "GrpID": "0"
                                },
                                {
                                    "CategoryName": "Confections",
                                    "Año": "2008",
                                    "TotalCantidad": "2412",
                                    "GrpID": "0"
                                },
                                {
                                    "CategoryName": "Confections",
                                    "Año": "NULL",
                                    "TotalCantidad": "7906",
                                    "GrpID": "1"
                                },
                                {
                                    "CategoryName": "Dairy Products",
                                    "Año": "2006",
                                    "TotalCantidad": "2086",
                                    "GrpID": "0"
                                },
                                {
                                    "CategoryName": "Dairy Products",
                                    "Año": "2007",
                                    "TotalCantidad": "4374",
                                    "GrpID": "0"
                                },
                                {
                                    "CategoryName": "Dairy Products",
                                    "Año": "2008",
                                    "TotalCantidad": "2689",
                                    "GrpID": "0"
                                },
                                {
                                    "CategoryName": "Dairy Products",
                                    "Año": "NULL",
                                    "TotalCantidad": "9149",
                                    "GrpID": "1"
                                },
                                {
                                    "CategoryName": "Grains/Cereals",
                                    "Año": "2006",
                                    "TotalCantidad": "549",
                                    "GrpID": "0"
                                },
                                {
                                    "CategoryName": "Grains/Cereals",
                                    "Año": "2007",
                                    "TotalCantidad": "2636",
                                    "GrpID": "0"
                                },
                                {
                                    "CategoryName": "Grains/Cereals",
                                    "Año": "2008",
                                    "TotalCantidad": "1377",
                                    "GrpID": "0"
                                },
                                {
                                    "CategoryName": "Grains/Cereals",
                                    "Año": "NULL",
                                    "TotalCantidad": "4562",
                                    "GrpID": "1"
                                },
                                {
                                    "CategoryName": "Meat/Poultry",
                                    "Año": "2006",
                                    "TotalCantidad": "950",
                                    "GrpID": "0"
                                },
                                {
                                    "CategoryName": "Meat/Poultry",
                                    "Año": "2007",
                                    "TotalCantidad": "2189",
                                    "GrpID": "0"
                                },
                                {
                                    "CategoryName": "Meat/Poultry",
                                    "Año": "2008",
                                    "TotalCantidad": "1060",
                                    "GrpID": "0"
                                },
                                {
                                    "CategoryName": "Meat/Poultry",
                                    "Año": "NULL",
                                    "TotalCantidad": "4199",
                                    "GrpID": "1"
                                },
                                {
                                    "CategoryName": "Produce",
                                    "Año": "2006",
                                    "TotalCantidad": "549",
                                    "GrpID": "0"
                                },
                                {
                                    "CategoryName": "Produce",
                                    "Año": "2007",
                                    "TotalCantidad": "1583",
                                    "GrpID": "0"
                                },
                                {
                                    "CategoryName": "Produce",
                                    "Año": "2008",
                                    "TotalCantidad": "858",
                                    "GrpID": "0"
                                },
                                {
                                    "CategoryName": "Produce",
                                    "Año": "NULL",
                                    "TotalCantidad": "2990",
                                    "GrpID": "1"
                                },
                                {
                                    "CategoryName": "Seafood",
                                    "Año": "2006",
                                    "TotalCantidad": "1286",
                                    "GrpID": "0"
                                },
                                {
                                    "CategoryName": "Seafood",
                                    "Año": "2007",
                                    "TotalCantidad": "3679",
                                    "GrpID": "0"
                                },
                                {
                                    "CategoryName": "Seafood",
                                    "Año": "2008",
                                    "TotalCantidad": "2716",
                                    "GrpID": "0"
                                },
                                {
                                    "CategoryName": "Seafood",
                                    "Año": "NULL",
                                    "TotalCantidad": "7681",
                                    "GrpID": "1"
                                },
                                {
                                    "CategoryName": "NULL",
                                    "Año": "NULL",
                                    "TotalCantidad": "51317",
                                    "GrpID": "3"
                                }
                            ]
                        },
                        "text/html": [
                            "<table>",
                            "<tr><th>CategoryName</th><th>Año</th><th>TotalCantidad</th><th>GrpID</th></tr>",
                            "<tr><td>Beverages</td><td>2006</td><td>1842</td><td>0</td></tr>",
                            "<tr><td>Beverages</td><td>2007</td><td>3996</td><td>0</td></tr>",
                            "<tr><td>Beverages</td><td>2008</td><td>3694</td><td>0</td></tr>",
                            "<tr><td>Beverages</td><td>NULL</td><td>9532</td><td>1</td></tr>",
                            "<tr><td>Condiments</td><td>2006</td><td>962</td><td>0</td></tr>",
                            "<tr><td>Condiments</td><td>2007</td><td>2895</td><td>0</td></tr>",
                            "<tr><td>Condiments</td><td>2008</td><td>1441</td><td>0</td></tr>",
                            "<tr><td>Condiments</td><td>NULL</td><td>5298</td><td>1</td></tr>",
                            "<tr><td>Confections</td><td>2006</td><td>1357</td><td>0</td></tr>",
                            "<tr><td>Confections</td><td>2007</td><td>4137</td><td>0</td></tr>",
                            "<tr><td>Confections</td><td>2008</td><td>2412</td><td>0</td></tr>",
                            "<tr><td>Confections</td><td>NULL</td><td>7906</td><td>1</td></tr>",
                            "<tr><td>Dairy Products</td><td>2006</td><td>2086</td><td>0</td></tr>",
                            "<tr><td>Dairy Products</td><td>2007</td><td>4374</td><td>0</td></tr>",
                            "<tr><td>Dairy Products</td><td>2008</td><td>2689</td><td>0</td></tr>",
                            "<tr><td>Dairy Products</td><td>NULL</td><td>9149</td><td>1</td></tr>",
                            "<tr><td>Grains/Cereals</td><td>2006</td><td>549</td><td>0</td></tr>",
                            "<tr><td>Grains/Cereals</td><td>2007</td><td>2636</td><td>0</td></tr>",
                            "<tr><td>Grains/Cereals</td><td>2008</td><td>1377</td><td>0</td></tr>",
                            "<tr><td>Grains/Cereals</td><td>NULL</td><td>4562</td><td>1</td></tr>",
                            "<tr><td>Meat/Poultry</td><td>2006</td><td>950</td><td>0</td></tr>",
                            "<tr><td>Meat/Poultry</td><td>2007</td><td>2189</td><td>0</td></tr>",
                            "<tr><td>Meat/Poultry</td><td>2008</td><td>1060</td><td>0</td></tr>",
                            "<tr><td>Meat/Poultry</td><td>NULL</td><td>4199</td><td>1</td></tr>",
                            "<tr><td>Produce</td><td>2006</td><td>549</td><td>0</td></tr>",
                            "<tr><td>Produce</td><td>2007</td><td>1583</td><td>0</td></tr>",
                            "<tr><td>Produce</td><td>2008</td><td>858</td><td>0</td></tr>",
                            "<tr><td>Produce</td><td>NULL</td><td>2990</td><td>1</td></tr>",
                            "<tr><td>Seafood</td><td>2006</td><td>1286</td><td>0</td></tr>",
                            "<tr><td>Seafood</td><td>2007</td><td>3679</td><td>0</td></tr>",
                            "<tr><td>Seafood</td><td>2008</td><td>2716</td><td>0</td></tr>",
                            "<tr><td>Seafood</td><td>NULL</td><td>7681</td><td>1</td></tr>",
                            "<tr><td>NULL</td><td>NULL</td><td>51317</td><td>3</td></tr>",
                            "</table>"
                        ]
                    }
                }
            ],
            "execution_count": 19
        },
        {
            "cell_type": "markdown",
            "source": [
                "2.7. Finalmente limpiar los cambios"
            ],
            "metadata": {
                "azdata_cell_guid": "87838adf-1c7d-4018-a25a-fcc421d7c696"
            }
        },
        {
            "cell_type": "code",
            "source": [
                "-- Eliminar la tabla ResultadoPivot si existe\r\n",
                "IF OBJECT_ID('dbo.ResultadoPivot', 'U') IS NOT NULL \r\n",
                "    DROP TABLE dbo.ResultadoPivot;\r\n",
                "\r\n",
                "-- Eliminar la vista VistaCategoriasPorAño si existe\r\n",
                "IF OBJECT_ID('Production.VistaCategoriasPorAño', 'V') IS NOT NULL \r\n",
                "    DROP VIEW Production.VistaCategoriasPorAño;"
            ],
            "metadata": {
                "azdata_cell_guid": "159ecd9b-0646-4c26-86b2-11493faab768",
                "language": "sql"
            },
            "outputs": [
                {
                    "output_type": "display_data",
                    "data": {
                        "text/html": "Commands completed successfully."
                    },
                    "metadata": {}
                },
                {
                    "output_type": "display_data",
                    "data": {
                        "text/html": "Total execution time: 00:00:00.001"
                    },
                    "metadata": {}
                }
            ],
            "execution_count": 22
        },
        {
            "cell_type": "markdown",
            "source": [
                "<h2>Ejercicio 03: Escribir consultas que usan las clausulas GROUPING SETS, CUBE y ROLLUP"
            ],
            "metadata": {
                "azdata_cell_guid": "3c5fcf6d-cc71-466d-9bdc-f0cd030dc652"
            }
        },
        {
            "cell_type": "markdown",
            "source": [
                "3.1. Escribir una sentencia SELECT contra la tabla Sales.Customers y traer las columnas country, city\n",
                "y una columna calculada noofcustomers como una cantidad de clientes. Traer multiples grouping\n",
                "sets basados en las columnas country y city, la columna country, la columna city, y una columna con un grouping set vacio."
            ],
            "metadata": {
                "azdata_cell_guid": "0d43c9b9-784c-41a4-b181-677c5241510d"
            }
        },
        {
            "cell_type": "code",
            "source": [
                "SELECT \r\n",
                "    country,\r\n",
                "    city,\r\n",
                "    COUNT(*) AS noofcustomers\r\n",
                "FROM \r\n",
                "    Sales.Customers\r\n",
                "GROUP BY \r\n",
                "    GROUPING SETS (\r\n",
                "        (country, city),   -- Total por país y ciudad\r\n",
                "        (country),         -- Total por país\r\n",
                "        (city),            -- Total por ciudad\r\n",
                "        ()                 -- Total general\r\n",
                "    );"
            ],
            "metadata": {
                "azdata_cell_guid": "ae6a8d7e-e062-4ec1-a98f-9034f7efb789",
                "language": "sql"
            },
            "outputs": [
                {
                    "output_type": "display_data",
                    "data": {
                        "text/html": "(160 rows affected)"
                    },
                    "metadata": {}
                },
                {
                    "output_type": "display_data",
                    "data": {
                        "text/html": "Total execution time: 00:00:00.043"
                    },
                    "metadata": {}
                },
                {
                    "output_type": "execute_result",
                    "metadata": {},
                    "execution_count": 23,
                    "data": {
                        "application/vnd.dataresource+json": {
                            "schema": {
                                "fields": [
                                    {
                                        "name": "country"
                                    },
                                    {
                                        "name": "city"
                                    },
                                    {
                                        "name": "noofcustomers"
                                    }
                                ]
                            },
                            "data": [
                                {
                                    "country": "Germany",
                                    "city": "Aachen",
                                    "noofcustomers": "1"
                                },
                                {
                                    "country": "NULL",
                                    "city": "Aachen",
                                    "noofcustomers": "1"
                                },
                                {
                                    "country": "USA",
                                    "city": "Albuquerque",
                                    "noofcustomers": "1"
                                },
                                {
                                    "country": "NULL",
                                    "city": "Albuquerque",
                                    "noofcustomers": "1"
                                },
                                {
                                    "country": "USA",
                                    "city": "Anchorage",
                                    "noofcustomers": "1"
                                },
                                {
                                    "country": "NULL",
                                    "city": "Anchorage",
                                    "noofcustomers": "1"
                                },
                                {
                                    "country": "Denmark",
                                    "city": "Århus",
                                    "noofcustomers": "1"
                                },
                                {
                                    "country": "NULL",
                                    "city": "Århus",
                                    "noofcustomers": "1"
                                },
                                {
                                    "country": "Spain",
                                    "city": "Barcelona",
                                    "noofcustomers": "1"
                                },
                                {
                                    "country": "NULL",
                                    "city": "Barcelona",
                                    "noofcustomers": "1"
                                },
                                {
                                    "country": "Venezuela",
                                    "city": "Barquisimeto",
                                    "noofcustomers": "1"
                                },
                                {
                                    "country": "NULL",
                                    "city": "Barquisimeto",
                                    "noofcustomers": "1"
                                },
                                {
                                    "country": "Italy",
                                    "city": "Bergamo",
                                    "noofcustomers": "1"
                                },
                                {
                                    "country": "NULL",
                                    "city": "Bergamo",
                                    "noofcustomers": "1"
                                },
                                {
                                    "country": "Germany",
                                    "city": "Berlin",
                                    "noofcustomers": "1"
                                },
                                {
                                    "country": "NULL",
                                    "city": "Berlin",
                                    "noofcustomers": "1"
                                },
                                {
                                    "country": "Switzerland",
                                    "city": "Bern",
                                    "noofcustomers": "1"
                                },
                                {
                                    "country": "NULL",
                                    "city": "Bern",
                                    "noofcustomers": "1"
                                },
                                {
                                    "country": "USA",
                                    "city": "Boise",
                                    "noofcustomers": "1"
                                },
                                {
                                    "country": "NULL",
                                    "city": "Boise",
                                    "noofcustomers": "1"
                                },
                                {
                                    "country": "Sweden",
                                    "city": "Bräcke",
                                    "noofcustomers": "1"
                                },
                                {
                                    "country": "NULL",
                                    "city": "Bräcke",
                                    "noofcustomers": "1"
                                },
                                {
                                    "country": "Germany",
                                    "city": "Brandenburg",
                                    "noofcustomers": "1"
                                },
                                {
                                    "country": "NULL",
                                    "city": "Brandenburg",
                                    "noofcustomers": "1"
                                },
                                {
                                    "country": "Belgium",
                                    "city": "Bruxelles",
                                    "noofcustomers": "1"
                                },
                                {
                                    "country": "NULL",
                                    "city": "Bruxelles",
                                    "noofcustomers": "1"
                                },
                                {
                                    "country": "Argentina",
                                    "city": "Buenos Aires",
                                    "noofcustomers": "3"
                                },
                                {
                                    "country": "NULL",
                                    "city": "Buenos Aires",
                                    "noofcustomers": "3"
                                },
                                {
                                    "country": "USA",
                                    "city": "Butte",
                                    "noofcustomers": "1"
                                },
                                {
                                    "country": "NULL",
                                    "city": "Butte",
                                    "noofcustomers": "1"
                                },
                                {
                                    "country": "Brazil",
                                    "city": "Campinas",
                                    "noofcustomers": "1"
                                },
                                {
                                    "country": "NULL",
                                    "city": "Campinas",
                                    "noofcustomers": "1"
                                },
                                {
                                    "country": "Venezuela",
                                    "city": "Caracas",
                                    "noofcustomers": "1"
                                },
                                {
                                    "country": "NULL",
                                    "city": "Caracas",
                                    "noofcustomers": "1"
                                },
                                {
                                    "country": "Belgium",
                                    "city": "Charleroi",
                                    "noofcustomers": "1"
                                },
                                {
                                    "country": "NULL",
                                    "city": "Charleroi",
                                    "noofcustomers": "1"
                                },
                                {
                                    "country": "Ireland",
                                    "city": "Cork",
                                    "noofcustomers": "1"
                                },
                                {
                                    "country": "NULL",
                                    "city": "Cork",
                                    "noofcustomers": "1"
                                },
                                {
                                    "country": "UK",
                                    "city": "Cowes",
                                    "noofcustomers": "1"
                                },
                                {
                                    "country": "NULL",
                                    "city": "Cowes",
                                    "noofcustomers": "1"
                                },
                                {
                                    "country": "Germany",
                                    "city": "Cunewalde",
                                    "noofcustomers": "1"
                                },
                                {
                                    "country": "NULL",
                                    "city": "Cunewalde",
                                    "noofcustomers": "1"
                                },
                                {
                                    "country": "USA",
                                    "city": "Elgin",
                                    "noofcustomers": "1"
                                },
                                {
                                    "country": "NULL",
                                    "city": "Elgin",
                                    "noofcustomers": "1"
                                },
                                {
                                    "country": "USA",
                                    "city": "Eugene",
                                    "noofcustomers": "1"
                                },
                                {
                                    "country": "NULL",
                                    "city": "Eugene",
                                    "noofcustomers": "1"
                                },
                                {
                                    "country": "Germany",
                                    "city": "Frankfurt a.M.",
                                    "noofcustomers": "1"
                                },
                                {
                                    "country": "NULL",
                                    "city": "Frankfurt a.M.",
                                    "noofcustomers": "1"
                                },
                                {
                                    "country": "Switzerland",
                                    "city": "Genève",
                                    "noofcustomers": "1"
                                },
                                {
                                    "country": "NULL",
                                    "city": "Genève",
                                    "noofcustomers": "1"
                                },
                                {
                                    "country": "Austria",
                                    "city": "Graz",
                                    "noofcustomers": "1"
                                },
                                {
                                    "country": "NULL",
                                    "city": "Graz",
                                    "noofcustomers": "1"
                                },
                                {
                                    "country": "Finland",
                                    "city": "Helsinki",
                                    "noofcustomers": "1"
                                },
                                {
                                    "country": "NULL",
                                    "city": "Helsinki",
                                    "noofcustomers": "1"
                                },
                                {
                                    "country": "Venezuela",
                                    "city": "I. de Margarita",
                                    "noofcustomers": "1"
                                },
                                {
                                    "country": "NULL",
                                    "city": "I. de Margarita",
                                    "noofcustomers": "1"
                                },
                                {
                                    "country": "USA",
                                    "city": "Kirkland",
                                    "noofcustomers": "1"
                                },
                                {
                                    "country": "NULL",
                                    "city": "Kirkland",
                                    "noofcustomers": "1"
                                },
                                {
                                    "country": "Denmark",
                                    "city": "Kobenhavn",
                                    "noofcustomers": "1"
                                },
                                {
                                    "country": "NULL",
                                    "city": "Kobenhavn",
                                    "noofcustomers": "1"
                                },
                                {
                                    "country": "Germany",
                                    "city": "Köln",
                                    "noofcustomers": "1"
                                },
                                {
                                    "country": "NULL",
                                    "city": "Köln",
                                    "noofcustomers": "1"
                                },
                                {
                                    "country": "USA",
                                    "city": "Lander",
                                    "noofcustomers": "1"
                                },
                                {
                                    "country": "NULL",
                                    "city": "Lander",
                                    "noofcustomers": "1"
                                },
                                {
                                    "country": "Germany",
                                    "city": "Leipzig",
                                    "noofcustomers": "1"
                                },
                                {
                                    "country": "NULL",
                                    "city": "Leipzig",
                                    "noofcustomers": "1"
                                },
                                {
                                    "country": "France",
                                    "city": "Lille",
                                    "noofcustomers": "1"
                                },
                                {
                                    "country": "NULL",
                                    "city": "Lille",
                                    "noofcustomers": "1"
                                },
                                {
                                    "country": "Portugal",
                                    "city": "Lisboa",
                                    "noofcustomers": "2"
                                },
                                {
                                    "country": "NULL",
                                    "city": "Lisboa",
                                    "noofcustomers": "2"
                                },
                                {
                                    "country": "UK",
                                    "city": "London",
                                    "noofcustomers": "6"
                                },
                                {
                                    "country": "NULL",
                                    "city": "London",
                                    "noofcustomers": "6"
                                },
                                {
                                    "country": "Sweden",
                                    "city": "Luleå",
                                    "noofcustomers": "1"
                                },
                                {
                                    "country": "NULL",
                                    "city": "Luleå",
                                    "noofcustomers": "1"
                                },
                                {
                                    "country": "France",
                                    "city": "Lyon",
                                    "noofcustomers": "1"
                                },
                                {
                                    "country": "NULL",
                                    "city": "Lyon",
                                    "noofcustomers": "1"
                                },
                                {
                                    "country": "Spain",
                                    "city": "Madrid",
                                    "noofcustomers": "3"
                                },
                                {
                                    "country": "NULL",
                                    "city": "Madrid",
                                    "noofcustomers": "3"
                                },
                                {
                                    "country": "Germany",
                                    "city": "Mannheim",
                                    "noofcustomers": "1"
                                },
                                {
                                    "country": "NULL",
                                    "city": "Mannheim",
                                    "noofcustomers": "1"
                                },
                                {
                                    "country": "France",
                                    "city": "Marseille",
                                    "noofcustomers": "1"
                                },
                                {
                                    "country": "NULL",
                                    "city": "Marseille",
                                    "noofcustomers": "1"
                                },
                                {
                                    "country": "Mexico",
                                    "city": "México D.F.",
                                    "noofcustomers": "5"
                                },
                                {
                                    "country": "NULL",
                                    "city": "México D.F.",
                                    "noofcustomers": "5"
                                },
                                {
                                    "country": "Canada",
                                    "city": "Montréal",
                                    "noofcustomers": "1"
                                },
                                {
                                    "country": "NULL",
                                    "city": "Montréal",
                                    "noofcustomers": "1"
                                },
                                {
                                    "country": "Germany",
                                    "city": "München",
                                    "noofcustomers": "1"
                                },
                                {
                                    "country": "NULL",
                                    "city": "München",
                                    "noofcustomers": "1"
                                },
                                {
                                    "country": "Germany",
                                    "city": "Münster",
                                    "noofcustomers": "1"
                                },
                                {
                                    "country": "NULL",
                                    "city": "Münster",
                                    "noofcustomers": "1"
                                },
                                {
                                    "country": "France",
                                    "city": "Nantes",
                                    "noofcustomers": "2"
                                },
                                {
                                    "country": "NULL",
                                    "city": "Nantes",
                                    "noofcustomers": "2"
                                },
                                {
                                    "country": "Finland",
                                    "city": "Oulu",
                                    "noofcustomers": "1"
                                },
                                {
                                    "country": "NULL",
                                    "city": "Oulu",
                                    "noofcustomers": "1"
                                },
                                {
                                    "country": "France",
                                    "city": "Paris",
                                    "noofcustomers": "2"
                                },
                                {
                                    "country": "NULL",
                                    "city": "Paris",
                                    "noofcustomers": "2"
                                },
                                {
                                    "country": "USA",
                                    "city": "Portland",
                                    "noofcustomers": "2"
                                },
                                {
                                    "country": "NULL",
                                    "city": "Portland",
                                    "noofcustomers": "2"
                                },
                                {
                                    "country": "Italy",
                                    "city": "Reggio Emilia",
                                    "noofcustomers": "1"
                                },
                                {
                                    "country": "NULL",
                                    "city": "Reggio Emilia",
                                    "noofcustomers": "1"
                                },
                                {
                                    "country": "France",
                                    "city": "Reims",
                                    "noofcustomers": "1"
                                },
                                {
                                    "country": "NULL",
                                    "city": "Reims",
                                    "noofcustomers": "1"
                                },
                                {
                                    "country": "Brazil",
                                    "city": "Resende",
                                    "noofcustomers": "1"
                                },
                                {
                                    "country": "NULL",
                                    "city": "Resende",
                                    "noofcustomers": "1"
                                },
                                {
                                    "country": "Brazil",
                                    "city": "Rio de Janeiro",
                                    "noofcustomers": "3"
                                },
                                {
                                    "country": "NULL",
                                    "city": "Rio de Janeiro",
                                    "noofcustomers": "3"
                                },
                                {
                                    "country": "Austria",
                                    "city": "Salzburg",
                                    "noofcustomers": "1"
                                },
                                {
                                    "country": "NULL",
                                    "city": "Salzburg",
                                    "noofcustomers": "1"
                                },
                                {
                                    "country": "Venezuela",
                                    "city": "San Cristóbal",
                                    "noofcustomers": "1"
                                },
                                {
                                    "country": "NULL",
                                    "city": "San Cristóbal",
                                    "noofcustomers": "1"
                                },
                                {
                                    "country": "USA",
                                    "city": "San Francisco",
                                    "noofcustomers": "1"
                                },
                                {
                                    "country": "NULL",
                                    "city": "San Francisco",
                                    "noofcustomers": "1"
                                },
                                {
                                    "country": "Brazil",
                                    "city": "Sao Paulo",
                                    "noofcustomers": "4"
                                },
                                {
                                    "country": "NULL",
                                    "city": "Sao Paulo",
                                    "noofcustomers": "4"
                                },
                                {
                                    "country": "USA",
                                    "city": "Seattle",
                                    "noofcustomers": "1"
                                },
                                {
                                    "country": "NULL",
                                    "city": "Seattle",
                                    "noofcustomers": "1"
                                },
                                {
                                    "country": "Spain",
                                    "city": "Sevilla",
                                    "noofcustomers": "1"
                                },
                                {
                                    "country": "NULL",
                                    "city": "Sevilla",
                                    "noofcustomers": "1"
                                },
                                {
                                    "country": "Norway",
                                    "city": "Stavern",
                                    "noofcustomers": "1"
                                },
                                {
                                    "country": "NULL",
                                    "city": "Stavern",
                                    "noofcustomers": "1"
                                },
                                {
                                    "country": "France",
                                    "city": "Strasbourg",
                                    "noofcustomers": "1"
                                },
                                {
                                    "country": "NULL",
                                    "city": "Strasbourg",
                                    "noofcustomers": "1"
                                },
                                {
                                    "country": "Germany",
                                    "city": "Stuttgart",
                                    "noofcustomers": "1"
                                },
                                {
                                    "country": "NULL",
                                    "city": "Stuttgart",
                                    "noofcustomers": "1"
                                },
                                {
                                    "country": "Italy",
                                    "city": "Torino",
                                    "noofcustomers": "1"
                                },
                                {
                                    "country": "NULL",
                                    "city": "Torino",
                                    "noofcustomers": "1"
                                },
                                {
                                    "country": "France",
                                    "city": "Toulouse",
                                    "noofcustomers": "1"
                                },
                                {
                                    "country": "NULL",
                                    "city": "Toulouse",
                                    "noofcustomers": "1"
                                },
                                {
                                    "country": "Canada",
                                    "city": "Tsawassen",
                                    "noofcustomers": "1"
                                },
                                {
                                    "country": "NULL",
                                    "city": "Tsawassen",
                                    "noofcustomers": "1"
                                },
                                {
                                    "country": "Canada",
                                    "city": "Vancouver",
                                    "noofcustomers": "1"
                                },
                                {
                                    "country": "NULL",
                                    "city": "Vancouver",
                                    "noofcustomers": "1"
                                },
                                {
                                    "country": "France",
                                    "city": "Versailles",
                                    "noofcustomers": "1"
                                },
                                {
                                    "country": "NULL",
                                    "city": "Versailles",
                                    "noofcustomers": "1"
                                },
                                {
                                    "country": "USA",
                                    "city": "Walla Walla",
                                    "noofcustomers": "1"
                                },
                                {
                                    "country": "NULL",
                                    "city": "Walla Walla",
                                    "noofcustomers": "1"
                                },
                                {
                                    "country": "Poland",
                                    "city": "Warszawa",
                                    "noofcustomers": "1"
                                },
                                {
                                    "country": "NULL",
                                    "city": "Warszawa",
                                    "noofcustomers": "1"
                                },
                                {
                                    "country": "NULL",
                                    "city": "NULL",
                                    "noofcustomers": "91"
                                },
                                {
                                    "country": "Argentina",
                                    "city": "NULL",
                                    "noofcustomers": "3"
                                },
                                {
                                    "country": "Austria",
                                    "city": "NULL",
                                    "noofcustomers": "2"
                                },
                                {
                                    "country": "Belgium",
                                    "city": "NULL",
                                    "noofcustomers": "2"
                                },
                                {
                                    "country": "Brazil",
                                    "city": "NULL",
                                    "noofcustomers": "9"
                                },
                                {
                                    "country": "Canada",
                                    "city": "NULL",
                                    "noofcustomers": "3"
                                },
                                {
                                    "country": "Denmark",
                                    "city": "NULL",
                                    "noofcustomers": "2"
                                },
                                {
                                    "country": "Finland",
                                    "city": "NULL",
                                    "noofcustomers": "2"
                                },
                                {
                                    "country": "France",
                                    "city": "NULL",
                                    "noofcustomers": "11"
                                },
                                {
                                    "country": "Germany",
                                    "city": "NULL",
                                    "noofcustomers": "11"
                                },
                                {
                                    "country": "Ireland",
                                    "city": "NULL",
                                    "noofcustomers": "1"
                                },
                                {
                                    "country": "Italy",
                                    "city": "NULL",
                                    "noofcustomers": "3"
                                },
                                {
                                    "country": "Mexico",
                                    "city": "NULL",
                                    "noofcustomers": "5"
                                },
                                {
                                    "country": "Norway",
                                    "city": "NULL",
                                    "noofcustomers": "1"
                                },
                                {
                                    "country": "Poland",
                                    "city": "NULL",
                                    "noofcustomers": "1"
                                },
                                {
                                    "country": "Portugal",
                                    "city": "NULL",
                                    "noofcustomers": "2"
                                },
                                {
                                    "country": "Spain",
                                    "city": "NULL",
                                    "noofcustomers": "5"
                                },
                                {
                                    "country": "Sweden",
                                    "city": "NULL",
                                    "noofcustomers": "2"
                                },
                                {
                                    "country": "Switzerland",
                                    "city": "NULL",
                                    "noofcustomers": "2"
                                },
                                {
                                    "country": "UK",
                                    "city": "NULL",
                                    "noofcustomers": "7"
                                },
                                {
                                    "country": "USA",
                                    "city": "NULL",
                                    "noofcustomers": "13"
                                },
                                {
                                    "country": "Venezuela",
                                    "city": "NULL",
                                    "noofcustomers": "4"
                                }
                            ]
                        },
                        "text/html": [
                            "<table>",
                            "<tr><th>country</th><th>city</th><th>noofcustomers</th></tr>",
                            "<tr><td>Germany</td><td>Aachen</td><td>1</td></tr>",
                            "<tr><td>NULL</td><td>Aachen</td><td>1</td></tr>",
                            "<tr><td>USA</td><td>Albuquerque</td><td>1</td></tr>",
                            "<tr><td>NULL</td><td>Albuquerque</td><td>1</td></tr>",
                            "<tr><td>USA</td><td>Anchorage</td><td>1</td></tr>",
                            "<tr><td>NULL</td><td>Anchorage</td><td>1</td></tr>",
                            "<tr><td>Denmark</td><td>Århus</td><td>1</td></tr>",
                            "<tr><td>NULL</td><td>Århus</td><td>1</td></tr>",
                            "<tr><td>Spain</td><td>Barcelona</td><td>1</td></tr>",
                            "<tr><td>NULL</td><td>Barcelona</td><td>1</td></tr>",
                            "<tr><td>Venezuela</td><td>Barquisimeto</td><td>1</td></tr>",
                            "<tr><td>NULL</td><td>Barquisimeto</td><td>1</td></tr>",
                            "<tr><td>Italy</td><td>Bergamo</td><td>1</td></tr>",
                            "<tr><td>NULL</td><td>Bergamo</td><td>1</td></tr>",
                            "<tr><td>Germany</td><td>Berlin</td><td>1</td></tr>",
                            "<tr><td>NULL</td><td>Berlin</td><td>1</td></tr>",
                            "<tr><td>Switzerland</td><td>Bern</td><td>1</td></tr>",
                            "<tr><td>NULL</td><td>Bern</td><td>1</td></tr>",
                            "<tr><td>USA</td><td>Boise</td><td>1</td></tr>",
                            "<tr><td>NULL</td><td>Boise</td><td>1</td></tr>",
                            "<tr><td>Sweden</td><td>Bräcke</td><td>1</td></tr>",
                            "<tr><td>NULL</td><td>Bräcke</td><td>1</td></tr>",
                            "<tr><td>Germany</td><td>Brandenburg</td><td>1</td></tr>",
                            "<tr><td>NULL</td><td>Brandenburg</td><td>1</td></tr>",
                            "<tr><td>Belgium</td><td>Bruxelles</td><td>1</td></tr>",
                            "<tr><td>NULL</td><td>Bruxelles</td><td>1</td></tr>",
                            "<tr><td>Argentina</td><td>Buenos Aires</td><td>3</td></tr>",
                            "<tr><td>NULL</td><td>Buenos Aires</td><td>3</td></tr>",
                            "<tr><td>USA</td><td>Butte</td><td>1</td></tr>",
                            "<tr><td>NULL</td><td>Butte</td><td>1</td></tr>",
                            "<tr><td>Brazil</td><td>Campinas</td><td>1</td></tr>",
                            "<tr><td>NULL</td><td>Campinas</td><td>1</td></tr>",
                            "<tr><td>Venezuela</td><td>Caracas</td><td>1</td></tr>",
                            "<tr><td>NULL</td><td>Caracas</td><td>1</td></tr>",
                            "<tr><td>Belgium</td><td>Charleroi</td><td>1</td></tr>",
                            "<tr><td>NULL</td><td>Charleroi</td><td>1</td></tr>",
                            "<tr><td>Ireland</td><td>Cork</td><td>1</td></tr>",
                            "<tr><td>NULL</td><td>Cork</td><td>1</td></tr>",
                            "<tr><td>UK</td><td>Cowes</td><td>1</td></tr>",
                            "<tr><td>NULL</td><td>Cowes</td><td>1</td></tr>",
                            "<tr><td>Germany</td><td>Cunewalde</td><td>1</td></tr>",
                            "<tr><td>NULL</td><td>Cunewalde</td><td>1</td></tr>",
                            "<tr><td>USA</td><td>Elgin</td><td>1</td></tr>",
                            "<tr><td>NULL</td><td>Elgin</td><td>1</td></tr>",
                            "<tr><td>USA</td><td>Eugene</td><td>1</td></tr>",
                            "<tr><td>NULL</td><td>Eugene</td><td>1</td></tr>",
                            "<tr><td>Germany</td><td>Frankfurt a.M.</td><td>1</td></tr>",
                            "<tr><td>NULL</td><td>Frankfurt a.M.</td><td>1</td></tr>",
                            "<tr><td>Switzerland</td><td>Genève</td><td>1</td></tr>",
                            "<tr><td>NULL</td><td>Genève</td><td>1</td></tr>",
                            "<tr><td>Austria</td><td>Graz</td><td>1</td></tr>",
                            "<tr><td>NULL</td><td>Graz</td><td>1</td></tr>",
                            "<tr><td>Finland</td><td>Helsinki</td><td>1</td></tr>",
                            "<tr><td>NULL</td><td>Helsinki</td><td>1</td></tr>",
                            "<tr><td>Venezuela</td><td>I. de Margarita</td><td>1</td></tr>",
                            "<tr><td>NULL</td><td>I. de Margarita</td><td>1</td></tr>",
                            "<tr><td>USA</td><td>Kirkland</td><td>1</td></tr>",
                            "<tr><td>NULL</td><td>Kirkland</td><td>1</td></tr>",
                            "<tr><td>Denmark</td><td>Kobenhavn</td><td>1</td></tr>",
                            "<tr><td>NULL</td><td>Kobenhavn</td><td>1</td></tr>",
                            "<tr><td>Germany</td><td>Köln</td><td>1</td></tr>",
                            "<tr><td>NULL</td><td>Köln</td><td>1</td></tr>",
                            "<tr><td>USA</td><td>Lander</td><td>1</td></tr>",
                            "<tr><td>NULL</td><td>Lander</td><td>1</td></tr>",
                            "<tr><td>Germany</td><td>Leipzig</td><td>1</td></tr>",
                            "<tr><td>NULL</td><td>Leipzig</td><td>1</td></tr>",
                            "<tr><td>France</td><td>Lille</td><td>1</td></tr>",
                            "<tr><td>NULL</td><td>Lille</td><td>1</td></tr>",
                            "<tr><td>Portugal</td><td>Lisboa</td><td>2</td></tr>",
                            "<tr><td>NULL</td><td>Lisboa</td><td>2</td></tr>",
                            "<tr><td>UK</td><td>London</td><td>6</td></tr>",
                            "<tr><td>NULL</td><td>London</td><td>6</td></tr>",
                            "<tr><td>Sweden</td><td>Luleå</td><td>1</td></tr>",
                            "<tr><td>NULL</td><td>Luleå</td><td>1</td></tr>",
                            "<tr><td>France</td><td>Lyon</td><td>1</td></tr>",
                            "<tr><td>NULL</td><td>Lyon</td><td>1</td></tr>",
                            "<tr><td>Spain</td><td>Madrid</td><td>3</td></tr>",
                            "<tr><td>NULL</td><td>Madrid</td><td>3</td></tr>",
                            "<tr><td>Germany</td><td>Mannheim</td><td>1</td></tr>",
                            "<tr><td>NULL</td><td>Mannheim</td><td>1</td></tr>",
                            "<tr><td>France</td><td>Marseille</td><td>1</td></tr>",
                            "<tr><td>NULL</td><td>Marseille</td><td>1</td></tr>",
                            "<tr><td>Mexico</td><td>México D.F.</td><td>5</td></tr>",
                            "<tr><td>NULL</td><td>México D.F.</td><td>5</td></tr>",
                            "<tr><td>Canada</td><td>Montréal</td><td>1</td></tr>",
                            "<tr><td>NULL</td><td>Montréal</td><td>1</td></tr>",
                            "<tr><td>Germany</td><td>München</td><td>1</td></tr>",
                            "<tr><td>NULL</td><td>München</td><td>1</td></tr>",
                            "<tr><td>Germany</td><td>Münster</td><td>1</td></tr>",
                            "<tr><td>NULL</td><td>Münster</td><td>1</td></tr>",
                            "<tr><td>France</td><td>Nantes</td><td>2</td></tr>",
                            "<tr><td>NULL</td><td>Nantes</td><td>2</td></tr>",
                            "<tr><td>Finland</td><td>Oulu</td><td>1</td></tr>",
                            "<tr><td>NULL</td><td>Oulu</td><td>1</td></tr>",
                            "<tr><td>France</td><td>Paris</td><td>2</td></tr>",
                            "<tr><td>NULL</td><td>Paris</td><td>2</td></tr>",
                            "<tr><td>USA</td><td>Portland</td><td>2</td></tr>",
                            "<tr><td>NULL</td><td>Portland</td><td>2</td></tr>",
                            "<tr><td>Italy</td><td>Reggio Emilia</td><td>1</td></tr>",
                            "<tr><td>NULL</td><td>Reggio Emilia</td><td>1</td></tr>",
                            "<tr><td>France</td><td>Reims</td><td>1</td></tr>",
                            "<tr><td>NULL</td><td>Reims</td><td>1</td></tr>",
                            "<tr><td>Brazil</td><td>Resende</td><td>1</td></tr>",
                            "<tr><td>NULL</td><td>Resende</td><td>1</td></tr>",
                            "<tr><td>Brazil</td><td>Rio de Janeiro</td><td>3</td></tr>",
                            "<tr><td>NULL</td><td>Rio de Janeiro</td><td>3</td></tr>",
                            "<tr><td>Austria</td><td>Salzburg</td><td>1</td></tr>",
                            "<tr><td>NULL</td><td>Salzburg</td><td>1</td></tr>",
                            "<tr><td>Venezuela</td><td>San Cristóbal</td><td>1</td></tr>",
                            "<tr><td>NULL</td><td>San Cristóbal</td><td>1</td></tr>",
                            "<tr><td>USA</td><td>San Francisco</td><td>1</td></tr>",
                            "<tr><td>NULL</td><td>San Francisco</td><td>1</td></tr>",
                            "<tr><td>Brazil</td><td>Sao Paulo</td><td>4</td></tr>",
                            "<tr><td>NULL</td><td>Sao Paulo</td><td>4</td></tr>",
                            "<tr><td>USA</td><td>Seattle</td><td>1</td></tr>",
                            "<tr><td>NULL</td><td>Seattle</td><td>1</td></tr>",
                            "<tr><td>Spain</td><td>Sevilla</td><td>1</td></tr>",
                            "<tr><td>NULL</td><td>Sevilla</td><td>1</td></tr>",
                            "<tr><td>Norway</td><td>Stavern</td><td>1</td></tr>",
                            "<tr><td>NULL</td><td>Stavern</td><td>1</td></tr>",
                            "<tr><td>France</td><td>Strasbourg</td><td>1</td></tr>",
                            "<tr><td>NULL</td><td>Strasbourg</td><td>1</td></tr>",
                            "<tr><td>Germany</td><td>Stuttgart</td><td>1</td></tr>",
                            "<tr><td>NULL</td><td>Stuttgart</td><td>1</td></tr>",
                            "<tr><td>Italy</td><td>Torino</td><td>1</td></tr>",
                            "<tr><td>NULL</td><td>Torino</td><td>1</td></tr>",
                            "<tr><td>France</td><td>Toulouse</td><td>1</td></tr>",
                            "<tr><td>NULL</td><td>Toulouse</td><td>1</td></tr>",
                            "<tr><td>Canada</td><td>Tsawassen</td><td>1</td></tr>",
                            "<tr><td>NULL</td><td>Tsawassen</td><td>1</td></tr>",
                            "<tr><td>Canada</td><td>Vancouver</td><td>1</td></tr>",
                            "<tr><td>NULL</td><td>Vancouver</td><td>1</td></tr>",
                            "<tr><td>France</td><td>Versailles</td><td>1</td></tr>",
                            "<tr><td>NULL</td><td>Versailles</td><td>1</td></tr>",
                            "<tr><td>USA</td><td>Walla Walla</td><td>1</td></tr>",
                            "<tr><td>NULL</td><td>Walla Walla</td><td>1</td></tr>",
                            "<tr><td>Poland</td><td>Warszawa</td><td>1</td></tr>",
                            "<tr><td>NULL</td><td>Warszawa</td><td>1</td></tr>",
                            "<tr><td>NULL</td><td>NULL</td><td>91</td></tr>",
                            "<tr><td>Argentina</td><td>NULL</td><td>3</td></tr>",
                            "<tr><td>Austria</td><td>NULL</td><td>2</td></tr>",
                            "<tr><td>Belgium</td><td>NULL</td><td>2</td></tr>",
                            "<tr><td>Brazil</td><td>NULL</td><td>9</td></tr>",
                            "<tr><td>Canada</td><td>NULL</td><td>3</td></tr>",
                            "<tr><td>Denmark</td><td>NULL</td><td>2</td></tr>",
                            "<tr><td>Finland</td><td>NULL</td><td>2</td></tr>",
                            "<tr><td>France</td><td>NULL</td><td>11</td></tr>",
                            "<tr><td>Germany</td><td>NULL</td><td>11</td></tr>",
                            "<tr><td>Ireland</td><td>NULL</td><td>1</td></tr>",
                            "<tr><td>Italy</td><td>NULL</td><td>3</td></tr>",
                            "<tr><td>Mexico</td><td>NULL</td><td>5</td></tr>",
                            "<tr><td>Norway</td><td>NULL</td><td>1</td></tr>",
                            "<tr><td>Poland</td><td>NULL</td><td>1</td></tr>",
                            "<tr><td>Portugal</td><td>NULL</td><td>2</td></tr>",
                            "<tr><td>Spain</td><td>NULL</td><td>5</td></tr>",
                            "<tr><td>Sweden</td><td>NULL</td><td>2</td></tr>",
                            "<tr><td>Switzerland</td><td>NULL</td><td>2</td></tr>",
                            "<tr><td>UK</td><td>NULL</td><td>7</td></tr>",
                            "<tr><td>USA</td><td>NULL</td><td>13</td></tr>",
                            "<tr><td>Venezuela</td><td>NULL</td><td>4</td></tr>",
                            "</table>"
                        ]
                    }
                }
            ],
            "execution_count": 23
        },
        {
            "cell_type": "markdown",
            "source": [
                "3.2. Escribir una sentencia SELECT contra la vista Sales.OrderValues y traer las columnas:\n",
                "<li>Año de la columna orderdate como orderyear.\n",
                "<li>Mes de la columna orderdate como ordermonth.\n",
                "<li>Día de la columna orderdate como orderday.\n",
                "<li>Valor de Total de Ventas utilizando la columna val como salesvalue.\n",
                "<li>Devolver todas los posibles  grouping sets basados en las columnas orderyear, ordermonth, y orderday."
            ],
            "metadata": {
                "azdata_cell_guid": "717340d3-174a-4ed4-9348-d0f4e4563eb8"
            }
        },
        {
            "cell_type": "code",
            "source": [
                "SELECT \r\n",
                "    YEAR(orderdate) AS orderyear,\r\n",
                "    MONTH(orderdate) AS ordermonth,\r\n",
                "    DAY(orderdate) AS orderday,\r\n",
                "    SUM(val) AS salesvalue\r\n",
                "FROM \r\n",
                "    Sales.OrderValues\r\n",
                "GROUP BY \r\n",
                "    GROUPING SETS (\r\n",
                "        (YEAR(orderdate), MONTH(orderdate), DAY(orderdate)),  -- Total por año, mes y día\r\n",
                "        (YEAR(orderdate), MONTH(orderdate)),                   -- Total por año y mes\r\n",
                "        (YEAR(orderdate), DAY(orderdate)),                     -- Total por año y día\r\n",
                "        (MONTH(orderdate), DAY(orderdate)),                    -- Total por mes y día\r\n",
                "        (YEAR(orderdate)),                                     -- Total por año\r\n",
                "        (MONTH(orderdate)),                                    -- Total por mes\r\n",
                "        (DAY(orderdate)),                                      -- Total por día\r\n",
                "        ()                                                     -- Total general\r\n",
                "    );"
            ],
            "metadata": {
                "azdata_cell_guid": "d410f43f-54dd-43a1-bbd7-0e175e18b36c",
                "language": "sql"
            },
            "outputs": [
                {
                    "output_type": "display_data",
                    "data": {
                        "text/html": "(948 rows affected)"
                    },
                    "metadata": {}
                },
                {
                    "output_type": "display_data",
                    "data": {
                        "text/html": "Total execution time: 00:00:00.065"
                    },
                    "metadata": {}
                },
                {
                    "output_type": "execute_result",
                    "metadata": {},
                    "execution_count": 24,
                    "data": {
                        "application/vnd.dataresource+json": {
                            "schema": {
                                "fields": [
                                    {
                                        "name": "orderyear"
                                    },
                                    {
                                        "name": "ordermonth"
                                    },
                                    {
                                        "name": "orderday"
                                    },
                                    {
                                        "name": "salesvalue"
                                    }
                                ]
                            },
                            "data": [
                                {
                                    "orderyear": "2007",
                                    "ordermonth": "1",
                                    "orderday": "1",
                                    "salesvalue": "6931.60"
                                },
                                {
                                    "orderyear": "2008",
                                    "ordermonth": "1",
                                    "orderday": "1",
                                    "salesvalue": "1738.00"
                                },
                                {
                                    "orderyear": "NULL",
                                    "ordermonth": "1",
                                    "orderday": "1",
                                    "salesvalue": "8669.60"
                                },
                                {
                                    "orderyear": "2007",
                                    "ordermonth": "4",
                                    "orderday": "1",
                                    "salesvalue": "851.20"
                                },
                                {
                                    "orderyear": "2008",
                                    "ordermonth": "4",
                                    "orderday": "1",
                                    "salesvalue": "11549.89"
                                },
                                {
                                    "orderyear": "NULL",
                                    "ordermonth": "4",
                                    "orderday": "1",
                                    "salesvalue": "12401.09"
                                },
                                {
                                    "orderyear": "2007",
                                    "ordermonth": "5",
                                    "orderday": "1",
                                    "salesvalue": "5636.96"
                                },
                                {
                                    "orderyear": "2008",
                                    "ordermonth": "5",
                                    "orderday": "1",
                                    "salesvalue": "5448.57"
                                },
                                {
                                    "orderyear": "NULL",
                                    "ordermonth": "5",
                                    "orderday": "1",
                                    "salesvalue": "11085.53"
                                },
                                {
                                    "orderyear": "2007",
                                    "ordermonth": "7",
                                    "orderday": "1",
                                    "salesvalue": "142.50"
                                },
                                {
                                    "orderyear": "NULL",
                                    "ordermonth": "7",
                                    "orderday": "1",
                                    "salesvalue": "142.50"
                                },
                                {
                                    "orderyear": "2006",
                                    "ordermonth": "8",
                                    "orderday": "1",
                                    "salesvalue": "1424.00"
                                },
                                {
                                    "orderyear": "2007",
                                    "ordermonth": "8",
                                    "orderday": "1",
                                    "salesvalue": "2697.50"
                                },
                                {
                                    "orderyear": "NULL",
                                    "ordermonth": "8",
                                    "orderday": "1",
                                    "salesvalue": "4121.50"
                                },
                                {
                                    "orderyear": "2007",
                                    "ordermonth": "9",
                                    "orderday": "1",
                                    "salesvalue": "716.64"
                                },
                                {
                                    "orderyear": "NULL",
                                    "ordermonth": "9",
                                    "orderday": "1",
                                    "salesvalue": "716.64"
                                },
                                {
                                    "orderyear": "2006",
                                    "ordermonth": "10",
                                    "orderday": "1",
                                    "salesvalue": "240.40"
                                },
                                {
                                    "orderyear": "2007",
                                    "ordermonth": "10",
                                    "orderday": "1",
                                    "salesvalue": "3633.10"
                                },
                                {
                                    "orderyear": "NULL",
                                    "ordermonth": "10",
                                    "orderday": "1",
                                    "salesvalue": "3873.50"
                                },
                                {
                                    "orderyear": "2006",
                                    "ordermonth": "11",
                                    "orderday": "1",
                                    "salesvalue": "2296.00"
                                },
                                {
                                    "orderyear": "NULL",
                                    "ordermonth": "11",
                                    "orderday": "1",
                                    "salesvalue": "2296.00"
                                },
                                {
                                    "orderyear": "2007",
                                    "ordermonth": "12",
                                    "orderday": "1",
                                    "salesvalue": "2917.00"
                                },
                                {
                                    "orderyear": "NULL",
                                    "ordermonth": "12",
                                    "orderday": "1",
                                    "salesvalue": "2917.00"
                                },
                                {
                                    "orderyear": "NULL",
                                    "ordermonth": "NULL",
                                    "orderday": "1",
                                    "salesvalue": "46223.36"
                                },
                                {
                                    "orderyear": "2007",
                                    "ordermonth": "1",
                                    "orderday": "2",
                                    "salesvalue": "2713.50"
                                },
                                {
                                    "orderyear": "2008",
                                    "ordermonth": "1",
                                    "orderday": "2",
                                    "salesvalue": "2544.80"
                                },
                                {
                                    "orderyear": "NULL",
                                    "ordermonth": "1",
                                    "orderday": "2",
                                    "salesvalue": "5258.30"
                                },
                                {
                                    "orderyear": "2008",
                                    "ordermonth": "2",
                                    "orderday": "2",
                                    "salesvalue": "17110.65"
                                },
                                {
                                    "orderyear": "NULL",
                                    "ordermonth": "2",
                                    "orderday": "2",
                                    "salesvalue": "17110.65"
                                },
                                {
                                    "orderyear": "2008",
                                    "ordermonth": "3",
                                    "orderday": "2",
                                    "salesvalue": "2936.19"
                                },
                                {
                                    "orderyear": "NULL",
                                    "ordermonth": "3",
                                    "orderday": "2",
                                    "salesvalue": "2936.19"
                                },
                                {
                                    "orderyear": "2007",
                                    "ordermonth": "4",
                                    "orderday": "2",
                                    "salesvalue": "1520.40"
                                },
                                {
                                    "orderyear": "2008",
                                    "ordermonth": "4",
                                    "orderday": "2",
                                    "salesvalue": "2696.50"
                                },
                                {
                                    "orderyear": "NULL",
                                    "ordermonth": "4",
                                    "orderday": "2",
                                    "salesvalue": "4216.90"
                                },
                                {
                                    "orderyear": "2007",
                                    "ordermonth": "5",
                                    "orderday": "2",
                                    "salesvalue": "818.40"
                                },
                                {
                                    "orderyear": "NULL",
                                    "ordermonth": "5",
                                    "orderday": "2",
                                    "salesvalue": "818.40"
                                },
                                {
                                    "orderyear": "2007",
                                    "ordermonth": "6",
                                    "orderday": "2",
                                    "salesvalue": "2944.40"
                                },
                                {
                                    "orderyear": "NULL",
                                    "ordermonth": "6",
                                    "orderday": "2",
                                    "salesvalue": "2944.40"
                                },
                                {
                                    "orderyear": "2007",
                                    "ordermonth": "7",
                                    "orderday": "2",
                                    "salesvalue": "831.18"
                                },
                                {
                                    "orderyear": "NULL",
                                    "ordermonth": "7",
                                    "orderday": "2",
                                    "salesvalue": "831.18"
                                },
                                {
                                    "orderyear": "2006",
                                    "ordermonth": "8",
                                    "orderday": "2",
                                    "salesvalue": "1456.00"
                                },
                                {
                                    "orderyear": "NULL",
                                    "ordermonth": "8",
                                    "orderday": "2",
                                    "salesvalue": "1456.00"
                                },
                                {
                                    "orderyear": "2006",
                                    "ordermonth": "9",
                                    "orderday": "2",
                                    "salesvalue": "121.60"
                                },
                                {
                                    "orderyear": "2007",
                                    "ordermonth": "9",
                                    "orderday": "2",
                                    "salesvalue": "1684.98"
                                },
                                {
                                    "orderyear": "NULL",
                                    "ordermonth": "9",
                                    "orderday": "2",
                                    "salesvalue": "1806.58"
                                },
                                {
                                    "orderyear": "2006",
                                    "ordermonth": "10",
                                    "orderday": "2",
                                    "salesvalue": "1191.20"
                                },
                                {
                                    "orderyear": "2007",
                                    "ordermonth": "10",
                                    "orderday": "2",
                                    "salesvalue": "862.50"
                                },
                                {
                                    "orderyear": "NULL",
                                    "ordermonth": "10",
                                    "orderday": "2",
                                    "salesvalue": "2053.70"
                                },
                                {
                                    "orderyear": "2006",
                                    "ordermonth": "12",
                                    "orderday": "2",
                                    "salesvalue": "2390.40"
                                },
                                {
                                    "orderyear": "2007",
                                    "ordermonth": "12",
                                    "orderday": "2",
                                    "salesvalue": "4844.00"
                                },
                                {
                                    "orderyear": "NULL",
                                    "ordermonth": "12",
                                    "orderday": "2",
                                    "salesvalue": "7234.40"
                                },
                                {
                                    "orderyear": "NULL",
                                    "ordermonth": "NULL",
                                    "orderday": "2",
                                    "salesvalue": "46666.70"
                                },
                                {
                                    "orderyear": "2007",
                                    "ordermonth": "1",
                                    "orderday": "3",
                                    "salesvalue": "2446.27"
                                },
                                {
                                    "orderyear": "NULL",
                                    "ordermonth": "1",
                                    "orderday": "3",
                                    "salesvalue": "2446.27"
                                },
                                {
                                    "orderyear": "2007",
                                    "ordermonth": "2",
                                    "orderday": "3",
                                    "salesvalue": "1172.32"
                                },
                                {
                                    "orderyear": "2008",
                                    "ordermonth": "2",
                                    "orderday": "3",
                                    "salesvalue": "1194.60"
                                },
                                {
                                    "orderyear": "NULL",
                                    "ordermonth": "2",
                                    "orderday": "3",
                                    "salesvalue": "2366.92"
                                },
                                {
                                    "orderyear": "2007",
                                    "ordermonth": "3",
                                    "orderday": "3",
                                    "salesvalue": "156.00"
                                },
                                {
                                    "orderyear": "2008",
                                    "ordermonth": "3",
                                    "orderday": "3",
                                    "salesvalue": "3817.30"
                                },
                                {
                                    "orderyear": "NULL",
                                    "ordermonth": "3",
                                    "orderday": "3",
                                    "salesvalue": "3973.30"
                                },
                                {
                                    "orderyear": "2007",
                                    "ordermonth": "4",
                                    "orderday": "3",
                                    "salesvalue": "278.00"
                                },
                                {
                                    "orderyear": "2008",
                                    "ordermonth": "4",
                                    "orderday": "3",
                                    "salesvalue": "3768.95"
                                },
                                {
                                    "orderyear": "NULL",
                                    "ordermonth": "4",
                                    "orderday": "3",
                                    "salesvalue": "4046.95"
                                },
                                {
                                    "orderyear": "2007",
                                    "ordermonth": "6",
                                    "orderday": "3",
                                    "salesvalue": "1987.70"
                                },
                                {
                                    "orderyear": "NULL",
                                    "ordermonth": "6",
                                    "orderday": "3",
                                    "salesvalue": "1987.70"
                                },
                                {
                                    "orderyear": "2007",
                                    "ordermonth": "7",
                                    "orderday": "3",
                                    "salesvalue": "3120.00"
                                },
                                {
                                    "orderyear": "NULL",
                                    "ordermonth": "7",
                                    "orderday": "3",
                                    "salesvalue": "3120.00"
                                },
                                {
                                    "orderyear": "2006",
                                    "ordermonth": "9",
                                    "orderday": "3",
                                    "salesvalue": "1050.60"
                                },
                                {
                                    "orderyear": "2007",
                                    "ordermonth": "9",
                                    "orderday": "3",
                                    "salesvalue": "154.40"
                                },
                                {
                                    "orderyear": "NULL",
                                    "ordermonth": "9",
                                    "orderday": "3",
                                    "salesvalue": "1205.00"
                                },
                                {
                                    "orderyear": "2006",
                                    "ordermonth": "10",
                                    "orderday": "3",
                                    "salesvalue": "660.00"
                                },
                                {
                                    "orderyear": "2007",
                                    "ordermonth": "10",
                                    "orderday": "3",
                                    "salesvalue": "11042.80"
                                },
                                {
                                    "orderyear": "NULL",
                                    "ordermonth": "10",
                                    "orderday": "3",
                                    "salesvalue": "11702.80"
                                },
                                {
                                    "orderyear": "2007",
                                    "ordermonth": "11",
                                    "orderday": "3",
                                    "salesvalue": "2279.50"
                                },
                                {
                                    "orderyear": "NULL",
                                    "ordermonth": "11",
                                    "orderday": "3",
                                    "salesvalue": "2279.50"
                                },
                                {
                                    "orderyear": "2006",
                                    "ordermonth": "12",
                                    "orderday": "3",
                                    "salesvalue": "1190.56"
                                },
                                {
                                    "orderyear": "2007",
                                    "ordermonth": "12",
                                    "orderday": "3",
                                    "salesvalue": "2902.00"
                                },
                                {
                                    "orderyear": "NULL",
                                    "ordermonth": "12",
                                    "orderday": "3",
                                    "salesvalue": "4092.56"
                                },
                                {
                                    "orderyear": "NULL",
                                    "ordermonth": "NULL",
                                    "orderday": "3",
                                    "salesvalue": "37221.00"
                                },
                                {
                                    "orderyear": "2007",
                                    "ordermonth": "2",
                                    "orderday": "4",
                                    "salesvalue": "631.60"
                                },
                                {
                                    "orderyear": "2008",
                                    "ordermonth": "2",
                                    "orderday": "4",
                                    "salesvalue": "3710.60"
                                },
                                {
                                    "orderyear": "NULL",
                                    "ordermonth": "2",
                                    "orderday": "4",
                                    "salesvalue": "4342.20"
                                },
                                {
                                    "orderyear": "2007",
                                    "ordermonth": "3",
                                    "orderday": "4",
                                    "salesvalue": "2322.58"
                                },
                                {
                                    "orderyear": "2008",
                                    "ordermonth": "3",
                                    "orderday": "4",
                                    "salesvalue": "2825.25"
                                },
                                {
                                    "orderyear": "NULL",
                                    "ordermonth": "3",
                                    "orderday": "4",
                                    "salesvalue": "5147.83"
                                },
                                {
                                    "orderyear": "2007",
                                    "ordermonth": "4",
                                    "orderday": "4",
                                    "salesvalue": "1570.60"
                                },
                                {
                                    "orderyear": "NULL",
                                    "ordermonth": "4",
                                    "orderday": "4",
                                    "salesvalue": "1570.60"
                                },
                                {
                                    "orderyear": "2008",
                                    "ordermonth": "5",
                                    "orderday": "4",
                                    "salesvalue": "2473.93"
                                },
                                {
                                    "orderyear": "NULL",
                                    "ordermonth": "5",
                                    "orderday": "4",
                                    "salesvalue": "2473.93"
                                },
                                {
                                    "orderyear": "2007",
                                    "ordermonth": "6",
                                    "orderday": "4",
                                    "salesvalue": "2142.90"
                                },
                                {
                                    "orderyear": "NULL",
                                    "ordermonth": "6",
                                    "orderday": "4",
                                    "salesvalue": "2142.90"
                                },
                                {
                                    "orderyear": "2006",
                                    "ordermonth": "7",
                                    "orderday": "4",
                                    "salesvalue": "440.00"
                                },
                                {
                                    "orderyear": "2007",
                                    "ordermonth": "7",
                                    "orderday": "4",
                                    "salesvalue": "72.00"
                                },
                                {
                                    "orderyear": "NULL",
                                    "ordermonth": "7",
                                    "orderday": "4",
                                    "salesvalue": "512.00"
                                },
                                {
                                    "orderyear": "2007",
                                    "ordermonth": "8",
                                    "orderday": "4",
                                    "salesvalue": "1260.00"
                                },
                                {
                                    "orderyear": "NULL",
                                    "ordermonth": "8",
                                    "orderday": "4",
                                    "salesvalue": "1260.00"
                                },
                                {
                                    "orderyear": "2006",
                                    "ordermonth": "9",
                                    "orderday": "4",
                                    "salesvalue": "1420.00"
                                },
                                {
                                    "orderyear": "2007",
                                    "ordermonth": "9",
                                    "orderday": "4",
                                    "salesvalue": "4975.82"
                                },
                                {
                                    "orderyear": "NULL",
                                    "ordermonth": "9",
                                    "orderday": "4",
                                    "salesvalue": "6395.82"
                                },
                                {
                                    "orderyear": "2006",
                                    "ordermonth": "10",
                                    "orderday": "4",
                                    "salesvalue": "112.00"
                                },
                                {
                                    "orderyear": "NULL",
                                    "ordermonth": "10",
                                    "orderday": "4",
                                    "salesvalue": "112.00"
                                },
                                {
                                    "orderyear": "2006",
                                    "ordermonth": "11",
                                    "orderday": "4",
                                    "salesvalue": "2924.80"
                                },
                                {
                                    "orderyear": "2007",
                                    "ordermonth": "11",
                                    "orderday": "4",
                                    "salesvalue": "3146.75"
                                },
                                {
                                    "orderyear": "NULL",
                                    "ordermonth": "11",
                                    "orderday": "4",
                                    "salesvalue": "6071.55"
                                },
                                {
                                    "orderyear": "2006",
                                    "ordermonth": "12",
                                    "orderday": "4",
                                    "salesvalue": "9210.90"
                                },
                                {
                                    "orderyear": "2007",
                                    "ordermonth": "12",
                                    "orderday": "4",
                                    "salesvalue": "1515.60"
                                },
                                {
                                    "orderyear": "NULL",
                                    "ordermonth": "12",
                                    "orderday": "4",
                                    "salesvalue": "10726.50"
                                },
                                {
                                    "orderyear": "NULL",
                                    "ordermonth": "NULL",
                                    "orderday": "4",
                                    "salesvalue": "40755.33"
                                },
                                {
                                    "orderyear": "2008",
                                    "ordermonth": "1",
                                    "orderday": "5",
                                    "salesvalue": "2430.85"
                                },
                                {
                                    "orderyear": "NULL",
                                    "ordermonth": "1",
                                    "orderday": "5",
                                    "salesvalue": "2430.85"
                                },
                                {
                                    "orderyear": "2007",
                                    "ordermonth": "2",
                                    "orderday": "5",
                                    "salesvalue": "2387.52"
                                },
                                {
                                    "orderyear": "2008",
                                    "ordermonth": "2",
                                    "orderday": "5",
                                    "salesvalue": "4037.69"
                                },
                                {
                                    "orderyear": "NULL",
                                    "ordermonth": "2",
                                    "orderday": "5",
                                    "salesvalue": "6425.21"
                                },
                                {
                                    "orderyear": "2007",
                                    "ordermonth": "3",
                                    "orderday": "5",
                                    "salesvalue": "2518.00"
                                },
                                {
                                    "orderyear": "2008",
                                    "ordermonth": "3",
                                    "orderday": "5",
                                    "salesvalue": "2112.25"
                                },
                                {
                                    "orderyear": "NULL",
                                    "ordermonth": "3",
                                    "orderday": "5",
                                    "salesvalue": "4630.25"
                                },
                                {
                                    "orderyear": "2007",
                                    "ordermonth": "5",
                                    "orderday": "5",
                                    "salesvalue": "2654.40"
                                },
                                {
                                    "orderyear": "2008",
                                    "ordermonth": "5",
                                    "orderday": "5",
                                    "salesvalue": "7632.48"
                                },
                                {
                                    "orderyear": "NULL",
                                    "ordermonth": "5",
                                    "orderday": "5",
                                    "salesvalue": "10286.88"
                                },
                                {
                                    "orderyear": "2007",
                                    "ordermonth": "6",
                                    "orderday": "5",
                                    "salesvalue": "520.41"
                                },
                                {
                                    "orderyear": "NULL",
                                    "ordermonth": "6",
                                    "orderday": "5",
                                    "salesvalue": "520.41"
                                },
                                {
                                    "orderyear": "2006",
                                    "ordermonth": "7",
                                    "orderday": "5",
                                    "salesvalue": "1863.40"
                                },
                                {
                                    "orderyear": "NULL",
                                    "ordermonth": "7",
                                    "orderday": "5",
                                    "salesvalue": "1863.40"
                                },
                                {
                                    "orderyear": "2006",
                                    "ordermonth": "8",
                                    "orderday": "5",
                                    "salesvalue": "2037.28"
                                },
                                {
                                    "orderyear": "2007",
                                    "ordermonth": "8",
                                    "orderday": "5",
                                    "salesvalue": "816.00"
                                },
                                {
                                    "orderyear": "NULL",
                                    "ordermonth": "8",
                                    "orderday": "5",
                                    "salesvalue": "2853.28"
                                },
                                {
                                    "orderyear": "2006",
                                    "ordermonth": "9",
                                    "orderday": "5",
                                    "salesvalue": "2645.00"
                                },
                                {
                                    "orderyear": "2007",
                                    "ordermonth": "9",
                                    "orderday": "5",
                                    "salesvalue": "5691.62"
                                },
                                {
                                    "orderyear": "NULL",
                                    "ordermonth": "9",
                                    "orderday": "5",
                                    "salesvalue": "8336.62"
                                },
                                {
                                    "orderyear": "2006",
                                    "ordermonth": "11",
                                    "orderday": "5",
                                    "salesvalue": "1618.88"
                                },
                                {
                                    "orderyear": "2007",
                                    "ordermonth": "11",
                                    "orderday": "5",
                                    "salesvalue": "484.26"
                                },
                                {
                                    "orderyear": "NULL",
                                    "ordermonth": "11",
                                    "orderday": "5",
                                    "salesvalue": "2103.14"
                                },
                                {
                                    "orderyear": "2006",
                                    "ordermonth": "12",
                                    "orderday": "5",
                                    "salesvalue": "1825.40"
                                },
                                {
                                    "orderyear": "2007",
                                    "ordermonth": "12",
                                    "orderday": "5",
                                    "salesvalue": "2338.00"
                                },
                                {
                                    "orderyear": "NULL",
                                    "ordermonth": "12",
                                    "orderday": "5",
                                    "salesvalue": "4163.40"
                                },
                                {
                                    "orderyear": "NULL",
                                    "ordermonth": "NULL",
                                    "orderday": "5",
                                    "salesvalue": "43613.44"
                                },
                                {
                                    "orderyear": "2007",
                                    "ordermonth": "1",
                                    "orderday": "6",
                                    "salesvalue": "400.00"
                                },
                                {
                                    "orderyear": "2008",
                                    "ordermonth": "1",
                                    "orderday": "6",
                                    "salesvalue": "19399.30"
                                },
                                {
                                    "orderyear": "NULL",
                                    "ordermonth": "1",
                                    "orderday": "6",
                                    "salesvalue": "19799.30"
                                },
                                {
                                    "orderyear": "2007",
                                    "ordermonth": "2",
                                    "orderday": "6",
                                    "salesvalue": "454.00"
                                },
                                {
                                    "orderyear": "2008",
                                    "ordermonth": "2",
                                    "orderday": "6",
                                    "salesvalue": "1356.35"
                                },
                                {
                                    "orderyear": "NULL",
                                    "ordermonth": "2",
                                    "orderday": "6",
                                    "salesvalue": "1810.35"
                                },
                                {
                                    "orderyear": "2007",
                                    "ordermonth": "3",
                                    "orderday": "6",
                                    "salesvalue": "451.20"
                                },
                                {
                                    "orderyear": "2008",
                                    "ordermonth": "3",
                                    "orderday": "6",
                                    "salesvalue": "5763.93"
                                },
                                {
                                    "orderyear": "NULL",
                                    "ordermonth": "3",
                                    "orderday": "6",
                                    "salesvalue": "6215.13"
                                },
                                {
                                    "orderyear": "2008",
                                    "ordermonth": "4",
                                    "orderday": "6",
                                    "salesvalue": "5809.85"
                                },
                                {
                                    "orderyear": "NULL",
                                    "ordermonth": "4",
                                    "orderday": "6",
                                    "salesvalue": "5809.85"
                                },
                                {
                                    "orderyear": "2007",
                                    "ordermonth": "5",
                                    "orderday": "6",
                                    "salesvalue": "392.20"
                                },
                                {
                                    "orderyear": "2008",
                                    "ordermonth": "5",
                                    "orderday": "6",
                                    "salesvalue": "2778.66"
                                },
                                {
                                    "orderyear": "NULL",
                                    "ordermonth": "5",
                                    "orderday": "6",
                                    "salesvalue": "3170.86"
                                },
                                {
                                    "orderyear": "2007",
                                    "ordermonth": "6",
                                    "orderday": "6",
                                    "salesvalue": "3916.93"
                                },
                                {
                                    "orderyear": "NULL",
                                    "ordermonth": "6",
                                    "orderday": "6",
                                    "salesvalue": "3916.93"
                                },
                                {
                                    "orderyear": "2006",
                                    "ordermonth": "8",
                                    "orderday": "6",
                                    "salesvalue": "538.60"
                                },
                                {
                                    "orderyear": "2007",
                                    "ordermonth": "8",
                                    "orderday": "6",
                                    "salesvalue": "560.00"
                                },
                                {
                                    "orderyear": "NULL",
                                    "ordermonth": "8",
                                    "orderday": "6",
                                    "salesvalue": "1098.60"
                                },
                                {
                                    "orderyear": "2006",
                                    "ordermonth": "9",
                                    "orderday": "6",
                                    "salesvalue": "349.50"
                                },
                                {
                                    "orderyear": "NULL",
                                    "ordermonth": "9",
                                    "orderday": "6",
                                    "salesvalue": "349.50"
                                },
                                {
                                    "orderyear": "2007",
                                    "ordermonth": "10",
                                    "orderday": "6",
                                    "salesvalue": "6896.20"
                                },
                                {
                                    "orderyear": "NULL",
                                    "ordermonth": "10",
                                    "orderday": "6",
                                    "salesvalue": "6896.20"
                                },
                                {
                                    "orderyear": "2006",
                                    "ordermonth": "11",
                                    "orderday": "6",
                                    "salesvalue": "814.42"
                                },
                                {
                                    "orderyear": "2007",
                                    "ordermonth": "11",
                                    "orderday": "6",
                                    "salesvalue": "2250.50"
                                },
                                {
                                    "orderyear": "NULL",
                                    "ordermonth": "11",
                                    "orderday": "6",
                                    "salesvalue": "3064.92"
                                },
                                {
                                    "orderyear": "2006",
                                    "ordermonth": "12",
                                    "orderday": "6",
                                    "salesvalue": "338.00"
                                },
                                {
                                    "orderyear": "NULL",
                                    "ordermonth": "12",
                                    "orderday": "6",
                                    "salesvalue": "338.00"
                                },
                                {
                                    "orderyear": "NULL",
                                    "ordermonth": "NULL",
                                    "orderday": "6",
                                    "salesvalue": "52469.64"
                                },
                                {
                                    "orderyear": "2007",
                                    "ordermonth": "1",
                                    "orderday": "7",
                                    "salesvalue": "3024.78"
                                },
                                {
                                    "orderyear": "2008",
                                    "ordermonth": "1",
                                    "orderday": "7",
                                    "salesvalue": "2450.00"
                                },
                                {
                                    "orderyear": "NULL",
                                    "ordermonth": "1",
                                    "orderday": "7",
                                    "salesvalue": "5474.78"
                                },
                                {
                                    "orderyear": "2007",
                                    "ordermonth": "2",
                                    "orderday": "7",
                                    "salesvalue": "1078.00"
                                },
                                {
                                    "orderyear": "NULL",
                                    "ordermonth": "2",
                                    "orderday": "7",
                                    "salesvalue": "1078.00"
                                },
                                {
                                    "orderyear": "2007",
                                    "ordermonth": "3",
                                    "orderday": "7",
                                    "salesvalue": "717.60"
                                },
                                {
                                    "orderyear": "NULL",
                                    "ordermonth": "3",
                                    "orderday": "7",
                                    "salesvalue": "717.60"
                                },
                                {
                                    "orderyear": "2007",
                                    "ordermonth": "4",
                                    "orderday": "7",
                                    "salesvalue": "575.00"
                                },
                                {
                                    "orderyear": "2008",
                                    "ordermonth": "4",
                                    "orderday": "7",
                                    "salesvalue": "1211.07"
                                },
                                {
                                    "orderyear": "NULL",
                                    "ordermonth": "4",
                                    "orderday": "7",
                                    "salesvalue": "1786.07"
                                },
                                {
                                    "orderyear": "2007",
                                    "ordermonth": "5",
                                    "orderday": "7",
                                    "salesvalue": "946.00"
                                },
                                {
                                    "orderyear": "NULL",
                                    "ordermonth": "5",
                                    "orderday": "7",
                                    "salesvalue": "946.00"
                                },
                                {
                                    "orderyear": "2007",
                                    "ordermonth": "7",
                                    "orderday": "7",
                                    "salesvalue": "1913.50"
                                },
                                {
                                    "orderyear": "NULL",
                                    "ordermonth": "7",
                                    "orderday": "7",
                                    "salesvalue": "1913.50"
                                },
                                {
                                    "orderyear": "2006",
                                    "ordermonth": "8",
                                    "orderday": "7",
                                    "salesvalue": "291.84"
                                },
                                {
                                    "orderyear": "2007",
                                    "ordermonth": "8",
                                    "orderday": "7",
                                    "salesvalue": "2730.19"
                                },
                                {
                                    "orderyear": "NULL",
                                    "ordermonth": "8",
                                    "orderday": "7",
                                    "salesvalue": "3022.03"
                                },
                                {
                                    "orderyear": "2006",
                                    "ordermonth": "10",
                                    "orderday": "7",
                                    "salesvalue": "164.40"
                                },
                                {
                                    "orderyear": "2007",
                                    "ordermonth": "10",
                                    "orderday": "7",
                                    "salesvalue": "642.00"
                                },
                                {
                                    "orderyear": "NULL",
                                    "ordermonth": "10",
                                    "orderday": "7",
                                    "salesvalue": "806.40"
                                },
                                {
                                    "orderyear": "2006",
                                    "ordermonth": "11",
                                    "orderday": "7",
                                    "salesvalue": "363.60"
                                },
                                {
                                    "orderyear": "2007",
                                    "ordermonth": "11",
                                    "orderday": "7",
                                    "salesvalue": "2957.35"
                                },
                                {
                                    "orderyear": "NULL",
                                    "ordermonth": "11",
                                    "orderday": "7",
                                    "salesvalue": "3320.95"
                                },
                                {
                                    "orderyear": "NULL",
                                    "ordermonth": "NULL",
                                    "orderday": "7",
                                    "salesvalue": "19065.33"
                                },
                                {
                                    "orderyear": "2007",
                                    "ordermonth": "1",
                                    "orderday": "8",
                                    "salesvalue": "1622.40"
                                },
                                {
                                    "orderyear": "2008",
                                    "ordermonth": "1",
                                    "orderday": "8",
                                    "salesvalue": "915.90"
                                },
                                {
                                    "orderyear": "NULL",
                                    "ordermonth": "1",
                                    "orderday": "8",
                                    "salesvalue": "2538.30"
                                },
                                {
                                    "orderyear": "2007",
                                    "ordermonth": "4",
                                    "orderday": "8",
                                    "salesvalue": "1412.00"
                                },
                                {
                                    "orderyear": "2008",
                                    "ordermonth": "4",
                                    "orderday": "8",
                                    "salesvalue": "7931.30"
                                },
                                {
                                    "orderyear": "NULL",
                                    "ordermonth": "4",
                                    "orderday": "8",
                                    "salesvalue": "9343.30"
                                },
                                {
                                    "orderyear": "2007",
                                    "ordermonth": "5",
                                    "orderday": "8",
                                    "salesvalue": "4290.00"
                                },
                                {
                                    "orderyear": "NULL",
                                    "ordermonth": "5",
                                    "orderday": "8",
                                    "salesvalue": "4290.00"
                                },
                                {
                                    "orderyear": "2006",
                                    "ordermonth": "7",
                                    "orderday": "8",
                                    "salesvalue": "2206.66"
                                },
                                {
                                    "orderyear": "2007",
                                    "ordermonth": "7",
                                    "orderday": "8",
                                    "salesvalue": "516.47"
                                },
                                {
                                    "orderyear": "NULL",
                                    "ordermonth": "7",
                                    "orderday": "8",
                                    "salesvalue": "2723.13"
                                },
                                {
                                    "orderyear": "2006",
                                    "ordermonth": "8",
                                    "orderday": "8",
                                    "salesvalue": "420.00"
                                },
                                {
                                    "orderyear": "2007",
                                    "ordermonth": "8",
                                    "orderday": "8",
                                    "salesvalue": "479.75"
                                },
                                {
                                    "orderyear": "NULL",
                                    "ordermonth": "8",
                                    "orderday": "8",
                                    "salesvalue": "899.75"
                                },
                                {
                                    "orderyear": "2007",
                                    "ordermonth": "9",
                                    "orderday": "8",
                                    "salesvalue": "1701.00"
                                },
                                {
                                    "orderyear": "NULL",
                                    "ordermonth": "9",
                                    "orderday": "8",
                                    "salesvalue": "1701.00"
                                },
                                {
                                    "orderyear": "2006",
                                    "ordermonth": "10",
                                    "orderday": "8",
                                    "salesvalue": "5275.72"
                                },
                                {
                                    "orderyear": "2007",
                                    "ordermonth": "10",
                                    "orderday": "8",
                                    "salesvalue": "1801.43"
                                },
                                {
                                    "orderyear": "NULL",
                                    "ordermonth": "10",
                                    "orderday": "8",
                                    "salesvalue": "7077.15"
                                },
                                {
                                    "orderyear": "2006",
                                    "ordermonth": "11",
                                    "orderday": "8",
                                    "salesvalue": "141.60"
                                },
                                {
                                    "orderyear": "NULL",
                                    "ordermonth": "11",
                                    "orderday": "8",
                                    "salesvalue": "141.60"
                                },
                                {
                                    "orderyear": "2007",
                                    "ordermonth": "12",
                                    "orderday": "8",
                                    "salesvalue": "3161.28"
                                },
                                {
                                    "orderyear": "NULL",
                                    "ordermonth": "12",
                                    "orderday": "8",
                                    "salesvalue": "3161.28"
                                },
                                {
                                    "orderyear": "NULL",
                                    "ordermonth": "NULL",
                                    "orderday": "8",
                                    "salesvalue": "31875.51"
                                },
                                {
                                    "orderyear": "2007",
                                    "ordermonth": "1",
                                    "orderday": "9",
                                    "salesvalue": "319.20"
                                },
                                {
                                    "orderyear": "2008",
                                    "ordermonth": "1",
                                    "orderday": "9",
                                    "salesvalue": "4107.56"
                                },
                                {
                                    "orderyear": "NULL",
                                    "ordermonth": "1",
                                    "orderday": "9",
                                    "salesvalue": "4426.76"
                                },
                                {
                                    "orderyear": "2008",
                                    "ordermonth": "2",
                                    "orderday": "9",
                                    "salesvalue": "2872.13"
                                },
                                {
                                    "orderyear": "NULL",
                                    "ordermonth": "2",
                                    "orderday": "9",
                                    "salesvalue": "2872.13"
                                },
                                {
                                    "orderyear": "2008",
                                    "ordermonth": "3",
                                    "orderday": "9",
                                    "salesvalue": "1575.50"
                                },
                                {
                                    "orderyear": "NULL",
                                    "ordermonth": "3",
                                    "orderday": "9",
                                    "salesvalue": "1575.50"
                                },
                                {
                                    "orderyear": "2007",
                                    "ordermonth": "4",
                                    "orderday": "9",
                                    "salesvalue": "672.26"
                                },
                                {
                                    "orderyear": "2008",
                                    "ordermonth": "4",
                                    "orderday": "9",
                                    "salesvalue": "4764.80"
                                },
                                {
                                    "orderyear": "NULL",
                                    "ordermonth": "4",
                                    "orderday": "9",
                                    "salesvalue": "5437.06"
                                },
                                {
                                    "orderyear": "2007",
                                    "ordermonth": "5",
                                    "orderday": "9",
                                    "salesvalue": "796.35"
                                },
                                {
                                    "orderyear": "NULL",
                                    "ordermonth": "5",
                                    "orderday": "9",
                                    "salesvalue": "796.35"
                                },
                                {
                                    "orderyear": "2007",
                                    "ordermonth": "6",
                                    "orderday": "9",
                                    "salesvalue": "488.70"
                                },
                                {
                                    "orderyear": "NULL",
                                    "ordermonth": "6",
                                    "orderday": "9",
                                    "salesvalue": "488.70"
                                },
                                {
                                    "orderyear": "2006",
                                    "ordermonth": "7",
                                    "orderday": "9",
                                    "salesvalue": "3597.90"
                                },
                                {
                                    "orderyear": "2007",
                                    "ordermonth": "7",
                                    "orderday": "9",
                                    "salesvalue": "2559.90"
                                },
                                {
                                    "orderyear": "NULL",
                                    "ordermonth": "7",
                                    "orderday": "9",
                                    "salesvalue": "6157.80"
                                },
                                {
                                    "orderyear": "2006",
                                    "ordermonth": "8",
                                    "orderday": "9",
                                    "salesvalue": "1200.80"
                                },
                                {
                                    "orderyear": "NULL",
                                    "ordermonth": "8",
                                    "orderday": "9",
                                    "salesvalue": "1200.80"
                                },
                                {
                                    "orderyear": "2006",
                                    "ordermonth": "9",
                                    "orderday": "9",
                                    "salesvalue": "1363.00"
                                },
                                {
                                    "orderyear": "2007",
                                    "ordermonth": "9",
                                    "orderday": "9",
                                    "salesvalue": "687.60"
                                },
                                {
                                    "orderyear": "NULL",
                                    "ordermonth": "9",
                                    "orderday": "9",
                                    "salesvalue": "2050.60"
                                },
                                {
                                    "orderyear": "2006",
                                    "ordermonth": "10",
                                    "orderday": "9",
                                    "salesvalue": "1497.00"
                                },
                                {
                                    "orderyear": "2007",
                                    "ordermonth": "10",
                                    "orderday": "9",
                                    "salesvalue": "3550.44"
                                },
                                {
                                    "orderyear": "NULL",
                                    "ordermonth": "10",
                                    "orderday": "9",
                                    "salesvalue": "5047.44"
                                },
                                {
                                    "orderyear": "2006",
                                    "ordermonth": "12",
                                    "orderday": "9",
                                    "salesvalue": "1262.60"
                                },
                                {
                                    "orderyear": "2007",
                                    "ordermonth": "12",
                                    "orderday": "9",
                                    "salesvalue": "236.25"
                                },
                                {
                                    "orderyear": "NULL",
                                    "ordermonth": "12",
                                    "orderday": "9",
                                    "salesvalue": "1498.85"
                                },
                                {
                                    "orderyear": "NULL",
                                    "ordermonth": "NULL",
                                    "orderday": "9",
                                    "salesvalue": "31551.99"
                                },
                                {
                                    "orderyear": "2007",
                                    "ordermonth": "1",
                                    "orderday": "10",
                                    "salesvalue": "1768.80"
                                },
                                {
                                    "orderyear": "NULL",
                                    "ordermonth": "1",
                                    "orderday": "10",
                                    "salesvalue": "1768.80"
                                },
                                {
                                    "orderyear": "2007",
                                    "ordermonth": "2",
                                    "orderday": "10",
                                    "salesvalue": "6679.14"
                                },
                                {
                                    "orderyear": "2008",
                                    "ordermonth": "2",
                                    "orderday": "10",
                                    "salesvalue": "3650.30"
                                },
                                {
                                    "orderyear": "NULL",
                                    "ordermonth": "2",
                                    "orderday": "10",
                                    "salesvalue": "10329.44"
                                },
                                {
                                    "orderyear": "2007",
                                    "ordermonth": "3",
                                    "orderday": "10",
                                    "salesvalue": "956.68"
                                },
                                {
                                    "orderyear": "2008",
                                    "ordermonth": "3",
                                    "orderday": "10",
                                    "salesvalue": "4014.18"
                                },
                                {
                                    "orderyear": "NULL",
                                    "ordermonth": "3",
                                    "orderday": "10",
                                    "salesvalue": "4970.86"
                                },
                                {
                                    "orderyear": "2007",
                                    "ordermonth": "4",
                                    "orderday": "10",
                                    "salesvalue": "816.30"
                                },
                                {
                                    "orderyear": "2008",
                                    "ordermonth": "4",
                                    "orderday": "10",
                                    "salesvalue": "1357.03"
                                },
                                {
                                    "orderyear": "NULL",
                                    "ordermonth": "4",
                                    "orderday": "10",
                                    "salesvalue": "2173.33"
                                },
                                {
                                    "orderyear": "2007",
                                    "ordermonth": "6",
                                    "orderday": "10",
                                    "salesvalue": "2199.05"
                                },
                                {
                                    "orderyear": "NULL",
                                    "ordermonth": "6",
                                    "orderday": "10",
                                    "salesvalue": "2199.05"
                                },
                                {
                                    "orderyear": "2006",
                                    "ordermonth": "7",
                                    "orderday": "10",
                                    "salesvalue": "1444.80"
                                },
                                {
                                    "orderyear": "2007",
                                    "ordermonth": "7",
                                    "orderday": "10",
                                    "salesvalue": "4725.00"
                                },
                                {
                                    "orderyear": "NULL",
                                    "ordermonth": "7",
                                    "orderday": "10",
                                    "salesvalue": "6169.80"
                                },
                                {
                                    "orderyear": "2006",
                                    "ordermonth": "9",
                                    "orderday": "10",
                                    "salesvalue": "2708.80"
                                },
                                {
                                    "orderyear": "2007",
                                    "ordermonth": "9",
                                    "orderday": "10",
                                    "salesvalue": "3218.79"
                                },
                                {
                                    "orderyear": "NULL",
                                    "ordermonth": "9",
                                    "orderday": "10",
                                    "salesvalue": "5927.59"
                                },
                                {
                                    "orderyear": "2006",
                                    "ordermonth": "10",
                                    "orderday": "10",
                                    "salesvalue": "982.00"
                                },
                                {
                                    "orderyear": "2007",
                                    "ordermonth": "10",
                                    "orderday": "10",
                                    "salesvalue": "1638.40"
                                },
                                {
                                    "orderyear": "NULL",
                                    "ordermonth": "10",
                                    "orderday": "10",
                                    "salesvalue": "2620.40"
                                },
                                {
                                    "orderyear": "2007",
                                    "ordermonth": "11",
                                    "orderday": "10",
                                    "salesvalue": "536.40"
                                },
                                {
                                    "orderyear": "NULL",
                                    "ordermonth": "11",
                                    "orderday": "10",
                                    "salesvalue": "536.40"
                                },
                                {
                                    "orderyear": "2006",
                                    "ordermonth": "12",
                                    "orderday": "10",
                                    "salesvalue": "103.20"
                                },
                                {
                                    "orderyear": "2007",
                                    "ordermonth": "12",
                                    "orderday": "10",
                                    "salesvalue": "3947.22"
                                },
                                {
                                    "orderyear": "NULL",
                                    "ordermonth": "12",
                                    "orderday": "10",
                                    "salesvalue": "4050.42"
                                },
                                {
                                    "orderyear": "NULL",
                                    "ordermonth": "NULL",
                                    "orderday": "10",
                                    "salesvalue": "40746.09"
                                },
                                {
                                    "orderyear": "2007",
                                    "ordermonth": "2",
                                    "orderday": "11",
                                    "salesvalue": "1792.00"
                                },
                                {
                                    "orderyear": "2008",
                                    "ordermonth": "2",
                                    "orderday": "11",
                                    "salesvalue": "1042.64"
                                },
                                {
                                    "orderyear": "NULL",
                                    "ordermonth": "2",
                                    "orderday": "11",
                                    "salesvalue": "2834.64"
                                },
                                {
                                    "orderyear": "2007",
                                    "ordermonth": "3",
                                    "orderday": "11",
                                    "salesvalue": "3148.80"
                                },
                                {
                                    "orderyear": "2008",
                                    "ordermonth": "3",
                                    "orderday": "11",
                                    "salesvalue": "5642.75"
                                },
                                {
                                    "orderyear": "NULL",
                                    "ordermonth": "3",
                                    "orderday": "11",
                                    "salesvalue": "8791.55"
                                },
                                {
                                    "orderyear": "2007",
                                    "ordermonth": "4",
                                    "orderday": "11",
                                    "salesvalue": "3437.00"
                                },
                                {
                                    "orderyear": "NULL",
                                    "ordermonth": "4",
                                    "orderday": "11",
                                    "salesvalue": "3437.00"
                                },
                                {
                                    "orderyear": "2007",
                                    "ordermonth": "6",
                                    "orderday": "11",
                                    "salesvalue": "639.90"
                                },
                                {
                                    "orderyear": "NULL",
                                    "ordermonth": "6",
                                    "orderday": "11",
                                    "salesvalue": "639.90"
                                },
                                {
                                    "orderyear": "2006",
                                    "ordermonth": "7",
                                    "orderday": "11",
                                    "salesvalue": "556.62"
                                },
                                {
                                    "orderyear": "2007",
                                    "ordermonth": "7",
                                    "orderday": "11",
                                    "salesvalue": "1898.96"
                                },
                                {
                                    "orderyear": "NULL",
                                    "ordermonth": "7",
                                    "orderday": "11",
                                    "salesvalue": "2455.58"
                                },
                                {
                                    "orderyear": "2007",
                                    "ordermonth": "8",
                                    "orderday": "11",
                                    "salesvalue": "2689.35"
                                },
                                {
                                    "orderyear": "NULL",
                                    "ordermonth": "8",
                                    "orderday": "11",
                                    "salesvalue": "2689.35"
                                },
                                {
                                    "orderyear": "2006",
                                    "ordermonth": "9",
                                    "orderday": "11",
                                    "salesvalue": "1117.80"
                                },
                                {
                                    "orderyear": "2007",
                                    "ordermonth": "9",
                                    "orderday": "11",
                                    "salesvalue": "1295.00"
                                },
                                {
                                    "orderyear": "NULL",
                                    "ordermonth": "9",
                                    "orderday": "11",
                                    "salesvalue": "2412.80"
                                },
                                {
                                    "orderyear": "2006",
                                    "ordermonth": "10",
                                    "orderday": "11",
                                    "salesvalue": "1810.00"
                                },
                                {
                                    "orderyear": "NULL",
                                    "ordermonth": "10",
                                    "orderday": "11",
                                    "salesvalue": "1810.00"
                                },
                                {
                                    "orderyear": "2006",
                                    "ordermonth": "11",
                                    "orderday": "11",
                                    "salesvalue": "6040.79"
                                },
                                {
                                    "orderyear": "2007",
                                    "ordermonth": "11",
                                    "orderday": "11",
                                    "salesvalue": "1136.80"
                                },
                                {
                                    "orderyear": "NULL",
                                    "ordermonth": "11",
                                    "orderday": "11",
                                    "salesvalue": "7177.59"
                                },
                                {
                                    "orderyear": "2006",
                                    "ordermonth": "12",
                                    "orderday": "11",
                                    "salesvalue": "863.28"
                                },
                                {
                                    "orderyear": "2007",
                                    "ordermonth": "12",
                                    "orderday": "11",
                                    "salesvalue": "2899.15"
                                },
                                {
                                    "orderyear": "NULL",
                                    "ordermonth": "12",
                                    "orderday": "11",
                                    "salesvalue": "3762.43"
                                },
                                {
                                    "orderyear": "NULL",
                                    "ordermonth": "NULL",
                                    "orderday": "11",
                                    "salesvalue": "36010.84"
                                },
                                {
                                    "orderyear": "2008",
                                    "ordermonth": "1",
                                    "orderday": "12",
                                    "salesvalue": "1573.00"
                                },
                                {
                                    "orderyear": "NULL",
                                    "ordermonth": "1",
                                    "orderday": "12",
                                    "salesvalue": "1573.00"
                                },
                                {
                                    "orderyear": "2007",
                                    "ordermonth": "2",
                                    "orderday": "12",
                                    "salesvalue": "1549.14"
                                },
                                {
                                    "orderyear": "2008",
                                    "ordermonth": "2",
                                    "orderday": "12",
                                    "salesvalue": "2623.07"
                                },
                                {
                                    "orderyear": "NULL",
                                    "ordermonth": "2",
                                    "orderday": "12",
                                    "salesvalue": "4172.21"
                                },
                                {
                                    "orderyear": "2007",
                                    "ordermonth": "3",
                                    "orderday": "12",
                                    "salesvalue": "1036.80"
                                },
                                {
                                    "orderyear": "2008",
                                    "ordermonth": "3",
                                    "orderday": "12",
                                    "salesvalue": "2677.83"
                                },
                                {
                                    "orderyear": "NULL",
                                    "ordermonth": "3",
                                    "orderday": "12",
                                    "salesvalue": "3714.63"
                                },
                                {
                                    "orderyear": "2007",
                                    "ordermonth": "5",
                                    "orderday": "12",
                                    "salesvalue": "2687.90"
                                },
                                {
                                    "orderyear": "NULL",
                                    "ordermonth": "5",
                                    "orderday": "12",
                                    "salesvalue": "2687.90"
                                },
                                {
                                    "orderyear": "2007",
                                    "ordermonth": "6",
                                    "orderday": "12",
                                    "salesvalue": "4280.00"
                                },
                                {
                                    "orderyear": "NULL",
                                    "ordermonth": "6",
                                    "orderday": "12",
                                    "salesvalue": "4280.00"
                                },
                                {
                                    "orderyear": "2006",
                                    "ordermonth": "7",
                                    "orderday": "12",
                                    "salesvalue": "2490.50"
                                },
                                {
                                    "orderyear": "NULL",
                                    "ordermonth": "7",
                                    "orderday": "12",
                                    "salesvalue": "2490.50"
                                },
                                {
                                    "orderyear": "2006",
                                    "ordermonth": "8",
                                    "orderday": "12",
                                    "salesvalue": "1488.80"
                                },
                                {
                                    "orderyear": "2007",
                                    "ordermonth": "8",
                                    "orderday": "12",
                                    "salesvalue": "3225.05"
                                },
                                {
                                    "orderyear": "NULL",
                                    "ordermonth": "8",
                                    "orderday": "12",
                                    "salesvalue": "4713.85"
                                },
                                {
                                    "orderyear": "2006",
                                    "ordermonth": "9",
                                    "orderday": "12",
                                    "salesvalue": "954.40"
                                },
                                {
                                    "orderyear": "2007",
                                    "ordermonth": "9",
                                    "orderday": "12",
                                    "salesvalue": "6203.74"
                                },
                                {
                                    "orderyear": "NULL",
                                    "ordermonth": "9",
                                    "orderday": "12",
                                    "salesvalue": "7158.14"
                                },
                                {
                                    "orderyear": "2006",
                                    "ordermonth": "11",
                                    "orderday": "12",
                                    "salesvalue": "136.30"
                                },
                                {
                                    "orderyear": "2007",
                                    "ordermonth": "11",
                                    "orderday": "12",
                                    "salesvalue": "292.35"
                                },
                                {
                                    "orderyear": "NULL",
                                    "ordermonth": "11",
                                    "orderday": "12",
                                    "salesvalue": "428.65"
                                },
                                {
                                    "orderyear": "2006",
                                    "ordermonth": "12",
                                    "orderday": "12",
                                    "salesvalue": "1425.82"
                                },
                                {
                                    "orderyear": "2007",
                                    "ordermonth": "12",
                                    "orderday": "12",
                                    "salesvalue": "228.00"
                                },
                                {
                                    "orderyear": "NULL",
                                    "ordermonth": "12",
                                    "orderday": "12",
                                    "salesvalue": "1653.82"
                                },
                                {
                                    "orderyear": "NULL",
                                    "ordermonth": "NULL",
                                    "orderday": "12",
                                    "salesvalue": "32872.70"
                                },
                                {
                                    "orderyear": "2007",
                                    "ordermonth": "1",
                                    "orderday": "13",
                                    "salesvalue": "334.80"
                                },
                                {
                                    "orderyear": "2008",
                                    "ordermonth": "1",
                                    "orderday": "13",
                                    "salesvalue": "4670.00"
                                },
                                {
                                    "orderyear": "NULL",
                                    "ordermonth": "1",
                                    "orderday": "13",
                                    "salesvalue": "5004.80"
                                },
                                {
                                    "orderyear": "2007",
                                    "ordermonth": "2",
                                    "orderday": "13",
                                    "salesvalue": "174.90"
                                },
                                {
                                    "orderyear": "2008",
                                    "ordermonth": "2",
                                    "orderday": "13",
                                    "salesvalue": "3197.50"
                                },
                                {
                                    "orderyear": "NULL",
                                    "ordermonth": "2",
                                    "orderday": "13",
                                    "salesvalue": "3372.40"
                                },
                                {
                                    "orderyear": "2007",
                                    "ordermonth": "3",
                                    "orderday": "13",
                                    "salesvalue": "1479.50"
                                },
                                {
                                    "orderyear": "2008",
                                    "ordermonth": "3",
                                    "orderday": "13",
                                    "salesvalue": "7004.25"
                                },
                                {
                                    "orderyear": "NULL",
                                    "ordermonth": "3",
                                    "orderday": "13",
                                    "salesvalue": "8483.75"
                                },
                                {
                                    "orderyear": "2008",
                                    "ordermonth": "4",
                                    "orderday": "13",
                                    "salesvalue": "8401.00"
                                },
                                {
                                    "orderyear": "NULL",
                                    "ordermonth": "4",
                                    "orderday": "13",
                                    "salesvalue": "8401.00"
                                },
                                {
                                    "orderyear": "2007",
                                    "ordermonth": "5",
                                    "orderday": "13",
                                    "salesvalue": "1940.85"
                                },
                                {
                                    "orderyear": "NULL",
                                    "ordermonth": "5",
                                    "orderday": "13",
                                    "salesvalue": "1940.85"
                                },
                                {
                                    "orderyear": "2007",
                                    "ordermonth": "6",
                                    "orderday": "13",
                                    "salesvalue": "155.00"
                                },
                                {
                                    "orderyear": "NULL",
                                    "ordermonth": "6",
                                    "orderday": "13",
                                    "salesvalue": "155.00"
                                },
                                {
                                    "orderyear": "2006",
                                    "ordermonth": "8",
                                    "orderday": "13",
                                    "salesvalue": "351.00"
                                },
                                {
                                    "orderyear": "2007",
                                    "ordermonth": "8",
                                    "orderday": "13",
                                    "salesvalue": "903.60"
                                },
                                {
                                    "orderyear": "NULL",
                                    "ordermonth": "8",
                                    "orderday": "13",
                                    "salesvalue": "1254.60"
                                },
                                {
                                    "orderyear": "2006",
                                    "ordermonth": "9",
                                    "orderday": "13",
                                    "salesvalue": "3741.30"
                                },
                                {
                                    "orderyear": "NULL",
                                    "ordermonth": "9",
                                    "orderday": "13",
                                    "salesvalue": "3741.30"
                                },
                                {
                                    "orderyear": "2007",
                                    "ordermonth": "10",
                                    "orderday": "13",
                                    "salesvalue": "3194.50"
                                },
                                {
                                    "orderyear": "NULL",
                                    "ordermonth": "10",
                                    "orderday": "13",
                                    "salesvalue": "3194.50"
                                },
                                {
                                    "orderyear": "2006",
                                    "ordermonth": "11",
                                    "orderday": "13",
                                    "salesvalue": "8593.28"
                                },
                                {
                                    "orderyear": "2007",
                                    "ordermonth": "11",
                                    "orderday": "13",
                                    "salesvalue": "1416.00"
                                },
                                {
                                    "orderyear": "NULL",
                                    "ordermonth": "11",
                                    "orderday": "13",
                                    "salesvalue": "10009.28"
                                },
                                {
                                    "orderyear": "2006",
                                    "ordermonth": "12",
                                    "orderday": "13",
                                    "salesvalue": "2900.00"
                                },
                                {
                                    "orderyear": "NULL",
                                    "ordermonth": "12",
                                    "orderday": "13",
                                    "salesvalue": "2900.00"
                                },
                                {
                                    "orderyear": "NULL",
                                    "ordermonth": "NULL",
                                    "orderday": "13",
                                    "salesvalue": "48457.48"
                                },
                                {
                                    "orderyear": "2007",
                                    "ordermonth": "1",
                                    "orderday": "14",
                                    "salesvalue": "2348.03"
                                },
                                {
                                    "orderyear": "2008",
                                    "ordermonth": "1",
                                    "orderday": "14",
                                    "salesvalue": "3159.51"
                                },
                                {
                                    "orderyear": "NULL",
                                    "ordermonth": "1",
                                    "orderday": "14",
                                    "salesvalue": "5507.54"
                                },
                                {
                                    "orderyear": "2007",
                                    "ordermonth": "2",
                                    "orderday": "14",
                                    "salesvalue": "1160.64"
                                },
                                {
                                    "orderyear": "NULL",
                                    "ordermonth": "2",
                                    "orderday": "14",
                                    "salesvalue": "1160.64"
                                },
                                {
                                    "orderyear": "2007",
                                    "ordermonth": "3",
                                    "orderday": "14",
                                    "salesvalue": "1505.18"
                                },
                                {
                                    "orderyear": "NULL",
                                    "ordermonth": "3",
                                    "orderday": "14",
                                    "salesvalue": "1505.18"
                                },
                                {
                                    "orderyear": "2007",
                                    "ordermonth": "4",
                                    "orderday": "14",
                                    "salesvalue": "147.90"
                                },
                                {
                                    "orderyear": "2008",
                                    "ordermonth": "4",
                                    "orderday": "14",
                                    "salesvalue": "9840.64"
                                },
                                {
                                    "orderyear": "NULL",
                                    "ordermonth": "4",
                                    "orderday": "14",
                                    "salesvalue": "9988.54"
                                },
                                {
                                    "orderyear": "2007",
                                    "ordermonth": "5",
                                    "orderday": "14",
                                    "salesvalue": "3468.80"
                                },
                                {
                                    "orderyear": "NULL",
                                    "ordermonth": "5",
                                    "orderday": "14",
                                    "salesvalue": "3468.80"
                                },
                                {
                                    "orderyear": "2007",
                                    "ordermonth": "7",
                                    "orderday": "14",
                                    "salesvalue": "2388.50"
                                },
                                {
                                    "orderyear": "NULL",
                                    "ordermonth": "7",
                                    "orderday": "14",
                                    "salesvalue": "2388.50"
                                },
                                {
                                    "orderyear": "2006",
                                    "ordermonth": "8",
                                    "orderday": "14",
                                    "salesvalue": "699.70"
                                },
                                {
                                    "orderyear": "2007",
                                    "ordermonth": "8",
                                    "orderday": "14",
                                    "salesvalue": "644.80"
                                },
                                {
                                    "orderyear": "NULL",
                                    "ordermonth": "8",
                                    "orderday": "14",
                                    "salesvalue": "1344.50"
                                },
                                {
                                    "orderyear": "2006",
                                    "ordermonth": "10",
                                    "orderday": "14",
                                    "salesvalue": "1168.00"
                                },
                                {
                                    "orderyear": "2007",
                                    "ordermonth": "10",
                                    "orderday": "14",
                                    "salesvalue": "3140.50"
                                },
                                {
                                    "orderyear": "NULL",
                                    "ordermonth": "10",
                                    "orderday": "14",
                                    "salesvalue": "4308.50"
                                },
                                {
                                    "orderyear": "2006",
                                    "ordermonth": "11",
                                    "orderday": "14",
                                    "salesvalue": "568.80"
                                },
                                {
                                    "orderyear": "2007",
                                    "ordermonth": "11",
                                    "orderday": "14",
                                    "salesvalue": "3346.00"
                                },
                                {
                                    "orderyear": "NULL",
                                    "ordermonth": "11",
                                    "orderday": "14",
                                    "salesvalue": "3914.80"
                                },
                                {
                                    "orderyear": "NULL",
                                    "ordermonth": "NULL",
                                    "orderday": "14",
                                    "salesvalue": "33587.00"
                                },
                                {
                                    "orderyear": "2007",
                                    "ordermonth": "1",
                                    "orderday": "15",
                                    "salesvalue": "102.40"
                                },
                                {
                                    "orderyear": "2008",
                                    "ordermonth": "1",
                                    "orderday": "15",
                                    "salesvalue": "3185.44"
                                },
                                {
                                    "orderyear": "NULL",
                                    "ordermonth": "1",
                                    "orderday": "15",
                                    "salesvalue": "3287.84"
                                },
                                {
                                    "orderyear": "2007",
                                    "ordermonth": "4",
                                    "orderday": "15",
                                    "salesvalue": "1164.86"
                                },
                                {
                                    "orderyear": "2008",
                                    "ordermonth": "4",
                                    "orderday": "15",
                                    "salesvalue": "3266.81"
                                },
                                {
                                    "orderyear": "NULL",
                                    "ordermonth": "4",
                                    "orderday": "15",
                                    "salesvalue": "4431.67"
                                },
                                {
                                    "orderyear": "2007",
                                    "ordermonth": "5",
                                    "orderday": "15",
                                    "salesvalue": "139.80"
                                },
                                {
                                    "orderyear": "NULL",
                                    "ordermonth": "5",
                                    "orderday": "15",
                                    "salesvalue": "139.80"
                                },
                                {
                                    "orderyear": "2006",
                                    "ordermonth": "7",
                                    "orderday": "15",
                                    "salesvalue": "517.80"
                                },
                                {
                                    "orderyear": "2007",
                                    "ordermonth": "7",
                                    "orderday": "15",
                                    "salesvalue": "493.00"
                                },
                                {
                                    "orderyear": "NULL",
                                    "ordermonth": "7",
                                    "orderday": "15",
                                    "salesvalue": "1010.80"
                                },
                                {
                                    "orderyear": "2006",
                                    "ordermonth": "8",
                                    "orderday": "15",
                                    "salesvalue": "155.40"
                                },
                                {
                                    "orderyear": "2007",
                                    "ordermonth": "8",
                                    "orderday": "15",
                                    "salesvalue": "10496.09"
                                },
                                {
                                    "orderyear": "NULL",
                                    "ordermonth": "8",
                                    "orderday": "15",
                                    "salesvalue": "10651.49"
                                },
                                {
                                    "orderyear": "2007",
                                    "ordermonth": "9",
                                    "orderday": "15",
                                    "salesvalue": "1195.28"
                                },
                                {
                                    "orderyear": "NULL",
                                    "ordermonth": "9",
                                    "orderday": "15",
                                    "salesvalue": "1195.28"
                                },
                                {
                                    "orderyear": "2006",
                                    "ordermonth": "10",
                                    "orderday": "15",
                                    "salesvalue": "4578.43"
                                },
                                {
                                    "orderyear": "2007",
                                    "ordermonth": "10",
                                    "orderday": "15",
                                    "salesvalue": "378.00"
                                },
                                {
                                    "orderyear": "NULL",
                                    "ordermonth": "10",
                                    "orderday": "15",
                                    "salesvalue": "4956.43"
                                },
                                {
                                    "orderyear": "2006",
                                    "ordermonth": "11",
                                    "orderday": "15",
                                    "salesvalue": "480.00"
                                },
                                {
                                    "orderyear": "NULL",
                                    "ordermonth": "11",
                                    "orderday": "15",
                                    "salesvalue": "480.00"
                                },
                                {
                                    "orderyear": "2007",
                                    "ordermonth": "12",
                                    "orderday": "15",
                                    "salesvalue": "6859.28"
                                },
                                {
                                    "orderyear": "NULL",
                                    "ordermonth": "12",
                                    "orderday": "15",
                                    "salesvalue": "6859.28"
                                },
                                {
                                    "orderyear": "NULL",
                                    "ordermonth": "NULL",
                                    "orderday": "15",
                                    "salesvalue": "33012.59"
                                },
                                {
                                    "orderyear": "2007",
                                    "ordermonth": "1",
                                    "orderday": "16",
                                    "salesvalue": "11908.40"
                                },
                                {
                                    "orderyear": "2008",
                                    "ordermonth": "1",
                                    "orderday": "16",
                                    "salesvalue": "5770.00"
                                },
                                {
                                    "orderyear": "NULL",
                                    "ordermonth": "1",
                                    "orderday": "16",
                                    "salesvalue": "17678.40"
                                },
                                {
                                    "orderyear": "2008",
                                    "ordermonth": "2",
                                    "orderday": "16",
                                    "salesvalue": "12845.10"
                                },
                                {
                                    "orderyear": "NULL",
                                    "ordermonth": "2",
                                    "orderday": "16",
                                    "salesvalue": "12845.10"
                                },
                                {
                                    "orderyear": "2008",
                                    "ordermonth": "3",
                                    "orderday": "16",
                                    "salesvalue": "5481.21"
                                },
                                {
                                    "orderyear": "NULL",
                                    "ordermonth": "3",
                                    "orderday": "16",
                                    "salesvalue": "5481.21"
                                },
                                {
                                    "orderyear": "2007",
                                    "ordermonth": "4",
                                    "orderday": "16",
                                    "salesvalue": "240.00"
                                },
                                {
                                    "orderyear": "2008",
                                    "ordermonth": "4",
                                    "orderday": "16",
                                    "salesvalue": "4324.53"
                                },
                                {
                                    "orderyear": "NULL",
                                    "ordermonth": "4",
                                    "orderday": "16",
                                    "salesvalue": "4564.53"
                                },
                                {
                                    "orderyear": "2007",
                                    "ordermonth": "5",
                                    "orderday": "16",
                                    "salesvalue": "355.50"
                                },
                                {
                                    "orderyear": "NULL",
                                    "ordermonth": "5",
                                    "orderday": "16",
                                    "salesvalue": "355.50"
                                },
                                {
                                    "orderyear": "2007",
                                    "ordermonth": "6",
                                    "orderday": "16",
                                    "salesvalue": "890.00"
                                },
                                {
                                    "orderyear": "NULL",
                                    "ordermonth": "6",
                                    "orderday": "16",
                                    "salesvalue": "890.00"
                                },
                                {
                                    "orderyear": "2006",
                                    "ordermonth": "7",
                                    "orderday": "16",
                                    "salesvalue": "1119.90"
                                },
                                {
                                    "orderyear": "2007",
                                    "ordermonth": "7",
                                    "orderday": "16",
                                    "salesvalue": "2764.80"
                                },
                                {
                                    "orderyear": "NULL",
                                    "ordermonth": "7",
                                    "orderday": "16",
                                    "salesvalue": "3884.70"
                                },
                                {
                                    "orderyear": "2006",
                                    "ordermonth": "8",
                                    "orderday": "16",
                                    "salesvalue": "1414.80"
                                },
                                {
                                    "orderyear": "NULL",
                                    "ordermonth": "8",
                                    "orderday": "16",
                                    "salesvalue": "1414.80"
                                },
                                {
                                    "orderyear": "2006",
                                    "ordermonth": "9",
                                    "orderday": "16",
                                    "salesvalue": "498.50"
                                },
                                {
                                    "orderyear": "2007",
                                    "ordermonth": "9",
                                    "orderday": "16",
                                    "salesvalue": "2301.75"
                                },
                                {
                                    "orderyear": "NULL",
                                    "ordermonth": "9",
                                    "orderday": "16",
                                    "salesvalue": "2800.25"
                                },
                                {
                                    "orderyear": "2006",
                                    "ordermonth": "10",
                                    "orderday": "16",
                                    "salesvalue": "1737.50"
                                },
                                {
                                    "orderyear": "2007",
                                    "ordermonth": "10",
                                    "orderday": "16",
                                    "salesvalue": "3534.00"
                                },
                                {
                                    "orderyear": "NULL",
                                    "ordermonth": "10",
                                    "orderday": "16",
                                    "salesvalue": "5271.50"
                                },
                                {
                                    "orderyear": "2006",
                                    "ordermonth": "12",
                                    "orderday": "16",
                                    "salesvalue": "3121.40"
                                },
                                {
                                    "orderyear": "2007",
                                    "ordermonth": "12",
                                    "orderday": "16",
                                    "salesvalue": "2151.50"
                                },
                                {
                                    "orderyear": "NULL",
                                    "ordermonth": "12",
                                    "orderday": "16",
                                    "salesvalue": "5272.90"
                                },
                                {
                                    "orderyear": "NULL",
                                    "ordermonth": "NULL",
                                    "orderday": "16",
                                    "salesvalue": "60458.89"
                                },
                                {
                                    "orderyear": "2007",
                                    "ordermonth": "1",
                                    "orderday": "17",
                                    "salesvalue": "1814.80"
                                },
                                {
                                    "orderyear": "NULL",
                                    "ordermonth": "1",
                                    "orderday": "17",
                                    "salesvalue": "1814.80"
                                },
                                {
                                    "orderyear": "2007",
                                    "ordermonth": "2",
                                    "orderday": "17",
                                    "salesvalue": "443.40"
                                },
                                {
                                    "orderyear": "2008",
                                    "ordermonth": "2",
                                    "orderday": "17",
                                    "salesvalue": "2458.93"
                                },
                                {
                                    "orderyear": "NULL",
                                    "ordermonth": "2",
                                    "orderday": "17",
                                    "salesvalue": "2902.33"
                                },
                                {
                                    "orderyear": "2007",
                                    "ordermonth": "3",
                                    "orderday": "17",
                                    "salesvalue": "738.48"
                                },
                                {
                                    "orderyear": "2008",
                                    "ordermonth": "3",
                                    "orderday": "17",
                                    "salesvalue": "2410.94"
                                },
                                {
                                    "orderyear": "NULL",
                                    "ordermonth": "3",
                                    "orderday": "17",
                                    "salesvalue": "3149.42"
                                },
                                {
                                    "orderyear": "2007",
                                    "ordermonth": "4",
                                    "orderday": "17",
                                    "salesvalue": "136.80"
                                },
                                {
                                    "orderyear": "2008",
                                    "ordermonth": "4",
                                    "orderday": "17",
                                    "salesvalue": "27143.85"
                                },
                                {
                                    "orderyear": "NULL",
                                    "ordermonth": "4",
                                    "orderday": "17",
                                    "salesvalue": "27280.65"
                                },
                                {
                                    "orderyear": "2007",
                                    "ordermonth": "6",
                                    "orderday": "17",
                                    "salesvalue": "3015.84"
                                },
                                {
                                    "orderyear": "NULL",
                                    "ordermonth": "6",
                                    "orderday": "17",
                                    "salesvalue": "3015.84"
                                },
                                {
                                    "orderyear": "2006",
                                    "ordermonth": "7",
                                    "orderday": "17",
                                    "salesvalue": "1614.88"
                                },
                                {
                                    "orderyear": "2007",
                                    "ordermonth": "7",
                                    "orderday": "17",
                                    "salesvalue": "48.75"
                                },
                                {
                                    "orderyear": "NULL",
                                    "ordermonth": "7",
                                    "orderday": "17",
                                    "salesvalue": "1663.63"
                                },
                                {
                                    "orderyear": "2006",
                                    "ordermonth": "9",
                                    "orderday": "17",
                                    "salesvalue": "424.00"
                                },
                                {
                                    "orderyear": "2007",
                                    "ordermonth": "9",
                                    "orderday": "17",
                                    "salesvalue": "4735.35"
                                },
                                {
                                    "orderyear": "NULL",
                                    "ordermonth": "9",
                                    "orderday": "17",
                                    "salesvalue": "5159.35"
                                },
                                {
                                    "orderyear": "2006",
                                    "ordermonth": "10",
                                    "orderday": "17",
                                    "salesvalue": "1786.88"
                                },
                                {
                                    "orderyear": "2007",
                                    "ordermonth": "10",
                                    "orderday": "17",
                                    "salesvalue": "3604.40"
                                },
                                {
                                    "orderyear": "NULL",
                                    "ordermonth": "10",
                                    "orderday": "17",
                                    "salesvalue": "5391.28"
                                },
                                {
                                    "orderyear": "2007",
                                    "ordermonth": "11",
                                    "orderday": "17",
                                    "salesvalue": "1055.20"
                                },
                                {
                                    "orderyear": "NULL",
                                    "ordermonth": "11",
                                    "orderday": "17",
                                    "salesvalue": "1055.20"
                                },
                                {
                                    "orderyear": "2006",
                                    "ordermonth": "12",
                                    "orderday": "17",
                                    "salesvalue": "691.20"
                                },
                                {
                                    "orderyear": "2007",
                                    "ordermonth": "12",
                                    "orderday": "17",
                                    "salesvalue": "988.38"
                                },
                                {
                                    "orderyear": "NULL",
                                    "ordermonth": "12",
                                    "orderday": "17",
                                    "salesvalue": "1679.58"
                                },
                                {
                                    "orderyear": "NULL",
                                    "ordermonth": "NULL",
                                    "orderday": "17",
                                    "salesvalue": "53112.08"
                                },
                                {
                                    "orderyear": "2007",
                                    "ordermonth": "2",
                                    "orderday": "18",
                                    "salesvalue": "1838.20"
                                },
                                {
                                    "orderyear": "2008",
                                    "ordermonth": "2",
                                    "orderday": "18",
                                    "salesvalue": "14634.61"
                                },
                                {
                                    "orderyear": "NULL",
                                    "ordermonth": "2",
                                    "orderday": "18",
                                    "salesvalue": "16472.81"
                                },
                                {
                                    "orderyear": "2007",
                                    "ordermonth": "3",
                                    "orderday": "18",
                                    "salesvalue": "471.20"
                                },
                                {
                                    "orderyear": "2008",
                                    "ordermonth": "3",
                                    "orderday": "18",
                                    "salesvalue": "2675.45"
                                },
                                {
                                    "orderyear": "NULL",
                                    "ordermonth": "3",
                                    "orderday": "18",
                                    "salesvalue": "3146.65"
                                },
                                {
                                    "orderyear": "2007",
                                    "ordermonth": "4",
                                    "orderday": "18",
                                    "salesvalue": "7257.54"
                                },
                                {
                                    "orderyear": "NULL",
                                    "ordermonth": "4",
                                    "orderday": "18",
                                    "salesvalue": "7257.54"
                                },
                                {
                                    "orderyear": "2007",
                                    "ordermonth": "6",
                                    "orderday": "18",
                                    "salesvalue": "1501.09"
                                },
                                {
                                    "orderyear": "NULL",
                                    "ordermonth": "6",
                                    "orderday": "18",
                                    "salesvalue": "1501.09"
                                },
                                {
                                    "orderyear": "2006",
                                    "ordermonth": "7",
                                    "orderday": "18",
                                    "salesvalue": "100.80"
                                },
                                {
                                    "orderyear": "2007",
                                    "ordermonth": "7",
                                    "orderday": "18",
                                    "salesvalue": "1713.85"
                                },
                                {
                                    "orderyear": "NULL",
                                    "ordermonth": "7",
                                    "orderday": "18",
                                    "salesvalue": "1814.65"
                                },
                                {
                                    "orderyear": "2007",
                                    "ordermonth": "8",
                                    "orderday": "18",
                                    "salesvalue": "1326.23"
                                },
                                {
                                    "orderyear": "NULL",
                                    "ordermonth": "8",
                                    "orderday": "18",
                                    "salesvalue": "1326.23"
                                },
                                {
                                    "orderyear": "2006",
                                    "ordermonth": "9",
                                    "orderday": "18",
                                    "salesvalue": "88.80"
                                },
                                {
                                    "orderyear": "2007",
                                    "ordermonth": "9",
                                    "orderday": "18",
                                    "salesvalue": "457.35"
                                },
                                {
                                    "orderyear": "NULL",
                                    "ordermonth": "9",
                                    "orderday": "18",
                                    "salesvalue": "546.15"
                                },
                                {
                                    "orderyear": "2006",
                                    "ordermonth": "10",
                                    "orderday": "18",
                                    "salesvalue": "877.20"
                                },
                                {
                                    "orderyear": "NULL",
                                    "ordermonth": "10",
                                    "orderday": "18",
                                    "salesvalue": "877.20"
                                },
                                {
                                    "orderyear": "2006",
                                    "ordermonth": "11",
                                    "orderday": "18",
                                    "salesvalue": "1106.40"
                                },
                                {
                                    "orderyear": "2007",
                                    "ordermonth": "11",
                                    "orderday": "18",
                                    "salesvalue": "4529.80"
                                },
                                {
                                    "orderyear": "NULL",
                                    "ordermonth": "11",
                                    "orderday": "18",
                                    "salesvalue": "5636.20"
                                },
                                {
                                    "orderyear": "2006",
                                    "ordermonth": "12",
                                    "orderday": "18",
                                    "salesvalue": "1224.40"
                                },
                                {
                                    "orderyear": "2007",
                                    "ordermonth": "12",
                                    "orderday": "18",
                                    "salesvalue": "3318.00"
                                },
                                {
                                    "orderyear": "NULL",
                                    "ordermonth": "12",
                                    "orderday": "18",
                                    "salesvalue": "4542.40"
                                },
                                {
                                    "orderyear": "NULL",
                                    "ordermonth": "NULL",
                                    "orderday": "18",
                                    "salesvalue": "43120.92"
                                },
                                {
                                    "orderyear": "2008",
                                    "ordermonth": "1",
                                    "orderday": "19",
                                    "salesvalue": "2977.13"
                                },
                                {
                                    "orderyear": "NULL",
                                    "ordermonth": "1",
                                    "orderday": "19",
                                    "salesvalue": "2977.13"
                                },
                                {
                                    "orderyear": "2007",
                                    "ordermonth": "2",
                                    "orderday": "19",
                                    "salesvalue": "4274.78"
                                },
                                {
                                    "orderyear": "2008",
                                    "ordermonth": "2",
                                    "orderday": "19",
                                    "salesvalue": "11585.74"
                                },
                                {
                                    "orderyear": "NULL",
                                    "ordermonth": "2",
                                    "orderday": "19",
                                    "salesvalue": "15860.52"
                                },
                                {
                                    "orderyear": "2007",
                                    "ordermonth": "3",
                                    "orderday": "19",
                                    "salesvalue": "10495.60"
                                },
                                {
                                    "orderyear": "2008",
                                    "ordermonth": "3",
                                    "orderday": "19",
                                    "salesvalue": "5027.05"
                                },
                                {
                                    "orderyear": "NULL",
                                    "ordermonth": "3",
                                    "orderday": "19",
                                    "salesvalue": "15522.65"
                                },
                                {
                                    "orderyear": "2007",
                                    "ordermonth": "5",
                                    "orderday": "19",
                                    "salesvalue": "12138.22"
                                },
                                {
                                    "orderyear": "NULL",
                                    "ordermonth": "5",
                                    "orderday": "19",
                                    "salesvalue": "12138.22"
                                },
                                {
                                    "orderyear": "2007",
                                    "ordermonth": "6",
                                    "orderday": "19",
                                    "salesvalue": "2846.30"
                                },
                                {
                                    "orderyear": "NULL",
                                    "ordermonth": "6",
                                    "orderday": "19",
                                    "salesvalue": "2846.30"
                                },
                                {
                                    "orderyear": "2006",
                                    "ordermonth": "7",
                                    "orderday": "19",
                                    "salesvalue": "1952.65"
                                },
                                {
                                    "orderyear": "NULL",
                                    "ordermonth": "7",
                                    "orderday": "19",
                                    "salesvalue": "1952.65"
                                },
                                {
                                    "orderyear": "2006",
                                    "ordermonth": "8",
                                    "orderday": "19",
                                    "salesvalue": "1170.38"
                                },
                                {
                                    "orderyear": "2007",
                                    "ordermonth": "8",
                                    "orderday": "19",
                                    "salesvalue": "3391.44"
                                },
                                {
                                    "orderyear": "NULL",
                                    "ordermonth": "8",
                                    "orderday": "19",
                                    "salesvalue": "4561.82"
                                },
                                {
                                    "orderyear": "2006",
                                    "ordermonth": "9",
                                    "orderday": "19",
                                    "salesvalue": "1762.00"
                                },
                                {
                                    "orderyear": "2007",
                                    "ordermonth": "9",
                                    "orderday": "19",
                                    "salesvalue": "1423.00"
                                },
                                {
                                    "orderyear": "NULL",
                                    "ordermonth": "9",
                                    "orderday": "19",
                                    "salesvalue": "3185.00"
                                },
                                {
                                    "orderyear": "2006",
                                    "ordermonth": "11",
                                    "orderday": "19",
                                    "salesvalue": "1167.68"
                                },
                                {
                                    "orderyear": "2007",
                                    "ordermonth": "11",
                                    "orderday": "19",
                                    "salesvalue": "4224.55"
                                },
                                {
                                    "orderyear": "NULL",
                                    "ordermonth": "11",
                                    "orderday": "19",
                                    "salesvalue": "5392.23"
                                },
                                {
                                    "orderyear": "2006",
                                    "ordermonth": "12",
                                    "orderday": "19",
                                    "salesvalue": "1228.80"
                                },
                                {
                                    "orderyear": "2007",
                                    "ordermonth": "12",
                                    "orderday": "19",
                                    "salesvalue": "4153.84"
                                },
                                {
                                    "orderyear": "NULL",
                                    "ordermonth": "12",
                                    "orderday": "19",
                                    "salesvalue": "5382.64"
                                },
                                {
                                    "orderyear": "NULL",
                                    "ordermonth": "NULL",
                                    "orderday": "19",
                                    "salesvalue": "69819.16"
                                },
                                {
                                    "orderyear": "2007",
                                    "ordermonth": "1",
                                    "orderday": "20",
                                    "salesvalue": "2097.60"
                                },
                                {
                                    "orderyear": "2008",
                                    "ordermonth": "1",
                                    "orderday": "20",
                                    "salesvalue": "5556.00"
                                },
                                {
                                    "orderyear": "NULL",
                                    "ordermonth": "1",
                                    "orderday": "20",
                                    "salesvalue": "7653.60"
                                },
                                {
                                    "orderyear": "2007",
                                    "ordermonth": "2",
                                    "orderday": "20",
                                    "salesvalue": "2018.50"
                                },
                                {
                                    "orderyear": "2008",
                                    "ordermonth": "2",
                                    "orderday": "20",
                                    "salesvalue": "186.15"
                                },
                                {
                                    "orderyear": "NULL",
                                    "ordermonth": "2",
                                    "orderday": "20",
                                    "salesvalue": "2204.65"
                                },
                                {
                                    "orderyear": "2007",
                                    "ordermonth": "3",
                                    "orderday": "20",
                                    "salesvalue": "2228.00"
                                },
                                {
                                    "orderyear": "2008",
                                    "ordermonth": "3",
                                    "orderday": "20",
                                    "salesvalue": "3998.96"
                                },
                                {
                                    "orderyear": "NULL",
                                    "ordermonth": "3",
                                    "orderday": "20",
                                    "salesvalue": "6226.96"
                                },
                                {
                                    "orderyear": "2008",
                                    "ordermonth": "4",
                                    "orderday": "20",
                                    "salesvalue": "3985.90"
                                },
                                {
                                    "orderyear": "NULL",
                                    "ordermonth": "4",
                                    "orderday": "20",
                                    "salesvalue": "3985.90"
                                },
                                {
                                    "orderyear": "2007",
                                    "ordermonth": "5",
                                    "orderday": "20",
                                    "salesvalue": "469.11"
                                },
                                {
                                    "orderyear": "NULL",
                                    "ordermonth": "5",
                                    "orderday": "20",
                                    "salesvalue": "469.11"
                                },
                                {
                                    "orderyear": "2007",
                                    "ordermonth": "6",
                                    "orderday": "20",
                                    "salesvalue": "2147.40"
                                },
                                {
                                    "orderyear": "NULL",
                                    "ordermonth": "6",
                                    "orderday": "20",
                                    "salesvalue": "2147.40"
                                },
                                {
                                    "orderyear": "2006",
                                    "ordermonth": "8",
                                    "orderday": "20",
                                    "salesvalue": "1743.36"
                                },
                                {
                                    "orderyear": "2007",
                                    "ordermonth": "8",
                                    "orderday": "20",
                                    "salesvalue": "3220.05"
                                },
                                {
                                    "orderyear": "NULL",
                                    "ordermonth": "8",
                                    "orderday": "20",
                                    "salesvalue": "4963.41"
                                },
                                {
                                    "orderyear": "2006",
                                    "ordermonth": "9",
                                    "orderday": "20",
                                    "salesvalue": "604.80"
                                },
                                {
                                    "orderyear": "NULL",
                                    "ordermonth": "9",
                                    "orderday": "20",
                                    "salesvalue": "604.80"
                                },
                                {
                                    "orderyear": "2007",
                                    "ordermonth": "10",
                                    "orderday": "20",
                                    "salesvalue": "93.50"
                                },
                                {
                                    "orderyear": "NULL",
                                    "ordermonth": "10",
                                    "orderday": "20",
                                    "salesvalue": "93.50"
                                },
                                {
                                    "orderyear": "2006",
                                    "ordermonth": "11",
                                    "orderday": "20",
                                    "salesvalue": "429.40"
                                },
                                {
                                    "orderyear": "2007",
                                    "ordermonth": "11",
                                    "orderday": "20",
                                    "salesvalue": "3276.00"
                                },
                                {
                                    "orderyear": "NULL",
                                    "ordermonth": "11",
                                    "orderday": "20",
                                    "salesvalue": "3705.40"
                                },
                                {
                                    "orderyear": "2006",
                                    "ordermonth": "12",
                                    "orderday": "20",
                                    "salesvalue": "1832.80"
                                },
                                {
                                    "orderyear": "NULL",
                                    "ordermonth": "12",
                                    "orderday": "20",
                                    "salesvalue": "1832.80"
                                },
                                {
                                    "orderyear": "NULL",
                                    "ordermonth": "NULL",
                                    "orderday": "20",
                                    "salesvalue": "33887.53"
                                },
                                {
                                    "orderyear": "2007",
                                    "ordermonth": "1",
                                    "orderday": "21",
                                    "salesvalue": "2902.11"
                                },
                                {
                                    "orderyear": "2008",
                                    "ordermonth": "1",
                                    "orderday": "21",
                                    "salesvalue": "4706.70"
                                },
                                {
                                    "orderyear": "NULL",
                                    "ordermonth": "1",
                                    "orderday": "21",
                                    "salesvalue": "7608.81"
                                },
                                {
                                    "orderyear": "2007",
                                    "ordermonth": "2",
                                    "orderday": "21",
                                    "salesvalue": "738.90"
                                },
                                {
                                    "orderyear": "NULL",
                                    "ordermonth": "2",
                                    "orderday": "21",
                                    "salesvalue": "738.90"
                                },
                                {
                                    "orderyear": "2007",
                                    "ordermonth": "3",
                                    "orderday": "21",
                                    "salesvalue": "147.00"
                                },
                                {
                                    "orderyear": "NULL",
                                    "ordermonth": "3",
                                    "orderday": "21",
                                    "salesvalue": "147.00"
                                },
                                {
                                    "orderyear": "2007",
                                    "ordermonth": "4",
                                    "orderday": "21",
                                    "salesvalue": "525.30"
                                },
                                {
                                    "orderyear": "2008",
                                    "ordermonth": "4",
                                    "orderday": "21",
                                    "salesvalue": "3882.60"
                                },
                                {
                                    "orderyear": "NULL",
                                    "ordermonth": "4",
                                    "orderday": "21",
                                    "salesvalue": "4407.90"
                                },
                                {
                                    "orderyear": "2007",
                                    "ordermonth": "5",
                                    "orderday": "21",
                                    "salesvalue": "1921.70"
                                },
                                {
                                    "orderyear": "NULL",
                                    "ordermonth": "5",
                                    "orderday": "21",
                                    "salesvalue": "1921.70"
                                },
                                {
                                    "orderyear": "2007",
                                    "ordermonth": "7",
                                    "orderday": "21",
                                    "salesvalue": "4109.70"
                                },
                                {
                                    "orderyear": "NULL",
                                    "ordermonth": "7",
                                    "orderday": "21",
                                    "salesvalue": "4109.70"
                                },
                                {
                                    "orderyear": "2006",
                                    "ordermonth": "8",
                                    "orderday": "21",
                                    "salesvalue": "3016.00"
                                },
                                {
                                    "orderyear": "2007",
                                    "ordermonth": "8",
                                    "orderday": "21",
                                    "salesvalue": "708.75"
                                },
                                {
                                    "orderyear": "NULL",
                                    "ordermonth": "8",
                                    "orderday": "21",
                                    "salesvalue": "3724.75"
                                },
                                {
                                    "orderyear": "2006",
                                    "ordermonth": "10",
                                    "orderday": "21",
                                    "salesvalue": "144.80"
                                },
                                {
                                    "orderyear": "2007",
                                    "ordermonth": "10",
                                    "orderday": "21",
                                    "salesvalue": "5685.18"
                                },
                                {
                                    "orderyear": "NULL",
                                    "ordermonth": "10",
                                    "orderday": "21",
                                    "salesvalue": "5829.98"
                                },
                                {
                                    "orderyear": "2006",
                                    "ordermonth": "11",
                                    "orderday": "21",
                                    "salesvalue": "3471.68"
                                },
                                {
                                    "orderyear": "2007",
                                    "ordermonth": "11",
                                    "orderday": "21",
                                    "salesvalue": "1590.56"
                                },
                                {
                                    "orderyear": "NULL",
                                    "ordermonth": "11",
                                    "orderday": "21",
                                    "salesvalue": "5062.24"
                                },
                                {
                                    "orderyear": "NULL",
                                    "ordermonth": "NULL",
                                    "orderday": "21",
                                    "salesvalue": "33550.98"
                                },
                                {
                                    "orderyear": "2007",
                                    "ordermonth": "1",
                                    "orderday": "22",
                                    "salesvalue": "49.80"
                                },
                                {
                                    "orderyear": "2008",
                                    "ordermonth": "1",
                                    "orderday": "22",
                                    "salesvalue": "6043.92"
                                },
                                {
                                    "orderyear": "NULL",
                                    "ordermonth": "1",
                                    "orderday": "22",
                                    "salesvalue": "6093.72"
                                },
                                {
                                    "orderyear": "2007",
                                    "ordermonth": "4",
                                    "orderday": "22",
                                    "salesvalue": "10565.45"
                                },
                                {
                                    "orderyear": "2008",
                                    "ordermonth": "4",
                                    "orderday": "22",
                                    "salesvalue": "2588.75"
                                },
                                {
                                    "orderyear": "NULL",
                                    "ordermonth": "4",
                                    "orderday": "22",
                                    "salesvalue": "13154.20"
                                },
                                {
                                    "orderyear": "2007",
                                    "ordermonth": "5",
                                    "orderday": "22",
                                    "salesvalue": "210.00"
                                },
                                {
                                    "orderyear": "NULL",
                                    "ordermonth": "5",
                                    "orderday": "22",
                                    "salesvalue": "210.00"
                                },
                                {
                                    "orderyear": "2006",
                                    "ordermonth": "7",
                                    "orderday": "22",
                                    "salesvalue": "584.00"
                                },
                                {
                                    "orderyear": "2007",
                                    "ordermonth": "7",
                                    "orderday": "22",
                                    "salesvalue": "7605.80"
                                },
                                {
                                    "orderyear": "NULL",
                                    "ordermonth": "7",
                                    "orderday": "22",
                                    "salesvalue": "8189.80"
                                },
                                {
                                    "orderyear": "2006",
                                    "ordermonth": "8",
                                    "orderday": "22",
                                    "salesvalue": "819.00"
                                },
                                {
                                    "orderyear": "2007",
                                    "ordermonth": "8",
                                    "orderday": "22",
                                    "salesvalue": "2750.00"
                                },
                                {
                                    "orderyear": "NULL",
                                    "ordermonth": "8",
                                    "orderday": "22",
                                    "salesvalue": "3569.00"
                                },
                                {
                                    "orderyear": "2007",
                                    "ordermonth": "9",
                                    "orderday": "22",
                                    "salesvalue": "1348.22"
                                },
                                {
                                    "orderyear": "NULL",
                                    "ordermonth": "9",
                                    "orderday": "22",
                                    "salesvalue": "1348.22"
                                },
                                {
                                    "orderyear": "2006",
                                    "ordermonth": "10",
                                    "orderday": "22",
                                    "salesvalue": "2036.16"
                                },
                                {
                                    "orderyear": "2007",
                                    "ordermonth": "10",
                                    "orderday": "22",
                                    "salesvalue": "5033.65"
                                },
                                {
                                    "orderyear": "NULL",
                                    "ordermonth": "10",
                                    "orderday": "22",
                                    "salesvalue": "7069.81"
                                },
                                {
                                    "orderyear": "2006",
                                    "ordermonth": "11",
                                    "orderday": "22",
                                    "salesvalue": "9436.44"
                                },
                                {
                                    "orderyear": "NULL",
                                    "ordermonth": "11",
                                    "orderday": "22",
                                    "salesvalue": "9436.44"
                                },
                                {
                                    "orderyear": "2007",
                                    "ordermonth": "12",
                                    "orderday": "22",
                                    "salesvalue": "5141.00"
                                },
                                {
                                    "orderyear": "NULL",
                                    "ordermonth": "12",
                                    "orderday": "22",
                                    "salesvalue": "5141.00"
                                },
                                {
                                    "orderyear": "NULL",
                                    "ordermonth": "NULL",
                                    "orderday": "22",
                                    "salesvalue": "54212.19"
                                },
                                {
                                    "orderyear": "2007",
                                    "ordermonth": "1",
                                    "orderday": "23",
                                    "salesvalue": "10214.56"
                                },
                                {
                                    "orderyear": "2008",
                                    "ordermonth": "1",
                                    "orderday": "23",
                                    "salesvalue": "2528.32"
                                },
                                {
                                    "orderyear": "NULL",
                                    "ordermonth": "1",
                                    "orderday": "23",
                                    "salesvalue": "12742.88"
                                },
                                {
                                    "orderyear": "2008",
                                    "ordermonth": "2",
                                    "orderday": "23",
                                    "salesvalue": "1797.93"
                                },
                                {
                                    "orderyear": "NULL",
                                    "ordermonth": "2",
                                    "orderday": "23",
                                    "salesvalue": "1797.93"
                                },
                                {
                                    "orderyear": "2008",
                                    "ordermonth": "3",
                                    "orderday": "23",
                                    "salesvalue": "2426.40"
                                },
                                {
                                    "orderyear": "NULL",
                                    "ordermonth": "3",
                                    "orderday": "23",
                                    "salesvalue": "2426.40"
                                },
                                {
                                    "orderyear": "2007",
                                    "ordermonth": "4",
                                    "orderday": "23",
                                    "salesvalue": "9921.30"
                                },
                                {
                                    "orderyear": "2008",
                                    "ordermonth": "4",
                                    "orderday": "23",
                                    "salesvalue": "3386.90"
                                },
                                {
                                    "orderyear": "NULL",
                                    "ordermonth": "4",
                                    "orderday": "23",
                                    "salesvalue": "13308.20"
                                },
                                {
                                    "orderyear": "2007",
                                    "ordermonth": "5",
                                    "orderday": "23",
                                    "salesvalue": "4604.80"
                                },
                                {
                                    "orderyear": "NULL",
                                    "ordermonth": "5",
                                    "orderday": "23",
                                    "salesvalue": "4604.80"
                                },
                                {
                                    "orderyear": "2007",
                                    "ordermonth": "6",
                                    "orderday": "23",
                                    "salesvalue": "1407.45"
                                },
                                {
                                    "orderyear": "NULL",
                                    "ordermonth": "6",
                                    "orderday": "23",
                                    "salesvalue": "1407.45"
                                },
                                {
                                    "orderyear": "2006",
                                    "ordermonth": "7",
                                    "orderday": "23",
                                    "salesvalue": "1873.80"
                                },
                                {
                                    "orderyear": "2007",
                                    "ordermonth": "7",
                                    "orderday": "23",
                                    "salesvalue": "1064.00"
                                },
                                {
                                    "orderyear": "NULL",
                                    "ordermonth": "7",
                                    "orderday": "23",
                                    "salesvalue": "2937.80"
                                },
                                {
                                    "orderyear": "2006",
                                    "ordermonth": "8",
                                    "orderday": "23",
                                    "salesvalue": "80.10"
                                },
                                {
                                    "orderyear": "NULL",
                                    "ordermonth": "8",
                                    "orderday": "23",
                                    "salesvalue": "80.10"
                                },
                                {
                                    "orderyear": "2006",
                                    "ordermonth": "9",
                                    "orderday": "23",
                                    "salesvalue": "1614.80"
                                },
                                {
                                    "orderyear": "2007",
                                    "ordermonth": "9",
                                    "orderday": "23",
                                    "salesvalue": "5916.50"
                                },
                                {
                                    "orderyear": "NULL",
                                    "ordermonth": "9",
                                    "orderday": "23",
                                    "salesvalue": "7531.30"
                                },
                                {
                                    "orderyear": "2006",
                                    "ordermonth": "10",
                                    "orderday": "23",
                                    "salesvalue": "285.12"
                                },
                                {
                                    "orderyear": "2007",
                                    "ordermonth": "10",
                                    "orderday": "23",
                                    "salesvalue": "1296.00"
                                },
                                {
                                    "orderyear": "NULL",
                                    "ordermonth": "10",
                                    "orderday": "23",
                                    "salesvalue": "1581.12"
                                },
                                {
                                    "orderyear": "2006",
                                    "ordermonth": "12",
                                    "orderday": "23",
                                    "salesvalue": "2177.28"
                                },
                                {
                                    "orderyear": "2007",
                                    "ordermonth": "12",
                                    "orderday": "23",
                                    "salesvalue": "2229.61"
                                },
                                {
                                    "orderyear": "NULL",
                                    "ordermonth": "12",
                                    "orderday": "23",
                                    "salesvalue": "4406.89"
                                },
                                {
                                    "orderyear": "NULL",
                                    "ordermonth": "NULL",
                                    "orderday": "23",
                                    "salesvalue": "52824.87"
                                },
                                {
                                    "orderyear": "2007",
                                    "ordermonth": "1",
                                    "orderday": "24",
                                    "salesvalue": "360.00"
                                },
                                {
                                    "orderyear": "NULL",
                                    "ordermonth": "1",
                                    "orderday": "24",
                                    "salesvalue": "360.00"
                                },
                                {
                                    "orderyear": "2007",
                                    "ordermonth": "2",
                                    "orderday": "24",
                                    "salesvalue": "2684.00"
                                },
                                {
                                    "orderyear": "2008",
                                    "ordermonth": "2",
                                    "orderday": "24",
                                    "salesvalue": "3198.30"
                                },
                                {
                                    "orderyear": "NULL",
                                    "ordermonth": "2",
                                    "orderday": "24",
                                    "salesvalue": "5882.30"
                                },
                                {
                                    "orderyear": "2007",
                                    "ordermonth": "3",
                                    "orderday": "24",
                                    "salesvalue": "1055.00"
                                },
                                {
                                    "orderyear": "2008",
                                    "ordermonth": "3",
                                    "orderday": "24",
                                    "salesvalue": "2500.11"
                                },
                                {
                                    "orderyear": "NULL",
                                    "ordermonth": "3",
                                    "orderday": "24",
                                    "salesvalue": "3555.11"
                                },
                                {
                                    "orderyear": "2007",
                                    "ordermonth": "4",
                                    "orderday": "24",
                                    "salesvalue": "2733.05"
                                },
                                {
                                    "orderyear": "2008",
                                    "ordermonth": "4",
                                    "orderday": "24",
                                    "salesvalue": "1616.48"
                                },
                                {
                                    "orderyear": "NULL",
                                    "ordermonth": "4",
                                    "orderday": "24",
                                    "salesvalue": "4349.53"
                                },
                                {
                                    "orderyear": "2007",
                                    "ordermonth": "6",
                                    "orderday": "24",
                                    "salesvalue": "477.00"
                                },
                                {
                                    "orderyear": "NULL",
                                    "ordermonth": "6",
                                    "orderday": "24",
                                    "salesvalue": "477.00"
                                },
                                {
                                    "orderyear": "2006",
                                    "ordermonth": "7",
                                    "orderday": "24",
                                    "salesvalue": "695.63"
                                },
                                {
                                    "orderyear": "2007",
                                    "ordermonth": "7",
                                    "orderday": "24",
                                    "salesvalue": "424.00"
                                },
                                {
                                    "orderyear": "NULL",
                                    "ordermonth": "7",
                                    "orderday": "24",
                                    "salesvalue": "1119.63"
                                },
                                {
                                    "orderyear": "2006",
                                    "ordermonth": "9",
                                    "orderday": "24",
                                    "salesvalue": "182.40"
                                },
                                {
                                    "orderyear": "2007",
                                    "ordermonth": "9",
                                    "orderday": "24",
                                    "salesvalue": "1261.88"
                                },
                                {
                                    "orderyear": "NULL",
                                    "ordermonth": "9",
                                    "orderday": "24",
                                    "salesvalue": "1444.28"
                                },
                                {
                                    "orderyear": "2006",
                                    "ordermonth": "10",
                                    "orderday": "24",
                                    "salesvalue": "2467.00"
                                },
                                {
                                    "orderyear": "2007",
                                    "ordermonth": "10",
                                    "orderday": "24",
                                    "salesvalue": "1976.75"
                                },
                                {
                                    "orderyear": "NULL",
                                    "ordermonth": "10",
                                    "orderday": "24",
                                    "salesvalue": "4443.75"
                                },
                                {
                                    "orderyear": "2007",
                                    "ordermonth": "11",
                                    "orderday": "24",
                                    "salesvalue": "1883.48"
                                },
                                {
                                    "orderyear": "NULL",
                                    "ordermonth": "11",
                                    "orderday": "24",
                                    "salesvalue": "1883.48"
                                },
                                {
                                    "orderyear": "2006",
                                    "ordermonth": "12",
                                    "orderday": "24",
                                    "salesvalue": "1440.00"
                                },
                                {
                                    "orderyear": "2007",
                                    "ordermonth": "12",
                                    "orderday": "24",
                                    "salesvalue": "2663.86"
                                },
                                {
                                    "orderyear": "NULL",
                                    "ordermonth": "12",
                                    "orderday": "24",
                                    "salesvalue": "4103.86"
                                },
                                {
                                    "orderyear": "NULL",
                                    "ordermonth": "NULL",
                                    "orderday": "24",
                                    "salesvalue": "27618.94"
                                },
                                {
                                    "orderyear": "2007",
                                    "ordermonth": "2",
                                    "orderday": "25",
                                    "salesvalue": "2141.60"
                                },
                                {
                                    "orderyear": "2008",
                                    "ordermonth": "2",
                                    "orderday": "25",
                                    "salesvalue": "536.00"
                                },
                                {
                                    "orderyear": "NULL",
                                    "ordermonth": "2",
                                    "orderday": "25",
                                    "salesvalue": "2677.60"
                                },
                                {
                                    "orderyear": "2007",
                                    "ordermonth": "3",
                                    "orderday": "25",
                                    "salesvalue": "1584.00"
                                },
                                {
                                    "orderyear": "2008",
                                    "ordermonth": "3",
                                    "orderday": "25",
                                    "salesvalue": "2068.50"
                                },
                                {
                                    "orderyear": "NULL",
                                    "ordermonth": "3",
                                    "orderday": "25",
                                    "salesvalue": "3652.50"
                                },
                                {
                                    "orderyear": "2007",
                                    "ordermonth": "4",
                                    "orderday": "25",
                                    "salesvalue": "4150.05"
                                },
                                {
                                    "orderyear": "NULL",
                                    "ordermonth": "4",
                                    "orderday": "25",
                                    "salesvalue": "4150.05"
                                },
                                {
                                    "orderyear": "2007",
                                    "ordermonth": "6",
                                    "orderday": "25",
                                    "salesvalue": "317.75"
                                },
                                {
                                    "orderyear": "NULL",
                                    "ordermonth": "6",
                                    "orderday": "25",
                                    "salesvalue": "317.75"
                                },
                                {
                                    "orderyear": "2006",
                                    "ordermonth": "7",
                                    "orderday": "25",
                                    "salesvalue": "1176.00"
                                },
                                {
                                    "orderyear": "2007",
                                    "ordermonth": "7",
                                    "orderday": "25",
                                    "salesvalue": "1107.25"
                                },
                                {
                                    "orderyear": "NULL",
                                    "ordermonth": "7",
                                    "orderday": "25",
                                    "salesvalue": "2283.25"
                                },
                                {
                                    "orderyear": "2007",
                                    "ordermonth": "8",
                                    "orderday": "25",
                                    "salesvalue": "2186.30"
                                },
                                {
                                    "orderyear": "NULL",
                                    "ordermonth": "8",
                                    "orderday": "25",
                                    "salesvalue": "2186.30"
                                },
                                {
                                    "orderyear": "2006",
                                    "ordermonth": "9",
                                    "orderday": "25",
                                    "salesvalue": "2094.30"
                                },
                                {
                                    "orderyear": "2007",
                                    "ordermonth": "9",
                                    "orderday": "25",
                                    "salesvalue": "1662.90"
                                },
                                {
                                    "orderyear": "NULL",
                                    "ordermonth": "9",
                                    "orderday": "25",
                                    "salesvalue": "3757.20"
                                },
                                {
                                    "orderyear": "2006",
                                    "ordermonth": "10",
                                    "orderday": "25",
                                    "salesvalue": "934.50"
                                },
                                {
                                    "orderyear": "NULL",
                                    "ordermonth": "10",
                                    "orderday": "25",
                                    "salesvalue": "934.50"
                                },
                                {
                                    "orderyear": "2006",
                                    "ordermonth": "11",
                                    "orderday": "25",
                                    "salesvalue": "1549.60"
                                },
                                {
                                    "orderyear": "2007",
                                    "ordermonth": "11",
                                    "orderday": "25",
                                    "salesvalue": "143.20"
                                },
                                {
                                    "orderyear": "NULL",
                                    "ordermonth": "11",
                                    "orderday": "25",
                                    "salesvalue": "1692.80"
                                },
                                {
                                    "orderyear": "2006",
                                    "ordermonth": "12",
                                    "orderday": "25",
                                    "salesvalue": "2998.95"
                                },
                                {
                                    "orderyear": "2007",
                                    "ordermonth": "12",
                                    "orderday": "25",
                                    "salesvalue": "2761.36"
                                },
                                {
                                    "orderyear": "NULL",
                                    "ordermonth": "12",
                                    "orderday": "25",
                                    "salesvalue": "5760.31"
                                },
                                {
                                    "orderyear": "NULL",
                                    "ordermonth": "NULL",
                                    "orderday": "25",
                                    "salesvalue": "27412.26"
                                },
                                {
                                    "orderyear": "2008",
                                    "ordermonth": "1",
                                    "orderday": "26",
                                    "salesvalue": "5587.00"
                                },
                                {
                                    "orderyear": "NULL",
                                    "ordermonth": "1",
                                    "orderday": "26",
                                    "salesvalue": "5587.00"
                                },
                                {
                                    "orderyear": "2007",
                                    "ordermonth": "2",
                                    "orderday": "26",
                                    "salesvalue": "3891.00"
                                },
                                {
                                    "orderyear": "2008",
                                    "ordermonth": "2",
                                    "orderday": "26",
                                    "salesvalue": "9613.30"
                                },
                                {
                                    "orderyear": "NULL",
                                    "ordermonth": "2",
                                    "orderday": "26",
                                    "salesvalue": "13504.30"
                                },
                                {
                                    "orderyear": "2007",
                                    "ordermonth": "3",
                                    "orderday": "26",
                                    "salesvalue": "2161.70"
                                },
                                {
                                    "orderyear": "2008",
                                    "ordermonth": "3",
                                    "orderday": "26",
                                    "salesvalue": "8349.70"
                                },
                                {
                                    "orderyear": "NULL",
                                    "ordermonth": "3",
                                    "orderday": "26",
                                    "salesvalue": "10511.40"
                                },
                                {
                                    "orderyear": "2007",
                                    "ordermonth": "5",
                                    "orderday": "26",
                                    "salesvalue": "240.10"
                                },
                                {
                                    "orderyear": "NULL",
                                    "ordermonth": "5",
                                    "orderday": "26",
                                    "salesvalue": "240.10"
                                },
                                {
                                    "orderyear": "2007",
                                    "ordermonth": "6",
                                    "orderday": "26",
                                    "salesvalue": "1323.75"
                                },
                                {
                                    "orderyear": "NULL",
                                    "ordermonth": "6",
                                    "orderday": "26",
                                    "salesvalue": "1323.75"
                                },
                                {
                                    "orderyear": "2006",
                                    "ordermonth": "7",
                                    "orderday": "26",
                                    "salesvalue": "346.56"
                                },
                                {
                                    "orderyear": "NULL",
                                    "ordermonth": "7",
                                    "orderday": "26",
                                    "salesvalue": "346.56"
                                },
                                {
                                    "orderyear": "2006",
                                    "ordermonth": "8",
                                    "orderday": "26",
                                    "salesvalue": "479.40"
                                },
                                {
                                    "orderyear": "2007",
                                    "ordermonth": "8",
                                    "orderday": "26",
                                    "salesvalue": "1535.00"
                                },
                                {
                                    "orderyear": "NULL",
                                    "ordermonth": "8",
                                    "orderday": "26",
                                    "salesvalue": "2014.40"
                                },
                                {
                                    "orderyear": "2006",
                                    "ordermonth": "9",
                                    "orderday": "26",
                                    "salesvalue": "516.80"
                                },
                                {
                                    "orderyear": "2007",
                                    "ordermonth": "9",
                                    "orderday": "26",
                                    "salesvalue": "1831.00"
                                },
                                {
                                    "orderyear": "NULL",
                                    "ordermonth": "9",
                                    "orderday": "26",
                                    "salesvalue": "2347.80"
                                },
                                {
                                    "orderyear": "2006",
                                    "ordermonth": "11",
                                    "orderday": "26",
                                    "salesvalue": "1397.20"
                                },
                                {
                                    "orderyear": "2007",
                                    "ordermonth": "11",
                                    "orderday": "26",
                                    "salesvalue": "1948.50"
                                },
                                {
                                    "orderyear": "NULL",
                                    "ordermonth": "11",
                                    "orderday": "26",
                                    "salesvalue": "3345.70"
                                },
                                {
                                    "orderyear": "2006",
                                    "ordermonth": "12",
                                    "orderday": "26",
                                    "salesvalue": "2122.92"
                                },
                                {
                                    "orderyear": "2007",
                                    "ordermonth": "12",
                                    "orderday": "26",
                                    "salesvalue": "3469.04"
                                },
                                {
                                    "orderyear": "NULL",
                                    "ordermonth": "12",
                                    "orderday": "26",
                                    "salesvalue": "5591.96"
                                },
                                {
                                    "orderyear": "NULL",
                                    "ordermonth": "NULL",
                                    "orderday": "26",
                                    "salesvalue": "44812.97"
                                },
                                {
                                    "orderyear": "2007",
                                    "ordermonth": "1",
                                    "orderday": "27",
                                    "salesvalue": "989.20"
                                },
                                {
                                    "orderyear": "2008",
                                    "ordermonth": "1",
                                    "orderday": "27",
                                    "salesvalue": "5819.39"
                                },
                                {
                                    "orderyear": "NULL",
                                    "ordermonth": "1",
                                    "orderday": "27",
                                    "salesvalue": "6808.59"
                                },
                                {
                                    "orderyear": "2007",
                                    "ordermonth": "2",
                                    "orderday": "27",
                                    "salesvalue": "1659.20"
                                },
                                {
                                    "orderyear": "2008",
                                    "ordermonth": "2",
                                    "orderday": "27",
                                    "salesvalue": "1763.70"
                                },
                                {
                                    "orderyear": "NULL",
                                    "ordermonth": "2",
                                    "orderday": "27",
                                    "salesvalue": "3422.90"
                                },
                                {
                                    "orderyear": "2007",
                                    "ordermonth": "3",
                                    "orderday": "27",
                                    "salesvalue": "1512.00"
                                },
                                {
                                    "orderyear": "2008",
                                    "ordermonth": "3",
                                    "orderday": "27",
                                    "salesvalue": "17792.90"
                                },
                                {
                                    "orderyear": "NULL",
                                    "ordermonth": "3",
                                    "orderday": "27",
                                    "salesvalue": "19304.90"
                                },
                                {
                                    "orderyear": "2008",
                                    "ordermonth": "4",
                                    "orderday": "27",
                                    "salesvalue": "5233.00"
                                },
                                {
                                    "orderyear": "NULL",
                                    "ordermonth": "4",
                                    "orderday": "27",
                                    "salesvalue": "5233.00"
                                },
                                {
                                    "orderyear": "2007",
                                    "ordermonth": "5",
                                    "orderday": "27",
                                    "salesvalue": "3554.28"
                                },
                                {
                                    "orderyear": "NULL",
                                    "ordermonth": "5",
                                    "orderday": "27",
                                    "salesvalue": "3554.28"
                                },
                                {
                                    "orderyear": "2007",
                                    "ordermonth": "6",
                                    "orderday": "27",
                                    "salesvalue": "330.00"
                                },
                                {
                                    "orderyear": "NULL",
                                    "ordermonth": "6",
                                    "orderday": "27",
                                    "salesvalue": "330.00"
                                },
                                {
                                    "orderyear": "2006",
                                    "ordermonth": "8",
                                    "orderday": "27",
                                    "salesvalue": "2666.52"
                                },
                                {
                                    "orderyear": "2007",
                                    "ordermonth": "8",
                                    "orderday": "27",
                                    "salesvalue": "2082.00"
                                },
                                {
                                    "orderyear": "NULL",
                                    "ordermonth": "8",
                                    "orderday": "27",
                                    "salesvalue": "4748.52"
                                },
                                {
                                    "orderyear": "2006",
                                    "ordermonth": "9",
                                    "orderday": "27",
                                    "salesvalue": "2835.00"
                                },
                                {
                                    "orderyear": "NULL",
                                    "ordermonth": "9",
                                    "orderday": "27",
                                    "salesvalue": "2835.00"
                                },
                                {
                                    "orderyear": "2007",
                                    "ordermonth": "10",
                                    "orderday": "27",
                                    "salesvalue": "4307.25"
                                },
                                {
                                    "orderyear": "NULL",
                                    "ordermonth": "10",
                                    "orderday": "27",
                                    "salesvalue": "4307.25"
                                },
                                {
                                    "orderyear": "2006",
                                    "ordermonth": "11",
                                    "orderday": "27",
                                    "salesvalue": "403.20"
                                },
                                {
                                    "orderyear": "2007",
                                    "ordermonth": "11",
                                    "orderday": "27",
                                    "salesvalue": "5072.00"
                                },
                                {
                                    "orderyear": "NULL",
                                    "ordermonth": "11",
                                    "orderday": "27",
                                    "salesvalue": "5475.20"
                                },
                                {
                                    "orderyear": "2006",
                                    "ordermonth": "12",
                                    "orderday": "27",
                                    "salesvalue": "2620.52"
                                },
                                {
                                    "orderyear": "NULL",
                                    "ordermonth": "12",
                                    "orderday": "27",
                                    "salesvalue": "2620.52"
                                },
                                {
                                    "orderyear": "NULL",
                                    "ordermonth": "NULL",
                                    "orderday": "27",
                                    "salesvalue": "58640.16"
                                },
                                {
                                    "orderyear": "2007",
                                    "ordermonth": "1",
                                    "orderday": "28",
                                    "salesvalue": "192.00"
                                },
                                {
                                    "orderyear": "2008",
                                    "ordermonth": "1",
                                    "orderday": "28",
                                    "salesvalue": "2708.21"
                                },
                                {
                                    "orderyear": "NULL",
                                    "ordermonth": "1",
                                    "orderday": "28",
                                    "salesvalue": "2900.21"
                                },
                                {
                                    "orderyear": "2007",
                                    "ordermonth": "2",
                                    "orderday": "28",
                                    "salesvalue": "1714.80"
                                },
                                {
                                    "orderyear": "NULL",
                                    "ordermonth": "2",
                                    "orderday": "28",
                                    "salesvalue": "1714.80"
                                },
                                {
                                    "orderyear": "2007",
                                    "ordermonth": "3",
                                    "orderday": "28",
                                    "salesvalue": "439.20"
                                },
                                {
                                    "orderyear": "NULL",
                                    "ordermonth": "3",
                                    "orderday": "28",
                                    "salesvalue": "439.20"
                                },
                                {
                                    "orderyear": "2007",
                                    "ordermonth": "4",
                                    "orderday": "28",
                                    "salesvalue": "2314.20"
                                },
                                {
                                    "orderyear": "2008",
                                    "ordermonth": "4",
                                    "orderday": "28",
                                    "salesvalue": "5772.50"
                                },
                                {
                                    "orderyear": "NULL",
                                    "ordermonth": "4",
                                    "orderday": "28",
                                    "salesvalue": "8086.70"
                                },
                                {
                                    "orderyear": "2007",
                                    "ordermonth": "5",
                                    "orderday": "28",
                                    "salesvalue": "2360.60"
                                },
                                {
                                    "orderyear": "NULL",
                                    "ordermonth": "5",
                                    "orderday": "28",
                                    "salesvalue": "2360.60"
                                },
                                {
                                    "orderyear": "2007",
                                    "ordermonth": "7",
                                    "orderday": "28",
                                    "salesvalue": "6375.00"
                                },
                                {
                                    "orderyear": "NULL",
                                    "ordermonth": "7",
                                    "orderday": "28",
                                    "salesvalue": "6375.00"
                                },
                                {
                                    "orderyear": "2006",
                                    "ordermonth": "8",
                                    "orderday": "28",
                                    "salesvalue": "1296.00"
                                },
                                {
                                    "orderyear": "2007",
                                    "ordermonth": "8",
                                    "orderday": "28",
                                    "salesvalue": "1806.38"
                                },
                                {
                                    "orderyear": "NULL",
                                    "ordermonth": "8",
                                    "orderday": "28",
                                    "salesvalue": "3102.38"
                                },
                                {
                                    "orderyear": "2006",
                                    "ordermonth": "10",
                                    "orderday": "28",
                                    "salesvalue": "3354.00"
                                },
                                {
                                    "orderyear": "2007",
                                    "ordermonth": "10",
                                    "orderday": "28",
                                    "salesvalue": "550.00"
                                },
                                {
                                    "orderyear": "NULL",
                                    "ordermonth": "10",
                                    "orderday": "28",
                                    "salesvalue": "3904.00"
                                },
                                {
                                    "orderyear": "2006",
                                    "ordermonth": "11",
                                    "orderday": "28",
                                    "salesvalue": "970.20"
                                },
                                {
                                    "orderyear": "2007",
                                    "ordermonth": "11",
                                    "orderday": "28",
                                    "salesvalue": "1964.60"
                                },
                                {
                                    "orderyear": "NULL",
                                    "ordermonth": "11",
                                    "orderday": "28",
                                    "salesvalue": "2934.80"
                                },
                                {
                                    "orderyear": "NULL",
                                    "ordermonth": "NULL",
                                    "orderday": "28",
                                    "salesvalue": "31817.69"
                                },
                                {
                                    "orderyear": "2007",
                                    "ordermonth": "1",
                                    "orderday": "29",
                                    "salesvalue": "1441.38"
                                },
                                {
                                    "orderyear": "2008",
                                    "ordermonth": "1",
                                    "orderday": "29",
                                    "salesvalue": "2246.69"
                                },
                                {
                                    "orderyear": "NULL",
                                    "ordermonth": "1",
                                    "orderday": "29",
                                    "salesvalue": "3688.07"
                                },
                                {
                                    "orderyear": "2007",
                                    "ordermonth": "4",
                                    "orderday": "29",
                                    "salesvalue": "425.50"
                                },
                                {
                                    "orderyear": "2008",
                                    "ordermonth": "4",
                                    "orderday": "29",
                                    "salesvalue": "2741.00"
                                },
                                {
                                    "orderyear": "NULL",
                                    "ordermonth": "4",
                                    "orderday": "29",
                                    "salesvalue": "3166.50"
                                },
                                {
                                    "orderyear": "2007",
                                    "ordermonth": "5",
                                    "orderday": "29",
                                    "salesvalue": "880.50"
                                },
                                {
                                    "orderyear": "NULL",
                                    "ordermonth": "5",
                                    "orderday": "29",
                                    "salesvalue": "880.50"
                                },
                                {
                                    "orderyear": "2006",
                                    "ordermonth": "7",
                                    "orderday": "29",
                                    "salesvalue": "3536.60"
                                },
                                {
                                    "orderyear": "2007",
                                    "ordermonth": "7",
                                    "orderday": "29",
                                    "salesvalue": "817.20"
                                },
                                {
                                    "orderyear": "NULL",
                                    "ordermonth": "7",
                                    "orderday": "29",
                                    "salesvalue": "4353.80"
                                },
                                {
                                    "orderyear": "2006",
                                    "ordermonth": "8",
                                    "orderday": "29",
                                    "salesvalue": "848.70"
                                },
                                {
                                    "orderyear": "2007",
                                    "ordermonth": "8",
                                    "orderday": "29",
                                    "salesvalue": "1779.20"
                                },
                                {
                                    "orderyear": "NULL",
                                    "ordermonth": "8",
                                    "orderday": "29",
                                    "salesvalue": "2627.90"
                                },
                                {
                                    "orderyear": "2007",
                                    "ordermonth": "9",
                                    "orderday": "29",
                                    "salesvalue": "801.10"
                                },
                                {
                                    "orderyear": "NULL",
                                    "ordermonth": "9",
                                    "orderday": "29",
                                    "salesvalue": "801.10"
                                },
                                {
                                    "orderyear": "2006",
                                    "ordermonth": "10",
                                    "orderday": "29",
                                    "salesvalue": "2788.78"
                                },
                                {
                                    "orderyear": "2007",
                                    "ordermonth": "10",
                                    "orderday": "29",
                                    "salesvalue": "2493.88"
                                },
                                {
                                    "orderyear": "NULL",
                                    "ordermonth": "10",
                                    "orderday": "29",
                                    "salesvalue": "5282.66"
                                },
                                {
                                    "orderyear": "2006",
                                    "ordermonth": "11",
                                    "orderday": "29",
                                    "salesvalue": "1689.78"
                                },
                                {
                                    "orderyear": "NULL",
                                    "ordermonth": "11",
                                    "orderday": "29",
                                    "salesvalue": "1689.78"
                                },
                                {
                                    "orderyear": "2007",
                                    "ordermonth": "12",
                                    "orderday": "29",
                                    "salesvalue": "5969.66"
                                },
                                {
                                    "orderyear": "NULL",
                                    "ordermonth": "12",
                                    "orderday": "29",
                                    "salesvalue": "5969.66"
                                },
                                {
                                    "orderyear": "NULL",
                                    "ordermonth": "NULL",
                                    "orderday": "29",
                                    "salesvalue": "28459.97"
                                },
                                {
                                    "orderyear": "2007",
                                    "ordermonth": "1",
                                    "orderday": "30",
                                    "salesvalue": "6791.45"
                                },
                                {
                                    "orderyear": "2008",
                                    "ordermonth": "1",
                                    "orderday": "30",
                                    "salesvalue": "4104.40"
                                },
                                {
                                    "orderyear": "NULL",
                                    "ordermonth": "1",
                                    "orderday": "30",
                                    "salesvalue": "10895.85"
                                },
                                {
                                    "orderyear": "2008",
                                    "ordermonth": "3",
                                    "orderday": "30",
                                    "salesvalue": "6053.13"
                                },
                                {
                                    "orderyear": "NULL",
                                    "ordermonth": "3",
                                    "orderday": "30",
                                    "salesvalue": "6053.13"
                                },
                                {
                                    "orderyear": "2007",
                                    "ordermonth": "4",
                                    "orderday": "30",
                                    "salesvalue": "2318.24"
                                },
                                {
                                    "orderyear": "2008",
                                    "ordermonth": "4",
                                    "orderday": "30",
                                    "salesvalue": "2525.35"
                                },
                                {
                                    "orderyear": "NULL",
                                    "ordermonth": "4",
                                    "orderday": "30",
                                    "salesvalue": "4843.59"
                                },
                                {
                                    "orderyear": "2007",
                                    "ordermonth": "5",
                                    "orderday": "30",
                                    "salesvalue": "3274.83"
                                },
                                {
                                    "orderyear": "NULL",
                                    "ordermonth": "5",
                                    "orderday": "30",
                                    "salesvalue": "3274.83"
                                },
                                {
                                    "orderyear": "2007",
                                    "ordermonth": "6",
                                    "orderday": "30",
                                    "salesvalue": "2831.25"
                                },
                                {
                                    "orderyear": "NULL",
                                    "ordermonth": "6",
                                    "orderday": "30",
                                    "salesvalue": "2831.25"
                                },
                                {
                                    "orderyear": "2006",
                                    "ordermonth": "7",
                                    "orderday": "30",
                                    "salesvalue": "1101.20"
                                },
                                {
                                    "orderyear": "2007",
                                    "ordermonth": "7",
                                    "orderday": "30",
                                    "salesvalue": "120.00"
                                },
                                {
                                    "orderyear": "NULL",
                                    "ordermonth": "7",
                                    "orderday": "30",
                                    "salesvalue": "1221.20"
                                },
                                {
                                    "orderyear": "2006",
                                    "ordermonth": "8",
                                    "orderday": "30",
                                    "salesvalue": "1887.60"
                                },
                                {
                                    "orderyear": "NULL",
                                    "ordermonth": "8",
                                    "orderday": "30",
                                    "salesvalue": "1887.60"
                                },
                                {
                                    "orderyear": "2006",
                                    "ordermonth": "9",
                                    "orderday": "30",
                                    "salesvalue": "288.00"
                                },
                                {
                                    "orderyear": "2007",
                                    "ordermonth": "9",
                                    "orderday": "30",
                                    "salesvalue": "6365.35"
                                },
                                {
                                    "orderyear": "NULL",
                                    "ordermonth": "9",
                                    "orderday": "30",
                                    "salesvalue": "6653.35"
                                },
                                {
                                    "orderyear": "2006",
                                    "ordermonth": "10",
                                    "orderday": "30",
                                    "salesvalue": "1840.64"
                                },
                                {
                                    "orderyear": "2007",
                                    "ordermonth": "10",
                                    "orderday": "30",
                                    "salesvalue": "1106.95"
                                },
                                {
                                    "orderyear": "NULL",
                                    "ordermonth": "10",
                                    "orderday": "30",
                                    "salesvalue": "2947.59"
                                },
                                {
                                    "orderyear": "2006",
                                    "ordermonth": "12",
                                    "orderday": "30",
                                    "salesvalue": "2505.60"
                                },
                                {
                                    "orderyear": "2007",
                                    "ordermonth": "12",
                                    "orderday": "30",
                                    "salesvalue": "6246.41"
                                },
                                {
                                    "orderyear": "NULL",
                                    "ordermonth": "12",
                                    "orderday": "30",
                                    "salesvalue": "8752.01"
                                },
                                {
                                    "orderyear": "NULL",
                                    "ordermonth": "NULL",
                                    "orderday": "30",
                                    "salesvalue": "49360.40"
                                },
                                {
                                    "orderyear": "2007",
                                    "ordermonth": "1",
                                    "orderday": "31",
                                    "salesvalue": "485.00"
                                },
                                {
                                    "orderyear": "NULL",
                                    "ordermonth": "1",
                                    "orderday": "31",
                                    "salesvalue": "485.00"
                                },
                                {
                                    "orderyear": "2007",
                                    "ordermonth": "3",
                                    "orderday": "31",
                                    "salesvalue": "3422.71"
                                },
                                {
                                    "orderyear": "2008",
                                    "ordermonth": "3",
                                    "orderday": "31",
                                    "salesvalue": "7700.40"
                                },
                                {
                                    "orderyear": "NULL",
                                    "ordermonth": "3",
                                    "orderday": "31",
                                    "salesvalue": "11123.11"
                                },
                                {
                                    "orderyear": "2006",
                                    "ordermonth": "7",
                                    "orderday": "31",
                                    "salesvalue": "642.20"
                                },
                                {
                                    "orderyear": "2007",
                                    "ordermonth": "7",
                                    "orderday": "31",
                                    "salesvalue": "6209.50"
                                },
                                {
                                    "orderyear": "NULL",
                                    "ordermonth": "7",
                                    "orderday": "31",
                                    "salesvalue": "6851.70"
                                },
                                {
                                    "orderyear": "2006",
                                    "ordermonth": "10",
                                    "orderday": "31",
                                    "salesvalue": "1584.00"
                                },
                                {
                                    "orderyear": "2007",
                                    "ordermonth": "10",
                                    "orderday": "31",
                                    "salesvalue": "287.80"
                                },
                                {
                                    "orderyear": "NULL",
                                    "ordermonth": "10",
                                    "orderday": "31",
                                    "salesvalue": "1871.80"
                                },
                                {
                                    "orderyear": "2006",
                                    "ordermonth": "12",
                                    "orderday": "31",
                                    "salesvalue": "1765.60"
                                },
                                {
                                    "orderyear": "2007",
                                    "ordermonth": "12",
                                    "orderday": "31",
                                    "salesvalue": "458.00"
                                },
                                {
                                    "orderyear": "NULL",
                                    "ordermonth": "12",
                                    "orderday": "31",
                                    "salesvalue": "2223.60"
                                },
                                {
                                    "orderyear": "NULL",
                                    "ordermonth": "NULL",
                                    "orderday": "31",
                                    "salesvalue": "22555.21"
                                },
                                {
                                    "orderyear": "NULL",
                                    "ordermonth": "NULL",
                                    "orderday": "NULL",
                                    "salesvalue": "1265793.22"
                                },
                                {
                                    "orderyear": "2006",
                                    "ordermonth": "NULL",
                                    "orderday": "1",
                                    "salesvalue": "3960.40"
                                },
                                {
                                    "orderyear": "2006",
                                    "ordermonth": "NULL",
                                    "orderday": "2",
                                    "salesvalue": "5159.20"
                                },
                                {
                                    "orderyear": "2006",
                                    "ordermonth": "NULL",
                                    "orderday": "3",
                                    "salesvalue": "2901.16"
                                },
                                {
                                    "orderyear": "2006",
                                    "ordermonth": "NULL",
                                    "orderday": "4",
                                    "salesvalue": "14107.70"
                                },
                                {
                                    "orderyear": "2006",
                                    "ordermonth": "NULL",
                                    "orderday": "5",
                                    "salesvalue": "9989.96"
                                },
                                {
                                    "orderyear": "2006",
                                    "ordermonth": "NULL",
                                    "orderday": "6",
                                    "salesvalue": "2040.52"
                                },
                                {
                                    "orderyear": "2006",
                                    "ordermonth": "NULL",
                                    "orderday": "7",
                                    "salesvalue": "819.84"
                                },
                                {
                                    "orderyear": "2006",
                                    "ordermonth": "NULL",
                                    "orderday": "8",
                                    "salesvalue": "8043.98"
                                },
                                {
                                    "orderyear": "2006",
                                    "ordermonth": "NULL",
                                    "orderday": "9",
                                    "salesvalue": "8921.30"
                                },
                                {
                                    "orderyear": "2006",
                                    "ordermonth": "NULL",
                                    "orderday": "10",
                                    "salesvalue": "5238.80"
                                },
                                {
                                    "orderyear": "2006",
                                    "ordermonth": "NULL",
                                    "orderday": "11",
                                    "salesvalue": "10388.49"
                                },
                                {
                                    "orderyear": "2006",
                                    "ordermonth": "NULL",
                                    "orderday": "12",
                                    "salesvalue": "6495.82"
                                },
                                {
                                    "orderyear": "2006",
                                    "ordermonth": "NULL",
                                    "orderday": "13",
                                    "salesvalue": "15585.58"
                                },
                                {
                                    "orderyear": "2006",
                                    "ordermonth": "NULL",
                                    "orderday": "14",
                                    "salesvalue": "2436.50"
                                },
                                {
                                    "orderyear": "2006",
                                    "ordermonth": "NULL",
                                    "orderday": "15",
                                    "salesvalue": "5731.63"
                                },
                                {
                                    "orderyear": "2006",
                                    "ordermonth": "NULL",
                                    "orderday": "16",
                                    "salesvalue": "7892.10"
                                },
                                {
                                    "orderyear": "2006",
                                    "ordermonth": "NULL",
                                    "orderday": "17",
                                    "salesvalue": "4516.96"
                                },
                                {
                                    "orderyear": "2006",
                                    "ordermonth": "NULL",
                                    "orderday": "18",
                                    "salesvalue": "3397.60"
                                },
                                {
                                    "orderyear": "2006",
                                    "ordermonth": "NULL",
                                    "orderday": "19",
                                    "salesvalue": "7281.51"
                                },
                                {
                                    "orderyear": "2006",
                                    "ordermonth": "NULL",
                                    "orderday": "20",
                                    "salesvalue": "4610.36"
                                },
                                {
                                    "orderyear": "2006",
                                    "ordermonth": "NULL",
                                    "orderday": "21",
                                    "salesvalue": "6632.48"
                                },
                                {
                                    "orderyear": "2006",
                                    "ordermonth": "NULL",
                                    "orderday": "22",
                                    "salesvalue": "12875.60"
                                },
                                {
                                    "orderyear": "2006",
                                    "ordermonth": "NULL",
                                    "orderday": "23",
                                    "salesvalue": "6031.10"
                                },
                                {
                                    "orderyear": "2006",
                                    "ordermonth": "NULL",
                                    "orderday": "24",
                                    "salesvalue": "4785.03"
                                },
                                {
                                    "orderyear": "2006",
                                    "ordermonth": "NULL",
                                    "orderday": "25",
                                    "salesvalue": "8753.35"
                                },
                                {
                                    "orderyear": "2006",
                                    "ordermonth": "NULL",
                                    "orderday": "26",
                                    "salesvalue": "4862.88"
                                },
                                {
                                    "orderyear": "2006",
                                    "ordermonth": "NULL",
                                    "orderday": "27",
                                    "salesvalue": "8525.24"
                                },
                                {
                                    "orderyear": "2006",
                                    "ordermonth": "NULL",
                                    "orderday": "28",
                                    "salesvalue": "5620.20"
                                },
                                {
                                    "orderyear": "2006",
                                    "ordermonth": "NULL",
                                    "orderday": "29",
                                    "salesvalue": "8863.86"
                                },
                                {
                                    "orderyear": "2006",
                                    "ordermonth": "NULL",
                                    "orderday": "30",
                                    "salesvalue": "7623.04"
                                },
                                {
                                    "orderyear": "2006",
                                    "ordermonth": "NULL",
                                    "orderday": "31",
                                    "salesvalue": "3991.80"
                                },
                                {
                                    "orderyear": "2006",
                                    "ordermonth": "NULL",
                                    "orderday": "NULL",
                                    "salesvalue": "208083.99"
                                },
                                {
                                    "orderyear": "2007",
                                    "ordermonth": "NULL",
                                    "orderday": "1",
                                    "salesvalue": "23526.50"
                                },
                                {
                                    "orderyear": "2007",
                                    "ordermonth": "NULL",
                                    "orderday": "2",
                                    "salesvalue": "16219.36"
                                },
                                {
                                    "orderyear": "2007",
                                    "ordermonth": "NULL",
                                    "orderday": "3",
                                    "salesvalue": "25538.99"
                                },
                                {
                                    "orderyear": "2007",
                                    "ordermonth": "NULL",
                                    "orderday": "4",
                                    "salesvalue": "17637.85"
                                },
                                {
                                    "orderyear": "2007",
                                    "ordermonth": "NULL",
                                    "orderday": "5",
                                    "salesvalue": "17410.21"
                                },
                                {
                                    "orderyear": "2007",
                                    "ordermonth": "NULL",
                                    "orderday": "6",
                                    "salesvalue": "15321.03"
                                },
                                {
                                    "orderyear": "2007",
                                    "ordermonth": "NULL",
                                    "orderday": "7",
                                    "salesvalue": "14584.42"
                                },
                                {
                                    "orderyear": "2007",
                                    "ordermonth": "NULL",
                                    "orderday": "8",
                                    "salesvalue": "14984.33"
                                },
                                {
                                    "orderyear": "2007",
                                    "ordermonth": "NULL",
                                    "orderday": "9",
                                    "salesvalue": "9310.70"
                                },
                                {
                                    "orderyear": "2007",
                                    "ordermonth": "NULL",
                                    "orderday": "10",
                                    "salesvalue": "26485.78"
                                },
                                {
                                    "orderyear": "2007",
                                    "ordermonth": "NULL",
                                    "orderday": "11",
                                    "salesvalue": "18936.96"
                                },
                                {
                                    "orderyear": "2007",
                                    "ordermonth": "NULL",
                                    "orderday": "12",
                                    "salesvalue": "19502.98"
                                },
                                {
                                    "orderyear": "2007",
                                    "ordermonth": "NULL",
                                    "orderday": "13",
                                    "salesvalue": "9599.15"
                                },
                                {
                                    "orderyear": "2007",
                                    "ordermonth": "NULL",
                                    "orderday": "14",
                                    "salesvalue": "18150.35"
                                },
                                {
                                    "orderyear": "2007",
                                    "ordermonth": "NULL",
                                    "orderday": "15",
                                    "salesvalue": "20828.71"
                                },
                                {
                                    "orderyear": "2007",
                                    "ordermonth": "NULL",
                                    "orderday": "16",
                                    "salesvalue": "24145.95"
                                },
                                {
                                    "orderyear": "2007",
                                    "ordermonth": "NULL",
                                    "orderday": "17",
                                    "salesvalue": "16581.40"
                                },
                                {
                                    "orderyear": "2007",
                                    "ordermonth": "NULL",
                                    "orderday": "18",
                                    "salesvalue": "22413.26"
                                },
                                {
                                    "orderyear": "2007",
                                    "ordermonth": "NULL",
                                    "orderday": "19",
                                    "salesvalue": "42947.73"
                                },
                                {
                                    "orderyear": "2007",
                                    "ordermonth": "NULL",
                                    "orderday": "20",
                                    "salesvalue": "15550.16"
                                },
                                {
                                    "orderyear": "2007",
                                    "ordermonth": "NULL",
                                    "orderday": "21",
                                    "salesvalue": "18329.20"
                                },
                                {
                                    "orderyear": "2007",
                                    "ordermonth": "NULL",
                                    "orderday": "22",
                                    "salesvalue": "32703.92"
                                },
                                {
                                    "orderyear": "2007",
                                    "ordermonth": "NULL",
                                    "orderday": "23",
                                    "salesvalue": "36654.22"
                                },
                                {
                                    "orderyear": "2007",
                                    "ordermonth": "NULL",
                                    "orderday": "24",
                                    "salesvalue": "15519.02"
                                },
                                {
                                    "orderyear": "2007",
                                    "ordermonth": "NULL",
                                    "orderday": "25",
                                    "salesvalue": "16054.41"
                                },
                                {
                                    "orderyear": "2007",
                                    "ordermonth": "NULL",
                                    "orderday": "26",
                                    "salesvalue": "16400.09"
                                },
                                {
                                    "orderyear": "2007",
                                    "ordermonth": "NULL",
                                    "orderday": "27",
                                    "salesvalue": "19505.93"
                                },
                                {
                                    "orderyear": "2007",
                                    "ordermonth": "NULL",
                                    "orderday": "28",
                                    "salesvalue": "17716.78"
                                },
                                {
                                    "orderyear": "2007",
                                    "ordermonth": "NULL",
                                    "orderday": "29",
                                    "salesvalue": "14608.42"
                                },
                                {
                                    "orderyear": "2007",
                                    "ordermonth": "NULL",
                                    "orderday": "30",
                                    "salesvalue": "29054.48"
                                },
                                {
                                    "orderyear": "2007",
                                    "ordermonth": "NULL",
                                    "orderday": "31",
                                    "salesvalue": "10863.01"
                                },
                                {
                                    "orderyear": "2007",
                                    "ordermonth": "NULL",
                                    "orderday": "NULL",
                                    "salesvalue": "617085.30"
                                },
                                {
                                    "orderyear": "2008",
                                    "ordermonth": "NULL",
                                    "orderday": "1",
                                    "salesvalue": "18736.46"
                                },
                                {
                                    "orderyear": "2008",
                                    "ordermonth": "NULL",
                                    "orderday": "2",
                                    "salesvalue": "25288.14"
                                },
                                {
                                    "orderyear": "2008",
                                    "ordermonth": "NULL",
                                    "orderday": "3",
                                    "salesvalue": "8780.85"
                                },
                                {
                                    "orderyear": "2008",
                                    "ordermonth": "NULL",
                                    "orderday": "4",
                                    "salesvalue": "9009.78"
                                },
                                {
                                    "orderyear": "2008",
                                    "ordermonth": "NULL",
                                    "orderday": "5",
                                    "salesvalue": "16213.27"
                                },
                                {
                                    "orderyear": "2008",
                                    "ordermonth": "NULL",
                                    "orderday": "6",
                                    "salesvalue": "35108.09"
                                },
                                {
                                    "orderyear": "2008",
                                    "ordermonth": "NULL",
                                    "orderday": "7",
                                    "salesvalue": "3661.07"
                                },
                                {
                                    "orderyear": "2008",
                                    "ordermonth": "NULL",
                                    "orderday": "8",
                                    "salesvalue": "8847.20"
                                },
                                {
                                    "orderyear": "2008",
                                    "ordermonth": "NULL",
                                    "orderday": "9",
                                    "salesvalue": "13319.99"
                                },
                                {
                                    "orderyear": "2008",
                                    "ordermonth": "NULL",
                                    "orderday": "10",
                                    "salesvalue": "9021.51"
                                },
                                {
                                    "orderyear": "2008",
                                    "ordermonth": "NULL",
                                    "orderday": "11",
                                    "salesvalue": "6685.39"
                                },
                                {
                                    "orderyear": "2008",
                                    "ordermonth": "NULL",
                                    "orderday": "12",
                                    "salesvalue": "6873.90"
                                },
                                {
                                    "orderyear": "2008",
                                    "ordermonth": "NULL",
                                    "orderday": "13",
                                    "salesvalue": "23272.75"
                                },
                                {
                                    "orderyear": "2008",
                                    "ordermonth": "NULL",
                                    "orderday": "14",
                                    "salesvalue": "13000.15"
                                },
                                {
                                    "orderyear": "2008",
                                    "ordermonth": "NULL",
                                    "orderday": "15",
                                    "salesvalue": "6452.25"
                                },
                                {
                                    "orderyear": "2008",
                                    "ordermonth": "NULL",
                                    "orderday": "16",
                                    "salesvalue": "28420.84"
                                },
                                {
                                    "orderyear": "2008",
                                    "ordermonth": "NULL",
                                    "orderday": "17",
                                    "salesvalue": "32013.72"
                                },
                                {
                                    "orderyear": "2008",
                                    "ordermonth": "NULL",
                                    "orderday": "18",
                                    "salesvalue": "17310.06"
                                },
                                {
                                    "orderyear": "2008",
                                    "ordermonth": "NULL",
                                    "orderday": "19",
                                    "salesvalue": "19589.92"
                                },
                                {
                                    "orderyear": "2008",
                                    "ordermonth": "NULL",
                                    "orderday": "20",
                                    "salesvalue": "13727.01"
                                },
                                {
                                    "orderyear": "2008",
                                    "ordermonth": "NULL",
                                    "orderday": "21",
                                    "salesvalue": "8589.30"
                                },
                                {
                                    "orderyear": "2008",
                                    "ordermonth": "NULL",
                                    "orderday": "22",
                                    "salesvalue": "8632.67"
                                },
                                {
                                    "orderyear": "2008",
                                    "ordermonth": "NULL",
                                    "orderday": "23",
                                    "salesvalue": "10139.55"
                                },
                                {
                                    "orderyear": "2008",
                                    "ordermonth": "NULL",
                                    "orderday": "24",
                                    "salesvalue": "7314.89"
                                },
                                {
                                    "orderyear": "2008",
                                    "ordermonth": "NULL",
                                    "orderday": "25",
                                    "salesvalue": "2604.50"
                                },
                                {
                                    "orderyear": "2008",
                                    "ordermonth": "NULL",
                                    "orderday": "26",
                                    "salesvalue": "23550.00"
                                },
                                {
                                    "orderyear": "2008",
                                    "ordermonth": "NULL",
                                    "orderday": "27",
                                    "salesvalue": "30608.99"
                                },
                                {
                                    "orderyear": "2008",
                                    "ordermonth": "NULL",
                                    "orderday": "28",
                                    "salesvalue": "8480.71"
                                },
                                {
                                    "orderyear": "2008",
                                    "ordermonth": "NULL",
                                    "orderday": "29",
                                    "salesvalue": "4987.69"
                                },
                                {
                                    "orderyear": "2008",
                                    "ordermonth": "NULL",
                                    "orderday": "30",
                                    "salesvalue": "12682.88"
                                },
                                {
                                    "orderyear": "2008",
                                    "ordermonth": "NULL",
                                    "orderday": "31",
                                    "salesvalue": "7700.40"
                                },
                                {
                                    "orderyear": "2008",
                                    "ordermonth": "NULL",
                                    "orderday": "NULL",
                                    "salesvalue": "440623.93"
                                },
                                {
                                    "orderyear": "2007",
                                    "ordermonth": "1",
                                    "orderday": "NULL",
                                    "salesvalue": "61258.08"
                                },
                                {
                                    "orderyear": "2008",
                                    "ordermonth": "1",
                                    "orderday": "NULL",
                                    "salesvalue": "94222.12"
                                },
                                {
                                    "orderyear": "NULL",
                                    "ordermonth": "1",
                                    "orderday": "NULL",
                                    "salesvalue": "155480.20"
                                },
                                {
                                    "orderyear": "2007",
                                    "ordermonth": "2",
                                    "orderday": "NULL",
                                    "salesvalue": "38483.64"
                                },
                                {
                                    "orderyear": "2008",
                                    "ordermonth": "2",
                                    "orderday": "NULL",
                                    "salesvalue": "99415.29"
                                },
                                {
                                    "orderyear": "NULL",
                                    "ordermonth": "2",
                                    "orderday": "NULL",
                                    "salesvalue": "137898.93"
                                },
                                {
                                    "orderyear": "2007",
                                    "ordermonth": "3",
                                    "orderday": "NULL",
                                    "salesvalue": "38547.23"
                                },
                                {
                                    "orderyear": "2008",
                                    "ordermonth": "3",
                                    "orderday": "NULL",
                                    "salesvalue": "104854.18"
                                },
                                {
                                    "orderyear": "NULL",
                                    "ordermonth": "3",
                                    "orderday": "NULL",
                                    "salesvalue": "143401.41"
                                },
                                {
                                    "orderyear": "2007",
                                    "ordermonth": "4",
                                    "orderday": "NULL",
                                    "salesvalue": "53032.95"
                                },
                                {
                                    "orderyear": "2008",
                                    "ordermonth": "4",
                                    "orderday": "NULL",
                                    "salesvalue": "123798.70"
                                },
                                {
                                    "orderyear": "NULL",
                                    "ordermonth": "4",
                                    "orderday": "NULL",
                                    "salesvalue": "176831.65"
                                },
                                {
                                    "orderyear": "2007",
                                    "ordermonth": "5",
                                    "orderday": "NULL",
                                    "salesvalue": "53781.30"
                                },
                                {
                                    "orderyear": "2008",
                                    "ordermonth": "5",
                                    "orderday": "NULL",
                                    "salesvalue": "18333.64"
                                },
                                {
                                    "orderyear": "NULL",
                                    "ordermonth": "5",
                                    "orderday": "NULL",
                                    "salesvalue": "72114.94"
                                },
                                {
                                    "orderyear": "2007",
                                    "ordermonth": "6",
                                    "orderday": "NULL",
                                    "salesvalue": "36362.82"
                                },
                                {
                                    "orderyear": "NULL",
                                    "ordermonth": "6",
                                    "orderday": "NULL",
                                    "salesvalue": "36362.82"
                                },
                                {
                                    "orderyear": "2006",
                                    "ordermonth": "7",
                                    "orderday": "NULL",
                                    "salesvalue": "27861.90"
                                },
                                {
                                    "orderyear": "2007",
                                    "ordermonth": "7",
                                    "orderday": "NULL",
                                    "salesvalue": "51020.86"
                                },
                                {
                                    "orderyear": "NULL",
                                    "ordermonth": "7",
                                    "orderday": "NULL",
                                    "salesvalue": "78882.76"
                                },
                                {
                                    "orderyear": "2006",
                                    "ordermonth": "8",
                                    "orderday": "NULL",
                                    "salesvalue": "25485.28"
                                },
                                {
                                    "orderyear": "2007",
                                    "ordermonth": "8",
                                    "orderday": "NULL",
                                    "salesvalue": "47287.68"
                                },
                                {
                                    "orderyear": "NULL",
                                    "ordermonth": "8",
                                    "orderday": "NULL",
                                    "salesvalue": "72772.96"
                                },
                                {
                                    "orderyear": "2006",
                                    "ordermonth": "9",
                                    "orderday": "NULL",
                                    "salesvalue": "26381.40"
                                },
                                {
                                    "orderyear": "2007",
                                    "ordermonth": "9",
                                    "orderday": "NULL",
                                    "salesvalue": "55629.27"
                                },
                                {
                                    "orderyear": "NULL",
                                    "ordermonth": "9",
                                    "orderday": "NULL",
                                    "salesvalue": "82010.67"
                                },
                                {
                                    "orderyear": "2006",
                                    "ordermonth": "10",
                                    "orderday": "NULL",
                                    "salesvalue": "37515.73"
                                },
                                {
                                    "orderyear": "2007",
                                    "ordermonth": "10",
                                    "orderday": "NULL",
                                    "salesvalue": "66749.23"
                                },
                                {
                                    "orderyear": "NULL",
                                    "ordermonth": "10",
                                    "orderday": "NULL",
                                    "salesvalue": "104264.96"
                                },
                                {
                                    "orderyear": "2006",
                                    "ordermonth": "11",
                                    "orderday": "NULL",
                                    "salesvalue": "45600.05"
                                },
                                {
                                    "orderyear": "2007",
                                    "ordermonth": "11",
                                    "orderday": "NULL",
                                    "salesvalue": "43533.80"
                                },
                                {
                                    "orderyear": "NULL",
                                    "ordermonth": "11",
                                    "orderday": "NULL",
                                    "salesvalue": "89133.85"
                                },
                                {
                                    "orderyear": "2006",
                                    "ordermonth": "12",
                                    "orderday": "NULL",
                                    "salesvalue": "45239.63"
                                },
                                {
                                    "orderyear": "2007",
                                    "ordermonth": "12",
                                    "orderday": "NULL",
                                    "salesvalue": "71398.44"
                                },
                                {
                                    "orderyear": "NULL",
                                    "ordermonth": "12",
                                    "orderday": "NULL",
                                    "salesvalue": "116638.07"
                                }
                            ]
                        },
                        "text/html": [
                            "<table>",
                            "<tr><th>orderyear</th><th>ordermonth</th><th>orderday</th><th>salesvalue</th></tr>",
                            "<tr><td>2007</td><td>1</td><td>1</td><td>6931.60</td></tr>",
                            "<tr><td>2008</td><td>1</td><td>1</td><td>1738.00</td></tr>",
                            "<tr><td>NULL</td><td>1</td><td>1</td><td>8669.60</td></tr>",
                            "<tr><td>2007</td><td>4</td><td>1</td><td>851.20</td></tr>",
                            "<tr><td>2008</td><td>4</td><td>1</td><td>11549.89</td></tr>",
                            "<tr><td>NULL</td><td>4</td><td>1</td><td>12401.09</td></tr>",
                            "<tr><td>2007</td><td>5</td><td>1</td><td>5636.96</td></tr>",
                            "<tr><td>2008</td><td>5</td><td>1</td><td>5448.57</td></tr>",
                            "<tr><td>NULL</td><td>5</td><td>1</td><td>11085.53</td></tr>",
                            "<tr><td>2007</td><td>7</td><td>1</td><td>142.50</td></tr>",
                            "<tr><td>NULL</td><td>7</td><td>1</td><td>142.50</td></tr>",
                            "<tr><td>2006</td><td>8</td><td>1</td><td>1424.00</td></tr>",
                            "<tr><td>2007</td><td>8</td><td>1</td><td>2697.50</td></tr>",
                            "<tr><td>NULL</td><td>8</td><td>1</td><td>4121.50</td></tr>",
                            "<tr><td>2007</td><td>9</td><td>1</td><td>716.64</td></tr>",
                            "<tr><td>NULL</td><td>9</td><td>1</td><td>716.64</td></tr>",
                            "<tr><td>2006</td><td>10</td><td>1</td><td>240.40</td></tr>",
                            "<tr><td>2007</td><td>10</td><td>1</td><td>3633.10</td></tr>",
                            "<tr><td>NULL</td><td>10</td><td>1</td><td>3873.50</td></tr>",
                            "<tr><td>2006</td><td>11</td><td>1</td><td>2296.00</td></tr>",
                            "<tr><td>NULL</td><td>11</td><td>1</td><td>2296.00</td></tr>",
                            "<tr><td>2007</td><td>12</td><td>1</td><td>2917.00</td></tr>",
                            "<tr><td>NULL</td><td>12</td><td>1</td><td>2917.00</td></tr>",
                            "<tr><td>NULL</td><td>NULL</td><td>1</td><td>46223.36</td></tr>",
                            "<tr><td>2007</td><td>1</td><td>2</td><td>2713.50</td></tr>",
                            "<tr><td>2008</td><td>1</td><td>2</td><td>2544.80</td></tr>",
                            "<tr><td>NULL</td><td>1</td><td>2</td><td>5258.30</td></tr>",
                            "<tr><td>2008</td><td>2</td><td>2</td><td>17110.65</td></tr>",
                            "<tr><td>NULL</td><td>2</td><td>2</td><td>17110.65</td></tr>",
                            "<tr><td>2008</td><td>3</td><td>2</td><td>2936.19</td></tr>",
                            "<tr><td>NULL</td><td>3</td><td>2</td><td>2936.19</td></tr>",
                            "<tr><td>2007</td><td>4</td><td>2</td><td>1520.40</td></tr>",
                            "<tr><td>2008</td><td>4</td><td>2</td><td>2696.50</td></tr>",
                            "<tr><td>NULL</td><td>4</td><td>2</td><td>4216.90</td></tr>",
                            "<tr><td>2007</td><td>5</td><td>2</td><td>818.40</td></tr>",
                            "<tr><td>NULL</td><td>5</td><td>2</td><td>818.40</td></tr>",
                            "<tr><td>2007</td><td>6</td><td>2</td><td>2944.40</td></tr>",
                            "<tr><td>NULL</td><td>6</td><td>2</td><td>2944.40</td></tr>",
                            "<tr><td>2007</td><td>7</td><td>2</td><td>831.18</td></tr>",
                            "<tr><td>NULL</td><td>7</td><td>2</td><td>831.18</td></tr>",
                            "<tr><td>2006</td><td>8</td><td>2</td><td>1456.00</td></tr>",
                            "<tr><td>NULL</td><td>8</td><td>2</td><td>1456.00</td></tr>",
                            "<tr><td>2006</td><td>9</td><td>2</td><td>121.60</td></tr>",
                            "<tr><td>2007</td><td>9</td><td>2</td><td>1684.98</td></tr>",
                            "<tr><td>NULL</td><td>9</td><td>2</td><td>1806.58</td></tr>",
                            "<tr><td>2006</td><td>10</td><td>2</td><td>1191.20</td></tr>",
                            "<tr><td>2007</td><td>10</td><td>2</td><td>862.50</td></tr>",
                            "<tr><td>NULL</td><td>10</td><td>2</td><td>2053.70</td></tr>",
                            "<tr><td>2006</td><td>12</td><td>2</td><td>2390.40</td></tr>",
                            "<tr><td>2007</td><td>12</td><td>2</td><td>4844.00</td></tr>",
                            "<tr><td>NULL</td><td>12</td><td>2</td><td>7234.40</td></tr>",
                            "<tr><td>NULL</td><td>NULL</td><td>2</td><td>46666.70</td></tr>",
                            "<tr><td>2007</td><td>1</td><td>3</td><td>2446.27</td></tr>",
                            "<tr><td>NULL</td><td>1</td><td>3</td><td>2446.27</td></tr>",
                            "<tr><td>2007</td><td>2</td><td>3</td><td>1172.32</td></tr>",
                            "<tr><td>2008</td><td>2</td><td>3</td><td>1194.60</td></tr>",
                            "<tr><td>NULL</td><td>2</td><td>3</td><td>2366.92</td></tr>",
                            "<tr><td>2007</td><td>3</td><td>3</td><td>156.00</td></tr>",
                            "<tr><td>2008</td><td>3</td><td>3</td><td>3817.30</td></tr>",
                            "<tr><td>NULL</td><td>3</td><td>3</td><td>3973.30</td></tr>",
                            "<tr><td>2007</td><td>4</td><td>3</td><td>278.00</td></tr>",
                            "<tr><td>2008</td><td>4</td><td>3</td><td>3768.95</td></tr>",
                            "<tr><td>NULL</td><td>4</td><td>3</td><td>4046.95</td></tr>",
                            "<tr><td>2007</td><td>6</td><td>3</td><td>1987.70</td></tr>",
                            "<tr><td>NULL</td><td>6</td><td>3</td><td>1987.70</td></tr>",
                            "<tr><td>2007</td><td>7</td><td>3</td><td>3120.00</td></tr>",
                            "<tr><td>NULL</td><td>7</td><td>3</td><td>3120.00</td></tr>",
                            "<tr><td>2006</td><td>9</td><td>3</td><td>1050.60</td></tr>",
                            "<tr><td>2007</td><td>9</td><td>3</td><td>154.40</td></tr>",
                            "<tr><td>NULL</td><td>9</td><td>3</td><td>1205.00</td></tr>",
                            "<tr><td>2006</td><td>10</td><td>3</td><td>660.00</td></tr>",
                            "<tr><td>2007</td><td>10</td><td>3</td><td>11042.80</td></tr>",
                            "<tr><td>NULL</td><td>10</td><td>3</td><td>11702.80</td></tr>",
                            "<tr><td>2007</td><td>11</td><td>3</td><td>2279.50</td></tr>",
                            "<tr><td>NULL</td><td>11</td><td>3</td><td>2279.50</td></tr>",
                            "<tr><td>2006</td><td>12</td><td>3</td><td>1190.56</td></tr>",
                            "<tr><td>2007</td><td>12</td><td>3</td><td>2902.00</td></tr>",
                            "<tr><td>NULL</td><td>12</td><td>3</td><td>4092.56</td></tr>",
                            "<tr><td>NULL</td><td>NULL</td><td>3</td><td>37221.00</td></tr>",
                            "<tr><td>2007</td><td>2</td><td>4</td><td>631.60</td></tr>",
                            "<tr><td>2008</td><td>2</td><td>4</td><td>3710.60</td></tr>",
                            "<tr><td>NULL</td><td>2</td><td>4</td><td>4342.20</td></tr>",
                            "<tr><td>2007</td><td>3</td><td>4</td><td>2322.58</td></tr>",
                            "<tr><td>2008</td><td>3</td><td>4</td><td>2825.25</td></tr>",
                            "<tr><td>NULL</td><td>3</td><td>4</td><td>5147.83</td></tr>",
                            "<tr><td>2007</td><td>4</td><td>4</td><td>1570.60</td></tr>",
                            "<tr><td>NULL</td><td>4</td><td>4</td><td>1570.60</td></tr>",
                            "<tr><td>2008</td><td>5</td><td>4</td><td>2473.93</td></tr>",
                            "<tr><td>NULL</td><td>5</td><td>4</td><td>2473.93</td></tr>",
                            "<tr><td>2007</td><td>6</td><td>4</td><td>2142.90</td></tr>",
                            "<tr><td>NULL</td><td>6</td><td>4</td><td>2142.90</td></tr>",
                            "<tr><td>2006</td><td>7</td><td>4</td><td>440.00</td></tr>",
                            "<tr><td>2007</td><td>7</td><td>4</td><td>72.00</td></tr>",
                            "<tr><td>NULL</td><td>7</td><td>4</td><td>512.00</td></tr>",
                            "<tr><td>2007</td><td>8</td><td>4</td><td>1260.00</td></tr>",
                            "<tr><td>NULL</td><td>8</td><td>4</td><td>1260.00</td></tr>",
                            "<tr><td>2006</td><td>9</td><td>4</td><td>1420.00</td></tr>",
                            "<tr><td>2007</td><td>9</td><td>4</td><td>4975.82</td></tr>",
                            "<tr><td>NULL</td><td>9</td><td>4</td><td>6395.82</td></tr>",
                            "<tr><td>2006</td><td>10</td><td>4</td><td>112.00</td></tr>",
                            "<tr><td>NULL</td><td>10</td><td>4</td><td>112.00</td></tr>",
                            "<tr><td>2006</td><td>11</td><td>4</td><td>2924.80</td></tr>",
                            "<tr><td>2007</td><td>11</td><td>4</td><td>3146.75</td></tr>",
                            "<tr><td>NULL</td><td>11</td><td>4</td><td>6071.55</td></tr>",
                            "<tr><td>2006</td><td>12</td><td>4</td><td>9210.90</td></tr>",
                            "<tr><td>2007</td><td>12</td><td>4</td><td>1515.60</td></tr>",
                            "<tr><td>NULL</td><td>12</td><td>4</td><td>10726.50</td></tr>",
                            "<tr><td>NULL</td><td>NULL</td><td>4</td><td>40755.33</td></tr>",
                            "<tr><td>2008</td><td>1</td><td>5</td><td>2430.85</td></tr>",
                            "<tr><td>NULL</td><td>1</td><td>5</td><td>2430.85</td></tr>",
                            "<tr><td>2007</td><td>2</td><td>5</td><td>2387.52</td></tr>",
                            "<tr><td>2008</td><td>2</td><td>5</td><td>4037.69</td></tr>",
                            "<tr><td>NULL</td><td>2</td><td>5</td><td>6425.21</td></tr>",
                            "<tr><td>2007</td><td>3</td><td>5</td><td>2518.00</td></tr>",
                            "<tr><td>2008</td><td>3</td><td>5</td><td>2112.25</td></tr>",
                            "<tr><td>NULL</td><td>3</td><td>5</td><td>4630.25</td></tr>",
                            "<tr><td>2007</td><td>5</td><td>5</td><td>2654.40</td></tr>",
                            "<tr><td>2008</td><td>5</td><td>5</td><td>7632.48</td></tr>",
                            "<tr><td>NULL</td><td>5</td><td>5</td><td>10286.88</td></tr>",
                            "<tr><td>2007</td><td>6</td><td>5</td><td>520.41</td></tr>",
                            "<tr><td>NULL</td><td>6</td><td>5</td><td>520.41</td></tr>",
                            "<tr><td>2006</td><td>7</td><td>5</td><td>1863.40</td></tr>",
                            "<tr><td>NULL</td><td>7</td><td>5</td><td>1863.40</td></tr>",
                            "<tr><td>2006</td><td>8</td><td>5</td><td>2037.28</td></tr>",
                            "<tr><td>2007</td><td>8</td><td>5</td><td>816.00</td></tr>",
                            "<tr><td>NULL</td><td>8</td><td>5</td><td>2853.28</td></tr>",
                            "<tr><td>2006</td><td>9</td><td>5</td><td>2645.00</td></tr>",
                            "<tr><td>2007</td><td>9</td><td>5</td><td>5691.62</td></tr>",
                            "<tr><td>NULL</td><td>9</td><td>5</td><td>8336.62</td></tr>",
                            "<tr><td>2006</td><td>11</td><td>5</td><td>1618.88</td></tr>",
                            "<tr><td>2007</td><td>11</td><td>5</td><td>484.26</td></tr>",
                            "<tr><td>NULL</td><td>11</td><td>5</td><td>2103.14</td></tr>",
                            "<tr><td>2006</td><td>12</td><td>5</td><td>1825.40</td></tr>",
                            "<tr><td>2007</td><td>12</td><td>5</td><td>2338.00</td></tr>",
                            "<tr><td>NULL</td><td>12</td><td>5</td><td>4163.40</td></tr>",
                            "<tr><td>NULL</td><td>NULL</td><td>5</td><td>43613.44</td></tr>",
                            "<tr><td>2007</td><td>1</td><td>6</td><td>400.00</td></tr>",
                            "<tr><td>2008</td><td>1</td><td>6</td><td>19399.30</td></tr>",
                            "<tr><td>NULL</td><td>1</td><td>6</td><td>19799.30</td></tr>",
                            "<tr><td>2007</td><td>2</td><td>6</td><td>454.00</td></tr>",
                            "<tr><td>2008</td><td>2</td><td>6</td><td>1356.35</td></tr>",
                            "<tr><td>NULL</td><td>2</td><td>6</td><td>1810.35</td></tr>",
                            "<tr><td>2007</td><td>3</td><td>6</td><td>451.20</td></tr>",
                            "<tr><td>2008</td><td>3</td><td>6</td><td>5763.93</td></tr>",
                            "<tr><td>NULL</td><td>3</td><td>6</td><td>6215.13</td></tr>",
                            "<tr><td>2008</td><td>4</td><td>6</td><td>5809.85</td></tr>",
                            "<tr><td>NULL</td><td>4</td><td>6</td><td>5809.85</td></tr>",
                            "<tr><td>2007</td><td>5</td><td>6</td><td>392.20</td></tr>",
                            "<tr><td>2008</td><td>5</td><td>6</td><td>2778.66</td></tr>",
                            "<tr><td>NULL</td><td>5</td><td>6</td><td>3170.86</td></tr>",
                            "<tr><td>2007</td><td>6</td><td>6</td><td>3916.93</td></tr>",
                            "<tr><td>NULL</td><td>6</td><td>6</td><td>3916.93</td></tr>",
                            "<tr><td>2006</td><td>8</td><td>6</td><td>538.60</td></tr>",
                            "<tr><td>2007</td><td>8</td><td>6</td><td>560.00</td></tr>",
                            "<tr><td>NULL</td><td>8</td><td>6</td><td>1098.60</td></tr>",
                            "<tr><td>2006</td><td>9</td><td>6</td><td>349.50</td></tr>",
                            "<tr><td>NULL</td><td>9</td><td>6</td><td>349.50</td></tr>",
                            "<tr><td>2007</td><td>10</td><td>6</td><td>6896.20</td></tr>",
                            "<tr><td>NULL</td><td>10</td><td>6</td><td>6896.20</td></tr>",
                            "<tr><td>2006</td><td>11</td><td>6</td><td>814.42</td></tr>",
                            "<tr><td>2007</td><td>11</td><td>6</td><td>2250.50</td></tr>",
                            "<tr><td>NULL</td><td>11</td><td>6</td><td>3064.92</td></tr>",
                            "<tr><td>2006</td><td>12</td><td>6</td><td>338.00</td></tr>",
                            "<tr><td>NULL</td><td>12</td><td>6</td><td>338.00</td></tr>",
                            "<tr><td>NULL</td><td>NULL</td><td>6</td><td>52469.64</td></tr>",
                            "<tr><td>2007</td><td>1</td><td>7</td><td>3024.78</td></tr>",
                            "<tr><td>2008</td><td>1</td><td>7</td><td>2450.00</td></tr>",
                            "<tr><td>NULL</td><td>1</td><td>7</td><td>5474.78</td></tr>",
                            "<tr><td>2007</td><td>2</td><td>7</td><td>1078.00</td></tr>",
                            "<tr><td>NULL</td><td>2</td><td>7</td><td>1078.00</td></tr>",
                            "<tr><td>2007</td><td>3</td><td>7</td><td>717.60</td></tr>",
                            "<tr><td>NULL</td><td>3</td><td>7</td><td>717.60</td></tr>",
                            "<tr><td>2007</td><td>4</td><td>7</td><td>575.00</td></tr>",
                            "<tr><td>2008</td><td>4</td><td>7</td><td>1211.07</td></tr>",
                            "<tr><td>NULL</td><td>4</td><td>7</td><td>1786.07</td></tr>",
                            "<tr><td>2007</td><td>5</td><td>7</td><td>946.00</td></tr>",
                            "<tr><td>NULL</td><td>5</td><td>7</td><td>946.00</td></tr>",
                            "<tr><td>2007</td><td>7</td><td>7</td><td>1913.50</td></tr>",
                            "<tr><td>NULL</td><td>7</td><td>7</td><td>1913.50</td></tr>",
                            "<tr><td>2006</td><td>8</td><td>7</td><td>291.84</td></tr>",
                            "<tr><td>2007</td><td>8</td><td>7</td><td>2730.19</td></tr>",
                            "<tr><td>NULL</td><td>8</td><td>7</td><td>3022.03</td></tr>",
                            "<tr><td>2006</td><td>10</td><td>7</td><td>164.40</td></tr>",
                            "<tr><td>2007</td><td>10</td><td>7</td><td>642.00</td></tr>",
                            "<tr><td>NULL</td><td>10</td><td>7</td><td>806.40</td></tr>",
                            "<tr><td>2006</td><td>11</td><td>7</td><td>363.60</td></tr>",
                            "<tr><td>2007</td><td>11</td><td>7</td><td>2957.35</td></tr>",
                            "<tr><td>NULL</td><td>11</td><td>7</td><td>3320.95</td></tr>",
                            "<tr><td>NULL</td><td>NULL</td><td>7</td><td>19065.33</td></tr>",
                            "<tr><td>2007</td><td>1</td><td>8</td><td>1622.40</td></tr>",
                            "<tr><td>2008</td><td>1</td><td>8</td><td>915.90</td></tr>",
                            "<tr><td>NULL</td><td>1</td><td>8</td><td>2538.30</td></tr>",
                            "<tr><td>2007</td><td>4</td><td>8</td><td>1412.00</td></tr>",
                            "<tr><td>2008</td><td>4</td><td>8</td><td>7931.30</td></tr>",
                            "<tr><td>NULL</td><td>4</td><td>8</td><td>9343.30</td></tr>",
                            "<tr><td>2007</td><td>5</td><td>8</td><td>4290.00</td></tr>",
                            "<tr><td>NULL</td><td>5</td><td>8</td><td>4290.00</td></tr>",
                            "<tr><td>2006</td><td>7</td><td>8</td><td>2206.66</td></tr>",
                            "<tr><td>2007</td><td>7</td><td>8</td><td>516.47</td></tr>",
                            "<tr><td>NULL</td><td>7</td><td>8</td><td>2723.13</td></tr>",
                            "<tr><td>2006</td><td>8</td><td>8</td><td>420.00</td></tr>",
                            "<tr><td>2007</td><td>8</td><td>8</td><td>479.75</td></tr>",
                            "<tr><td>NULL</td><td>8</td><td>8</td><td>899.75</td></tr>",
                            "<tr><td>2007</td><td>9</td><td>8</td><td>1701.00</td></tr>",
                            "<tr><td>NULL</td><td>9</td><td>8</td><td>1701.00</td></tr>",
                            "<tr><td>2006</td><td>10</td><td>8</td><td>5275.72</td></tr>",
                            "<tr><td>2007</td><td>10</td><td>8</td><td>1801.43</td></tr>",
                            "<tr><td>NULL</td><td>10</td><td>8</td><td>7077.15</td></tr>",
                            "<tr><td>2006</td><td>11</td><td>8</td><td>141.60</td></tr>",
                            "<tr><td>NULL</td><td>11</td><td>8</td><td>141.60</td></tr>",
                            "<tr><td>2007</td><td>12</td><td>8</td><td>3161.28</td></tr>",
                            "<tr><td>NULL</td><td>12</td><td>8</td><td>3161.28</td></tr>",
                            "<tr><td>NULL</td><td>NULL</td><td>8</td><td>31875.51</td></tr>",
                            "<tr><td>2007</td><td>1</td><td>9</td><td>319.20</td></tr>",
                            "<tr><td>2008</td><td>1</td><td>9</td><td>4107.56</td></tr>",
                            "<tr><td>NULL</td><td>1</td><td>9</td><td>4426.76</td></tr>",
                            "<tr><td>2008</td><td>2</td><td>9</td><td>2872.13</td></tr>",
                            "<tr><td>NULL</td><td>2</td><td>9</td><td>2872.13</td></tr>",
                            "<tr><td>2008</td><td>3</td><td>9</td><td>1575.50</td></tr>",
                            "<tr><td>NULL</td><td>3</td><td>9</td><td>1575.50</td></tr>",
                            "<tr><td>2007</td><td>4</td><td>9</td><td>672.26</td></tr>",
                            "<tr><td>2008</td><td>4</td><td>9</td><td>4764.80</td></tr>",
                            "<tr><td>NULL</td><td>4</td><td>9</td><td>5437.06</td></tr>",
                            "<tr><td>2007</td><td>5</td><td>9</td><td>796.35</td></tr>",
                            "<tr><td>NULL</td><td>5</td><td>9</td><td>796.35</td></tr>",
                            "<tr><td>2007</td><td>6</td><td>9</td><td>488.70</td></tr>",
                            "<tr><td>NULL</td><td>6</td><td>9</td><td>488.70</td></tr>",
                            "<tr><td>2006</td><td>7</td><td>9</td><td>3597.90</td></tr>",
                            "<tr><td>2007</td><td>7</td><td>9</td><td>2559.90</td></tr>",
                            "<tr><td>NULL</td><td>7</td><td>9</td><td>6157.80</td></tr>",
                            "<tr><td>2006</td><td>8</td><td>9</td><td>1200.80</td></tr>",
                            "<tr><td>NULL</td><td>8</td><td>9</td><td>1200.80</td></tr>",
                            "<tr><td>2006</td><td>9</td><td>9</td><td>1363.00</td></tr>",
                            "<tr><td>2007</td><td>9</td><td>9</td><td>687.60</td></tr>",
                            "<tr><td>NULL</td><td>9</td><td>9</td><td>2050.60</td></tr>",
                            "<tr><td>2006</td><td>10</td><td>9</td><td>1497.00</td></tr>",
                            "<tr><td>2007</td><td>10</td><td>9</td><td>3550.44</td></tr>",
                            "<tr><td>NULL</td><td>10</td><td>9</td><td>5047.44</td></tr>",
                            "<tr><td>2006</td><td>12</td><td>9</td><td>1262.60</td></tr>",
                            "<tr><td>2007</td><td>12</td><td>9</td><td>236.25</td></tr>",
                            "<tr><td>NULL</td><td>12</td><td>9</td><td>1498.85</td></tr>",
                            "<tr><td>NULL</td><td>NULL</td><td>9</td><td>31551.99</td></tr>",
                            "<tr><td>2007</td><td>1</td><td>10</td><td>1768.80</td></tr>",
                            "<tr><td>NULL</td><td>1</td><td>10</td><td>1768.80</td></tr>",
                            "<tr><td>2007</td><td>2</td><td>10</td><td>6679.14</td></tr>",
                            "<tr><td>2008</td><td>2</td><td>10</td><td>3650.30</td></tr>",
                            "<tr><td>NULL</td><td>2</td><td>10</td><td>10329.44</td></tr>",
                            "<tr><td>2007</td><td>3</td><td>10</td><td>956.68</td></tr>",
                            "<tr><td>2008</td><td>3</td><td>10</td><td>4014.18</td></tr>",
                            "<tr><td>NULL</td><td>3</td><td>10</td><td>4970.86</td></tr>",
                            "<tr><td>2007</td><td>4</td><td>10</td><td>816.30</td></tr>",
                            "<tr><td>2008</td><td>4</td><td>10</td><td>1357.03</td></tr>",
                            "<tr><td>NULL</td><td>4</td><td>10</td><td>2173.33</td></tr>",
                            "<tr><td>2007</td><td>6</td><td>10</td><td>2199.05</td></tr>",
                            "<tr><td>NULL</td><td>6</td><td>10</td><td>2199.05</td></tr>",
                            "<tr><td>2006</td><td>7</td><td>10</td><td>1444.80</td></tr>",
                            "<tr><td>2007</td><td>7</td><td>10</td><td>4725.00</td></tr>",
                            "<tr><td>NULL</td><td>7</td><td>10</td><td>6169.80</td></tr>",
                            "<tr><td>2006</td><td>9</td><td>10</td><td>2708.80</td></tr>",
                            "<tr><td>2007</td><td>9</td><td>10</td><td>3218.79</td></tr>",
                            "<tr><td>NULL</td><td>9</td><td>10</td><td>5927.59</td></tr>",
                            "<tr><td>2006</td><td>10</td><td>10</td><td>982.00</td></tr>",
                            "<tr><td>2007</td><td>10</td><td>10</td><td>1638.40</td></tr>",
                            "<tr><td>NULL</td><td>10</td><td>10</td><td>2620.40</td></tr>",
                            "<tr><td>2007</td><td>11</td><td>10</td><td>536.40</td></tr>",
                            "<tr><td>NULL</td><td>11</td><td>10</td><td>536.40</td></tr>",
                            "<tr><td>2006</td><td>12</td><td>10</td><td>103.20</td></tr>",
                            "<tr><td>2007</td><td>12</td><td>10</td><td>3947.22</td></tr>",
                            "<tr><td>NULL</td><td>12</td><td>10</td><td>4050.42</td></tr>",
                            "<tr><td>NULL</td><td>NULL</td><td>10</td><td>40746.09</td></tr>",
                            "<tr><td>2007</td><td>2</td><td>11</td><td>1792.00</td></tr>",
                            "<tr><td>2008</td><td>2</td><td>11</td><td>1042.64</td></tr>",
                            "<tr><td>NULL</td><td>2</td><td>11</td><td>2834.64</td></tr>",
                            "<tr><td>2007</td><td>3</td><td>11</td><td>3148.80</td></tr>",
                            "<tr><td>2008</td><td>3</td><td>11</td><td>5642.75</td></tr>",
                            "<tr><td>NULL</td><td>3</td><td>11</td><td>8791.55</td></tr>",
                            "<tr><td>2007</td><td>4</td><td>11</td><td>3437.00</td></tr>",
                            "<tr><td>NULL</td><td>4</td><td>11</td><td>3437.00</td></tr>",
                            "<tr><td>2007</td><td>6</td><td>11</td><td>639.90</td></tr>",
                            "<tr><td>NULL</td><td>6</td><td>11</td><td>639.90</td></tr>",
                            "<tr><td>2006</td><td>7</td><td>11</td><td>556.62</td></tr>",
                            "<tr><td>2007</td><td>7</td><td>11</td><td>1898.96</td></tr>",
                            "<tr><td>NULL</td><td>7</td><td>11</td><td>2455.58</td></tr>",
                            "<tr><td>2007</td><td>8</td><td>11</td><td>2689.35</td></tr>",
                            "<tr><td>NULL</td><td>8</td><td>11</td><td>2689.35</td></tr>",
                            "<tr><td>2006</td><td>9</td><td>11</td><td>1117.80</td></tr>",
                            "<tr><td>2007</td><td>9</td><td>11</td><td>1295.00</td></tr>",
                            "<tr><td>NULL</td><td>9</td><td>11</td><td>2412.80</td></tr>",
                            "<tr><td>2006</td><td>10</td><td>11</td><td>1810.00</td></tr>",
                            "<tr><td>NULL</td><td>10</td><td>11</td><td>1810.00</td></tr>",
                            "<tr><td>2006</td><td>11</td><td>11</td><td>6040.79</td></tr>",
                            "<tr><td>2007</td><td>11</td><td>11</td><td>1136.80</td></tr>",
                            "<tr><td>NULL</td><td>11</td><td>11</td><td>7177.59</td></tr>",
                            "<tr><td>2006</td><td>12</td><td>11</td><td>863.28</td></tr>",
                            "<tr><td>2007</td><td>12</td><td>11</td><td>2899.15</td></tr>",
                            "<tr><td>NULL</td><td>12</td><td>11</td><td>3762.43</td></tr>",
                            "<tr><td>NULL</td><td>NULL</td><td>11</td><td>36010.84</td></tr>",
                            "<tr><td>2008</td><td>1</td><td>12</td><td>1573.00</td></tr>",
                            "<tr><td>NULL</td><td>1</td><td>12</td><td>1573.00</td></tr>",
                            "<tr><td>2007</td><td>2</td><td>12</td><td>1549.14</td></tr>",
                            "<tr><td>2008</td><td>2</td><td>12</td><td>2623.07</td></tr>",
                            "<tr><td>NULL</td><td>2</td><td>12</td><td>4172.21</td></tr>",
                            "<tr><td>2007</td><td>3</td><td>12</td><td>1036.80</td></tr>",
                            "<tr><td>2008</td><td>3</td><td>12</td><td>2677.83</td></tr>",
                            "<tr><td>NULL</td><td>3</td><td>12</td><td>3714.63</td></tr>",
                            "<tr><td>2007</td><td>5</td><td>12</td><td>2687.90</td></tr>",
                            "<tr><td>NULL</td><td>5</td><td>12</td><td>2687.90</td></tr>",
                            "<tr><td>2007</td><td>6</td><td>12</td><td>4280.00</td></tr>",
                            "<tr><td>NULL</td><td>6</td><td>12</td><td>4280.00</td></tr>",
                            "<tr><td>2006</td><td>7</td><td>12</td><td>2490.50</td></tr>",
                            "<tr><td>NULL</td><td>7</td><td>12</td><td>2490.50</td></tr>",
                            "<tr><td>2006</td><td>8</td><td>12</td><td>1488.80</td></tr>",
                            "<tr><td>2007</td><td>8</td><td>12</td><td>3225.05</td></tr>",
                            "<tr><td>NULL</td><td>8</td><td>12</td><td>4713.85</td></tr>",
                            "<tr><td>2006</td><td>9</td><td>12</td><td>954.40</td></tr>",
                            "<tr><td>2007</td><td>9</td><td>12</td><td>6203.74</td></tr>",
                            "<tr><td>NULL</td><td>9</td><td>12</td><td>7158.14</td></tr>",
                            "<tr><td>2006</td><td>11</td><td>12</td><td>136.30</td></tr>",
                            "<tr><td>2007</td><td>11</td><td>12</td><td>292.35</td></tr>",
                            "<tr><td>NULL</td><td>11</td><td>12</td><td>428.65</td></tr>",
                            "<tr><td>2006</td><td>12</td><td>12</td><td>1425.82</td></tr>",
                            "<tr><td>2007</td><td>12</td><td>12</td><td>228.00</td></tr>",
                            "<tr><td>NULL</td><td>12</td><td>12</td><td>1653.82</td></tr>",
                            "<tr><td>NULL</td><td>NULL</td><td>12</td><td>32872.70</td></tr>",
                            "<tr><td>2007</td><td>1</td><td>13</td><td>334.80</td></tr>",
                            "<tr><td>2008</td><td>1</td><td>13</td><td>4670.00</td></tr>",
                            "<tr><td>NULL</td><td>1</td><td>13</td><td>5004.80</td></tr>",
                            "<tr><td>2007</td><td>2</td><td>13</td><td>174.90</td></tr>",
                            "<tr><td>2008</td><td>2</td><td>13</td><td>3197.50</td></tr>",
                            "<tr><td>NULL</td><td>2</td><td>13</td><td>3372.40</td></tr>",
                            "<tr><td>2007</td><td>3</td><td>13</td><td>1479.50</td></tr>",
                            "<tr><td>2008</td><td>3</td><td>13</td><td>7004.25</td></tr>",
                            "<tr><td>NULL</td><td>3</td><td>13</td><td>8483.75</td></tr>",
                            "<tr><td>2008</td><td>4</td><td>13</td><td>8401.00</td></tr>",
                            "<tr><td>NULL</td><td>4</td><td>13</td><td>8401.00</td></tr>",
                            "<tr><td>2007</td><td>5</td><td>13</td><td>1940.85</td></tr>",
                            "<tr><td>NULL</td><td>5</td><td>13</td><td>1940.85</td></tr>",
                            "<tr><td>2007</td><td>6</td><td>13</td><td>155.00</td></tr>",
                            "<tr><td>NULL</td><td>6</td><td>13</td><td>155.00</td></tr>",
                            "<tr><td>2006</td><td>8</td><td>13</td><td>351.00</td></tr>",
                            "<tr><td>2007</td><td>8</td><td>13</td><td>903.60</td></tr>",
                            "<tr><td>NULL</td><td>8</td><td>13</td><td>1254.60</td></tr>",
                            "<tr><td>2006</td><td>9</td><td>13</td><td>3741.30</td></tr>",
                            "<tr><td>NULL</td><td>9</td><td>13</td><td>3741.30</td></tr>",
                            "<tr><td>2007</td><td>10</td><td>13</td><td>3194.50</td></tr>",
                            "<tr><td>NULL</td><td>10</td><td>13</td><td>3194.50</td></tr>",
                            "<tr><td>2006</td><td>11</td><td>13</td><td>8593.28</td></tr>",
                            "<tr><td>2007</td><td>11</td><td>13</td><td>1416.00</td></tr>",
                            "<tr><td>NULL</td><td>11</td><td>13</td><td>10009.28</td></tr>",
                            "<tr><td>2006</td><td>12</td><td>13</td><td>2900.00</td></tr>",
                            "<tr><td>NULL</td><td>12</td><td>13</td><td>2900.00</td></tr>",
                            "<tr><td>NULL</td><td>NULL</td><td>13</td><td>48457.48</td></tr>",
                            "<tr><td>2007</td><td>1</td><td>14</td><td>2348.03</td></tr>",
                            "<tr><td>2008</td><td>1</td><td>14</td><td>3159.51</td></tr>",
                            "<tr><td>NULL</td><td>1</td><td>14</td><td>5507.54</td></tr>",
                            "<tr><td>2007</td><td>2</td><td>14</td><td>1160.64</td></tr>",
                            "<tr><td>NULL</td><td>2</td><td>14</td><td>1160.64</td></tr>",
                            "<tr><td>2007</td><td>3</td><td>14</td><td>1505.18</td></tr>",
                            "<tr><td>NULL</td><td>3</td><td>14</td><td>1505.18</td></tr>",
                            "<tr><td>2007</td><td>4</td><td>14</td><td>147.90</td></tr>",
                            "<tr><td>2008</td><td>4</td><td>14</td><td>9840.64</td></tr>",
                            "<tr><td>NULL</td><td>4</td><td>14</td><td>9988.54</td></tr>",
                            "<tr><td>2007</td><td>5</td><td>14</td><td>3468.80</td></tr>",
                            "<tr><td>NULL</td><td>5</td><td>14</td><td>3468.80</td></tr>",
                            "<tr><td>2007</td><td>7</td><td>14</td><td>2388.50</td></tr>",
                            "<tr><td>NULL</td><td>7</td><td>14</td><td>2388.50</td></tr>",
                            "<tr><td>2006</td><td>8</td><td>14</td><td>699.70</td></tr>",
                            "<tr><td>2007</td><td>8</td><td>14</td><td>644.80</td></tr>",
                            "<tr><td>NULL</td><td>8</td><td>14</td><td>1344.50</td></tr>",
                            "<tr><td>2006</td><td>10</td><td>14</td><td>1168.00</td></tr>",
                            "<tr><td>2007</td><td>10</td><td>14</td><td>3140.50</td></tr>",
                            "<tr><td>NULL</td><td>10</td><td>14</td><td>4308.50</td></tr>",
                            "<tr><td>2006</td><td>11</td><td>14</td><td>568.80</td></tr>",
                            "<tr><td>2007</td><td>11</td><td>14</td><td>3346.00</td></tr>",
                            "<tr><td>NULL</td><td>11</td><td>14</td><td>3914.80</td></tr>",
                            "<tr><td>NULL</td><td>NULL</td><td>14</td><td>33587.00</td></tr>",
                            "<tr><td>2007</td><td>1</td><td>15</td><td>102.40</td></tr>",
                            "<tr><td>2008</td><td>1</td><td>15</td><td>3185.44</td></tr>",
                            "<tr><td>NULL</td><td>1</td><td>15</td><td>3287.84</td></tr>",
                            "<tr><td>2007</td><td>4</td><td>15</td><td>1164.86</td></tr>",
                            "<tr><td>2008</td><td>4</td><td>15</td><td>3266.81</td></tr>",
                            "<tr><td>NULL</td><td>4</td><td>15</td><td>4431.67</td></tr>",
                            "<tr><td>2007</td><td>5</td><td>15</td><td>139.80</td></tr>",
                            "<tr><td>NULL</td><td>5</td><td>15</td><td>139.80</td></tr>",
                            "<tr><td>2006</td><td>7</td><td>15</td><td>517.80</td></tr>",
                            "<tr><td>2007</td><td>7</td><td>15</td><td>493.00</td></tr>",
                            "<tr><td>NULL</td><td>7</td><td>15</td><td>1010.80</td></tr>",
                            "<tr><td>2006</td><td>8</td><td>15</td><td>155.40</td></tr>",
                            "<tr><td>2007</td><td>8</td><td>15</td><td>10496.09</td></tr>",
                            "<tr><td>NULL</td><td>8</td><td>15</td><td>10651.49</td></tr>",
                            "<tr><td>2007</td><td>9</td><td>15</td><td>1195.28</td></tr>",
                            "<tr><td>NULL</td><td>9</td><td>15</td><td>1195.28</td></tr>",
                            "<tr><td>2006</td><td>10</td><td>15</td><td>4578.43</td></tr>",
                            "<tr><td>2007</td><td>10</td><td>15</td><td>378.00</td></tr>",
                            "<tr><td>NULL</td><td>10</td><td>15</td><td>4956.43</td></tr>",
                            "<tr><td>2006</td><td>11</td><td>15</td><td>480.00</td></tr>",
                            "<tr><td>NULL</td><td>11</td><td>15</td><td>480.00</td></tr>",
                            "<tr><td>2007</td><td>12</td><td>15</td><td>6859.28</td></tr>",
                            "<tr><td>NULL</td><td>12</td><td>15</td><td>6859.28</td></tr>",
                            "<tr><td>NULL</td><td>NULL</td><td>15</td><td>33012.59</td></tr>",
                            "<tr><td>2007</td><td>1</td><td>16</td><td>11908.40</td></tr>",
                            "<tr><td>2008</td><td>1</td><td>16</td><td>5770.00</td></tr>",
                            "<tr><td>NULL</td><td>1</td><td>16</td><td>17678.40</td></tr>",
                            "<tr><td>2008</td><td>2</td><td>16</td><td>12845.10</td></tr>",
                            "<tr><td>NULL</td><td>2</td><td>16</td><td>12845.10</td></tr>",
                            "<tr><td>2008</td><td>3</td><td>16</td><td>5481.21</td></tr>",
                            "<tr><td>NULL</td><td>3</td><td>16</td><td>5481.21</td></tr>",
                            "<tr><td>2007</td><td>4</td><td>16</td><td>240.00</td></tr>",
                            "<tr><td>2008</td><td>4</td><td>16</td><td>4324.53</td></tr>",
                            "<tr><td>NULL</td><td>4</td><td>16</td><td>4564.53</td></tr>",
                            "<tr><td>2007</td><td>5</td><td>16</td><td>355.50</td></tr>",
                            "<tr><td>NULL</td><td>5</td><td>16</td><td>355.50</td></tr>",
                            "<tr><td>2007</td><td>6</td><td>16</td><td>890.00</td></tr>",
                            "<tr><td>NULL</td><td>6</td><td>16</td><td>890.00</td></tr>",
                            "<tr><td>2006</td><td>7</td><td>16</td><td>1119.90</td></tr>",
                            "<tr><td>2007</td><td>7</td><td>16</td><td>2764.80</td></tr>",
                            "<tr><td>NULL</td><td>7</td><td>16</td><td>3884.70</td></tr>",
                            "<tr><td>2006</td><td>8</td><td>16</td><td>1414.80</td></tr>",
                            "<tr><td>NULL</td><td>8</td><td>16</td><td>1414.80</td></tr>",
                            "<tr><td>2006</td><td>9</td><td>16</td><td>498.50</td></tr>",
                            "<tr><td>2007</td><td>9</td><td>16</td><td>2301.75</td></tr>",
                            "<tr><td>NULL</td><td>9</td><td>16</td><td>2800.25</td></tr>",
                            "<tr><td>2006</td><td>10</td><td>16</td><td>1737.50</td></tr>",
                            "<tr><td>2007</td><td>10</td><td>16</td><td>3534.00</td></tr>",
                            "<tr><td>NULL</td><td>10</td><td>16</td><td>5271.50</td></tr>",
                            "<tr><td>2006</td><td>12</td><td>16</td><td>3121.40</td></tr>",
                            "<tr><td>2007</td><td>12</td><td>16</td><td>2151.50</td></tr>",
                            "<tr><td>NULL</td><td>12</td><td>16</td><td>5272.90</td></tr>",
                            "<tr><td>NULL</td><td>NULL</td><td>16</td><td>60458.89</td></tr>",
                            "<tr><td>2007</td><td>1</td><td>17</td><td>1814.80</td></tr>",
                            "<tr><td>NULL</td><td>1</td><td>17</td><td>1814.80</td></tr>",
                            "<tr><td>2007</td><td>2</td><td>17</td><td>443.40</td></tr>",
                            "<tr><td>2008</td><td>2</td><td>17</td><td>2458.93</td></tr>",
                            "<tr><td>NULL</td><td>2</td><td>17</td><td>2902.33</td></tr>",
                            "<tr><td>2007</td><td>3</td><td>17</td><td>738.48</td></tr>",
                            "<tr><td>2008</td><td>3</td><td>17</td><td>2410.94</td></tr>",
                            "<tr><td>NULL</td><td>3</td><td>17</td><td>3149.42</td></tr>",
                            "<tr><td>2007</td><td>4</td><td>17</td><td>136.80</td></tr>",
                            "<tr><td>2008</td><td>4</td><td>17</td><td>27143.85</td></tr>",
                            "<tr><td>NULL</td><td>4</td><td>17</td><td>27280.65</td></tr>",
                            "<tr><td>2007</td><td>6</td><td>17</td><td>3015.84</td></tr>",
                            "<tr><td>NULL</td><td>6</td><td>17</td><td>3015.84</td></tr>",
                            "<tr><td>2006</td><td>7</td><td>17</td><td>1614.88</td></tr>",
                            "<tr><td>2007</td><td>7</td><td>17</td><td>48.75</td></tr>",
                            "<tr><td>NULL</td><td>7</td><td>17</td><td>1663.63</td></tr>",
                            "<tr><td>2006</td><td>9</td><td>17</td><td>424.00</td></tr>",
                            "<tr><td>2007</td><td>9</td><td>17</td><td>4735.35</td></tr>",
                            "<tr><td>NULL</td><td>9</td><td>17</td><td>5159.35</td></tr>",
                            "<tr><td>2006</td><td>10</td><td>17</td><td>1786.88</td></tr>",
                            "<tr><td>2007</td><td>10</td><td>17</td><td>3604.40</td></tr>",
                            "<tr><td>NULL</td><td>10</td><td>17</td><td>5391.28</td></tr>",
                            "<tr><td>2007</td><td>11</td><td>17</td><td>1055.20</td></tr>",
                            "<tr><td>NULL</td><td>11</td><td>17</td><td>1055.20</td></tr>",
                            "<tr><td>2006</td><td>12</td><td>17</td><td>691.20</td></tr>",
                            "<tr><td>2007</td><td>12</td><td>17</td><td>988.38</td></tr>",
                            "<tr><td>NULL</td><td>12</td><td>17</td><td>1679.58</td></tr>",
                            "<tr><td>NULL</td><td>NULL</td><td>17</td><td>53112.08</td></tr>",
                            "<tr><td>2007</td><td>2</td><td>18</td><td>1838.20</td></tr>",
                            "<tr><td>2008</td><td>2</td><td>18</td><td>14634.61</td></tr>",
                            "<tr><td>NULL</td><td>2</td><td>18</td><td>16472.81</td></tr>",
                            "<tr><td>2007</td><td>3</td><td>18</td><td>471.20</td></tr>",
                            "<tr><td>2008</td><td>3</td><td>18</td><td>2675.45</td></tr>",
                            "<tr><td>NULL</td><td>3</td><td>18</td><td>3146.65</td></tr>",
                            "<tr><td>2007</td><td>4</td><td>18</td><td>7257.54</td></tr>",
                            "<tr><td>NULL</td><td>4</td><td>18</td><td>7257.54</td></tr>",
                            "<tr><td>2007</td><td>6</td><td>18</td><td>1501.09</td></tr>",
                            "<tr><td>NULL</td><td>6</td><td>18</td><td>1501.09</td></tr>",
                            "<tr><td>2006</td><td>7</td><td>18</td><td>100.80</td></tr>",
                            "<tr><td>2007</td><td>7</td><td>18</td><td>1713.85</td></tr>",
                            "<tr><td>NULL</td><td>7</td><td>18</td><td>1814.65</td></tr>",
                            "<tr><td>2007</td><td>8</td><td>18</td><td>1326.23</td></tr>",
                            "<tr><td>NULL</td><td>8</td><td>18</td><td>1326.23</td></tr>",
                            "<tr><td>2006</td><td>9</td><td>18</td><td>88.80</td></tr>",
                            "<tr><td>2007</td><td>9</td><td>18</td><td>457.35</td></tr>",
                            "<tr><td>NULL</td><td>9</td><td>18</td><td>546.15</td></tr>",
                            "<tr><td>2006</td><td>10</td><td>18</td><td>877.20</td></tr>",
                            "<tr><td>NULL</td><td>10</td><td>18</td><td>877.20</td></tr>",
                            "<tr><td>2006</td><td>11</td><td>18</td><td>1106.40</td></tr>",
                            "<tr><td>2007</td><td>11</td><td>18</td><td>4529.80</td></tr>",
                            "<tr><td>NULL</td><td>11</td><td>18</td><td>5636.20</td></tr>",
                            "<tr><td>2006</td><td>12</td><td>18</td><td>1224.40</td></tr>",
                            "<tr><td>2007</td><td>12</td><td>18</td><td>3318.00</td></tr>",
                            "<tr><td>NULL</td><td>12</td><td>18</td><td>4542.40</td></tr>",
                            "<tr><td>NULL</td><td>NULL</td><td>18</td><td>43120.92</td></tr>",
                            "<tr><td>2008</td><td>1</td><td>19</td><td>2977.13</td></tr>",
                            "<tr><td>NULL</td><td>1</td><td>19</td><td>2977.13</td></tr>",
                            "<tr><td>2007</td><td>2</td><td>19</td><td>4274.78</td></tr>",
                            "<tr><td>2008</td><td>2</td><td>19</td><td>11585.74</td></tr>",
                            "<tr><td>NULL</td><td>2</td><td>19</td><td>15860.52</td></tr>",
                            "<tr><td>2007</td><td>3</td><td>19</td><td>10495.60</td></tr>",
                            "<tr><td>2008</td><td>3</td><td>19</td><td>5027.05</td></tr>",
                            "<tr><td>NULL</td><td>3</td><td>19</td><td>15522.65</td></tr>",
                            "<tr><td>2007</td><td>5</td><td>19</td><td>12138.22</td></tr>",
                            "<tr><td>NULL</td><td>5</td><td>19</td><td>12138.22</td></tr>",
                            "<tr><td>2007</td><td>6</td><td>19</td><td>2846.30</td></tr>",
                            "<tr><td>NULL</td><td>6</td><td>19</td><td>2846.30</td></tr>",
                            "<tr><td>2006</td><td>7</td><td>19</td><td>1952.65</td></tr>",
                            "<tr><td>NULL</td><td>7</td><td>19</td><td>1952.65</td></tr>",
                            "<tr><td>2006</td><td>8</td><td>19</td><td>1170.38</td></tr>",
                            "<tr><td>2007</td><td>8</td><td>19</td><td>3391.44</td></tr>",
                            "<tr><td>NULL</td><td>8</td><td>19</td><td>4561.82</td></tr>",
                            "<tr><td>2006</td><td>9</td><td>19</td><td>1762.00</td></tr>",
                            "<tr><td>2007</td><td>9</td><td>19</td><td>1423.00</td></tr>",
                            "<tr><td>NULL</td><td>9</td><td>19</td><td>3185.00</td></tr>",
                            "<tr><td>2006</td><td>11</td><td>19</td><td>1167.68</td></tr>",
                            "<tr><td>2007</td><td>11</td><td>19</td><td>4224.55</td></tr>",
                            "<tr><td>NULL</td><td>11</td><td>19</td><td>5392.23</td></tr>",
                            "<tr><td>2006</td><td>12</td><td>19</td><td>1228.80</td></tr>",
                            "<tr><td>2007</td><td>12</td><td>19</td><td>4153.84</td></tr>",
                            "<tr><td>NULL</td><td>12</td><td>19</td><td>5382.64</td></tr>",
                            "<tr><td>NULL</td><td>NULL</td><td>19</td><td>69819.16</td></tr>",
                            "<tr><td>2007</td><td>1</td><td>20</td><td>2097.60</td></tr>",
                            "<tr><td>2008</td><td>1</td><td>20</td><td>5556.00</td></tr>",
                            "<tr><td>NULL</td><td>1</td><td>20</td><td>7653.60</td></tr>",
                            "<tr><td>2007</td><td>2</td><td>20</td><td>2018.50</td></tr>",
                            "<tr><td>2008</td><td>2</td><td>20</td><td>186.15</td></tr>",
                            "<tr><td>NULL</td><td>2</td><td>20</td><td>2204.65</td></tr>",
                            "<tr><td>2007</td><td>3</td><td>20</td><td>2228.00</td></tr>",
                            "<tr><td>2008</td><td>3</td><td>20</td><td>3998.96</td></tr>",
                            "<tr><td>NULL</td><td>3</td><td>20</td><td>6226.96</td></tr>",
                            "<tr><td>2008</td><td>4</td><td>20</td><td>3985.90</td></tr>",
                            "<tr><td>NULL</td><td>4</td><td>20</td><td>3985.90</td></tr>",
                            "<tr><td>2007</td><td>5</td><td>20</td><td>469.11</td></tr>",
                            "<tr><td>NULL</td><td>5</td><td>20</td><td>469.11</td></tr>",
                            "<tr><td>2007</td><td>6</td><td>20</td><td>2147.40</td></tr>",
                            "<tr><td>NULL</td><td>6</td><td>20</td><td>2147.40</td></tr>",
                            "<tr><td>2006</td><td>8</td><td>20</td><td>1743.36</td></tr>",
                            "<tr><td>2007</td><td>8</td><td>20</td><td>3220.05</td></tr>",
                            "<tr><td>NULL</td><td>8</td><td>20</td><td>4963.41</td></tr>",
                            "<tr><td>2006</td><td>9</td><td>20</td><td>604.80</td></tr>",
                            "<tr><td>NULL</td><td>9</td><td>20</td><td>604.80</td></tr>",
                            "<tr><td>2007</td><td>10</td><td>20</td><td>93.50</td></tr>",
                            "<tr><td>NULL</td><td>10</td><td>20</td><td>93.50</td></tr>",
                            "<tr><td>2006</td><td>11</td><td>20</td><td>429.40</td></tr>",
                            "<tr><td>2007</td><td>11</td><td>20</td><td>3276.00</td></tr>",
                            "<tr><td>NULL</td><td>11</td><td>20</td><td>3705.40</td></tr>",
                            "<tr><td>2006</td><td>12</td><td>20</td><td>1832.80</td></tr>",
                            "<tr><td>NULL</td><td>12</td><td>20</td><td>1832.80</td></tr>",
                            "<tr><td>NULL</td><td>NULL</td><td>20</td><td>33887.53</td></tr>",
                            "<tr><td>2007</td><td>1</td><td>21</td><td>2902.11</td></tr>",
                            "<tr><td>2008</td><td>1</td><td>21</td><td>4706.70</td></tr>",
                            "<tr><td>NULL</td><td>1</td><td>21</td><td>7608.81</td></tr>",
                            "<tr><td>2007</td><td>2</td><td>21</td><td>738.90</td></tr>",
                            "<tr><td>NULL</td><td>2</td><td>21</td><td>738.90</td></tr>",
                            "<tr><td>2007</td><td>3</td><td>21</td><td>147.00</td></tr>",
                            "<tr><td>NULL</td><td>3</td><td>21</td><td>147.00</td></tr>",
                            "<tr><td>2007</td><td>4</td><td>21</td><td>525.30</td></tr>",
                            "<tr><td>2008</td><td>4</td><td>21</td><td>3882.60</td></tr>",
                            "<tr><td>NULL</td><td>4</td><td>21</td><td>4407.90</td></tr>",
                            "<tr><td>2007</td><td>5</td><td>21</td><td>1921.70</td></tr>",
                            "<tr><td>NULL</td><td>5</td><td>21</td><td>1921.70</td></tr>",
                            "<tr><td>2007</td><td>7</td><td>21</td><td>4109.70</td></tr>",
                            "<tr><td>NULL</td><td>7</td><td>21</td><td>4109.70</td></tr>",
                            "<tr><td>2006</td><td>8</td><td>21</td><td>3016.00</td></tr>",
                            "<tr><td>2007</td><td>8</td><td>21</td><td>708.75</td></tr>",
                            "<tr><td>NULL</td><td>8</td><td>21</td><td>3724.75</td></tr>",
                            "<tr><td>2006</td><td>10</td><td>21</td><td>144.80</td></tr>",
                            "<tr><td>2007</td><td>10</td><td>21</td><td>5685.18</td></tr>",
                            "<tr><td>NULL</td><td>10</td><td>21</td><td>5829.98</td></tr>",
                            "<tr><td>2006</td><td>11</td><td>21</td><td>3471.68</td></tr>",
                            "<tr><td>2007</td><td>11</td><td>21</td><td>1590.56</td></tr>",
                            "<tr><td>NULL</td><td>11</td><td>21</td><td>5062.24</td></tr>",
                            "<tr><td>NULL</td><td>NULL</td><td>21</td><td>33550.98</td></tr>",
                            "<tr><td>2007</td><td>1</td><td>22</td><td>49.80</td></tr>",
                            "<tr><td>2008</td><td>1</td><td>22</td><td>6043.92</td></tr>",
                            "<tr><td>NULL</td><td>1</td><td>22</td><td>6093.72</td></tr>",
                            "<tr><td>2007</td><td>4</td><td>22</td><td>10565.45</td></tr>",
                            "<tr><td>2008</td><td>4</td><td>22</td><td>2588.75</td></tr>",
                            "<tr><td>NULL</td><td>4</td><td>22</td><td>13154.20</td></tr>",
                            "<tr><td>2007</td><td>5</td><td>22</td><td>210.00</td></tr>",
                            "<tr><td>NULL</td><td>5</td><td>22</td><td>210.00</td></tr>",
                            "<tr><td>2006</td><td>7</td><td>22</td><td>584.00</td></tr>",
                            "<tr><td>2007</td><td>7</td><td>22</td><td>7605.80</td></tr>",
                            "<tr><td>NULL</td><td>7</td><td>22</td><td>8189.80</td></tr>",
                            "<tr><td>2006</td><td>8</td><td>22</td><td>819.00</td></tr>",
                            "<tr><td>2007</td><td>8</td><td>22</td><td>2750.00</td></tr>",
                            "<tr><td>NULL</td><td>8</td><td>22</td><td>3569.00</td></tr>",
                            "<tr><td>2007</td><td>9</td><td>22</td><td>1348.22</td></tr>",
                            "<tr><td>NULL</td><td>9</td><td>22</td><td>1348.22</td></tr>",
                            "<tr><td>2006</td><td>10</td><td>22</td><td>2036.16</td></tr>",
                            "<tr><td>2007</td><td>10</td><td>22</td><td>5033.65</td></tr>",
                            "<tr><td>NULL</td><td>10</td><td>22</td><td>7069.81</td></tr>",
                            "<tr><td>2006</td><td>11</td><td>22</td><td>9436.44</td></tr>",
                            "<tr><td>NULL</td><td>11</td><td>22</td><td>9436.44</td></tr>",
                            "<tr><td>2007</td><td>12</td><td>22</td><td>5141.00</td></tr>",
                            "<tr><td>NULL</td><td>12</td><td>22</td><td>5141.00</td></tr>",
                            "<tr><td>NULL</td><td>NULL</td><td>22</td><td>54212.19</td></tr>",
                            "<tr><td>2007</td><td>1</td><td>23</td><td>10214.56</td></tr>",
                            "<tr><td>2008</td><td>1</td><td>23</td><td>2528.32</td></tr>",
                            "<tr><td>NULL</td><td>1</td><td>23</td><td>12742.88</td></tr>",
                            "<tr><td>2008</td><td>2</td><td>23</td><td>1797.93</td></tr>",
                            "<tr><td>NULL</td><td>2</td><td>23</td><td>1797.93</td></tr>",
                            "<tr><td>2008</td><td>3</td><td>23</td><td>2426.40</td></tr>",
                            "<tr><td>NULL</td><td>3</td><td>23</td><td>2426.40</td></tr>",
                            "<tr><td>2007</td><td>4</td><td>23</td><td>9921.30</td></tr>",
                            "<tr><td>2008</td><td>4</td><td>23</td><td>3386.90</td></tr>",
                            "<tr><td>NULL</td><td>4</td><td>23</td><td>13308.20</td></tr>",
                            "<tr><td>2007</td><td>5</td><td>23</td><td>4604.80</td></tr>",
                            "<tr><td>NULL</td><td>5</td><td>23</td><td>4604.80</td></tr>",
                            "<tr><td>2007</td><td>6</td><td>23</td><td>1407.45</td></tr>",
                            "<tr><td>NULL</td><td>6</td><td>23</td><td>1407.45</td></tr>",
                            "<tr><td>2006</td><td>7</td><td>23</td><td>1873.80</td></tr>",
                            "<tr><td>2007</td><td>7</td><td>23</td><td>1064.00</td></tr>",
                            "<tr><td>NULL</td><td>7</td><td>23</td><td>2937.80</td></tr>",
                            "<tr><td>2006</td><td>8</td><td>23</td><td>80.10</td></tr>",
                            "<tr><td>NULL</td><td>8</td><td>23</td><td>80.10</td></tr>",
                            "<tr><td>2006</td><td>9</td><td>23</td><td>1614.80</td></tr>",
                            "<tr><td>2007</td><td>9</td><td>23</td><td>5916.50</td></tr>",
                            "<tr><td>NULL</td><td>9</td><td>23</td><td>7531.30</td></tr>",
                            "<tr><td>2006</td><td>10</td><td>23</td><td>285.12</td></tr>",
                            "<tr><td>2007</td><td>10</td><td>23</td><td>1296.00</td></tr>",
                            "<tr><td>NULL</td><td>10</td><td>23</td><td>1581.12</td></tr>",
                            "<tr><td>2006</td><td>12</td><td>23</td><td>2177.28</td></tr>",
                            "<tr><td>2007</td><td>12</td><td>23</td><td>2229.61</td></tr>",
                            "<tr><td>NULL</td><td>12</td><td>23</td><td>4406.89</td></tr>",
                            "<tr><td>NULL</td><td>NULL</td><td>23</td><td>52824.87</td></tr>",
                            "<tr><td>2007</td><td>1</td><td>24</td><td>360.00</td></tr>",
                            "<tr><td>NULL</td><td>1</td><td>24</td><td>360.00</td></tr>",
                            "<tr><td>2007</td><td>2</td><td>24</td><td>2684.00</td></tr>",
                            "<tr><td>2008</td><td>2</td><td>24</td><td>3198.30</td></tr>",
                            "<tr><td>NULL</td><td>2</td><td>24</td><td>5882.30</td></tr>",
                            "<tr><td>2007</td><td>3</td><td>24</td><td>1055.00</td></tr>",
                            "<tr><td>2008</td><td>3</td><td>24</td><td>2500.11</td></tr>",
                            "<tr><td>NULL</td><td>3</td><td>24</td><td>3555.11</td></tr>",
                            "<tr><td>2007</td><td>4</td><td>24</td><td>2733.05</td></tr>",
                            "<tr><td>2008</td><td>4</td><td>24</td><td>1616.48</td></tr>",
                            "<tr><td>NULL</td><td>4</td><td>24</td><td>4349.53</td></tr>",
                            "<tr><td>2007</td><td>6</td><td>24</td><td>477.00</td></tr>",
                            "<tr><td>NULL</td><td>6</td><td>24</td><td>477.00</td></tr>",
                            "<tr><td>2006</td><td>7</td><td>24</td><td>695.63</td></tr>",
                            "<tr><td>2007</td><td>7</td><td>24</td><td>424.00</td></tr>",
                            "<tr><td>NULL</td><td>7</td><td>24</td><td>1119.63</td></tr>",
                            "<tr><td>2006</td><td>9</td><td>24</td><td>182.40</td></tr>",
                            "<tr><td>2007</td><td>9</td><td>24</td><td>1261.88</td></tr>",
                            "<tr><td>NULL</td><td>9</td><td>24</td><td>1444.28</td></tr>",
                            "<tr><td>2006</td><td>10</td><td>24</td><td>2467.00</td></tr>",
                            "<tr><td>2007</td><td>10</td><td>24</td><td>1976.75</td></tr>",
                            "<tr><td>NULL</td><td>10</td><td>24</td><td>4443.75</td></tr>",
                            "<tr><td>2007</td><td>11</td><td>24</td><td>1883.48</td></tr>",
                            "<tr><td>NULL</td><td>11</td><td>24</td><td>1883.48</td></tr>",
                            "<tr><td>2006</td><td>12</td><td>24</td><td>1440.00</td></tr>",
                            "<tr><td>2007</td><td>12</td><td>24</td><td>2663.86</td></tr>",
                            "<tr><td>NULL</td><td>12</td><td>24</td><td>4103.86</td></tr>",
                            "<tr><td>NULL</td><td>NULL</td><td>24</td><td>27618.94</td></tr>",
                            "<tr><td>2007</td><td>2</td><td>25</td><td>2141.60</td></tr>",
                            "<tr><td>2008</td><td>2</td><td>25</td><td>536.00</td></tr>",
                            "<tr><td>NULL</td><td>2</td><td>25</td><td>2677.60</td></tr>",
                            "<tr><td>2007</td><td>3</td><td>25</td><td>1584.00</td></tr>",
                            "<tr><td>2008</td><td>3</td><td>25</td><td>2068.50</td></tr>",
                            "<tr><td>NULL</td><td>3</td><td>25</td><td>3652.50</td></tr>",
                            "<tr><td>2007</td><td>4</td><td>25</td><td>4150.05</td></tr>",
                            "<tr><td>NULL</td><td>4</td><td>25</td><td>4150.05</td></tr>",
                            "<tr><td>2007</td><td>6</td><td>25</td><td>317.75</td></tr>",
                            "<tr><td>NULL</td><td>6</td><td>25</td><td>317.75</td></tr>",
                            "<tr><td>2006</td><td>7</td><td>25</td><td>1176.00</td></tr>",
                            "<tr><td>2007</td><td>7</td><td>25</td><td>1107.25</td></tr>",
                            "<tr><td>NULL</td><td>7</td><td>25</td><td>2283.25</td></tr>",
                            "<tr><td>2007</td><td>8</td><td>25</td><td>2186.30</td></tr>",
                            "<tr><td>NULL</td><td>8</td><td>25</td><td>2186.30</td></tr>",
                            "<tr><td>2006</td><td>9</td><td>25</td><td>2094.30</td></tr>",
                            "<tr><td>2007</td><td>9</td><td>25</td><td>1662.90</td></tr>",
                            "<tr><td>NULL</td><td>9</td><td>25</td><td>3757.20</td></tr>",
                            "<tr><td>2006</td><td>10</td><td>25</td><td>934.50</td></tr>",
                            "<tr><td>NULL</td><td>10</td><td>25</td><td>934.50</td></tr>",
                            "<tr><td>2006</td><td>11</td><td>25</td><td>1549.60</td></tr>",
                            "<tr><td>2007</td><td>11</td><td>25</td><td>143.20</td></tr>",
                            "<tr><td>NULL</td><td>11</td><td>25</td><td>1692.80</td></tr>",
                            "<tr><td>2006</td><td>12</td><td>25</td><td>2998.95</td></tr>",
                            "<tr><td>2007</td><td>12</td><td>25</td><td>2761.36</td></tr>",
                            "<tr><td>NULL</td><td>12</td><td>25</td><td>5760.31</td></tr>",
                            "<tr><td>NULL</td><td>NULL</td><td>25</td><td>27412.26</td></tr>",
                            "<tr><td>2008</td><td>1</td><td>26</td><td>5587.00</td></tr>",
                            "<tr><td>NULL</td><td>1</td><td>26</td><td>5587.00</td></tr>",
                            "<tr><td>2007</td><td>2</td><td>26</td><td>3891.00</td></tr>",
                            "<tr><td>2008</td><td>2</td><td>26</td><td>9613.30</td></tr>",
                            "<tr><td>NULL</td><td>2</td><td>26</td><td>13504.30</td></tr>",
                            "<tr><td>2007</td><td>3</td><td>26</td><td>2161.70</td></tr>",
                            "<tr><td>2008</td><td>3</td><td>26</td><td>8349.70</td></tr>",
                            "<tr><td>NULL</td><td>3</td><td>26</td><td>10511.40</td></tr>",
                            "<tr><td>2007</td><td>5</td><td>26</td><td>240.10</td></tr>",
                            "<tr><td>NULL</td><td>5</td><td>26</td><td>240.10</td></tr>",
                            "<tr><td>2007</td><td>6</td><td>26</td><td>1323.75</td></tr>",
                            "<tr><td>NULL</td><td>6</td><td>26</td><td>1323.75</td></tr>",
                            "<tr><td>2006</td><td>7</td><td>26</td><td>346.56</td></tr>",
                            "<tr><td>NULL</td><td>7</td><td>26</td><td>346.56</td></tr>",
                            "<tr><td>2006</td><td>8</td><td>26</td><td>479.40</td></tr>",
                            "<tr><td>2007</td><td>8</td><td>26</td><td>1535.00</td></tr>",
                            "<tr><td>NULL</td><td>8</td><td>26</td><td>2014.40</td></tr>",
                            "<tr><td>2006</td><td>9</td><td>26</td><td>516.80</td></tr>",
                            "<tr><td>2007</td><td>9</td><td>26</td><td>1831.00</td></tr>",
                            "<tr><td>NULL</td><td>9</td><td>26</td><td>2347.80</td></tr>",
                            "<tr><td>2006</td><td>11</td><td>26</td><td>1397.20</td></tr>",
                            "<tr><td>2007</td><td>11</td><td>26</td><td>1948.50</td></tr>",
                            "<tr><td>NULL</td><td>11</td><td>26</td><td>3345.70</td></tr>",
                            "<tr><td>2006</td><td>12</td><td>26</td><td>2122.92</td></tr>",
                            "<tr><td>2007</td><td>12</td><td>26</td><td>3469.04</td></tr>",
                            "<tr><td>NULL</td><td>12</td><td>26</td><td>5591.96</td></tr>",
                            "<tr><td>NULL</td><td>NULL</td><td>26</td><td>44812.97</td></tr>",
                            "<tr><td>2007</td><td>1</td><td>27</td><td>989.20</td></tr>",
                            "<tr><td>2008</td><td>1</td><td>27</td><td>5819.39</td></tr>",
                            "<tr><td>NULL</td><td>1</td><td>27</td><td>6808.59</td></tr>",
                            "<tr><td>2007</td><td>2</td><td>27</td><td>1659.20</td></tr>",
                            "<tr><td>2008</td><td>2</td><td>27</td><td>1763.70</td></tr>",
                            "<tr><td>NULL</td><td>2</td><td>27</td><td>3422.90</td></tr>",
                            "<tr><td>2007</td><td>3</td><td>27</td><td>1512.00</td></tr>",
                            "<tr><td>2008</td><td>3</td><td>27</td><td>17792.90</td></tr>",
                            "<tr><td>NULL</td><td>3</td><td>27</td><td>19304.90</td></tr>",
                            "<tr><td>2008</td><td>4</td><td>27</td><td>5233.00</td></tr>",
                            "<tr><td>NULL</td><td>4</td><td>27</td><td>5233.00</td></tr>",
                            "<tr><td>2007</td><td>5</td><td>27</td><td>3554.28</td></tr>",
                            "<tr><td>NULL</td><td>5</td><td>27</td><td>3554.28</td></tr>",
                            "<tr><td>2007</td><td>6</td><td>27</td><td>330.00</td></tr>",
                            "<tr><td>NULL</td><td>6</td><td>27</td><td>330.00</td></tr>",
                            "<tr><td>2006</td><td>8</td><td>27</td><td>2666.52</td></tr>",
                            "<tr><td>2007</td><td>8</td><td>27</td><td>2082.00</td></tr>",
                            "<tr><td>NULL</td><td>8</td><td>27</td><td>4748.52</td></tr>",
                            "<tr><td>2006</td><td>9</td><td>27</td><td>2835.00</td></tr>",
                            "<tr><td>NULL</td><td>9</td><td>27</td><td>2835.00</td></tr>",
                            "<tr><td>2007</td><td>10</td><td>27</td><td>4307.25</td></tr>",
                            "<tr><td>NULL</td><td>10</td><td>27</td><td>4307.25</td></tr>",
                            "<tr><td>2006</td><td>11</td><td>27</td><td>403.20</td></tr>",
                            "<tr><td>2007</td><td>11</td><td>27</td><td>5072.00</td></tr>",
                            "<tr><td>NULL</td><td>11</td><td>27</td><td>5475.20</td></tr>",
                            "<tr><td>2006</td><td>12</td><td>27</td><td>2620.52</td></tr>",
                            "<tr><td>NULL</td><td>12</td><td>27</td><td>2620.52</td></tr>",
                            "<tr><td>NULL</td><td>NULL</td><td>27</td><td>58640.16</td></tr>",
                            "<tr><td>2007</td><td>1</td><td>28</td><td>192.00</td></tr>",
                            "<tr><td>2008</td><td>1</td><td>28</td><td>2708.21</td></tr>",
                            "<tr><td>NULL</td><td>1</td><td>28</td><td>2900.21</td></tr>",
                            "<tr><td>2007</td><td>2</td><td>28</td><td>1714.80</td></tr>",
                            "<tr><td>NULL</td><td>2</td><td>28</td><td>1714.80</td></tr>",
                            "<tr><td>2007</td><td>3</td><td>28</td><td>439.20</td></tr>",
                            "<tr><td>NULL</td><td>3</td><td>28</td><td>439.20</td></tr>",
                            "<tr><td>2007</td><td>4</td><td>28</td><td>2314.20</td></tr>",
                            "<tr><td>2008</td><td>4</td><td>28</td><td>5772.50</td></tr>",
                            "<tr><td>NULL</td><td>4</td><td>28</td><td>8086.70</td></tr>",
                            "<tr><td>2007</td><td>5</td><td>28</td><td>2360.60</td></tr>",
                            "<tr><td>NULL</td><td>5</td><td>28</td><td>2360.60</td></tr>",
                            "<tr><td>2007</td><td>7</td><td>28</td><td>6375.00</td></tr>",
                            "<tr><td>NULL</td><td>7</td><td>28</td><td>6375.00</td></tr>",
                            "<tr><td>2006</td><td>8</td><td>28</td><td>1296.00</td></tr>",
                            "<tr><td>2007</td><td>8</td><td>28</td><td>1806.38</td></tr>",
                            "<tr><td>NULL</td><td>8</td><td>28</td><td>3102.38</td></tr>",
                            "<tr><td>2006</td><td>10</td><td>28</td><td>3354.00</td></tr>",
                            "<tr><td>2007</td><td>10</td><td>28</td><td>550.00</td></tr>",
                            "<tr><td>NULL</td><td>10</td><td>28</td><td>3904.00</td></tr>",
                            "<tr><td>2006</td><td>11</td><td>28</td><td>970.20</td></tr>",
                            "<tr><td>2007</td><td>11</td><td>28</td><td>1964.60</td></tr>",
                            "<tr><td>NULL</td><td>11</td><td>28</td><td>2934.80</td></tr>",
                            "<tr><td>NULL</td><td>NULL</td><td>28</td><td>31817.69</td></tr>",
                            "<tr><td>2007</td><td>1</td><td>29</td><td>1441.38</td></tr>",
                            "<tr><td>2008</td><td>1</td><td>29</td><td>2246.69</td></tr>",
                            "<tr><td>NULL</td><td>1</td><td>29</td><td>3688.07</td></tr>",
                            "<tr><td>2007</td><td>4</td><td>29</td><td>425.50</td></tr>",
                            "<tr><td>2008</td><td>4</td><td>29</td><td>2741.00</td></tr>",
                            "<tr><td>NULL</td><td>4</td><td>29</td><td>3166.50</td></tr>",
                            "<tr><td>2007</td><td>5</td><td>29</td><td>880.50</td></tr>",
                            "<tr><td>NULL</td><td>5</td><td>29</td><td>880.50</td></tr>",
                            "<tr><td>2006</td><td>7</td><td>29</td><td>3536.60</td></tr>",
                            "<tr><td>2007</td><td>7</td><td>29</td><td>817.20</td></tr>",
                            "<tr><td>NULL</td><td>7</td><td>29</td><td>4353.80</td></tr>",
                            "<tr><td>2006</td><td>8</td><td>29</td><td>848.70</td></tr>",
                            "<tr><td>2007</td><td>8</td><td>29</td><td>1779.20</td></tr>",
                            "<tr><td>NULL</td><td>8</td><td>29</td><td>2627.90</td></tr>",
                            "<tr><td>2007</td><td>9</td><td>29</td><td>801.10</td></tr>",
                            "<tr><td>NULL</td><td>9</td><td>29</td><td>801.10</td></tr>",
                            "<tr><td>2006</td><td>10</td><td>29</td><td>2788.78</td></tr>",
                            "<tr><td>2007</td><td>10</td><td>29</td><td>2493.88</td></tr>",
                            "<tr><td>NULL</td><td>10</td><td>29</td><td>5282.66</td></tr>",
                            "<tr><td>2006</td><td>11</td><td>29</td><td>1689.78</td></tr>",
                            "<tr><td>NULL</td><td>11</td><td>29</td><td>1689.78</td></tr>",
                            "<tr><td>2007</td><td>12</td><td>29</td><td>5969.66</td></tr>",
                            "<tr><td>NULL</td><td>12</td><td>29</td><td>5969.66</td></tr>",
                            "<tr><td>NULL</td><td>NULL</td><td>29</td><td>28459.97</td></tr>",
                            "<tr><td>2007</td><td>1</td><td>30</td><td>6791.45</td></tr>",
                            "<tr><td>2008</td><td>1</td><td>30</td><td>4104.40</td></tr>",
                            "<tr><td>NULL</td><td>1</td><td>30</td><td>10895.85</td></tr>",
                            "<tr><td>2008</td><td>3</td><td>30</td><td>6053.13</td></tr>",
                            "<tr><td>NULL</td><td>3</td><td>30</td><td>6053.13</td></tr>",
                            "<tr><td>2007</td><td>4</td><td>30</td><td>2318.24</td></tr>",
                            "<tr><td>2008</td><td>4</td><td>30</td><td>2525.35</td></tr>",
                            "<tr><td>NULL</td><td>4</td><td>30</td><td>4843.59</td></tr>",
                            "<tr><td>2007</td><td>5</td><td>30</td><td>3274.83</td></tr>",
                            "<tr><td>NULL</td><td>5</td><td>30</td><td>3274.83</td></tr>",
                            "<tr><td>2007</td><td>6</td><td>30</td><td>2831.25</td></tr>",
                            "<tr><td>NULL</td><td>6</td><td>30</td><td>2831.25</td></tr>",
                            "<tr><td>2006</td><td>7</td><td>30</td><td>1101.20</td></tr>",
                            "<tr><td>2007</td><td>7</td><td>30</td><td>120.00</td></tr>",
                            "<tr><td>NULL</td><td>7</td><td>30</td><td>1221.20</td></tr>",
                            "<tr><td>2006</td><td>8</td><td>30</td><td>1887.60</td></tr>",
                            "<tr><td>NULL</td><td>8</td><td>30</td><td>1887.60</td></tr>",
                            "<tr><td>2006</td><td>9</td><td>30</td><td>288.00</td></tr>",
                            "<tr><td>2007</td><td>9</td><td>30</td><td>6365.35</td></tr>",
                            "<tr><td>NULL</td><td>9</td><td>30</td><td>6653.35</td></tr>",
                            "<tr><td>2006</td><td>10</td><td>30</td><td>1840.64</td></tr>",
                            "<tr><td>2007</td><td>10</td><td>30</td><td>1106.95</td></tr>",
                            "<tr><td>NULL</td><td>10</td><td>30</td><td>2947.59</td></tr>",
                            "<tr><td>2006</td><td>12</td><td>30</td><td>2505.60</td></tr>",
                            "<tr><td>2007</td><td>12</td><td>30</td><td>6246.41</td></tr>",
                            "<tr><td>NULL</td><td>12</td><td>30</td><td>8752.01</td></tr>",
                            "<tr><td>NULL</td><td>NULL</td><td>30</td><td>49360.40</td></tr>",
                            "<tr><td>2007</td><td>1</td><td>31</td><td>485.00</td></tr>",
                            "<tr><td>NULL</td><td>1</td><td>31</td><td>485.00</td></tr>",
                            "<tr><td>2007</td><td>3</td><td>31</td><td>3422.71</td></tr>",
                            "<tr><td>2008</td><td>3</td><td>31</td><td>7700.40</td></tr>",
                            "<tr><td>NULL</td><td>3</td><td>31</td><td>11123.11</td></tr>",
                            "<tr><td>2006</td><td>7</td><td>31</td><td>642.20</td></tr>",
                            "<tr><td>2007</td><td>7</td><td>31</td><td>6209.50</td></tr>",
                            "<tr><td>NULL</td><td>7</td><td>31</td><td>6851.70</td></tr>",
                            "<tr><td>2006</td><td>10</td><td>31</td><td>1584.00</td></tr>",
                            "<tr><td>2007</td><td>10</td><td>31</td><td>287.80</td></tr>",
                            "<tr><td>NULL</td><td>10</td><td>31</td><td>1871.80</td></tr>",
                            "<tr><td>2006</td><td>12</td><td>31</td><td>1765.60</td></tr>",
                            "<tr><td>2007</td><td>12</td><td>31</td><td>458.00</td></tr>",
                            "<tr><td>NULL</td><td>12</td><td>31</td><td>2223.60</td></tr>",
                            "<tr><td>NULL</td><td>NULL</td><td>31</td><td>22555.21</td></tr>",
                            "<tr><td>NULL</td><td>NULL</td><td>NULL</td><td>1265793.22</td></tr>",
                            "<tr><td>2006</td><td>NULL</td><td>1</td><td>3960.40</td></tr>",
                            "<tr><td>2006</td><td>NULL</td><td>2</td><td>5159.20</td></tr>",
                            "<tr><td>2006</td><td>NULL</td><td>3</td><td>2901.16</td></tr>",
                            "<tr><td>2006</td><td>NULL</td><td>4</td><td>14107.70</td></tr>",
                            "<tr><td>2006</td><td>NULL</td><td>5</td><td>9989.96</td></tr>",
                            "<tr><td>2006</td><td>NULL</td><td>6</td><td>2040.52</td></tr>",
                            "<tr><td>2006</td><td>NULL</td><td>7</td><td>819.84</td></tr>",
                            "<tr><td>2006</td><td>NULL</td><td>8</td><td>8043.98</td></tr>",
                            "<tr><td>2006</td><td>NULL</td><td>9</td><td>8921.30</td></tr>",
                            "<tr><td>2006</td><td>NULL</td><td>10</td><td>5238.80</td></tr>",
                            "<tr><td>2006</td><td>NULL</td><td>11</td><td>10388.49</td></tr>",
                            "<tr><td>2006</td><td>NULL</td><td>12</td><td>6495.82</td></tr>",
                            "<tr><td>2006</td><td>NULL</td><td>13</td><td>15585.58</td></tr>",
                            "<tr><td>2006</td><td>NULL</td><td>14</td><td>2436.50</td></tr>",
                            "<tr><td>2006</td><td>NULL</td><td>15</td><td>5731.63</td></tr>",
                            "<tr><td>2006</td><td>NULL</td><td>16</td><td>7892.10</td></tr>",
                            "<tr><td>2006</td><td>NULL</td><td>17</td><td>4516.96</td></tr>",
                            "<tr><td>2006</td><td>NULL</td><td>18</td><td>3397.60</td></tr>",
                            "<tr><td>2006</td><td>NULL</td><td>19</td><td>7281.51</td></tr>",
                            "<tr><td>2006</td><td>NULL</td><td>20</td><td>4610.36</td></tr>",
                            "<tr><td>2006</td><td>NULL</td><td>21</td><td>6632.48</td></tr>",
                            "<tr><td>2006</td><td>NULL</td><td>22</td><td>12875.60</td></tr>",
                            "<tr><td>2006</td><td>NULL</td><td>23</td><td>6031.10</td></tr>",
                            "<tr><td>2006</td><td>NULL</td><td>24</td><td>4785.03</td></tr>",
                            "<tr><td>2006</td><td>NULL</td><td>25</td><td>8753.35</td></tr>",
                            "<tr><td>2006</td><td>NULL</td><td>26</td><td>4862.88</td></tr>",
                            "<tr><td>2006</td><td>NULL</td><td>27</td><td>8525.24</td></tr>",
                            "<tr><td>2006</td><td>NULL</td><td>28</td><td>5620.20</td></tr>",
                            "<tr><td>2006</td><td>NULL</td><td>29</td><td>8863.86</td></tr>",
                            "<tr><td>2006</td><td>NULL</td><td>30</td><td>7623.04</td></tr>",
                            "<tr><td>2006</td><td>NULL</td><td>31</td><td>3991.80</td></tr>",
                            "<tr><td>2006</td><td>NULL</td><td>NULL</td><td>208083.99</td></tr>",
                            "<tr><td>2007</td><td>NULL</td><td>1</td><td>23526.50</td></tr>",
                            "<tr><td>2007</td><td>NULL</td><td>2</td><td>16219.36</td></tr>",
                            "<tr><td>2007</td><td>NULL</td><td>3</td><td>25538.99</td></tr>",
                            "<tr><td>2007</td><td>NULL</td><td>4</td><td>17637.85</td></tr>",
                            "<tr><td>2007</td><td>NULL</td><td>5</td><td>17410.21</td></tr>",
                            "<tr><td>2007</td><td>NULL</td><td>6</td><td>15321.03</td></tr>",
                            "<tr><td>2007</td><td>NULL</td><td>7</td><td>14584.42</td></tr>",
                            "<tr><td>2007</td><td>NULL</td><td>8</td><td>14984.33</td></tr>",
                            "<tr><td>2007</td><td>NULL</td><td>9</td><td>9310.70</td></tr>",
                            "<tr><td>2007</td><td>NULL</td><td>10</td><td>26485.78</td></tr>",
                            "<tr><td>2007</td><td>NULL</td><td>11</td><td>18936.96</td></tr>",
                            "<tr><td>2007</td><td>NULL</td><td>12</td><td>19502.98</td></tr>",
                            "<tr><td>2007</td><td>NULL</td><td>13</td><td>9599.15</td></tr>",
                            "<tr><td>2007</td><td>NULL</td><td>14</td><td>18150.35</td></tr>",
                            "<tr><td>2007</td><td>NULL</td><td>15</td><td>20828.71</td></tr>",
                            "<tr><td>2007</td><td>NULL</td><td>16</td><td>24145.95</td></tr>",
                            "<tr><td>2007</td><td>NULL</td><td>17</td><td>16581.40</td></tr>",
                            "<tr><td>2007</td><td>NULL</td><td>18</td><td>22413.26</td></tr>",
                            "<tr><td>2007</td><td>NULL</td><td>19</td><td>42947.73</td></tr>",
                            "<tr><td>2007</td><td>NULL</td><td>20</td><td>15550.16</td></tr>",
                            "<tr><td>2007</td><td>NULL</td><td>21</td><td>18329.20</td></tr>",
                            "<tr><td>2007</td><td>NULL</td><td>22</td><td>32703.92</td></tr>",
                            "<tr><td>2007</td><td>NULL</td><td>23</td><td>36654.22</td></tr>",
                            "<tr><td>2007</td><td>NULL</td><td>24</td><td>15519.02</td></tr>",
                            "<tr><td>2007</td><td>NULL</td><td>25</td><td>16054.41</td></tr>",
                            "<tr><td>2007</td><td>NULL</td><td>26</td><td>16400.09</td></tr>",
                            "<tr><td>2007</td><td>NULL</td><td>27</td><td>19505.93</td></tr>",
                            "<tr><td>2007</td><td>NULL</td><td>28</td><td>17716.78</td></tr>",
                            "<tr><td>2007</td><td>NULL</td><td>29</td><td>14608.42</td></tr>",
                            "<tr><td>2007</td><td>NULL</td><td>30</td><td>29054.48</td></tr>",
                            "<tr><td>2007</td><td>NULL</td><td>31</td><td>10863.01</td></tr>",
                            "<tr><td>2007</td><td>NULL</td><td>NULL</td><td>617085.30</td></tr>",
                            "<tr><td>2008</td><td>NULL</td><td>1</td><td>18736.46</td></tr>",
                            "<tr><td>2008</td><td>NULL</td><td>2</td><td>25288.14</td></tr>",
                            "<tr><td>2008</td><td>NULL</td><td>3</td><td>8780.85</td></tr>",
                            "<tr><td>2008</td><td>NULL</td><td>4</td><td>9009.78</td></tr>",
                            "<tr><td>2008</td><td>NULL</td><td>5</td><td>16213.27</td></tr>",
                            "<tr><td>2008</td><td>NULL</td><td>6</td><td>35108.09</td></tr>",
                            "<tr><td>2008</td><td>NULL</td><td>7</td><td>3661.07</td></tr>",
                            "<tr><td>2008</td><td>NULL</td><td>8</td><td>8847.20</td></tr>",
                            "<tr><td>2008</td><td>NULL</td><td>9</td><td>13319.99</td></tr>",
                            "<tr><td>2008</td><td>NULL</td><td>10</td><td>9021.51</td></tr>",
                            "<tr><td>2008</td><td>NULL</td><td>11</td><td>6685.39</td></tr>",
                            "<tr><td>2008</td><td>NULL</td><td>12</td><td>6873.90</td></tr>",
                            "<tr><td>2008</td><td>NULL</td><td>13</td><td>23272.75</td></tr>",
                            "<tr><td>2008</td><td>NULL</td><td>14</td><td>13000.15</td></tr>",
                            "<tr><td>2008</td><td>NULL</td><td>15</td><td>6452.25</td></tr>",
                            "<tr><td>2008</td><td>NULL</td><td>16</td><td>28420.84</td></tr>",
                            "<tr><td>2008</td><td>NULL</td><td>17</td><td>32013.72</td></tr>",
                            "<tr><td>2008</td><td>NULL</td><td>18</td><td>17310.06</td></tr>",
                            "<tr><td>2008</td><td>NULL</td><td>19</td><td>19589.92</td></tr>",
                            "<tr><td>2008</td><td>NULL</td><td>20</td><td>13727.01</td></tr>",
                            "<tr><td>2008</td><td>NULL</td><td>21</td><td>8589.30</td></tr>",
                            "<tr><td>2008</td><td>NULL</td><td>22</td><td>8632.67</td></tr>",
                            "<tr><td>2008</td><td>NULL</td><td>23</td><td>10139.55</td></tr>",
                            "<tr><td>2008</td><td>NULL</td><td>24</td><td>7314.89</td></tr>",
                            "<tr><td>2008</td><td>NULL</td><td>25</td><td>2604.50</td></tr>",
                            "<tr><td>2008</td><td>NULL</td><td>26</td><td>23550.00</td></tr>",
                            "<tr><td>2008</td><td>NULL</td><td>27</td><td>30608.99</td></tr>",
                            "<tr><td>2008</td><td>NULL</td><td>28</td><td>8480.71</td></tr>",
                            "<tr><td>2008</td><td>NULL</td><td>29</td><td>4987.69</td></tr>",
                            "<tr><td>2008</td><td>NULL</td><td>30</td><td>12682.88</td></tr>",
                            "<tr><td>2008</td><td>NULL</td><td>31</td><td>7700.40</td></tr>",
                            "<tr><td>2008</td><td>NULL</td><td>NULL</td><td>440623.93</td></tr>",
                            "<tr><td>2007</td><td>1</td><td>NULL</td><td>61258.08</td></tr>",
                            "<tr><td>2008</td><td>1</td><td>NULL</td><td>94222.12</td></tr>",
                            "<tr><td>NULL</td><td>1</td><td>NULL</td><td>155480.20</td></tr>",
                            "<tr><td>2007</td><td>2</td><td>NULL</td><td>38483.64</td></tr>",
                            "<tr><td>2008</td><td>2</td><td>NULL</td><td>99415.29</td></tr>",
                            "<tr><td>NULL</td><td>2</td><td>NULL</td><td>137898.93</td></tr>",
                            "<tr><td>2007</td><td>3</td><td>NULL</td><td>38547.23</td></tr>",
                            "<tr><td>2008</td><td>3</td><td>NULL</td><td>104854.18</td></tr>",
                            "<tr><td>NULL</td><td>3</td><td>NULL</td><td>143401.41</td></tr>",
                            "<tr><td>2007</td><td>4</td><td>NULL</td><td>53032.95</td></tr>",
                            "<tr><td>2008</td><td>4</td><td>NULL</td><td>123798.70</td></tr>",
                            "<tr><td>NULL</td><td>4</td><td>NULL</td><td>176831.65</td></tr>",
                            "<tr><td>2007</td><td>5</td><td>NULL</td><td>53781.30</td></tr>",
                            "<tr><td>2008</td><td>5</td><td>NULL</td><td>18333.64</td></tr>",
                            "<tr><td>NULL</td><td>5</td><td>NULL</td><td>72114.94</td></tr>",
                            "<tr><td>2007</td><td>6</td><td>NULL</td><td>36362.82</td></tr>",
                            "<tr><td>NULL</td><td>6</td><td>NULL</td><td>36362.82</td></tr>",
                            "<tr><td>2006</td><td>7</td><td>NULL</td><td>27861.90</td></tr>",
                            "<tr><td>2007</td><td>7</td><td>NULL</td><td>51020.86</td></tr>",
                            "<tr><td>NULL</td><td>7</td><td>NULL</td><td>78882.76</td></tr>",
                            "<tr><td>2006</td><td>8</td><td>NULL</td><td>25485.28</td></tr>",
                            "<tr><td>2007</td><td>8</td><td>NULL</td><td>47287.68</td></tr>",
                            "<tr><td>NULL</td><td>8</td><td>NULL</td><td>72772.96</td></tr>",
                            "<tr><td>2006</td><td>9</td><td>NULL</td><td>26381.40</td></tr>",
                            "<tr><td>2007</td><td>9</td><td>NULL</td><td>55629.27</td></tr>",
                            "<tr><td>NULL</td><td>9</td><td>NULL</td><td>82010.67</td></tr>",
                            "<tr><td>2006</td><td>10</td><td>NULL</td><td>37515.73</td></tr>",
                            "<tr><td>2007</td><td>10</td><td>NULL</td><td>66749.23</td></tr>",
                            "<tr><td>NULL</td><td>10</td><td>NULL</td><td>104264.96</td></tr>",
                            "<tr><td>2006</td><td>11</td><td>NULL</td><td>45600.05</td></tr>",
                            "<tr><td>2007</td><td>11</td><td>NULL</td><td>43533.80</td></tr>",
                            "<tr><td>NULL</td><td>11</td><td>NULL</td><td>89133.85</td></tr>",
                            "<tr><td>2006</td><td>12</td><td>NULL</td><td>45239.63</td></tr>",
                            "<tr><td>2007</td><td>12</td><td>NULL</td><td>71398.44</td></tr>",
                            "<tr><td>NULL</td><td>12</td><td>NULL</td><td>116638.07</td></tr>",
                            "</table>"
                        ]
                    }
                }
            ],
            "execution_count": 24
        },
        {
            "cell_type": "markdown",
            "source": [
                "3.3. Copiar la consulta previa y modificarla para utilizar la clausula ROLLUP en vez de CUBE."
            ],
            "metadata": {
                "azdata_cell_guid": "44e193a2-e9d5-4a51-875f-d6c60a921bde"
            }
        },
        {
            "cell_type": "code",
            "source": [
                "SELECT \r\n",
                "    YEAR(orderdate) AS orderyear,\r\n",
                "    MONTH(orderdate) AS ordermonth,\r\n",
                "    DAY(orderdate) AS orderday,\r\n",
                "    SUM(val) AS salesvalue\r\n",
                "FROM \r\n",
                "    Sales.OrderValues\r\n",
                "GROUP BY \r\n",
                "    ROLLUP (\r\n",
                "        YEAR(orderdate), \r\n",
                "        MONTH(orderdate), \r\n",
                "        DAY(orderdate)\r\n",
                "    );"
            ],
            "metadata": {
                "azdata_cell_guid": "ef4b0d49-20c9-40a7-a7fa-b4fe76b0a8d0",
                "language": "sql"
            },
            "outputs": [
                {
                    "output_type": "display_data",
                    "data": {
                        "text/html": "(507 rows affected)"
                    },
                    "metadata": {}
                },
                {
                    "output_type": "display_data",
                    "data": {
                        "text/html": "Total execution time: 00:00:00.029"
                    },
                    "metadata": {}
                },
                {
                    "output_type": "execute_result",
                    "metadata": {},
                    "execution_count": 25,
                    "data": {
                        "application/vnd.dataresource+json": {
                            "schema": {
                                "fields": [
                                    {
                                        "name": "orderyear"
                                    },
                                    {
                                        "name": "ordermonth"
                                    },
                                    {
                                        "name": "orderday"
                                    },
                                    {
                                        "name": "salesvalue"
                                    }
                                ]
                            },
                            "data": [
                                {
                                    "orderyear": "2006",
                                    "ordermonth": "7",
                                    "orderday": "4",
                                    "salesvalue": "440.00"
                                },
                                {
                                    "orderyear": "2006",
                                    "ordermonth": "7",
                                    "orderday": "5",
                                    "salesvalue": "1863.40"
                                },
                                {
                                    "orderyear": "2006",
                                    "ordermonth": "7",
                                    "orderday": "8",
                                    "salesvalue": "2206.66"
                                },
                                {
                                    "orderyear": "2006",
                                    "ordermonth": "7",
                                    "orderday": "9",
                                    "salesvalue": "3597.90"
                                },
                                {
                                    "orderyear": "2006",
                                    "ordermonth": "7",
                                    "orderday": "10",
                                    "salesvalue": "1444.80"
                                },
                                {
                                    "orderyear": "2006",
                                    "ordermonth": "7",
                                    "orderday": "11",
                                    "salesvalue": "556.62"
                                },
                                {
                                    "orderyear": "2006",
                                    "ordermonth": "7",
                                    "orderday": "12",
                                    "salesvalue": "2490.50"
                                },
                                {
                                    "orderyear": "2006",
                                    "ordermonth": "7",
                                    "orderday": "15",
                                    "salesvalue": "517.80"
                                },
                                {
                                    "orderyear": "2006",
                                    "ordermonth": "7",
                                    "orderday": "16",
                                    "salesvalue": "1119.90"
                                },
                                {
                                    "orderyear": "2006",
                                    "ordermonth": "7",
                                    "orderday": "17",
                                    "salesvalue": "1614.88"
                                },
                                {
                                    "orderyear": "2006",
                                    "ordermonth": "7",
                                    "orderday": "18",
                                    "salesvalue": "100.80"
                                },
                                {
                                    "orderyear": "2006",
                                    "ordermonth": "7",
                                    "orderday": "19",
                                    "salesvalue": "1952.65"
                                },
                                {
                                    "orderyear": "2006",
                                    "ordermonth": "7",
                                    "orderday": "22",
                                    "salesvalue": "584.00"
                                },
                                {
                                    "orderyear": "2006",
                                    "ordermonth": "7",
                                    "orderday": "23",
                                    "salesvalue": "1873.80"
                                },
                                {
                                    "orderyear": "2006",
                                    "ordermonth": "7",
                                    "orderday": "24",
                                    "salesvalue": "695.63"
                                },
                                {
                                    "orderyear": "2006",
                                    "ordermonth": "7",
                                    "orderday": "25",
                                    "salesvalue": "1176.00"
                                },
                                {
                                    "orderyear": "2006",
                                    "ordermonth": "7",
                                    "orderday": "26",
                                    "salesvalue": "346.56"
                                },
                                {
                                    "orderyear": "2006",
                                    "ordermonth": "7",
                                    "orderday": "29",
                                    "salesvalue": "3536.60"
                                },
                                {
                                    "orderyear": "2006",
                                    "ordermonth": "7",
                                    "orderday": "30",
                                    "salesvalue": "1101.20"
                                },
                                {
                                    "orderyear": "2006",
                                    "ordermonth": "7",
                                    "orderday": "31",
                                    "salesvalue": "642.20"
                                },
                                {
                                    "orderyear": "2006",
                                    "ordermonth": "7",
                                    "orderday": "NULL",
                                    "salesvalue": "27861.90"
                                },
                                {
                                    "orderyear": "2006",
                                    "ordermonth": "8",
                                    "orderday": "1",
                                    "salesvalue": "1424.00"
                                },
                                {
                                    "orderyear": "2006",
                                    "ordermonth": "8",
                                    "orderday": "2",
                                    "salesvalue": "1456.00"
                                },
                                {
                                    "orderyear": "2006",
                                    "ordermonth": "8",
                                    "orderday": "5",
                                    "salesvalue": "2037.28"
                                },
                                {
                                    "orderyear": "2006",
                                    "ordermonth": "8",
                                    "orderday": "6",
                                    "salesvalue": "538.60"
                                },
                                {
                                    "orderyear": "2006",
                                    "ordermonth": "8",
                                    "orderday": "7",
                                    "salesvalue": "291.84"
                                },
                                {
                                    "orderyear": "2006",
                                    "ordermonth": "8",
                                    "orderday": "8",
                                    "salesvalue": "420.00"
                                },
                                {
                                    "orderyear": "2006",
                                    "ordermonth": "8",
                                    "orderday": "9",
                                    "salesvalue": "1200.80"
                                },
                                {
                                    "orderyear": "2006",
                                    "ordermonth": "8",
                                    "orderday": "12",
                                    "salesvalue": "1488.80"
                                },
                                {
                                    "orderyear": "2006",
                                    "ordermonth": "8",
                                    "orderday": "13",
                                    "salesvalue": "351.00"
                                },
                                {
                                    "orderyear": "2006",
                                    "ordermonth": "8",
                                    "orderday": "14",
                                    "salesvalue": "699.70"
                                },
                                {
                                    "orderyear": "2006",
                                    "ordermonth": "8",
                                    "orderday": "15",
                                    "salesvalue": "155.40"
                                },
                                {
                                    "orderyear": "2006",
                                    "ordermonth": "8",
                                    "orderday": "16",
                                    "salesvalue": "1414.80"
                                },
                                {
                                    "orderyear": "2006",
                                    "ordermonth": "8",
                                    "orderday": "19",
                                    "salesvalue": "1170.38"
                                },
                                {
                                    "orderyear": "2006",
                                    "ordermonth": "8",
                                    "orderday": "20",
                                    "salesvalue": "1743.36"
                                },
                                {
                                    "orderyear": "2006",
                                    "ordermonth": "8",
                                    "orderday": "21",
                                    "salesvalue": "3016.00"
                                },
                                {
                                    "orderyear": "2006",
                                    "ordermonth": "8",
                                    "orderday": "22",
                                    "salesvalue": "819.00"
                                },
                                {
                                    "orderyear": "2006",
                                    "ordermonth": "8",
                                    "orderday": "23",
                                    "salesvalue": "80.10"
                                },
                                {
                                    "orderyear": "2006",
                                    "ordermonth": "8",
                                    "orderday": "26",
                                    "salesvalue": "479.40"
                                },
                                {
                                    "orderyear": "2006",
                                    "ordermonth": "8",
                                    "orderday": "27",
                                    "salesvalue": "2666.52"
                                },
                                {
                                    "orderyear": "2006",
                                    "ordermonth": "8",
                                    "orderday": "28",
                                    "salesvalue": "1296.00"
                                },
                                {
                                    "orderyear": "2006",
                                    "ordermonth": "8",
                                    "orderday": "29",
                                    "salesvalue": "848.70"
                                },
                                {
                                    "orderyear": "2006",
                                    "ordermonth": "8",
                                    "orderday": "30",
                                    "salesvalue": "1887.60"
                                },
                                {
                                    "orderyear": "2006",
                                    "ordermonth": "8",
                                    "orderday": "NULL",
                                    "salesvalue": "25485.28"
                                },
                                {
                                    "orderyear": "2006",
                                    "ordermonth": "9",
                                    "orderday": "2",
                                    "salesvalue": "121.60"
                                },
                                {
                                    "orderyear": "2006",
                                    "ordermonth": "9",
                                    "orderday": "3",
                                    "salesvalue": "1050.60"
                                },
                                {
                                    "orderyear": "2006",
                                    "ordermonth": "9",
                                    "orderday": "4",
                                    "salesvalue": "1420.00"
                                },
                                {
                                    "orderyear": "2006",
                                    "ordermonth": "9",
                                    "orderday": "5",
                                    "salesvalue": "2645.00"
                                },
                                {
                                    "orderyear": "2006",
                                    "ordermonth": "9",
                                    "orderday": "6",
                                    "salesvalue": "349.50"
                                },
                                {
                                    "orderyear": "2006",
                                    "ordermonth": "9",
                                    "orderday": "9",
                                    "salesvalue": "1363.00"
                                },
                                {
                                    "orderyear": "2006",
                                    "ordermonth": "9",
                                    "orderday": "10",
                                    "salesvalue": "2708.80"
                                },
                                {
                                    "orderyear": "2006",
                                    "ordermonth": "9",
                                    "orderday": "11",
                                    "salesvalue": "1117.80"
                                },
                                {
                                    "orderyear": "2006",
                                    "ordermonth": "9",
                                    "orderday": "12",
                                    "salesvalue": "954.40"
                                },
                                {
                                    "orderyear": "2006",
                                    "ordermonth": "9",
                                    "orderday": "13",
                                    "salesvalue": "3741.30"
                                },
                                {
                                    "orderyear": "2006",
                                    "ordermonth": "9",
                                    "orderday": "16",
                                    "salesvalue": "498.50"
                                },
                                {
                                    "orderyear": "2006",
                                    "ordermonth": "9",
                                    "orderday": "17",
                                    "salesvalue": "424.00"
                                },
                                {
                                    "orderyear": "2006",
                                    "ordermonth": "9",
                                    "orderday": "18",
                                    "salesvalue": "88.80"
                                },
                                {
                                    "orderyear": "2006",
                                    "ordermonth": "9",
                                    "orderday": "19",
                                    "salesvalue": "1762.00"
                                },
                                {
                                    "orderyear": "2006",
                                    "ordermonth": "9",
                                    "orderday": "20",
                                    "salesvalue": "604.80"
                                },
                                {
                                    "orderyear": "2006",
                                    "ordermonth": "9",
                                    "orderday": "23",
                                    "salesvalue": "1614.80"
                                },
                                {
                                    "orderyear": "2006",
                                    "ordermonth": "9",
                                    "orderday": "24",
                                    "salesvalue": "182.40"
                                },
                                {
                                    "orderyear": "2006",
                                    "ordermonth": "9",
                                    "orderday": "25",
                                    "salesvalue": "2094.30"
                                },
                                {
                                    "orderyear": "2006",
                                    "ordermonth": "9",
                                    "orderday": "26",
                                    "salesvalue": "516.80"
                                },
                                {
                                    "orderyear": "2006",
                                    "ordermonth": "9",
                                    "orderday": "27",
                                    "salesvalue": "2835.00"
                                },
                                {
                                    "orderyear": "2006",
                                    "ordermonth": "9",
                                    "orderday": "30",
                                    "salesvalue": "288.00"
                                },
                                {
                                    "orderyear": "2006",
                                    "ordermonth": "9",
                                    "orderday": "NULL",
                                    "salesvalue": "26381.40"
                                },
                                {
                                    "orderyear": "2006",
                                    "ordermonth": "10",
                                    "orderday": "1",
                                    "salesvalue": "240.40"
                                },
                                {
                                    "orderyear": "2006",
                                    "ordermonth": "10",
                                    "orderday": "2",
                                    "salesvalue": "1191.20"
                                },
                                {
                                    "orderyear": "2006",
                                    "ordermonth": "10",
                                    "orderday": "3",
                                    "salesvalue": "660.00"
                                },
                                {
                                    "orderyear": "2006",
                                    "ordermonth": "10",
                                    "orderday": "4",
                                    "salesvalue": "112.00"
                                },
                                {
                                    "orderyear": "2006",
                                    "ordermonth": "10",
                                    "orderday": "7",
                                    "salesvalue": "164.40"
                                },
                                {
                                    "orderyear": "2006",
                                    "ordermonth": "10",
                                    "orderday": "8",
                                    "salesvalue": "5275.72"
                                },
                                {
                                    "orderyear": "2006",
                                    "ordermonth": "10",
                                    "orderday": "9",
                                    "salesvalue": "1497.00"
                                },
                                {
                                    "orderyear": "2006",
                                    "ordermonth": "10",
                                    "orderday": "10",
                                    "salesvalue": "982.00"
                                },
                                {
                                    "orderyear": "2006",
                                    "ordermonth": "10",
                                    "orderday": "11",
                                    "salesvalue": "1810.00"
                                },
                                {
                                    "orderyear": "2006",
                                    "ordermonth": "10",
                                    "orderday": "14",
                                    "salesvalue": "1168.00"
                                },
                                {
                                    "orderyear": "2006",
                                    "ordermonth": "10",
                                    "orderday": "15",
                                    "salesvalue": "4578.43"
                                },
                                {
                                    "orderyear": "2006",
                                    "ordermonth": "10",
                                    "orderday": "16",
                                    "salesvalue": "1737.50"
                                },
                                {
                                    "orderyear": "2006",
                                    "ordermonth": "10",
                                    "orderday": "17",
                                    "salesvalue": "1786.88"
                                },
                                {
                                    "orderyear": "2006",
                                    "ordermonth": "10",
                                    "orderday": "18",
                                    "salesvalue": "877.20"
                                },
                                {
                                    "orderyear": "2006",
                                    "ordermonth": "10",
                                    "orderday": "21",
                                    "salesvalue": "144.80"
                                },
                                {
                                    "orderyear": "2006",
                                    "ordermonth": "10",
                                    "orderday": "22",
                                    "salesvalue": "2036.16"
                                },
                                {
                                    "orderyear": "2006",
                                    "ordermonth": "10",
                                    "orderday": "23",
                                    "salesvalue": "285.12"
                                },
                                {
                                    "orderyear": "2006",
                                    "ordermonth": "10",
                                    "orderday": "24",
                                    "salesvalue": "2467.00"
                                },
                                {
                                    "orderyear": "2006",
                                    "ordermonth": "10",
                                    "orderday": "25",
                                    "salesvalue": "934.50"
                                },
                                {
                                    "orderyear": "2006",
                                    "ordermonth": "10",
                                    "orderday": "28",
                                    "salesvalue": "3354.00"
                                },
                                {
                                    "orderyear": "2006",
                                    "ordermonth": "10",
                                    "orderday": "29",
                                    "salesvalue": "2788.78"
                                },
                                {
                                    "orderyear": "2006",
                                    "ordermonth": "10",
                                    "orderday": "30",
                                    "salesvalue": "1840.64"
                                },
                                {
                                    "orderyear": "2006",
                                    "ordermonth": "10",
                                    "orderday": "31",
                                    "salesvalue": "1584.00"
                                },
                                {
                                    "orderyear": "2006",
                                    "ordermonth": "10",
                                    "orderday": "NULL",
                                    "salesvalue": "37515.73"
                                },
                                {
                                    "orderyear": "2006",
                                    "ordermonth": "11",
                                    "orderday": "1",
                                    "salesvalue": "2296.00"
                                },
                                {
                                    "orderyear": "2006",
                                    "ordermonth": "11",
                                    "orderday": "4",
                                    "salesvalue": "2924.80"
                                },
                                {
                                    "orderyear": "2006",
                                    "ordermonth": "11",
                                    "orderday": "5",
                                    "salesvalue": "1618.88"
                                },
                                {
                                    "orderyear": "2006",
                                    "ordermonth": "11",
                                    "orderday": "6",
                                    "salesvalue": "814.42"
                                },
                                {
                                    "orderyear": "2006",
                                    "ordermonth": "11",
                                    "orderday": "7",
                                    "salesvalue": "363.60"
                                },
                                {
                                    "orderyear": "2006",
                                    "ordermonth": "11",
                                    "orderday": "8",
                                    "salesvalue": "141.60"
                                },
                                {
                                    "orderyear": "2006",
                                    "ordermonth": "11",
                                    "orderday": "11",
                                    "salesvalue": "6040.79"
                                },
                                {
                                    "orderyear": "2006",
                                    "ordermonth": "11",
                                    "orderday": "12",
                                    "salesvalue": "136.30"
                                },
                                {
                                    "orderyear": "2006",
                                    "ordermonth": "11",
                                    "orderday": "13",
                                    "salesvalue": "8593.28"
                                },
                                {
                                    "orderyear": "2006",
                                    "ordermonth": "11",
                                    "orderday": "14",
                                    "salesvalue": "568.80"
                                },
                                {
                                    "orderyear": "2006",
                                    "ordermonth": "11",
                                    "orderday": "15",
                                    "salesvalue": "480.00"
                                },
                                {
                                    "orderyear": "2006",
                                    "ordermonth": "11",
                                    "orderday": "18",
                                    "salesvalue": "1106.40"
                                },
                                {
                                    "orderyear": "2006",
                                    "ordermonth": "11",
                                    "orderday": "19",
                                    "salesvalue": "1167.68"
                                },
                                {
                                    "orderyear": "2006",
                                    "ordermonth": "11",
                                    "orderday": "20",
                                    "salesvalue": "429.40"
                                },
                                {
                                    "orderyear": "2006",
                                    "ordermonth": "11",
                                    "orderday": "21",
                                    "salesvalue": "3471.68"
                                },
                                {
                                    "orderyear": "2006",
                                    "ordermonth": "11",
                                    "orderday": "22",
                                    "salesvalue": "9436.44"
                                },
                                {
                                    "orderyear": "2006",
                                    "ordermonth": "11",
                                    "orderday": "25",
                                    "salesvalue": "1549.60"
                                },
                                {
                                    "orderyear": "2006",
                                    "ordermonth": "11",
                                    "orderday": "26",
                                    "salesvalue": "1397.20"
                                },
                                {
                                    "orderyear": "2006",
                                    "ordermonth": "11",
                                    "orderday": "27",
                                    "salesvalue": "403.20"
                                },
                                {
                                    "orderyear": "2006",
                                    "ordermonth": "11",
                                    "orderday": "28",
                                    "salesvalue": "970.20"
                                },
                                {
                                    "orderyear": "2006",
                                    "ordermonth": "11",
                                    "orderday": "29",
                                    "salesvalue": "1689.78"
                                },
                                {
                                    "orderyear": "2006",
                                    "ordermonth": "11",
                                    "orderday": "NULL",
                                    "salesvalue": "45600.05"
                                },
                                {
                                    "orderyear": "2006",
                                    "ordermonth": "12",
                                    "orderday": "2",
                                    "salesvalue": "2390.40"
                                },
                                {
                                    "orderyear": "2006",
                                    "ordermonth": "12",
                                    "orderday": "3",
                                    "salesvalue": "1190.56"
                                },
                                {
                                    "orderyear": "2006",
                                    "ordermonth": "12",
                                    "orderday": "4",
                                    "salesvalue": "9210.90"
                                },
                                {
                                    "orderyear": "2006",
                                    "ordermonth": "12",
                                    "orderday": "5",
                                    "salesvalue": "1825.40"
                                },
                                {
                                    "orderyear": "2006",
                                    "ordermonth": "12",
                                    "orderday": "6",
                                    "salesvalue": "338.00"
                                },
                                {
                                    "orderyear": "2006",
                                    "ordermonth": "12",
                                    "orderday": "9",
                                    "salesvalue": "1262.60"
                                },
                                {
                                    "orderyear": "2006",
                                    "ordermonth": "12",
                                    "orderday": "10",
                                    "salesvalue": "103.20"
                                },
                                {
                                    "orderyear": "2006",
                                    "ordermonth": "12",
                                    "orderday": "11",
                                    "salesvalue": "863.28"
                                },
                                {
                                    "orderyear": "2006",
                                    "ordermonth": "12",
                                    "orderday": "12",
                                    "salesvalue": "1425.82"
                                },
                                {
                                    "orderyear": "2006",
                                    "ordermonth": "12",
                                    "orderday": "13",
                                    "salesvalue": "2900.00"
                                },
                                {
                                    "orderyear": "2006",
                                    "ordermonth": "12",
                                    "orderday": "16",
                                    "salesvalue": "3121.40"
                                },
                                {
                                    "orderyear": "2006",
                                    "ordermonth": "12",
                                    "orderday": "17",
                                    "salesvalue": "691.20"
                                },
                                {
                                    "orderyear": "2006",
                                    "ordermonth": "12",
                                    "orderday": "18",
                                    "salesvalue": "1224.40"
                                },
                                {
                                    "orderyear": "2006",
                                    "ordermonth": "12",
                                    "orderday": "19",
                                    "salesvalue": "1228.80"
                                },
                                {
                                    "orderyear": "2006",
                                    "ordermonth": "12",
                                    "orderday": "20",
                                    "salesvalue": "1832.80"
                                },
                                {
                                    "orderyear": "2006",
                                    "ordermonth": "12",
                                    "orderday": "23",
                                    "salesvalue": "2177.28"
                                },
                                {
                                    "orderyear": "2006",
                                    "ordermonth": "12",
                                    "orderday": "24",
                                    "salesvalue": "1440.00"
                                },
                                {
                                    "orderyear": "2006",
                                    "ordermonth": "12",
                                    "orderday": "25",
                                    "salesvalue": "2998.95"
                                },
                                {
                                    "orderyear": "2006",
                                    "ordermonth": "12",
                                    "orderday": "26",
                                    "salesvalue": "2122.92"
                                },
                                {
                                    "orderyear": "2006",
                                    "ordermonth": "12",
                                    "orderday": "27",
                                    "salesvalue": "2620.52"
                                },
                                {
                                    "orderyear": "2006",
                                    "ordermonth": "12",
                                    "orderday": "30",
                                    "salesvalue": "2505.60"
                                },
                                {
                                    "orderyear": "2006",
                                    "ordermonth": "12",
                                    "orderday": "31",
                                    "salesvalue": "1765.60"
                                },
                                {
                                    "orderyear": "2006",
                                    "ordermonth": "12",
                                    "orderday": "NULL",
                                    "salesvalue": "45239.63"
                                },
                                {
                                    "orderyear": "2006",
                                    "ordermonth": "NULL",
                                    "orderday": "NULL",
                                    "salesvalue": "208083.99"
                                },
                                {
                                    "orderyear": "2007",
                                    "ordermonth": "1",
                                    "orderday": "1",
                                    "salesvalue": "6931.60"
                                },
                                {
                                    "orderyear": "2007",
                                    "ordermonth": "1",
                                    "orderday": "2",
                                    "salesvalue": "2713.50"
                                },
                                {
                                    "orderyear": "2007",
                                    "ordermonth": "1",
                                    "orderday": "3",
                                    "salesvalue": "2446.27"
                                },
                                {
                                    "orderyear": "2007",
                                    "ordermonth": "1",
                                    "orderday": "6",
                                    "salesvalue": "400.00"
                                },
                                {
                                    "orderyear": "2007",
                                    "ordermonth": "1",
                                    "orderday": "7",
                                    "salesvalue": "3024.78"
                                },
                                {
                                    "orderyear": "2007",
                                    "ordermonth": "1",
                                    "orderday": "8",
                                    "salesvalue": "1622.40"
                                },
                                {
                                    "orderyear": "2007",
                                    "ordermonth": "1",
                                    "orderday": "9",
                                    "salesvalue": "319.20"
                                },
                                {
                                    "orderyear": "2007",
                                    "ordermonth": "1",
                                    "orderday": "10",
                                    "salesvalue": "1768.80"
                                },
                                {
                                    "orderyear": "2007",
                                    "ordermonth": "1",
                                    "orderday": "13",
                                    "salesvalue": "334.80"
                                },
                                {
                                    "orderyear": "2007",
                                    "ordermonth": "1",
                                    "orderday": "14",
                                    "salesvalue": "2348.03"
                                },
                                {
                                    "orderyear": "2007",
                                    "ordermonth": "1",
                                    "orderday": "15",
                                    "salesvalue": "102.40"
                                },
                                {
                                    "orderyear": "2007",
                                    "ordermonth": "1",
                                    "orderday": "16",
                                    "salesvalue": "11908.40"
                                },
                                {
                                    "orderyear": "2007",
                                    "ordermonth": "1",
                                    "orderday": "17",
                                    "salesvalue": "1814.80"
                                },
                                {
                                    "orderyear": "2007",
                                    "ordermonth": "1",
                                    "orderday": "20",
                                    "salesvalue": "2097.60"
                                },
                                {
                                    "orderyear": "2007",
                                    "ordermonth": "1",
                                    "orderday": "21",
                                    "salesvalue": "2902.11"
                                },
                                {
                                    "orderyear": "2007",
                                    "ordermonth": "1",
                                    "orderday": "22",
                                    "salesvalue": "49.80"
                                },
                                {
                                    "orderyear": "2007",
                                    "ordermonth": "1",
                                    "orderday": "23",
                                    "salesvalue": "10214.56"
                                },
                                {
                                    "orderyear": "2007",
                                    "ordermonth": "1",
                                    "orderday": "24",
                                    "salesvalue": "360.00"
                                },
                                {
                                    "orderyear": "2007",
                                    "ordermonth": "1",
                                    "orderday": "27",
                                    "salesvalue": "989.20"
                                },
                                {
                                    "orderyear": "2007",
                                    "ordermonth": "1",
                                    "orderday": "28",
                                    "salesvalue": "192.00"
                                },
                                {
                                    "orderyear": "2007",
                                    "ordermonth": "1",
                                    "orderday": "29",
                                    "salesvalue": "1441.38"
                                },
                                {
                                    "orderyear": "2007",
                                    "ordermonth": "1",
                                    "orderday": "30",
                                    "salesvalue": "6791.45"
                                },
                                {
                                    "orderyear": "2007",
                                    "ordermonth": "1",
                                    "orderday": "31",
                                    "salesvalue": "485.00"
                                },
                                {
                                    "orderyear": "2007",
                                    "ordermonth": "1",
                                    "orderday": "NULL",
                                    "salesvalue": "61258.08"
                                },
                                {
                                    "orderyear": "2007",
                                    "ordermonth": "2",
                                    "orderday": "3",
                                    "salesvalue": "1172.32"
                                },
                                {
                                    "orderyear": "2007",
                                    "ordermonth": "2",
                                    "orderday": "4",
                                    "salesvalue": "631.60"
                                },
                                {
                                    "orderyear": "2007",
                                    "ordermonth": "2",
                                    "orderday": "5",
                                    "salesvalue": "2387.52"
                                },
                                {
                                    "orderyear": "2007",
                                    "ordermonth": "2",
                                    "orderday": "6",
                                    "salesvalue": "454.00"
                                },
                                {
                                    "orderyear": "2007",
                                    "ordermonth": "2",
                                    "orderday": "7",
                                    "salesvalue": "1078.00"
                                },
                                {
                                    "orderyear": "2007",
                                    "ordermonth": "2",
                                    "orderday": "10",
                                    "salesvalue": "6679.14"
                                },
                                {
                                    "orderyear": "2007",
                                    "ordermonth": "2",
                                    "orderday": "11",
                                    "salesvalue": "1792.00"
                                },
                                {
                                    "orderyear": "2007",
                                    "ordermonth": "2",
                                    "orderday": "12",
                                    "salesvalue": "1549.14"
                                },
                                {
                                    "orderyear": "2007",
                                    "ordermonth": "2",
                                    "orderday": "13",
                                    "salesvalue": "174.90"
                                },
                                {
                                    "orderyear": "2007",
                                    "ordermonth": "2",
                                    "orderday": "14",
                                    "salesvalue": "1160.64"
                                },
                                {
                                    "orderyear": "2007",
                                    "ordermonth": "2",
                                    "orderday": "17",
                                    "salesvalue": "443.40"
                                },
                                {
                                    "orderyear": "2007",
                                    "ordermonth": "2",
                                    "orderday": "18",
                                    "salesvalue": "1838.20"
                                },
                                {
                                    "orderyear": "2007",
                                    "ordermonth": "2",
                                    "orderday": "19",
                                    "salesvalue": "4274.78"
                                },
                                {
                                    "orderyear": "2007",
                                    "ordermonth": "2",
                                    "orderday": "20",
                                    "salesvalue": "2018.50"
                                },
                                {
                                    "orderyear": "2007",
                                    "ordermonth": "2",
                                    "orderday": "21",
                                    "salesvalue": "738.90"
                                },
                                {
                                    "orderyear": "2007",
                                    "ordermonth": "2",
                                    "orderday": "24",
                                    "salesvalue": "2684.00"
                                },
                                {
                                    "orderyear": "2007",
                                    "ordermonth": "2",
                                    "orderday": "25",
                                    "salesvalue": "2141.60"
                                },
                                {
                                    "orderyear": "2007",
                                    "ordermonth": "2",
                                    "orderday": "26",
                                    "salesvalue": "3891.00"
                                },
                                {
                                    "orderyear": "2007",
                                    "ordermonth": "2",
                                    "orderday": "27",
                                    "salesvalue": "1659.20"
                                },
                                {
                                    "orderyear": "2007",
                                    "ordermonth": "2",
                                    "orderday": "28",
                                    "salesvalue": "1714.80"
                                },
                                {
                                    "orderyear": "2007",
                                    "ordermonth": "2",
                                    "orderday": "NULL",
                                    "salesvalue": "38483.64"
                                },
                                {
                                    "orderyear": "2007",
                                    "ordermonth": "3",
                                    "orderday": "3",
                                    "salesvalue": "156.00"
                                },
                                {
                                    "orderyear": "2007",
                                    "ordermonth": "3",
                                    "orderday": "4",
                                    "salesvalue": "2322.58"
                                },
                                {
                                    "orderyear": "2007",
                                    "ordermonth": "3",
                                    "orderday": "5",
                                    "salesvalue": "2518.00"
                                },
                                {
                                    "orderyear": "2007",
                                    "ordermonth": "3",
                                    "orderday": "6",
                                    "salesvalue": "451.20"
                                },
                                {
                                    "orderyear": "2007",
                                    "ordermonth": "3",
                                    "orderday": "7",
                                    "salesvalue": "717.60"
                                },
                                {
                                    "orderyear": "2007",
                                    "ordermonth": "3",
                                    "orderday": "10",
                                    "salesvalue": "956.68"
                                },
                                {
                                    "orderyear": "2007",
                                    "ordermonth": "3",
                                    "orderday": "11",
                                    "salesvalue": "3148.80"
                                },
                                {
                                    "orderyear": "2007",
                                    "ordermonth": "3",
                                    "orderday": "12",
                                    "salesvalue": "1036.80"
                                },
                                {
                                    "orderyear": "2007",
                                    "ordermonth": "3",
                                    "orderday": "13",
                                    "salesvalue": "1479.50"
                                },
                                {
                                    "orderyear": "2007",
                                    "ordermonth": "3",
                                    "orderday": "14",
                                    "salesvalue": "1505.18"
                                },
                                {
                                    "orderyear": "2007",
                                    "ordermonth": "3",
                                    "orderday": "17",
                                    "salesvalue": "738.48"
                                },
                                {
                                    "orderyear": "2007",
                                    "ordermonth": "3",
                                    "orderday": "18",
                                    "salesvalue": "471.20"
                                },
                                {
                                    "orderyear": "2007",
                                    "ordermonth": "3",
                                    "orderday": "19",
                                    "salesvalue": "10495.60"
                                },
                                {
                                    "orderyear": "2007",
                                    "ordermonth": "3",
                                    "orderday": "20",
                                    "salesvalue": "2228.00"
                                },
                                {
                                    "orderyear": "2007",
                                    "ordermonth": "3",
                                    "orderday": "21",
                                    "salesvalue": "147.00"
                                },
                                {
                                    "orderyear": "2007",
                                    "ordermonth": "3",
                                    "orderday": "24",
                                    "salesvalue": "1055.00"
                                },
                                {
                                    "orderyear": "2007",
                                    "ordermonth": "3",
                                    "orderday": "25",
                                    "salesvalue": "1584.00"
                                },
                                {
                                    "orderyear": "2007",
                                    "ordermonth": "3",
                                    "orderday": "26",
                                    "salesvalue": "2161.70"
                                },
                                {
                                    "orderyear": "2007",
                                    "ordermonth": "3",
                                    "orderday": "27",
                                    "salesvalue": "1512.00"
                                },
                                {
                                    "orderyear": "2007",
                                    "ordermonth": "3",
                                    "orderday": "28",
                                    "salesvalue": "439.20"
                                },
                                {
                                    "orderyear": "2007",
                                    "ordermonth": "3",
                                    "orderday": "31",
                                    "salesvalue": "3422.71"
                                },
                                {
                                    "orderyear": "2007",
                                    "ordermonth": "3",
                                    "orderday": "NULL",
                                    "salesvalue": "38547.23"
                                },
                                {
                                    "orderyear": "2007",
                                    "ordermonth": "4",
                                    "orderday": "1",
                                    "salesvalue": "851.20"
                                },
                                {
                                    "orderyear": "2007",
                                    "ordermonth": "4",
                                    "orderday": "2",
                                    "salesvalue": "1520.40"
                                },
                                {
                                    "orderyear": "2007",
                                    "ordermonth": "4",
                                    "orderday": "3",
                                    "salesvalue": "278.00"
                                },
                                {
                                    "orderyear": "2007",
                                    "ordermonth": "4",
                                    "orderday": "4",
                                    "salesvalue": "1570.60"
                                },
                                {
                                    "orderyear": "2007",
                                    "ordermonth": "4",
                                    "orderday": "7",
                                    "salesvalue": "575.00"
                                },
                                {
                                    "orderyear": "2007",
                                    "ordermonth": "4",
                                    "orderday": "8",
                                    "salesvalue": "1412.00"
                                },
                                {
                                    "orderyear": "2007",
                                    "ordermonth": "4",
                                    "orderday": "9",
                                    "salesvalue": "672.26"
                                },
                                {
                                    "orderyear": "2007",
                                    "ordermonth": "4",
                                    "orderday": "10",
                                    "salesvalue": "816.30"
                                },
                                {
                                    "orderyear": "2007",
                                    "ordermonth": "4",
                                    "orderday": "11",
                                    "salesvalue": "3437.00"
                                },
                                {
                                    "orderyear": "2007",
                                    "ordermonth": "4",
                                    "orderday": "14",
                                    "salesvalue": "147.90"
                                },
                                {
                                    "orderyear": "2007",
                                    "ordermonth": "4",
                                    "orderday": "15",
                                    "salesvalue": "1164.86"
                                },
                                {
                                    "orderyear": "2007",
                                    "ordermonth": "4",
                                    "orderday": "16",
                                    "salesvalue": "240.00"
                                },
                                {
                                    "orderyear": "2007",
                                    "ordermonth": "4",
                                    "orderday": "17",
                                    "salesvalue": "136.80"
                                },
                                {
                                    "orderyear": "2007",
                                    "ordermonth": "4",
                                    "orderday": "18",
                                    "salesvalue": "7257.54"
                                },
                                {
                                    "orderyear": "2007",
                                    "ordermonth": "4",
                                    "orderday": "21",
                                    "salesvalue": "525.30"
                                },
                                {
                                    "orderyear": "2007",
                                    "ordermonth": "4",
                                    "orderday": "22",
                                    "salesvalue": "10565.45"
                                },
                                {
                                    "orderyear": "2007",
                                    "ordermonth": "4",
                                    "orderday": "23",
                                    "salesvalue": "9921.30"
                                },
                                {
                                    "orderyear": "2007",
                                    "ordermonth": "4",
                                    "orderday": "24",
                                    "salesvalue": "2733.05"
                                },
                                {
                                    "orderyear": "2007",
                                    "ordermonth": "4",
                                    "orderday": "25",
                                    "salesvalue": "4150.05"
                                },
                                {
                                    "orderyear": "2007",
                                    "ordermonth": "4",
                                    "orderday": "28",
                                    "salesvalue": "2314.20"
                                },
                                {
                                    "orderyear": "2007",
                                    "ordermonth": "4",
                                    "orderday": "29",
                                    "salesvalue": "425.50"
                                },
                                {
                                    "orderyear": "2007",
                                    "ordermonth": "4",
                                    "orderday": "30",
                                    "salesvalue": "2318.24"
                                },
                                {
                                    "orderyear": "2007",
                                    "ordermonth": "4",
                                    "orderday": "NULL",
                                    "salesvalue": "53032.95"
                                },
                                {
                                    "orderyear": "2007",
                                    "ordermonth": "5",
                                    "orderday": "1",
                                    "salesvalue": "5636.96"
                                },
                                {
                                    "orderyear": "2007",
                                    "ordermonth": "5",
                                    "orderday": "2",
                                    "salesvalue": "818.40"
                                },
                                {
                                    "orderyear": "2007",
                                    "ordermonth": "5",
                                    "orderday": "5",
                                    "salesvalue": "2654.40"
                                },
                                {
                                    "orderyear": "2007",
                                    "ordermonth": "5",
                                    "orderday": "6",
                                    "salesvalue": "392.20"
                                },
                                {
                                    "orderyear": "2007",
                                    "ordermonth": "5",
                                    "orderday": "7",
                                    "salesvalue": "946.00"
                                },
                                {
                                    "orderyear": "2007",
                                    "ordermonth": "5",
                                    "orderday": "8",
                                    "salesvalue": "4290.00"
                                },
                                {
                                    "orderyear": "2007",
                                    "ordermonth": "5",
                                    "orderday": "9",
                                    "salesvalue": "796.35"
                                },
                                {
                                    "orderyear": "2007",
                                    "ordermonth": "5",
                                    "orderday": "12",
                                    "salesvalue": "2687.90"
                                },
                                {
                                    "orderyear": "2007",
                                    "ordermonth": "5",
                                    "orderday": "13",
                                    "salesvalue": "1940.85"
                                },
                                {
                                    "orderyear": "2007",
                                    "ordermonth": "5",
                                    "orderday": "14",
                                    "salesvalue": "3468.80"
                                },
                                {
                                    "orderyear": "2007",
                                    "ordermonth": "5",
                                    "orderday": "15",
                                    "salesvalue": "139.80"
                                },
                                {
                                    "orderyear": "2007",
                                    "ordermonth": "5",
                                    "orderday": "16",
                                    "salesvalue": "355.50"
                                },
                                {
                                    "orderyear": "2007",
                                    "ordermonth": "5",
                                    "orderday": "19",
                                    "salesvalue": "12138.22"
                                },
                                {
                                    "orderyear": "2007",
                                    "ordermonth": "5",
                                    "orderday": "20",
                                    "salesvalue": "469.11"
                                },
                                {
                                    "orderyear": "2007",
                                    "ordermonth": "5",
                                    "orderday": "21",
                                    "salesvalue": "1921.70"
                                },
                                {
                                    "orderyear": "2007",
                                    "ordermonth": "5",
                                    "orderday": "22",
                                    "salesvalue": "210.00"
                                },
                                {
                                    "orderyear": "2007",
                                    "ordermonth": "5",
                                    "orderday": "23",
                                    "salesvalue": "4604.80"
                                },
                                {
                                    "orderyear": "2007",
                                    "ordermonth": "5",
                                    "orderday": "26",
                                    "salesvalue": "240.10"
                                },
                                {
                                    "orderyear": "2007",
                                    "ordermonth": "5",
                                    "orderday": "27",
                                    "salesvalue": "3554.28"
                                },
                                {
                                    "orderyear": "2007",
                                    "ordermonth": "5",
                                    "orderday": "28",
                                    "salesvalue": "2360.60"
                                },
                                {
                                    "orderyear": "2007",
                                    "ordermonth": "5",
                                    "orderday": "29",
                                    "salesvalue": "880.50"
                                },
                                {
                                    "orderyear": "2007",
                                    "ordermonth": "5",
                                    "orderday": "30",
                                    "salesvalue": "3274.83"
                                },
                                {
                                    "orderyear": "2007",
                                    "ordermonth": "5",
                                    "orderday": "NULL",
                                    "salesvalue": "53781.30"
                                },
                                {
                                    "orderyear": "2007",
                                    "ordermonth": "6",
                                    "orderday": "2",
                                    "salesvalue": "2944.40"
                                },
                                {
                                    "orderyear": "2007",
                                    "ordermonth": "6",
                                    "orderday": "3",
                                    "salesvalue": "1987.70"
                                },
                                {
                                    "orderyear": "2007",
                                    "ordermonth": "6",
                                    "orderday": "4",
                                    "salesvalue": "2142.90"
                                },
                                {
                                    "orderyear": "2007",
                                    "ordermonth": "6",
                                    "orderday": "5",
                                    "salesvalue": "520.41"
                                },
                                {
                                    "orderyear": "2007",
                                    "ordermonth": "6",
                                    "orderday": "6",
                                    "salesvalue": "3916.93"
                                },
                                {
                                    "orderyear": "2007",
                                    "ordermonth": "6",
                                    "orderday": "9",
                                    "salesvalue": "488.70"
                                },
                                {
                                    "orderyear": "2007",
                                    "ordermonth": "6",
                                    "orderday": "10",
                                    "salesvalue": "2199.05"
                                },
                                {
                                    "orderyear": "2007",
                                    "ordermonth": "6",
                                    "orderday": "11",
                                    "salesvalue": "639.90"
                                },
                                {
                                    "orderyear": "2007",
                                    "ordermonth": "6",
                                    "orderday": "12",
                                    "salesvalue": "4280.00"
                                },
                                {
                                    "orderyear": "2007",
                                    "ordermonth": "6",
                                    "orderday": "13",
                                    "salesvalue": "155.00"
                                },
                                {
                                    "orderyear": "2007",
                                    "ordermonth": "6",
                                    "orderday": "16",
                                    "salesvalue": "890.00"
                                },
                                {
                                    "orderyear": "2007",
                                    "ordermonth": "6",
                                    "orderday": "17",
                                    "salesvalue": "3015.84"
                                },
                                {
                                    "orderyear": "2007",
                                    "ordermonth": "6",
                                    "orderday": "18",
                                    "salesvalue": "1501.09"
                                },
                                {
                                    "orderyear": "2007",
                                    "ordermonth": "6",
                                    "orderday": "19",
                                    "salesvalue": "2846.30"
                                },
                                {
                                    "orderyear": "2007",
                                    "ordermonth": "6",
                                    "orderday": "20",
                                    "salesvalue": "2147.40"
                                },
                                {
                                    "orderyear": "2007",
                                    "ordermonth": "6",
                                    "orderday": "23",
                                    "salesvalue": "1407.45"
                                },
                                {
                                    "orderyear": "2007",
                                    "ordermonth": "6",
                                    "orderday": "24",
                                    "salesvalue": "477.00"
                                },
                                {
                                    "orderyear": "2007",
                                    "ordermonth": "6",
                                    "orderday": "25",
                                    "salesvalue": "317.75"
                                },
                                {
                                    "orderyear": "2007",
                                    "ordermonth": "6",
                                    "orderday": "26",
                                    "salesvalue": "1323.75"
                                },
                                {
                                    "orderyear": "2007",
                                    "ordermonth": "6",
                                    "orderday": "27",
                                    "salesvalue": "330.00"
                                },
                                {
                                    "orderyear": "2007",
                                    "ordermonth": "6",
                                    "orderday": "30",
                                    "salesvalue": "2831.25"
                                },
                                {
                                    "orderyear": "2007",
                                    "ordermonth": "6",
                                    "orderday": "NULL",
                                    "salesvalue": "36362.82"
                                },
                                {
                                    "orderyear": "2007",
                                    "ordermonth": "7",
                                    "orderday": "1",
                                    "salesvalue": "142.50"
                                },
                                {
                                    "orderyear": "2007",
                                    "ordermonth": "7",
                                    "orderday": "2",
                                    "salesvalue": "831.18"
                                },
                                {
                                    "orderyear": "2007",
                                    "ordermonth": "7",
                                    "orderday": "3",
                                    "salesvalue": "3120.00"
                                },
                                {
                                    "orderyear": "2007",
                                    "ordermonth": "7",
                                    "orderday": "4",
                                    "salesvalue": "72.00"
                                },
                                {
                                    "orderyear": "2007",
                                    "ordermonth": "7",
                                    "orderday": "7",
                                    "salesvalue": "1913.50"
                                },
                                {
                                    "orderyear": "2007",
                                    "ordermonth": "7",
                                    "orderday": "8",
                                    "salesvalue": "516.47"
                                },
                                {
                                    "orderyear": "2007",
                                    "ordermonth": "7",
                                    "orderday": "9",
                                    "salesvalue": "2559.90"
                                },
                                {
                                    "orderyear": "2007",
                                    "ordermonth": "7",
                                    "orderday": "10",
                                    "salesvalue": "4725.00"
                                },
                                {
                                    "orderyear": "2007",
                                    "ordermonth": "7",
                                    "orderday": "11",
                                    "salesvalue": "1898.96"
                                },
                                {
                                    "orderyear": "2007",
                                    "ordermonth": "7",
                                    "orderday": "14",
                                    "salesvalue": "2388.50"
                                },
                                {
                                    "orderyear": "2007",
                                    "ordermonth": "7",
                                    "orderday": "15",
                                    "salesvalue": "493.00"
                                },
                                {
                                    "orderyear": "2007",
                                    "ordermonth": "7",
                                    "orderday": "16",
                                    "salesvalue": "2764.80"
                                },
                                {
                                    "orderyear": "2007",
                                    "ordermonth": "7",
                                    "orderday": "17",
                                    "salesvalue": "48.75"
                                },
                                {
                                    "orderyear": "2007",
                                    "ordermonth": "7",
                                    "orderday": "18",
                                    "salesvalue": "1713.85"
                                },
                                {
                                    "orderyear": "2007",
                                    "ordermonth": "7",
                                    "orderday": "21",
                                    "salesvalue": "4109.70"
                                },
                                {
                                    "orderyear": "2007",
                                    "ordermonth": "7",
                                    "orderday": "22",
                                    "salesvalue": "7605.80"
                                },
                                {
                                    "orderyear": "2007",
                                    "ordermonth": "7",
                                    "orderday": "23",
                                    "salesvalue": "1064.00"
                                },
                                {
                                    "orderyear": "2007",
                                    "ordermonth": "7",
                                    "orderday": "24",
                                    "salesvalue": "424.00"
                                },
                                {
                                    "orderyear": "2007",
                                    "ordermonth": "7",
                                    "orderday": "25",
                                    "salesvalue": "1107.25"
                                },
                                {
                                    "orderyear": "2007",
                                    "ordermonth": "7",
                                    "orderday": "28",
                                    "salesvalue": "6375.00"
                                },
                                {
                                    "orderyear": "2007",
                                    "ordermonth": "7",
                                    "orderday": "29",
                                    "salesvalue": "817.20"
                                },
                                {
                                    "orderyear": "2007",
                                    "ordermonth": "7",
                                    "orderday": "30",
                                    "salesvalue": "120.00"
                                },
                                {
                                    "orderyear": "2007",
                                    "ordermonth": "7",
                                    "orderday": "31",
                                    "salesvalue": "6209.50"
                                },
                                {
                                    "orderyear": "2007",
                                    "ordermonth": "7",
                                    "orderday": "NULL",
                                    "salesvalue": "51020.86"
                                },
                                {
                                    "orderyear": "2007",
                                    "ordermonth": "8",
                                    "orderday": "1",
                                    "salesvalue": "2697.50"
                                },
                                {
                                    "orderyear": "2007",
                                    "ordermonth": "8",
                                    "orderday": "4",
                                    "salesvalue": "1260.00"
                                },
                                {
                                    "orderyear": "2007",
                                    "ordermonth": "8",
                                    "orderday": "5",
                                    "salesvalue": "816.00"
                                },
                                {
                                    "orderyear": "2007",
                                    "ordermonth": "8",
                                    "orderday": "6",
                                    "salesvalue": "560.00"
                                },
                                {
                                    "orderyear": "2007",
                                    "ordermonth": "8",
                                    "orderday": "7",
                                    "salesvalue": "2730.19"
                                },
                                {
                                    "orderyear": "2007",
                                    "ordermonth": "8",
                                    "orderday": "8",
                                    "salesvalue": "479.75"
                                },
                                {
                                    "orderyear": "2007",
                                    "ordermonth": "8",
                                    "orderday": "11",
                                    "salesvalue": "2689.35"
                                },
                                {
                                    "orderyear": "2007",
                                    "ordermonth": "8",
                                    "orderday": "12",
                                    "salesvalue": "3225.05"
                                },
                                {
                                    "orderyear": "2007",
                                    "ordermonth": "8",
                                    "orderday": "13",
                                    "salesvalue": "903.60"
                                },
                                {
                                    "orderyear": "2007",
                                    "ordermonth": "8",
                                    "orderday": "14",
                                    "salesvalue": "644.80"
                                },
                                {
                                    "orderyear": "2007",
                                    "ordermonth": "8",
                                    "orderday": "15",
                                    "salesvalue": "10496.09"
                                },
                                {
                                    "orderyear": "2007",
                                    "ordermonth": "8",
                                    "orderday": "18",
                                    "salesvalue": "1326.23"
                                },
                                {
                                    "orderyear": "2007",
                                    "ordermonth": "8",
                                    "orderday": "19",
                                    "salesvalue": "3391.44"
                                },
                                {
                                    "orderyear": "2007",
                                    "ordermonth": "8",
                                    "orderday": "20",
                                    "salesvalue": "3220.05"
                                },
                                {
                                    "orderyear": "2007",
                                    "ordermonth": "8",
                                    "orderday": "21",
                                    "salesvalue": "708.75"
                                },
                                {
                                    "orderyear": "2007",
                                    "ordermonth": "8",
                                    "orderday": "22",
                                    "salesvalue": "2750.00"
                                },
                                {
                                    "orderyear": "2007",
                                    "ordermonth": "8",
                                    "orderday": "25",
                                    "salesvalue": "2186.30"
                                },
                                {
                                    "orderyear": "2007",
                                    "ordermonth": "8",
                                    "orderday": "26",
                                    "salesvalue": "1535.00"
                                },
                                {
                                    "orderyear": "2007",
                                    "ordermonth": "8",
                                    "orderday": "27",
                                    "salesvalue": "2082.00"
                                },
                                {
                                    "orderyear": "2007",
                                    "ordermonth": "8",
                                    "orderday": "28",
                                    "salesvalue": "1806.38"
                                },
                                {
                                    "orderyear": "2007",
                                    "ordermonth": "8",
                                    "orderday": "29",
                                    "salesvalue": "1779.20"
                                },
                                {
                                    "orderyear": "2007",
                                    "ordermonth": "8",
                                    "orderday": "NULL",
                                    "salesvalue": "47287.68"
                                },
                                {
                                    "orderyear": "2007",
                                    "ordermonth": "9",
                                    "orderday": "1",
                                    "salesvalue": "716.64"
                                },
                                {
                                    "orderyear": "2007",
                                    "ordermonth": "9",
                                    "orderday": "2",
                                    "salesvalue": "1684.98"
                                },
                                {
                                    "orderyear": "2007",
                                    "ordermonth": "9",
                                    "orderday": "3",
                                    "salesvalue": "154.40"
                                },
                                {
                                    "orderyear": "2007",
                                    "ordermonth": "9",
                                    "orderday": "4",
                                    "salesvalue": "4975.82"
                                },
                                {
                                    "orderyear": "2007",
                                    "ordermonth": "9",
                                    "orderday": "5",
                                    "salesvalue": "5691.62"
                                },
                                {
                                    "orderyear": "2007",
                                    "ordermonth": "9",
                                    "orderday": "8",
                                    "salesvalue": "1701.00"
                                },
                                {
                                    "orderyear": "2007",
                                    "ordermonth": "9",
                                    "orderday": "9",
                                    "salesvalue": "687.60"
                                },
                                {
                                    "orderyear": "2007",
                                    "ordermonth": "9",
                                    "orderday": "10",
                                    "salesvalue": "3218.79"
                                },
                                {
                                    "orderyear": "2007",
                                    "ordermonth": "9",
                                    "orderday": "11",
                                    "salesvalue": "1295.00"
                                },
                                {
                                    "orderyear": "2007",
                                    "ordermonth": "9",
                                    "orderday": "12",
                                    "salesvalue": "6203.74"
                                },
                                {
                                    "orderyear": "2007",
                                    "ordermonth": "9",
                                    "orderday": "15",
                                    "salesvalue": "1195.28"
                                },
                                {
                                    "orderyear": "2007",
                                    "ordermonth": "9",
                                    "orderday": "16",
                                    "salesvalue": "2301.75"
                                },
                                {
                                    "orderyear": "2007",
                                    "ordermonth": "9",
                                    "orderday": "17",
                                    "salesvalue": "4735.35"
                                },
                                {
                                    "orderyear": "2007",
                                    "ordermonth": "9",
                                    "orderday": "18",
                                    "salesvalue": "457.35"
                                },
                                {
                                    "orderyear": "2007",
                                    "ordermonth": "9",
                                    "orderday": "19",
                                    "salesvalue": "1423.00"
                                },
                                {
                                    "orderyear": "2007",
                                    "ordermonth": "9",
                                    "orderday": "22",
                                    "salesvalue": "1348.22"
                                },
                                {
                                    "orderyear": "2007",
                                    "ordermonth": "9",
                                    "orderday": "23",
                                    "salesvalue": "5916.50"
                                },
                                {
                                    "orderyear": "2007",
                                    "ordermonth": "9",
                                    "orderday": "24",
                                    "salesvalue": "1261.88"
                                },
                                {
                                    "orderyear": "2007",
                                    "ordermonth": "9",
                                    "orderday": "25",
                                    "salesvalue": "1662.90"
                                },
                                {
                                    "orderyear": "2007",
                                    "ordermonth": "9",
                                    "orderday": "26",
                                    "salesvalue": "1831.00"
                                },
                                {
                                    "orderyear": "2007",
                                    "ordermonth": "9",
                                    "orderday": "29",
                                    "salesvalue": "801.10"
                                },
                                {
                                    "orderyear": "2007",
                                    "ordermonth": "9",
                                    "orderday": "30",
                                    "salesvalue": "6365.35"
                                },
                                {
                                    "orderyear": "2007",
                                    "ordermonth": "9",
                                    "orderday": "NULL",
                                    "salesvalue": "55629.27"
                                },
                                {
                                    "orderyear": "2007",
                                    "ordermonth": "10",
                                    "orderday": "1",
                                    "salesvalue": "3633.10"
                                },
                                {
                                    "orderyear": "2007",
                                    "ordermonth": "10",
                                    "orderday": "2",
                                    "salesvalue": "862.50"
                                },
                                {
                                    "orderyear": "2007",
                                    "ordermonth": "10",
                                    "orderday": "3",
                                    "salesvalue": "11042.80"
                                },
                                {
                                    "orderyear": "2007",
                                    "ordermonth": "10",
                                    "orderday": "6",
                                    "salesvalue": "6896.20"
                                },
                                {
                                    "orderyear": "2007",
                                    "ordermonth": "10",
                                    "orderday": "7",
                                    "salesvalue": "642.00"
                                },
                                {
                                    "orderyear": "2007",
                                    "ordermonth": "10",
                                    "orderday": "8",
                                    "salesvalue": "1801.43"
                                },
                                {
                                    "orderyear": "2007",
                                    "ordermonth": "10",
                                    "orderday": "9",
                                    "salesvalue": "3550.44"
                                },
                                {
                                    "orderyear": "2007",
                                    "ordermonth": "10",
                                    "orderday": "10",
                                    "salesvalue": "1638.40"
                                },
                                {
                                    "orderyear": "2007",
                                    "ordermonth": "10",
                                    "orderday": "13",
                                    "salesvalue": "3194.50"
                                },
                                {
                                    "orderyear": "2007",
                                    "ordermonth": "10",
                                    "orderday": "14",
                                    "salesvalue": "3140.50"
                                },
                                {
                                    "orderyear": "2007",
                                    "ordermonth": "10",
                                    "orderday": "15",
                                    "salesvalue": "378.00"
                                },
                                {
                                    "orderyear": "2007",
                                    "ordermonth": "10",
                                    "orderday": "16",
                                    "salesvalue": "3534.00"
                                },
                                {
                                    "orderyear": "2007",
                                    "ordermonth": "10",
                                    "orderday": "17",
                                    "salesvalue": "3604.40"
                                },
                                {
                                    "orderyear": "2007",
                                    "ordermonth": "10",
                                    "orderday": "20",
                                    "salesvalue": "93.50"
                                },
                                {
                                    "orderyear": "2007",
                                    "ordermonth": "10",
                                    "orderday": "21",
                                    "salesvalue": "5685.18"
                                },
                                {
                                    "orderyear": "2007",
                                    "ordermonth": "10",
                                    "orderday": "22",
                                    "salesvalue": "5033.65"
                                },
                                {
                                    "orderyear": "2007",
                                    "ordermonth": "10",
                                    "orderday": "23",
                                    "salesvalue": "1296.00"
                                },
                                {
                                    "orderyear": "2007",
                                    "ordermonth": "10",
                                    "orderday": "24",
                                    "salesvalue": "1976.75"
                                },
                                {
                                    "orderyear": "2007",
                                    "ordermonth": "10",
                                    "orderday": "27",
                                    "salesvalue": "4307.25"
                                },
                                {
                                    "orderyear": "2007",
                                    "ordermonth": "10",
                                    "orderday": "28",
                                    "salesvalue": "550.00"
                                },
                                {
                                    "orderyear": "2007",
                                    "ordermonth": "10",
                                    "orderday": "29",
                                    "salesvalue": "2493.88"
                                },
                                {
                                    "orderyear": "2007",
                                    "ordermonth": "10",
                                    "orderday": "30",
                                    "salesvalue": "1106.95"
                                },
                                {
                                    "orderyear": "2007",
                                    "ordermonth": "10",
                                    "orderday": "31",
                                    "salesvalue": "287.80"
                                },
                                {
                                    "orderyear": "2007",
                                    "ordermonth": "10",
                                    "orderday": "NULL",
                                    "salesvalue": "66749.23"
                                },
                                {
                                    "orderyear": "2007",
                                    "ordermonth": "11",
                                    "orderday": "3",
                                    "salesvalue": "2279.50"
                                },
                                {
                                    "orderyear": "2007",
                                    "ordermonth": "11",
                                    "orderday": "4",
                                    "salesvalue": "3146.75"
                                },
                                {
                                    "orderyear": "2007",
                                    "ordermonth": "11",
                                    "orderday": "5",
                                    "salesvalue": "484.26"
                                },
                                {
                                    "orderyear": "2007",
                                    "ordermonth": "11",
                                    "orderday": "6",
                                    "salesvalue": "2250.50"
                                },
                                {
                                    "orderyear": "2007",
                                    "ordermonth": "11",
                                    "orderday": "7",
                                    "salesvalue": "2957.35"
                                },
                                {
                                    "orderyear": "2007",
                                    "ordermonth": "11",
                                    "orderday": "10",
                                    "salesvalue": "536.40"
                                },
                                {
                                    "orderyear": "2007",
                                    "ordermonth": "11",
                                    "orderday": "11",
                                    "salesvalue": "1136.80"
                                },
                                {
                                    "orderyear": "2007",
                                    "ordermonth": "11",
                                    "orderday": "12",
                                    "salesvalue": "292.35"
                                },
                                {
                                    "orderyear": "2007",
                                    "ordermonth": "11",
                                    "orderday": "13",
                                    "salesvalue": "1416.00"
                                },
                                {
                                    "orderyear": "2007",
                                    "ordermonth": "11",
                                    "orderday": "14",
                                    "salesvalue": "3346.00"
                                },
                                {
                                    "orderyear": "2007",
                                    "ordermonth": "11",
                                    "orderday": "17",
                                    "salesvalue": "1055.20"
                                },
                                {
                                    "orderyear": "2007",
                                    "ordermonth": "11",
                                    "orderday": "18",
                                    "salesvalue": "4529.80"
                                },
                                {
                                    "orderyear": "2007",
                                    "ordermonth": "11",
                                    "orderday": "19",
                                    "salesvalue": "4224.55"
                                },
                                {
                                    "orderyear": "2007",
                                    "ordermonth": "11",
                                    "orderday": "20",
                                    "salesvalue": "3276.00"
                                },
                                {
                                    "orderyear": "2007",
                                    "ordermonth": "11",
                                    "orderday": "21",
                                    "salesvalue": "1590.56"
                                },
                                {
                                    "orderyear": "2007",
                                    "ordermonth": "11",
                                    "orderday": "24",
                                    "salesvalue": "1883.48"
                                },
                                {
                                    "orderyear": "2007",
                                    "ordermonth": "11",
                                    "orderday": "25",
                                    "salesvalue": "143.20"
                                },
                                {
                                    "orderyear": "2007",
                                    "ordermonth": "11",
                                    "orderday": "26",
                                    "salesvalue": "1948.50"
                                },
                                {
                                    "orderyear": "2007",
                                    "ordermonth": "11",
                                    "orderday": "27",
                                    "salesvalue": "5072.00"
                                },
                                {
                                    "orderyear": "2007",
                                    "ordermonth": "11",
                                    "orderday": "28",
                                    "salesvalue": "1964.60"
                                },
                                {
                                    "orderyear": "2007",
                                    "ordermonth": "11",
                                    "orderday": "NULL",
                                    "salesvalue": "43533.80"
                                },
                                {
                                    "orderyear": "2007",
                                    "ordermonth": "12",
                                    "orderday": "1",
                                    "salesvalue": "2917.00"
                                },
                                {
                                    "orderyear": "2007",
                                    "ordermonth": "12",
                                    "orderday": "2",
                                    "salesvalue": "4844.00"
                                },
                                {
                                    "orderyear": "2007",
                                    "ordermonth": "12",
                                    "orderday": "3",
                                    "salesvalue": "2902.00"
                                },
                                {
                                    "orderyear": "2007",
                                    "ordermonth": "12",
                                    "orderday": "4",
                                    "salesvalue": "1515.60"
                                },
                                {
                                    "orderyear": "2007",
                                    "ordermonth": "12",
                                    "orderday": "5",
                                    "salesvalue": "2338.00"
                                },
                                {
                                    "orderyear": "2007",
                                    "ordermonth": "12",
                                    "orderday": "8",
                                    "salesvalue": "3161.28"
                                },
                                {
                                    "orderyear": "2007",
                                    "ordermonth": "12",
                                    "orderday": "9",
                                    "salesvalue": "236.25"
                                },
                                {
                                    "orderyear": "2007",
                                    "ordermonth": "12",
                                    "orderday": "10",
                                    "salesvalue": "3947.22"
                                },
                                {
                                    "orderyear": "2007",
                                    "ordermonth": "12",
                                    "orderday": "11",
                                    "salesvalue": "2899.15"
                                },
                                {
                                    "orderyear": "2007",
                                    "ordermonth": "12",
                                    "orderday": "12",
                                    "salesvalue": "228.00"
                                },
                                {
                                    "orderyear": "2007",
                                    "ordermonth": "12",
                                    "orderday": "15",
                                    "salesvalue": "6859.28"
                                },
                                {
                                    "orderyear": "2007",
                                    "ordermonth": "12",
                                    "orderday": "16",
                                    "salesvalue": "2151.50"
                                },
                                {
                                    "orderyear": "2007",
                                    "ordermonth": "12",
                                    "orderday": "17",
                                    "salesvalue": "988.38"
                                },
                                {
                                    "orderyear": "2007",
                                    "ordermonth": "12",
                                    "orderday": "18",
                                    "salesvalue": "3318.00"
                                },
                                {
                                    "orderyear": "2007",
                                    "ordermonth": "12",
                                    "orderday": "19",
                                    "salesvalue": "4153.84"
                                },
                                {
                                    "orderyear": "2007",
                                    "ordermonth": "12",
                                    "orderday": "22",
                                    "salesvalue": "5141.00"
                                },
                                {
                                    "orderyear": "2007",
                                    "ordermonth": "12",
                                    "orderday": "23",
                                    "salesvalue": "2229.61"
                                },
                                {
                                    "orderyear": "2007",
                                    "ordermonth": "12",
                                    "orderday": "24",
                                    "salesvalue": "2663.86"
                                },
                                {
                                    "orderyear": "2007",
                                    "ordermonth": "12",
                                    "orderday": "25",
                                    "salesvalue": "2761.36"
                                },
                                {
                                    "orderyear": "2007",
                                    "ordermonth": "12",
                                    "orderday": "26",
                                    "salesvalue": "3469.04"
                                },
                                {
                                    "orderyear": "2007",
                                    "ordermonth": "12",
                                    "orderday": "29",
                                    "salesvalue": "5969.66"
                                },
                                {
                                    "orderyear": "2007",
                                    "ordermonth": "12",
                                    "orderday": "30",
                                    "salesvalue": "6246.41"
                                },
                                {
                                    "orderyear": "2007",
                                    "ordermonth": "12",
                                    "orderday": "31",
                                    "salesvalue": "458.00"
                                },
                                {
                                    "orderyear": "2007",
                                    "ordermonth": "12",
                                    "orderday": "NULL",
                                    "salesvalue": "71398.44"
                                },
                                {
                                    "orderyear": "2007",
                                    "ordermonth": "NULL",
                                    "orderday": "NULL",
                                    "salesvalue": "617085.30"
                                },
                                {
                                    "orderyear": "2008",
                                    "ordermonth": "1",
                                    "orderday": "1",
                                    "salesvalue": "1738.00"
                                },
                                {
                                    "orderyear": "2008",
                                    "ordermonth": "1",
                                    "orderday": "2",
                                    "salesvalue": "2544.80"
                                },
                                {
                                    "orderyear": "2008",
                                    "ordermonth": "1",
                                    "orderday": "5",
                                    "salesvalue": "2430.85"
                                },
                                {
                                    "orderyear": "2008",
                                    "ordermonth": "1",
                                    "orderday": "6",
                                    "salesvalue": "19399.30"
                                },
                                {
                                    "orderyear": "2008",
                                    "ordermonth": "1",
                                    "orderday": "7",
                                    "salesvalue": "2450.00"
                                },
                                {
                                    "orderyear": "2008",
                                    "ordermonth": "1",
                                    "orderday": "8",
                                    "salesvalue": "915.90"
                                },
                                {
                                    "orderyear": "2008",
                                    "ordermonth": "1",
                                    "orderday": "9",
                                    "salesvalue": "4107.56"
                                },
                                {
                                    "orderyear": "2008",
                                    "ordermonth": "1",
                                    "orderday": "12",
                                    "salesvalue": "1573.00"
                                },
                                {
                                    "orderyear": "2008",
                                    "ordermonth": "1",
                                    "orderday": "13",
                                    "salesvalue": "4670.00"
                                },
                                {
                                    "orderyear": "2008",
                                    "ordermonth": "1",
                                    "orderday": "14",
                                    "salesvalue": "3159.51"
                                },
                                {
                                    "orderyear": "2008",
                                    "ordermonth": "1",
                                    "orderday": "15",
                                    "salesvalue": "3185.44"
                                },
                                {
                                    "orderyear": "2008",
                                    "ordermonth": "1",
                                    "orderday": "16",
                                    "salesvalue": "5770.00"
                                },
                                {
                                    "orderyear": "2008",
                                    "ordermonth": "1",
                                    "orderday": "19",
                                    "salesvalue": "2977.13"
                                },
                                {
                                    "orderyear": "2008",
                                    "ordermonth": "1",
                                    "orderday": "20",
                                    "salesvalue": "5556.00"
                                },
                                {
                                    "orderyear": "2008",
                                    "ordermonth": "1",
                                    "orderday": "21",
                                    "salesvalue": "4706.70"
                                },
                                {
                                    "orderyear": "2008",
                                    "ordermonth": "1",
                                    "orderday": "22",
                                    "salesvalue": "6043.92"
                                },
                                {
                                    "orderyear": "2008",
                                    "ordermonth": "1",
                                    "orderday": "23",
                                    "salesvalue": "2528.32"
                                },
                                {
                                    "orderyear": "2008",
                                    "ordermonth": "1",
                                    "orderday": "26",
                                    "salesvalue": "5587.00"
                                },
                                {
                                    "orderyear": "2008",
                                    "ordermonth": "1",
                                    "orderday": "27",
                                    "salesvalue": "5819.39"
                                },
                                {
                                    "orderyear": "2008",
                                    "ordermonth": "1",
                                    "orderday": "28",
                                    "salesvalue": "2708.21"
                                },
                                {
                                    "orderyear": "2008",
                                    "ordermonth": "1",
                                    "orderday": "29",
                                    "salesvalue": "2246.69"
                                },
                                {
                                    "orderyear": "2008",
                                    "ordermonth": "1",
                                    "orderday": "30",
                                    "salesvalue": "4104.40"
                                },
                                {
                                    "orderyear": "2008",
                                    "ordermonth": "1",
                                    "orderday": "NULL",
                                    "salesvalue": "94222.12"
                                },
                                {
                                    "orderyear": "2008",
                                    "ordermonth": "2",
                                    "orderday": "2",
                                    "salesvalue": "17110.65"
                                },
                                {
                                    "orderyear": "2008",
                                    "ordermonth": "2",
                                    "orderday": "3",
                                    "salesvalue": "1194.60"
                                },
                                {
                                    "orderyear": "2008",
                                    "ordermonth": "2",
                                    "orderday": "4",
                                    "salesvalue": "3710.60"
                                },
                                {
                                    "orderyear": "2008",
                                    "ordermonth": "2",
                                    "orderday": "5",
                                    "salesvalue": "4037.69"
                                },
                                {
                                    "orderyear": "2008",
                                    "ordermonth": "2",
                                    "orderday": "6",
                                    "salesvalue": "1356.35"
                                },
                                {
                                    "orderyear": "2008",
                                    "ordermonth": "2",
                                    "orderday": "9",
                                    "salesvalue": "2872.13"
                                },
                                {
                                    "orderyear": "2008",
                                    "ordermonth": "2",
                                    "orderday": "10",
                                    "salesvalue": "3650.30"
                                },
                                {
                                    "orderyear": "2008",
                                    "ordermonth": "2",
                                    "orderday": "11",
                                    "salesvalue": "1042.64"
                                },
                                {
                                    "orderyear": "2008",
                                    "ordermonth": "2",
                                    "orderday": "12",
                                    "salesvalue": "2623.07"
                                },
                                {
                                    "orderyear": "2008",
                                    "ordermonth": "2",
                                    "orderday": "13",
                                    "salesvalue": "3197.50"
                                },
                                {
                                    "orderyear": "2008",
                                    "ordermonth": "2",
                                    "orderday": "16",
                                    "salesvalue": "12845.10"
                                },
                                {
                                    "orderyear": "2008",
                                    "ordermonth": "2",
                                    "orderday": "17",
                                    "salesvalue": "2458.93"
                                },
                                {
                                    "orderyear": "2008",
                                    "ordermonth": "2",
                                    "orderday": "18",
                                    "salesvalue": "14634.61"
                                },
                                {
                                    "orderyear": "2008",
                                    "ordermonth": "2",
                                    "orderday": "19",
                                    "salesvalue": "11585.74"
                                },
                                {
                                    "orderyear": "2008",
                                    "ordermonth": "2",
                                    "orderday": "20",
                                    "salesvalue": "186.15"
                                },
                                {
                                    "orderyear": "2008",
                                    "ordermonth": "2",
                                    "orderday": "23",
                                    "salesvalue": "1797.93"
                                },
                                {
                                    "orderyear": "2008",
                                    "ordermonth": "2",
                                    "orderday": "24",
                                    "salesvalue": "3198.30"
                                },
                                {
                                    "orderyear": "2008",
                                    "ordermonth": "2",
                                    "orderday": "25",
                                    "salesvalue": "536.00"
                                },
                                {
                                    "orderyear": "2008",
                                    "ordermonth": "2",
                                    "orderday": "26",
                                    "salesvalue": "9613.30"
                                },
                                {
                                    "orderyear": "2008",
                                    "ordermonth": "2",
                                    "orderday": "27",
                                    "salesvalue": "1763.70"
                                },
                                {
                                    "orderyear": "2008",
                                    "ordermonth": "2",
                                    "orderday": "NULL",
                                    "salesvalue": "99415.29"
                                },
                                {
                                    "orderyear": "2008",
                                    "ordermonth": "3",
                                    "orderday": "2",
                                    "salesvalue": "2936.19"
                                },
                                {
                                    "orderyear": "2008",
                                    "ordermonth": "3",
                                    "orderday": "3",
                                    "salesvalue": "3817.30"
                                },
                                {
                                    "orderyear": "2008",
                                    "ordermonth": "3",
                                    "orderday": "4",
                                    "salesvalue": "2825.25"
                                },
                                {
                                    "orderyear": "2008",
                                    "ordermonth": "3",
                                    "orderday": "5",
                                    "salesvalue": "2112.25"
                                },
                                {
                                    "orderyear": "2008",
                                    "ordermonth": "3",
                                    "orderday": "6",
                                    "salesvalue": "5763.93"
                                },
                                {
                                    "orderyear": "2008",
                                    "ordermonth": "3",
                                    "orderday": "9",
                                    "salesvalue": "1575.50"
                                },
                                {
                                    "orderyear": "2008",
                                    "ordermonth": "3",
                                    "orderday": "10",
                                    "salesvalue": "4014.18"
                                },
                                {
                                    "orderyear": "2008",
                                    "ordermonth": "3",
                                    "orderday": "11",
                                    "salesvalue": "5642.75"
                                },
                                {
                                    "orderyear": "2008",
                                    "ordermonth": "3",
                                    "orderday": "12",
                                    "salesvalue": "2677.83"
                                },
                                {
                                    "orderyear": "2008",
                                    "ordermonth": "3",
                                    "orderday": "13",
                                    "salesvalue": "7004.25"
                                },
                                {
                                    "orderyear": "2008",
                                    "ordermonth": "3",
                                    "orderday": "16",
                                    "salesvalue": "5481.21"
                                },
                                {
                                    "orderyear": "2008",
                                    "ordermonth": "3",
                                    "orderday": "17",
                                    "salesvalue": "2410.94"
                                },
                                {
                                    "orderyear": "2008",
                                    "ordermonth": "3",
                                    "orderday": "18",
                                    "salesvalue": "2675.45"
                                },
                                {
                                    "orderyear": "2008",
                                    "ordermonth": "3",
                                    "orderday": "19",
                                    "salesvalue": "5027.05"
                                },
                                {
                                    "orderyear": "2008",
                                    "ordermonth": "3",
                                    "orderday": "20",
                                    "salesvalue": "3998.96"
                                },
                                {
                                    "orderyear": "2008",
                                    "ordermonth": "3",
                                    "orderday": "23",
                                    "salesvalue": "2426.40"
                                },
                                {
                                    "orderyear": "2008",
                                    "ordermonth": "3",
                                    "orderday": "24",
                                    "salesvalue": "2500.11"
                                },
                                {
                                    "orderyear": "2008",
                                    "ordermonth": "3",
                                    "orderday": "25",
                                    "salesvalue": "2068.50"
                                },
                                {
                                    "orderyear": "2008",
                                    "ordermonth": "3",
                                    "orderday": "26",
                                    "salesvalue": "8349.70"
                                },
                                {
                                    "orderyear": "2008",
                                    "ordermonth": "3",
                                    "orderday": "27",
                                    "salesvalue": "17792.90"
                                },
                                {
                                    "orderyear": "2008",
                                    "ordermonth": "3",
                                    "orderday": "30",
                                    "salesvalue": "6053.13"
                                },
                                {
                                    "orderyear": "2008",
                                    "ordermonth": "3",
                                    "orderday": "31",
                                    "salesvalue": "7700.40"
                                },
                                {
                                    "orderyear": "2008",
                                    "ordermonth": "3",
                                    "orderday": "NULL",
                                    "salesvalue": "104854.18"
                                },
                                {
                                    "orderyear": "2008",
                                    "ordermonth": "4",
                                    "orderday": "1",
                                    "salesvalue": "11549.89"
                                },
                                {
                                    "orderyear": "2008",
                                    "ordermonth": "4",
                                    "orderday": "2",
                                    "salesvalue": "2696.50"
                                },
                                {
                                    "orderyear": "2008",
                                    "ordermonth": "4",
                                    "orderday": "3",
                                    "salesvalue": "3768.95"
                                },
                                {
                                    "orderyear": "2008",
                                    "ordermonth": "4",
                                    "orderday": "6",
                                    "salesvalue": "5809.85"
                                },
                                {
                                    "orderyear": "2008",
                                    "ordermonth": "4",
                                    "orderday": "7",
                                    "salesvalue": "1211.07"
                                },
                                {
                                    "orderyear": "2008",
                                    "ordermonth": "4",
                                    "orderday": "8",
                                    "salesvalue": "7931.30"
                                },
                                {
                                    "orderyear": "2008",
                                    "ordermonth": "4",
                                    "orderday": "9",
                                    "salesvalue": "4764.80"
                                },
                                {
                                    "orderyear": "2008",
                                    "ordermonth": "4",
                                    "orderday": "10",
                                    "salesvalue": "1357.03"
                                },
                                {
                                    "orderyear": "2008",
                                    "ordermonth": "4",
                                    "orderday": "13",
                                    "salesvalue": "8401.00"
                                },
                                {
                                    "orderyear": "2008",
                                    "ordermonth": "4",
                                    "orderday": "14",
                                    "salesvalue": "9840.64"
                                },
                                {
                                    "orderyear": "2008",
                                    "ordermonth": "4",
                                    "orderday": "15",
                                    "salesvalue": "3266.81"
                                },
                                {
                                    "orderyear": "2008",
                                    "ordermonth": "4",
                                    "orderday": "16",
                                    "salesvalue": "4324.53"
                                },
                                {
                                    "orderyear": "2008",
                                    "ordermonth": "4",
                                    "orderday": "17",
                                    "salesvalue": "27143.85"
                                },
                                {
                                    "orderyear": "2008",
                                    "ordermonth": "4",
                                    "orderday": "20",
                                    "salesvalue": "3985.90"
                                },
                                {
                                    "orderyear": "2008",
                                    "ordermonth": "4",
                                    "orderday": "21",
                                    "salesvalue": "3882.60"
                                },
                                {
                                    "orderyear": "2008",
                                    "ordermonth": "4",
                                    "orderday": "22",
                                    "salesvalue": "2588.75"
                                },
                                {
                                    "orderyear": "2008",
                                    "ordermonth": "4",
                                    "orderday": "23",
                                    "salesvalue": "3386.90"
                                },
                                {
                                    "orderyear": "2008",
                                    "ordermonth": "4",
                                    "orderday": "24",
                                    "salesvalue": "1616.48"
                                },
                                {
                                    "orderyear": "2008",
                                    "ordermonth": "4",
                                    "orderday": "27",
                                    "salesvalue": "5233.00"
                                },
                                {
                                    "orderyear": "2008",
                                    "ordermonth": "4",
                                    "orderday": "28",
                                    "salesvalue": "5772.50"
                                },
                                {
                                    "orderyear": "2008",
                                    "ordermonth": "4",
                                    "orderday": "29",
                                    "salesvalue": "2741.00"
                                },
                                {
                                    "orderyear": "2008",
                                    "ordermonth": "4",
                                    "orderday": "30",
                                    "salesvalue": "2525.35"
                                },
                                {
                                    "orderyear": "2008",
                                    "ordermonth": "4",
                                    "orderday": "NULL",
                                    "salesvalue": "123798.70"
                                },
                                {
                                    "orderyear": "2008",
                                    "ordermonth": "5",
                                    "orderday": "1",
                                    "salesvalue": "5448.57"
                                },
                                {
                                    "orderyear": "2008",
                                    "ordermonth": "5",
                                    "orderday": "4",
                                    "salesvalue": "2473.93"
                                },
                                {
                                    "orderyear": "2008",
                                    "ordermonth": "5",
                                    "orderday": "5",
                                    "salesvalue": "7632.48"
                                },
                                {
                                    "orderyear": "2008",
                                    "ordermonth": "5",
                                    "orderday": "6",
                                    "salesvalue": "2778.66"
                                },
                                {
                                    "orderyear": "2008",
                                    "ordermonth": "5",
                                    "orderday": "NULL",
                                    "salesvalue": "18333.64"
                                },
                                {
                                    "orderyear": "2008",
                                    "ordermonth": "NULL",
                                    "orderday": "NULL",
                                    "salesvalue": "440623.93"
                                },
                                {
                                    "orderyear": "NULL",
                                    "ordermonth": "NULL",
                                    "orderday": "NULL",
                                    "salesvalue": "1265793.22"
                                }
                            ]
                        },
                        "text/html": [
                            "<table>",
                            "<tr><th>orderyear</th><th>ordermonth</th><th>orderday</th><th>salesvalue</th></tr>",
                            "<tr><td>2006</td><td>7</td><td>4</td><td>440.00</td></tr>",
                            "<tr><td>2006</td><td>7</td><td>5</td><td>1863.40</td></tr>",
                            "<tr><td>2006</td><td>7</td><td>8</td><td>2206.66</td></tr>",
                            "<tr><td>2006</td><td>7</td><td>9</td><td>3597.90</td></tr>",
                            "<tr><td>2006</td><td>7</td><td>10</td><td>1444.80</td></tr>",
                            "<tr><td>2006</td><td>7</td><td>11</td><td>556.62</td></tr>",
                            "<tr><td>2006</td><td>7</td><td>12</td><td>2490.50</td></tr>",
                            "<tr><td>2006</td><td>7</td><td>15</td><td>517.80</td></tr>",
                            "<tr><td>2006</td><td>7</td><td>16</td><td>1119.90</td></tr>",
                            "<tr><td>2006</td><td>7</td><td>17</td><td>1614.88</td></tr>",
                            "<tr><td>2006</td><td>7</td><td>18</td><td>100.80</td></tr>",
                            "<tr><td>2006</td><td>7</td><td>19</td><td>1952.65</td></tr>",
                            "<tr><td>2006</td><td>7</td><td>22</td><td>584.00</td></tr>",
                            "<tr><td>2006</td><td>7</td><td>23</td><td>1873.80</td></tr>",
                            "<tr><td>2006</td><td>7</td><td>24</td><td>695.63</td></tr>",
                            "<tr><td>2006</td><td>7</td><td>25</td><td>1176.00</td></tr>",
                            "<tr><td>2006</td><td>7</td><td>26</td><td>346.56</td></tr>",
                            "<tr><td>2006</td><td>7</td><td>29</td><td>3536.60</td></tr>",
                            "<tr><td>2006</td><td>7</td><td>30</td><td>1101.20</td></tr>",
                            "<tr><td>2006</td><td>7</td><td>31</td><td>642.20</td></tr>",
                            "<tr><td>2006</td><td>7</td><td>NULL</td><td>27861.90</td></tr>",
                            "<tr><td>2006</td><td>8</td><td>1</td><td>1424.00</td></tr>",
                            "<tr><td>2006</td><td>8</td><td>2</td><td>1456.00</td></tr>",
                            "<tr><td>2006</td><td>8</td><td>5</td><td>2037.28</td></tr>",
                            "<tr><td>2006</td><td>8</td><td>6</td><td>538.60</td></tr>",
                            "<tr><td>2006</td><td>8</td><td>7</td><td>291.84</td></tr>",
                            "<tr><td>2006</td><td>8</td><td>8</td><td>420.00</td></tr>",
                            "<tr><td>2006</td><td>8</td><td>9</td><td>1200.80</td></tr>",
                            "<tr><td>2006</td><td>8</td><td>12</td><td>1488.80</td></tr>",
                            "<tr><td>2006</td><td>8</td><td>13</td><td>351.00</td></tr>",
                            "<tr><td>2006</td><td>8</td><td>14</td><td>699.70</td></tr>",
                            "<tr><td>2006</td><td>8</td><td>15</td><td>155.40</td></tr>",
                            "<tr><td>2006</td><td>8</td><td>16</td><td>1414.80</td></tr>",
                            "<tr><td>2006</td><td>8</td><td>19</td><td>1170.38</td></tr>",
                            "<tr><td>2006</td><td>8</td><td>20</td><td>1743.36</td></tr>",
                            "<tr><td>2006</td><td>8</td><td>21</td><td>3016.00</td></tr>",
                            "<tr><td>2006</td><td>8</td><td>22</td><td>819.00</td></tr>",
                            "<tr><td>2006</td><td>8</td><td>23</td><td>80.10</td></tr>",
                            "<tr><td>2006</td><td>8</td><td>26</td><td>479.40</td></tr>",
                            "<tr><td>2006</td><td>8</td><td>27</td><td>2666.52</td></tr>",
                            "<tr><td>2006</td><td>8</td><td>28</td><td>1296.00</td></tr>",
                            "<tr><td>2006</td><td>8</td><td>29</td><td>848.70</td></tr>",
                            "<tr><td>2006</td><td>8</td><td>30</td><td>1887.60</td></tr>",
                            "<tr><td>2006</td><td>8</td><td>NULL</td><td>25485.28</td></tr>",
                            "<tr><td>2006</td><td>9</td><td>2</td><td>121.60</td></tr>",
                            "<tr><td>2006</td><td>9</td><td>3</td><td>1050.60</td></tr>",
                            "<tr><td>2006</td><td>9</td><td>4</td><td>1420.00</td></tr>",
                            "<tr><td>2006</td><td>9</td><td>5</td><td>2645.00</td></tr>",
                            "<tr><td>2006</td><td>9</td><td>6</td><td>349.50</td></tr>",
                            "<tr><td>2006</td><td>9</td><td>9</td><td>1363.00</td></tr>",
                            "<tr><td>2006</td><td>9</td><td>10</td><td>2708.80</td></tr>",
                            "<tr><td>2006</td><td>9</td><td>11</td><td>1117.80</td></tr>",
                            "<tr><td>2006</td><td>9</td><td>12</td><td>954.40</td></tr>",
                            "<tr><td>2006</td><td>9</td><td>13</td><td>3741.30</td></tr>",
                            "<tr><td>2006</td><td>9</td><td>16</td><td>498.50</td></tr>",
                            "<tr><td>2006</td><td>9</td><td>17</td><td>424.00</td></tr>",
                            "<tr><td>2006</td><td>9</td><td>18</td><td>88.80</td></tr>",
                            "<tr><td>2006</td><td>9</td><td>19</td><td>1762.00</td></tr>",
                            "<tr><td>2006</td><td>9</td><td>20</td><td>604.80</td></tr>",
                            "<tr><td>2006</td><td>9</td><td>23</td><td>1614.80</td></tr>",
                            "<tr><td>2006</td><td>9</td><td>24</td><td>182.40</td></tr>",
                            "<tr><td>2006</td><td>9</td><td>25</td><td>2094.30</td></tr>",
                            "<tr><td>2006</td><td>9</td><td>26</td><td>516.80</td></tr>",
                            "<tr><td>2006</td><td>9</td><td>27</td><td>2835.00</td></tr>",
                            "<tr><td>2006</td><td>9</td><td>30</td><td>288.00</td></tr>",
                            "<tr><td>2006</td><td>9</td><td>NULL</td><td>26381.40</td></tr>",
                            "<tr><td>2006</td><td>10</td><td>1</td><td>240.40</td></tr>",
                            "<tr><td>2006</td><td>10</td><td>2</td><td>1191.20</td></tr>",
                            "<tr><td>2006</td><td>10</td><td>3</td><td>660.00</td></tr>",
                            "<tr><td>2006</td><td>10</td><td>4</td><td>112.00</td></tr>",
                            "<tr><td>2006</td><td>10</td><td>7</td><td>164.40</td></tr>",
                            "<tr><td>2006</td><td>10</td><td>8</td><td>5275.72</td></tr>",
                            "<tr><td>2006</td><td>10</td><td>9</td><td>1497.00</td></tr>",
                            "<tr><td>2006</td><td>10</td><td>10</td><td>982.00</td></tr>",
                            "<tr><td>2006</td><td>10</td><td>11</td><td>1810.00</td></tr>",
                            "<tr><td>2006</td><td>10</td><td>14</td><td>1168.00</td></tr>",
                            "<tr><td>2006</td><td>10</td><td>15</td><td>4578.43</td></tr>",
                            "<tr><td>2006</td><td>10</td><td>16</td><td>1737.50</td></tr>",
                            "<tr><td>2006</td><td>10</td><td>17</td><td>1786.88</td></tr>",
                            "<tr><td>2006</td><td>10</td><td>18</td><td>877.20</td></tr>",
                            "<tr><td>2006</td><td>10</td><td>21</td><td>144.80</td></tr>",
                            "<tr><td>2006</td><td>10</td><td>22</td><td>2036.16</td></tr>",
                            "<tr><td>2006</td><td>10</td><td>23</td><td>285.12</td></tr>",
                            "<tr><td>2006</td><td>10</td><td>24</td><td>2467.00</td></tr>",
                            "<tr><td>2006</td><td>10</td><td>25</td><td>934.50</td></tr>",
                            "<tr><td>2006</td><td>10</td><td>28</td><td>3354.00</td></tr>",
                            "<tr><td>2006</td><td>10</td><td>29</td><td>2788.78</td></tr>",
                            "<tr><td>2006</td><td>10</td><td>30</td><td>1840.64</td></tr>",
                            "<tr><td>2006</td><td>10</td><td>31</td><td>1584.00</td></tr>",
                            "<tr><td>2006</td><td>10</td><td>NULL</td><td>37515.73</td></tr>",
                            "<tr><td>2006</td><td>11</td><td>1</td><td>2296.00</td></tr>",
                            "<tr><td>2006</td><td>11</td><td>4</td><td>2924.80</td></tr>",
                            "<tr><td>2006</td><td>11</td><td>5</td><td>1618.88</td></tr>",
                            "<tr><td>2006</td><td>11</td><td>6</td><td>814.42</td></tr>",
                            "<tr><td>2006</td><td>11</td><td>7</td><td>363.60</td></tr>",
                            "<tr><td>2006</td><td>11</td><td>8</td><td>141.60</td></tr>",
                            "<tr><td>2006</td><td>11</td><td>11</td><td>6040.79</td></tr>",
                            "<tr><td>2006</td><td>11</td><td>12</td><td>136.30</td></tr>",
                            "<tr><td>2006</td><td>11</td><td>13</td><td>8593.28</td></tr>",
                            "<tr><td>2006</td><td>11</td><td>14</td><td>568.80</td></tr>",
                            "<tr><td>2006</td><td>11</td><td>15</td><td>480.00</td></tr>",
                            "<tr><td>2006</td><td>11</td><td>18</td><td>1106.40</td></tr>",
                            "<tr><td>2006</td><td>11</td><td>19</td><td>1167.68</td></tr>",
                            "<tr><td>2006</td><td>11</td><td>20</td><td>429.40</td></tr>",
                            "<tr><td>2006</td><td>11</td><td>21</td><td>3471.68</td></tr>",
                            "<tr><td>2006</td><td>11</td><td>22</td><td>9436.44</td></tr>",
                            "<tr><td>2006</td><td>11</td><td>25</td><td>1549.60</td></tr>",
                            "<tr><td>2006</td><td>11</td><td>26</td><td>1397.20</td></tr>",
                            "<tr><td>2006</td><td>11</td><td>27</td><td>403.20</td></tr>",
                            "<tr><td>2006</td><td>11</td><td>28</td><td>970.20</td></tr>",
                            "<tr><td>2006</td><td>11</td><td>29</td><td>1689.78</td></tr>",
                            "<tr><td>2006</td><td>11</td><td>NULL</td><td>45600.05</td></tr>",
                            "<tr><td>2006</td><td>12</td><td>2</td><td>2390.40</td></tr>",
                            "<tr><td>2006</td><td>12</td><td>3</td><td>1190.56</td></tr>",
                            "<tr><td>2006</td><td>12</td><td>4</td><td>9210.90</td></tr>",
                            "<tr><td>2006</td><td>12</td><td>5</td><td>1825.40</td></tr>",
                            "<tr><td>2006</td><td>12</td><td>6</td><td>338.00</td></tr>",
                            "<tr><td>2006</td><td>12</td><td>9</td><td>1262.60</td></tr>",
                            "<tr><td>2006</td><td>12</td><td>10</td><td>103.20</td></tr>",
                            "<tr><td>2006</td><td>12</td><td>11</td><td>863.28</td></tr>",
                            "<tr><td>2006</td><td>12</td><td>12</td><td>1425.82</td></tr>",
                            "<tr><td>2006</td><td>12</td><td>13</td><td>2900.00</td></tr>",
                            "<tr><td>2006</td><td>12</td><td>16</td><td>3121.40</td></tr>",
                            "<tr><td>2006</td><td>12</td><td>17</td><td>691.20</td></tr>",
                            "<tr><td>2006</td><td>12</td><td>18</td><td>1224.40</td></tr>",
                            "<tr><td>2006</td><td>12</td><td>19</td><td>1228.80</td></tr>",
                            "<tr><td>2006</td><td>12</td><td>20</td><td>1832.80</td></tr>",
                            "<tr><td>2006</td><td>12</td><td>23</td><td>2177.28</td></tr>",
                            "<tr><td>2006</td><td>12</td><td>24</td><td>1440.00</td></tr>",
                            "<tr><td>2006</td><td>12</td><td>25</td><td>2998.95</td></tr>",
                            "<tr><td>2006</td><td>12</td><td>26</td><td>2122.92</td></tr>",
                            "<tr><td>2006</td><td>12</td><td>27</td><td>2620.52</td></tr>",
                            "<tr><td>2006</td><td>12</td><td>30</td><td>2505.60</td></tr>",
                            "<tr><td>2006</td><td>12</td><td>31</td><td>1765.60</td></tr>",
                            "<tr><td>2006</td><td>12</td><td>NULL</td><td>45239.63</td></tr>",
                            "<tr><td>2006</td><td>NULL</td><td>NULL</td><td>208083.99</td></tr>",
                            "<tr><td>2007</td><td>1</td><td>1</td><td>6931.60</td></tr>",
                            "<tr><td>2007</td><td>1</td><td>2</td><td>2713.50</td></tr>",
                            "<tr><td>2007</td><td>1</td><td>3</td><td>2446.27</td></tr>",
                            "<tr><td>2007</td><td>1</td><td>6</td><td>400.00</td></tr>",
                            "<tr><td>2007</td><td>1</td><td>7</td><td>3024.78</td></tr>",
                            "<tr><td>2007</td><td>1</td><td>8</td><td>1622.40</td></tr>",
                            "<tr><td>2007</td><td>1</td><td>9</td><td>319.20</td></tr>",
                            "<tr><td>2007</td><td>1</td><td>10</td><td>1768.80</td></tr>",
                            "<tr><td>2007</td><td>1</td><td>13</td><td>334.80</td></tr>",
                            "<tr><td>2007</td><td>1</td><td>14</td><td>2348.03</td></tr>",
                            "<tr><td>2007</td><td>1</td><td>15</td><td>102.40</td></tr>",
                            "<tr><td>2007</td><td>1</td><td>16</td><td>11908.40</td></tr>",
                            "<tr><td>2007</td><td>1</td><td>17</td><td>1814.80</td></tr>",
                            "<tr><td>2007</td><td>1</td><td>20</td><td>2097.60</td></tr>",
                            "<tr><td>2007</td><td>1</td><td>21</td><td>2902.11</td></tr>",
                            "<tr><td>2007</td><td>1</td><td>22</td><td>49.80</td></tr>",
                            "<tr><td>2007</td><td>1</td><td>23</td><td>10214.56</td></tr>",
                            "<tr><td>2007</td><td>1</td><td>24</td><td>360.00</td></tr>",
                            "<tr><td>2007</td><td>1</td><td>27</td><td>989.20</td></tr>",
                            "<tr><td>2007</td><td>1</td><td>28</td><td>192.00</td></tr>",
                            "<tr><td>2007</td><td>1</td><td>29</td><td>1441.38</td></tr>",
                            "<tr><td>2007</td><td>1</td><td>30</td><td>6791.45</td></tr>",
                            "<tr><td>2007</td><td>1</td><td>31</td><td>485.00</td></tr>",
                            "<tr><td>2007</td><td>1</td><td>NULL</td><td>61258.08</td></tr>",
                            "<tr><td>2007</td><td>2</td><td>3</td><td>1172.32</td></tr>",
                            "<tr><td>2007</td><td>2</td><td>4</td><td>631.60</td></tr>",
                            "<tr><td>2007</td><td>2</td><td>5</td><td>2387.52</td></tr>",
                            "<tr><td>2007</td><td>2</td><td>6</td><td>454.00</td></tr>",
                            "<tr><td>2007</td><td>2</td><td>7</td><td>1078.00</td></tr>",
                            "<tr><td>2007</td><td>2</td><td>10</td><td>6679.14</td></tr>",
                            "<tr><td>2007</td><td>2</td><td>11</td><td>1792.00</td></tr>",
                            "<tr><td>2007</td><td>2</td><td>12</td><td>1549.14</td></tr>",
                            "<tr><td>2007</td><td>2</td><td>13</td><td>174.90</td></tr>",
                            "<tr><td>2007</td><td>2</td><td>14</td><td>1160.64</td></tr>",
                            "<tr><td>2007</td><td>2</td><td>17</td><td>443.40</td></tr>",
                            "<tr><td>2007</td><td>2</td><td>18</td><td>1838.20</td></tr>",
                            "<tr><td>2007</td><td>2</td><td>19</td><td>4274.78</td></tr>",
                            "<tr><td>2007</td><td>2</td><td>20</td><td>2018.50</td></tr>",
                            "<tr><td>2007</td><td>2</td><td>21</td><td>738.90</td></tr>",
                            "<tr><td>2007</td><td>2</td><td>24</td><td>2684.00</td></tr>",
                            "<tr><td>2007</td><td>2</td><td>25</td><td>2141.60</td></tr>",
                            "<tr><td>2007</td><td>2</td><td>26</td><td>3891.00</td></tr>",
                            "<tr><td>2007</td><td>2</td><td>27</td><td>1659.20</td></tr>",
                            "<tr><td>2007</td><td>2</td><td>28</td><td>1714.80</td></tr>",
                            "<tr><td>2007</td><td>2</td><td>NULL</td><td>38483.64</td></tr>",
                            "<tr><td>2007</td><td>3</td><td>3</td><td>156.00</td></tr>",
                            "<tr><td>2007</td><td>3</td><td>4</td><td>2322.58</td></tr>",
                            "<tr><td>2007</td><td>3</td><td>5</td><td>2518.00</td></tr>",
                            "<tr><td>2007</td><td>3</td><td>6</td><td>451.20</td></tr>",
                            "<tr><td>2007</td><td>3</td><td>7</td><td>717.60</td></tr>",
                            "<tr><td>2007</td><td>3</td><td>10</td><td>956.68</td></tr>",
                            "<tr><td>2007</td><td>3</td><td>11</td><td>3148.80</td></tr>",
                            "<tr><td>2007</td><td>3</td><td>12</td><td>1036.80</td></tr>",
                            "<tr><td>2007</td><td>3</td><td>13</td><td>1479.50</td></tr>",
                            "<tr><td>2007</td><td>3</td><td>14</td><td>1505.18</td></tr>",
                            "<tr><td>2007</td><td>3</td><td>17</td><td>738.48</td></tr>",
                            "<tr><td>2007</td><td>3</td><td>18</td><td>471.20</td></tr>",
                            "<tr><td>2007</td><td>3</td><td>19</td><td>10495.60</td></tr>",
                            "<tr><td>2007</td><td>3</td><td>20</td><td>2228.00</td></tr>",
                            "<tr><td>2007</td><td>3</td><td>21</td><td>147.00</td></tr>",
                            "<tr><td>2007</td><td>3</td><td>24</td><td>1055.00</td></tr>",
                            "<tr><td>2007</td><td>3</td><td>25</td><td>1584.00</td></tr>",
                            "<tr><td>2007</td><td>3</td><td>26</td><td>2161.70</td></tr>",
                            "<tr><td>2007</td><td>3</td><td>27</td><td>1512.00</td></tr>",
                            "<tr><td>2007</td><td>3</td><td>28</td><td>439.20</td></tr>",
                            "<tr><td>2007</td><td>3</td><td>31</td><td>3422.71</td></tr>",
                            "<tr><td>2007</td><td>3</td><td>NULL</td><td>38547.23</td></tr>",
                            "<tr><td>2007</td><td>4</td><td>1</td><td>851.20</td></tr>",
                            "<tr><td>2007</td><td>4</td><td>2</td><td>1520.40</td></tr>",
                            "<tr><td>2007</td><td>4</td><td>3</td><td>278.00</td></tr>",
                            "<tr><td>2007</td><td>4</td><td>4</td><td>1570.60</td></tr>",
                            "<tr><td>2007</td><td>4</td><td>7</td><td>575.00</td></tr>",
                            "<tr><td>2007</td><td>4</td><td>8</td><td>1412.00</td></tr>",
                            "<tr><td>2007</td><td>4</td><td>9</td><td>672.26</td></tr>",
                            "<tr><td>2007</td><td>4</td><td>10</td><td>816.30</td></tr>",
                            "<tr><td>2007</td><td>4</td><td>11</td><td>3437.00</td></tr>",
                            "<tr><td>2007</td><td>4</td><td>14</td><td>147.90</td></tr>",
                            "<tr><td>2007</td><td>4</td><td>15</td><td>1164.86</td></tr>",
                            "<tr><td>2007</td><td>4</td><td>16</td><td>240.00</td></tr>",
                            "<tr><td>2007</td><td>4</td><td>17</td><td>136.80</td></tr>",
                            "<tr><td>2007</td><td>4</td><td>18</td><td>7257.54</td></tr>",
                            "<tr><td>2007</td><td>4</td><td>21</td><td>525.30</td></tr>",
                            "<tr><td>2007</td><td>4</td><td>22</td><td>10565.45</td></tr>",
                            "<tr><td>2007</td><td>4</td><td>23</td><td>9921.30</td></tr>",
                            "<tr><td>2007</td><td>4</td><td>24</td><td>2733.05</td></tr>",
                            "<tr><td>2007</td><td>4</td><td>25</td><td>4150.05</td></tr>",
                            "<tr><td>2007</td><td>4</td><td>28</td><td>2314.20</td></tr>",
                            "<tr><td>2007</td><td>4</td><td>29</td><td>425.50</td></tr>",
                            "<tr><td>2007</td><td>4</td><td>30</td><td>2318.24</td></tr>",
                            "<tr><td>2007</td><td>4</td><td>NULL</td><td>53032.95</td></tr>",
                            "<tr><td>2007</td><td>5</td><td>1</td><td>5636.96</td></tr>",
                            "<tr><td>2007</td><td>5</td><td>2</td><td>818.40</td></tr>",
                            "<tr><td>2007</td><td>5</td><td>5</td><td>2654.40</td></tr>",
                            "<tr><td>2007</td><td>5</td><td>6</td><td>392.20</td></tr>",
                            "<tr><td>2007</td><td>5</td><td>7</td><td>946.00</td></tr>",
                            "<tr><td>2007</td><td>5</td><td>8</td><td>4290.00</td></tr>",
                            "<tr><td>2007</td><td>5</td><td>9</td><td>796.35</td></tr>",
                            "<tr><td>2007</td><td>5</td><td>12</td><td>2687.90</td></tr>",
                            "<tr><td>2007</td><td>5</td><td>13</td><td>1940.85</td></tr>",
                            "<tr><td>2007</td><td>5</td><td>14</td><td>3468.80</td></tr>",
                            "<tr><td>2007</td><td>5</td><td>15</td><td>139.80</td></tr>",
                            "<tr><td>2007</td><td>5</td><td>16</td><td>355.50</td></tr>",
                            "<tr><td>2007</td><td>5</td><td>19</td><td>12138.22</td></tr>",
                            "<tr><td>2007</td><td>5</td><td>20</td><td>469.11</td></tr>",
                            "<tr><td>2007</td><td>5</td><td>21</td><td>1921.70</td></tr>",
                            "<tr><td>2007</td><td>5</td><td>22</td><td>210.00</td></tr>",
                            "<tr><td>2007</td><td>5</td><td>23</td><td>4604.80</td></tr>",
                            "<tr><td>2007</td><td>5</td><td>26</td><td>240.10</td></tr>",
                            "<tr><td>2007</td><td>5</td><td>27</td><td>3554.28</td></tr>",
                            "<tr><td>2007</td><td>5</td><td>28</td><td>2360.60</td></tr>",
                            "<tr><td>2007</td><td>5</td><td>29</td><td>880.50</td></tr>",
                            "<tr><td>2007</td><td>5</td><td>30</td><td>3274.83</td></tr>",
                            "<tr><td>2007</td><td>5</td><td>NULL</td><td>53781.30</td></tr>",
                            "<tr><td>2007</td><td>6</td><td>2</td><td>2944.40</td></tr>",
                            "<tr><td>2007</td><td>6</td><td>3</td><td>1987.70</td></tr>",
                            "<tr><td>2007</td><td>6</td><td>4</td><td>2142.90</td></tr>",
                            "<tr><td>2007</td><td>6</td><td>5</td><td>520.41</td></tr>",
                            "<tr><td>2007</td><td>6</td><td>6</td><td>3916.93</td></tr>",
                            "<tr><td>2007</td><td>6</td><td>9</td><td>488.70</td></tr>",
                            "<tr><td>2007</td><td>6</td><td>10</td><td>2199.05</td></tr>",
                            "<tr><td>2007</td><td>6</td><td>11</td><td>639.90</td></tr>",
                            "<tr><td>2007</td><td>6</td><td>12</td><td>4280.00</td></tr>",
                            "<tr><td>2007</td><td>6</td><td>13</td><td>155.00</td></tr>",
                            "<tr><td>2007</td><td>6</td><td>16</td><td>890.00</td></tr>",
                            "<tr><td>2007</td><td>6</td><td>17</td><td>3015.84</td></tr>",
                            "<tr><td>2007</td><td>6</td><td>18</td><td>1501.09</td></tr>",
                            "<tr><td>2007</td><td>6</td><td>19</td><td>2846.30</td></tr>",
                            "<tr><td>2007</td><td>6</td><td>20</td><td>2147.40</td></tr>",
                            "<tr><td>2007</td><td>6</td><td>23</td><td>1407.45</td></tr>",
                            "<tr><td>2007</td><td>6</td><td>24</td><td>477.00</td></tr>",
                            "<tr><td>2007</td><td>6</td><td>25</td><td>317.75</td></tr>",
                            "<tr><td>2007</td><td>6</td><td>26</td><td>1323.75</td></tr>",
                            "<tr><td>2007</td><td>6</td><td>27</td><td>330.00</td></tr>",
                            "<tr><td>2007</td><td>6</td><td>30</td><td>2831.25</td></tr>",
                            "<tr><td>2007</td><td>6</td><td>NULL</td><td>36362.82</td></tr>",
                            "<tr><td>2007</td><td>7</td><td>1</td><td>142.50</td></tr>",
                            "<tr><td>2007</td><td>7</td><td>2</td><td>831.18</td></tr>",
                            "<tr><td>2007</td><td>7</td><td>3</td><td>3120.00</td></tr>",
                            "<tr><td>2007</td><td>7</td><td>4</td><td>72.00</td></tr>",
                            "<tr><td>2007</td><td>7</td><td>7</td><td>1913.50</td></tr>",
                            "<tr><td>2007</td><td>7</td><td>8</td><td>516.47</td></tr>",
                            "<tr><td>2007</td><td>7</td><td>9</td><td>2559.90</td></tr>",
                            "<tr><td>2007</td><td>7</td><td>10</td><td>4725.00</td></tr>",
                            "<tr><td>2007</td><td>7</td><td>11</td><td>1898.96</td></tr>",
                            "<tr><td>2007</td><td>7</td><td>14</td><td>2388.50</td></tr>",
                            "<tr><td>2007</td><td>7</td><td>15</td><td>493.00</td></tr>",
                            "<tr><td>2007</td><td>7</td><td>16</td><td>2764.80</td></tr>",
                            "<tr><td>2007</td><td>7</td><td>17</td><td>48.75</td></tr>",
                            "<tr><td>2007</td><td>7</td><td>18</td><td>1713.85</td></tr>",
                            "<tr><td>2007</td><td>7</td><td>21</td><td>4109.70</td></tr>",
                            "<tr><td>2007</td><td>7</td><td>22</td><td>7605.80</td></tr>",
                            "<tr><td>2007</td><td>7</td><td>23</td><td>1064.00</td></tr>",
                            "<tr><td>2007</td><td>7</td><td>24</td><td>424.00</td></tr>",
                            "<tr><td>2007</td><td>7</td><td>25</td><td>1107.25</td></tr>",
                            "<tr><td>2007</td><td>7</td><td>28</td><td>6375.00</td></tr>",
                            "<tr><td>2007</td><td>7</td><td>29</td><td>817.20</td></tr>",
                            "<tr><td>2007</td><td>7</td><td>30</td><td>120.00</td></tr>",
                            "<tr><td>2007</td><td>7</td><td>31</td><td>6209.50</td></tr>",
                            "<tr><td>2007</td><td>7</td><td>NULL</td><td>51020.86</td></tr>",
                            "<tr><td>2007</td><td>8</td><td>1</td><td>2697.50</td></tr>",
                            "<tr><td>2007</td><td>8</td><td>4</td><td>1260.00</td></tr>",
                            "<tr><td>2007</td><td>8</td><td>5</td><td>816.00</td></tr>",
                            "<tr><td>2007</td><td>8</td><td>6</td><td>560.00</td></tr>",
                            "<tr><td>2007</td><td>8</td><td>7</td><td>2730.19</td></tr>",
                            "<tr><td>2007</td><td>8</td><td>8</td><td>479.75</td></tr>",
                            "<tr><td>2007</td><td>8</td><td>11</td><td>2689.35</td></tr>",
                            "<tr><td>2007</td><td>8</td><td>12</td><td>3225.05</td></tr>",
                            "<tr><td>2007</td><td>8</td><td>13</td><td>903.60</td></tr>",
                            "<tr><td>2007</td><td>8</td><td>14</td><td>644.80</td></tr>",
                            "<tr><td>2007</td><td>8</td><td>15</td><td>10496.09</td></tr>",
                            "<tr><td>2007</td><td>8</td><td>18</td><td>1326.23</td></tr>",
                            "<tr><td>2007</td><td>8</td><td>19</td><td>3391.44</td></tr>",
                            "<tr><td>2007</td><td>8</td><td>20</td><td>3220.05</td></tr>",
                            "<tr><td>2007</td><td>8</td><td>21</td><td>708.75</td></tr>",
                            "<tr><td>2007</td><td>8</td><td>22</td><td>2750.00</td></tr>",
                            "<tr><td>2007</td><td>8</td><td>25</td><td>2186.30</td></tr>",
                            "<tr><td>2007</td><td>8</td><td>26</td><td>1535.00</td></tr>",
                            "<tr><td>2007</td><td>8</td><td>27</td><td>2082.00</td></tr>",
                            "<tr><td>2007</td><td>8</td><td>28</td><td>1806.38</td></tr>",
                            "<tr><td>2007</td><td>8</td><td>29</td><td>1779.20</td></tr>",
                            "<tr><td>2007</td><td>8</td><td>NULL</td><td>47287.68</td></tr>",
                            "<tr><td>2007</td><td>9</td><td>1</td><td>716.64</td></tr>",
                            "<tr><td>2007</td><td>9</td><td>2</td><td>1684.98</td></tr>",
                            "<tr><td>2007</td><td>9</td><td>3</td><td>154.40</td></tr>",
                            "<tr><td>2007</td><td>9</td><td>4</td><td>4975.82</td></tr>",
                            "<tr><td>2007</td><td>9</td><td>5</td><td>5691.62</td></tr>",
                            "<tr><td>2007</td><td>9</td><td>8</td><td>1701.00</td></tr>",
                            "<tr><td>2007</td><td>9</td><td>9</td><td>687.60</td></tr>",
                            "<tr><td>2007</td><td>9</td><td>10</td><td>3218.79</td></tr>",
                            "<tr><td>2007</td><td>9</td><td>11</td><td>1295.00</td></tr>",
                            "<tr><td>2007</td><td>9</td><td>12</td><td>6203.74</td></tr>",
                            "<tr><td>2007</td><td>9</td><td>15</td><td>1195.28</td></tr>",
                            "<tr><td>2007</td><td>9</td><td>16</td><td>2301.75</td></tr>",
                            "<tr><td>2007</td><td>9</td><td>17</td><td>4735.35</td></tr>",
                            "<tr><td>2007</td><td>9</td><td>18</td><td>457.35</td></tr>",
                            "<tr><td>2007</td><td>9</td><td>19</td><td>1423.00</td></tr>",
                            "<tr><td>2007</td><td>9</td><td>22</td><td>1348.22</td></tr>",
                            "<tr><td>2007</td><td>9</td><td>23</td><td>5916.50</td></tr>",
                            "<tr><td>2007</td><td>9</td><td>24</td><td>1261.88</td></tr>",
                            "<tr><td>2007</td><td>9</td><td>25</td><td>1662.90</td></tr>",
                            "<tr><td>2007</td><td>9</td><td>26</td><td>1831.00</td></tr>",
                            "<tr><td>2007</td><td>9</td><td>29</td><td>801.10</td></tr>",
                            "<tr><td>2007</td><td>9</td><td>30</td><td>6365.35</td></tr>",
                            "<tr><td>2007</td><td>9</td><td>NULL</td><td>55629.27</td></tr>",
                            "<tr><td>2007</td><td>10</td><td>1</td><td>3633.10</td></tr>",
                            "<tr><td>2007</td><td>10</td><td>2</td><td>862.50</td></tr>",
                            "<tr><td>2007</td><td>10</td><td>3</td><td>11042.80</td></tr>",
                            "<tr><td>2007</td><td>10</td><td>6</td><td>6896.20</td></tr>",
                            "<tr><td>2007</td><td>10</td><td>7</td><td>642.00</td></tr>",
                            "<tr><td>2007</td><td>10</td><td>8</td><td>1801.43</td></tr>",
                            "<tr><td>2007</td><td>10</td><td>9</td><td>3550.44</td></tr>",
                            "<tr><td>2007</td><td>10</td><td>10</td><td>1638.40</td></tr>",
                            "<tr><td>2007</td><td>10</td><td>13</td><td>3194.50</td></tr>",
                            "<tr><td>2007</td><td>10</td><td>14</td><td>3140.50</td></tr>",
                            "<tr><td>2007</td><td>10</td><td>15</td><td>378.00</td></tr>",
                            "<tr><td>2007</td><td>10</td><td>16</td><td>3534.00</td></tr>",
                            "<tr><td>2007</td><td>10</td><td>17</td><td>3604.40</td></tr>",
                            "<tr><td>2007</td><td>10</td><td>20</td><td>93.50</td></tr>",
                            "<tr><td>2007</td><td>10</td><td>21</td><td>5685.18</td></tr>",
                            "<tr><td>2007</td><td>10</td><td>22</td><td>5033.65</td></tr>",
                            "<tr><td>2007</td><td>10</td><td>23</td><td>1296.00</td></tr>",
                            "<tr><td>2007</td><td>10</td><td>24</td><td>1976.75</td></tr>",
                            "<tr><td>2007</td><td>10</td><td>27</td><td>4307.25</td></tr>",
                            "<tr><td>2007</td><td>10</td><td>28</td><td>550.00</td></tr>",
                            "<tr><td>2007</td><td>10</td><td>29</td><td>2493.88</td></tr>",
                            "<tr><td>2007</td><td>10</td><td>30</td><td>1106.95</td></tr>",
                            "<tr><td>2007</td><td>10</td><td>31</td><td>287.80</td></tr>",
                            "<tr><td>2007</td><td>10</td><td>NULL</td><td>66749.23</td></tr>",
                            "<tr><td>2007</td><td>11</td><td>3</td><td>2279.50</td></tr>",
                            "<tr><td>2007</td><td>11</td><td>4</td><td>3146.75</td></tr>",
                            "<tr><td>2007</td><td>11</td><td>5</td><td>484.26</td></tr>",
                            "<tr><td>2007</td><td>11</td><td>6</td><td>2250.50</td></tr>",
                            "<tr><td>2007</td><td>11</td><td>7</td><td>2957.35</td></tr>",
                            "<tr><td>2007</td><td>11</td><td>10</td><td>536.40</td></tr>",
                            "<tr><td>2007</td><td>11</td><td>11</td><td>1136.80</td></tr>",
                            "<tr><td>2007</td><td>11</td><td>12</td><td>292.35</td></tr>",
                            "<tr><td>2007</td><td>11</td><td>13</td><td>1416.00</td></tr>",
                            "<tr><td>2007</td><td>11</td><td>14</td><td>3346.00</td></tr>",
                            "<tr><td>2007</td><td>11</td><td>17</td><td>1055.20</td></tr>",
                            "<tr><td>2007</td><td>11</td><td>18</td><td>4529.80</td></tr>",
                            "<tr><td>2007</td><td>11</td><td>19</td><td>4224.55</td></tr>",
                            "<tr><td>2007</td><td>11</td><td>20</td><td>3276.00</td></tr>",
                            "<tr><td>2007</td><td>11</td><td>21</td><td>1590.56</td></tr>",
                            "<tr><td>2007</td><td>11</td><td>24</td><td>1883.48</td></tr>",
                            "<tr><td>2007</td><td>11</td><td>25</td><td>143.20</td></tr>",
                            "<tr><td>2007</td><td>11</td><td>26</td><td>1948.50</td></tr>",
                            "<tr><td>2007</td><td>11</td><td>27</td><td>5072.00</td></tr>",
                            "<tr><td>2007</td><td>11</td><td>28</td><td>1964.60</td></tr>",
                            "<tr><td>2007</td><td>11</td><td>NULL</td><td>43533.80</td></tr>",
                            "<tr><td>2007</td><td>12</td><td>1</td><td>2917.00</td></tr>",
                            "<tr><td>2007</td><td>12</td><td>2</td><td>4844.00</td></tr>",
                            "<tr><td>2007</td><td>12</td><td>3</td><td>2902.00</td></tr>",
                            "<tr><td>2007</td><td>12</td><td>4</td><td>1515.60</td></tr>",
                            "<tr><td>2007</td><td>12</td><td>5</td><td>2338.00</td></tr>",
                            "<tr><td>2007</td><td>12</td><td>8</td><td>3161.28</td></tr>",
                            "<tr><td>2007</td><td>12</td><td>9</td><td>236.25</td></tr>",
                            "<tr><td>2007</td><td>12</td><td>10</td><td>3947.22</td></tr>",
                            "<tr><td>2007</td><td>12</td><td>11</td><td>2899.15</td></tr>",
                            "<tr><td>2007</td><td>12</td><td>12</td><td>228.00</td></tr>",
                            "<tr><td>2007</td><td>12</td><td>15</td><td>6859.28</td></tr>",
                            "<tr><td>2007</td><td>12</td><td>16</td><td>2151.50</td></tr>",
                            "<tr><td>2007</td><td>12</td><td>17</td><td>988.38</td></tr>",
                            "<tr><td>2007</td><td>12</td><td>18</td><td>3318.00</td></tr>",
                            "<tr><td>2007</td><td>12</td><td>19</td><td>4153.84</td></tr>",
                            "<tr><td>2007</td><td>12</td><td>22</td><td>5141.00</td></tr>",
                            "<tr><td>2007</td><td>12</td><td>23</td><td>2229.61</td></tr>",
                            "<tr><td>2007</td><td>12</td><td>24</td><td>2663.86</td></tr>",
                            "<tr><td>2007</td><td>12</td><td>25</td><td>2761.36</td></tr>",
                            "<tr><td>2007</td><td>12</td><td>26</td><td>3469.04</td></tr>",
                            "<tr><td>2007</td><td>12</td><td>29</td><td>5969.66</td></tr>",
                            "<tr><td>2007</td><td>12</td><td>30</td><td>6246.41</td></tr>",
                            "<tr><td>2007</td><td>12</td><td>31</td><td>458.00</td></tr>",
                            "<tr><td>2007</td><td>12</td><td>NULL</td><td>71398.44</td></tr>",
                            "<tr><td>2007</td><td>NULL</td><td>NULL</td><td>617085.30</td></tr>",
                            "<tr><td>2008</td><td>1</td><td>1</td><td>1738.00</td></tr>",
                            "<tr><td>2008</td><td>1</td><td>2</td><td>2544.80</td></tr>",
                            "<tr><td>2008</td><td>1</td><td>5</td><td>2430.85</td></tr>",
                            "<tr><td>2008</td><td>1</td><td>6</td><td>19399.30</td></tr>",
                            "<tr><td>2008</td><td>1</td><td>7</td><td>2450.00</td></tr>",
                            "<tr><td>2008</td><td>1</td><td>8</td><td>915.90</td></tr>",
                            "<tr><td>2008</td><td>1</td><td>9</td><td>4107.56</td></tr>",
                            "<tr><td>2008</td><td>1</td><td>12</td><td>1573.00</td></tr>",
                            "<tr><td>2008</td><td>1</td><td>13</td><td>4670.00</td></tr>",
                            "<tr><td>2008</td><td>1</td><td>14</td><td>3159.51</td></tr>",
                            "<tr><td>2008</td><td>1</td><td>15</td><td>3185.44</td></tr>",
                            "<tr><td>2008</td><td>1</td><td>16</td><td>5770.00</td></tr>",
                            "<tr><td>2008</td><td>1</td><td>19</td><td>2977.13</td></tr>",
                            "<tr><td>2008</td><td>1</td><td>20</td><td>5556.00</td></tr>",
                            "<tr><td>2008</td><td>1</td><td>21</td><td>4706.70</td></tr>",
                            "<tr><td>2008</td><td>1</td><td>22</td><td>6043.92</td></tr>",
                            "<tr><td>2008</td><td>1</td><td>23</td><td>2528.32</td></tr>",
                            "<tr><td>2008</td><td>1</td><td>26</td><td>5587.00</td></tr>",
                            "<tr><td>2008</td><td>1</td><td>27</td><td>5819.39</td></tr>",
                            "<tr><td>2008</td><td>1</td><td>28</td><td>2708.21</td></tr>",
                            "<tr><td>2008</td><td>1</td><td>29</td><td>2246.69</td></tr>",
                            "<tr><td>2008</td><td>1</td><td>30</td><td>4104.40</td></tr>",
                            "<tr><td>2008</td><td>1</td><td>NULL</td><td>94222.12</td></tr>",
                            "<tr><td>2008</td><td>2</td><td>2</td><td>17110.65</td></tr>",
                            "<tr><td>2008</td><td>2</td><td>3</td><td>1194.60</td></tr>",
                            "<tr><td>2008</td><td>2</td><td>4</td><td>3710.60</td></tr>",
                            "<tr><td>2008</td><td>2</td><td>5</td><td>4037.69</td></tr>",
                            "<tr><td>2008</td><td>2</td><td>6</td><td>1356.35</td></tr>",
                            "<tr><td>2008</td><td>2</td><td>9</td><td>2872.13</td></tr>",
                            "<tr><td>2008</td><td>2</td><td>10</td><td>3650.30</td></tr>",
                            "<tr><td>2008</td><td>2</td><td>11</td><td>1042.64</td></tr>",
                            "<tr><td>2008</td><td>2</td><td>12</td><td>2623.07</td></tr>",
                            "<tr><td>2008</td><td>2</td><td>13</td><td>3197.50</td></tr>",
                            "<tr><td>2008</td><td>2</td><td>16</td><td>12845.10</td></tr>",
                            "<tr><td>2008</td><td>2</td><td>17</td><td>2458.93</td></tr>",
                            "<tr><td>2008</td><td>2</td><td>18</td><td>14634.61</td></tr>",
                            "<tr><td>2008</td><td>2</td><td>19</td><td>11585.74</td></tr>",
                            "<tr><td>2008</td><td>2</td><td>20</td><td>186.15</td></tr>",
                            "<tr><td>2008</td><td>2</td><td>23</td><td>1797.93</td></tr>",
                            "<tr><td>2008</td><td>2</td><td>24</td><td>3198.30</td></tr>",
                            "<tr><td>2008</td><td>2</td><td>25</td><td>536.00</td></tr>",
                            "<tr><td>2008</td><td>2</td><td>26</td><td>9613.30</td></tr>",
                            "<tr><td>2008</td><td>2</td><td>27</td><td>1763.70</td></tr>",
                            "<tr><td>2008</td><td>2</td><td>NULL</td><td>99415.29</td></tr>",
                            "<tr><td>2008</td><td>3</td><td>2</td><td>2936.19</td></tr>",
                            "<tr><td>2008</td><td>3</td><td>3</td><td>3817.30</td></tr>",
                            "<tr><td>2008</td><td>3</td><td>4</td><td>2825.25</td></tr>",
                            "<tr><td>2008</td><td>3</td><td>5</td><td>2112.25</td></tr>",
                            "<tr><td>2008</td><td>3</td><td>6</td><td>5763.93</td></tr>",
                            "<tr><td>2008</td><td>3</td><td>9</td><td>1575.50</td></tr>",
                            "<tr><td>2008</td><td>3</td><td>10</td><td>4014.18</td></tr>",
                            "<tr><td>2008</td><td>3</td><td>11</td><td>5642.75</td></tr>",
                            "<tr><td>2008</td><td>3</td><td>12</td><td>2677.83</td></tr>",
                            "<tr><td>2008</td><td>3</td><td>13</td><td>7004.25</td></tr>",
                            "<tr><td>2008</td><td>3</td><td>16</td><td>5481.21</td></tr>",
                            "<tr><td>2008</td><td>3</td><td>17</td><td>2410.94</td></tr>",
                            "<tr><td>2008</td><td>3</td><td>18</td><td>2675.45</td></tr>",
                            "<tr><td>2008</td><td>3</td><td>19</td><td>5027.05</td></tr>",
                            "<tr><td>2008</td><td>3</td><td>20</td><td>3998.96</td></tr>",
                            "<tr><td>2008</td><td>3</td><td>23</td><td>2426.40</td></tr>",
                            "<tr><td>2008</td><td>3</td><td>24</td><td>2500.11</td></tr>",
                            "<tr><td>2008</td><td>3</td><td>25</td><td>2068.50</td></tr>",
                            "<tr><td>2008</td><td>3</td><td>26</td><td>8349.70</td></tr>",
                            "<tr><td>2008</td><td>3</td><td>27</td><td>17792.90</td></tr>",
                            "<tr><td>2008</td><td>3</td><td>30</td><td>6053.13</td></tr>",
                            "<tr><td>2008</td><td>3</td><td>31</td><td>7700.40</td></tr>",
                            "<tr><td>2008</td><td>3</td><td>NULL</td><td>104854.18</td></tr>",
                            "<tr><td>2008</td><td>4</td><td>1</td><td>11549.89</td></tr>",
                            "<tr><td>2008</td><td>4</td><td>2</td><td>2696.50</td></tr>",
                            "<tr><td>2008</td><td>4</td><td>3</td><td>3768.95</td></tr>",
                            "<tr><td>2008</td><td>4</td><td>6</td><td>5809.85</td></tr>",
                            "<tr><td>2008</td><td>4</td><td>7</td><td>1211.07</td></tr>",
                            "<tr><td>2008</td><td>4</td><td>8</td><td>7931.30</td></tr>",
                            "<tr><td>2008</td><td>4</td><td>9</td><td>4764.80</td></tr>",
                            "<tr><td>2008</td><td>4</td><td>10</td><td>1357.03</td></tr>",
                            "<tr><td>2008</td><td>4</td><td>13</td><td>8401.00</td></tr>",
                            "<tr><td>2008</td><td>4</td><td>14</td><td>9840.64</td></tr>",
                            "<tr><td>2008</td><td>4</td><td>15</td><td>3266.81</td></tr>",
                            "<tr><td>2008</td><td>4</td><td>16</td><td>4324.53</td></tr>",
                            "<tr><td>2008</td><td>4</td><td>17</td><td>27143.85</td></tr>",
                            "<tr><td>2008</td><td>4</td><td>20</td><td>3985.90</td></tr>",
                            "<tr><td>2008</td><td>4</td><td>21</td><td>3882.60</td></tr>",
                            "<tr><td>2008</td><td>4</td><td>22</td><td>2588.75</td></tr>",
                            "<tr><td>2008</td><td>4</td><td>23</td><td>3386.90</td></tr>",
                            "<tr><td>2008</td><td>4</td><td>24</td><td>1616.48</td></tr>",
                            "<tr><td>2008</td><td>4</td><td>27</td><td>5233.00</td></tr>",
                            "<tr><td>2008</td><td>4</td><td>28</td><td>5772.50</td></tr>",
                            "<tr><td>2008</td><td>4</td><td>29</td><td>2741.00</td></tr>",
                            "<tr><td>2008</td><td>4</td><td>30</td><td>2525.35</td></tr>",
                            "<tr><td>2008</td><td>4</td><td>NULL</td><td>123798.70</td></tr>",
                            "<tr><td>2008</td><td>5</td><td>1</td><td>5448.57</td></tr>",
                            "<tr><td>2008</td><td>5</td><td>4</td><td>2473.93</td></tr>",
                            "<tr><td>2008</td><td>5</td><td>5</td><td>7632.48</td></tr>",
                            "<tr><td>2008</td><td>5</td><td>6</td><td>2778.66</td></tr>",
                            "<tr><td>2008</td><td>5</td><td>NULL</td><td>18333.64</td></tr>",
                            "<tr><td>2008</td><td>NULL</td><td>NULL</td><td>440623.93</td></tr>",
                            "<tr><td>NULL</td><td>NULL</td><td>NULL</td><td>1265793.22</td></tr>",
                            "</table>"
                        ]
                    }
                }
            ],
            "execution_count": 25
        },
        {
            "cell_type": "markdown",
            "source": [
                "3.4. Escribir una sentencia SELECT contra la vista Sales.OrderValues y traer las columnas:\n",
                "<li>Columna Calculada con el alias groupid (usar la función GROUPING_ID con los campos order year y order month como parametros).\n",
                "<li>Año de la columna orderdate como orderyear.\n",
                "<li>Mes de la columna orderdate como ordermonth.\n",
                "<li>Valor Total de Ventas utilizando la columna val como salesvalue.\n",
                "<li>Desde Año y mes month forman una jerarquia, retornar todos los grouping sets interesantes basados en las columnas orderyear y ordermonth y ordenar el resultado por groupid, orderyear, and ordermonth"
            ],
            "metadata": {
                "azdata_cell_guid": "ed464c7b-75a0-4736-a5c4-49358191994e"
            }
        }
    ]
}